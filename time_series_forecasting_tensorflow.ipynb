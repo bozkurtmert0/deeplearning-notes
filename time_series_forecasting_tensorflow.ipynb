{
  "nbformat": 4,
  "nbformat_minor": 0,
  "metadata": {
    "colab": {
      "name": "time_series_forecasting_tensorflow.ipynb",
      "provenance": [],
      "collapsed_sections": [
        "Vvch3tTJUMi6"
      ],
      "authorship_tag": "ABX9TyNUG9DvQyS80EDET7TSxiIM"
    },
    "kernelspec": {
      "name": "python3",
      "display_name": "Python 3"
    },
    "language_info": {
      "name": "python"
    },
    "accelerator": "GPU"
  },
  "cells": [
    {
      "cell_type": "markdown",
      "source": [
        "Başlık ve açıklama lazım buraya\n",
        "\n",
        "Bitcoin zamana bağlı değişimine göre gelecekte hangi seviyede olacağını tahmin edeceğiz\n",
        "\n",
        "**Yatırım Tavsiyesi DEĞİLDİR**[ **TIKLA**](https://www.youtube.com/watch?v=gs_Gxhk44ZY)"
      ],
      "metadata": {
        "id": "6nzgHtDS3oop"
      }
    },
    {
      "cell_type": "markdown",
      "source": [
        "Veriyi alalım"
      ],
      "metadata": {
        "id": "OmUUnWSN3Aiv"
      }
    },
    {
      "cell_type": "code",
      "execution_count": 1,
      "metadata": {
        "colab": {
          "base_uri": "https://localhost:8080/"
        },
        "id": "SMXR3tl82Wlr",
        "outputId": "6638a314-18bb-4aaf-acaf-a49d206f7e03"
      },
      "outputs": [
        {
          "output_type": "stream",
          "name": "stdout",
          "text": [
            "--2022-03-23 14:43:55--  https://raw.githubusercontent.com/mrdbourke/tensorflow-deep-learning/main/extras/BTC_USD_2013-10-01_2021-05-18-CoinDesk.csv\n",
            "Resolving raw.githubusercontent.com (raw.githubusercontent.com)... 185.199.110.133, 185.199.111.133, 185.199.109.133, ...\n",
            "Connecting to raw.githubusercontent.com (raw.githubusercontent.com)|185.199.110.133|:443... connected.\n",
            "HTTP request sent, awaiting response... 200 OK\n",
            "Length: 178509 (174K) [text/plain]\n",
            "Saving to: ‘BTC_USD_2013-10-01_2021-05-18-CoinDesk.csv’\n",
            "\n",
            "BTC_USD_2013-10-01_ 100%[===================>] 174.33K  --.-KB/s    in 0.03s   \n",
            "\n",
            "2022-03-23 14:43:55 (6.04 MB/s) - ‘BTC_USD_2013-10-01_2021-05-18-CoinDesk.csv’ saved [178509/178509]\n",
            "\n"
          ]
        }
      ],
      "source": [
        "!wget https://raw.githubusercontent.com/mrdbourke/tensorflow-deep-learning/main/extras/BTC_USD_2013-10-01_2021-05-18-CoinDesk.csv"
      ]
    },
    {
      "cell_type": "markdown",
      "source": [
        "pandas ile veriyi okuyup ayrıştıralım"
      ],
      "metadata": {
        "id": "GPjlbh9a3HYm"
      }
    },
    {
      "cell_type": "code",
      "source": [
        "import pandas as pd \n",
        "df = pd.read_csv(\"/content/BTC_USD_2013-10-01_2021-05-18-CoinDesk.csv\",\n",
        "                 parse_dates=[\"Date\"], #zdate olarak ayrıştırdık\n",
        "                 index_col=[\"Date\"]) "
      ],
      "metadata": {
        "id": "w1quusrr207X"
      },
      "execution_count": 2,
      "outputs": []
    },
    {
      "cell_type": "markdown",
      "source": [
        "veriye göz gezdirelim"
      ],
      "metadata": {
        "id": "2aVmOZh05Kat"
      }
    },
    {
      "cell_type": "code",
      "source": [
        "df.head()"
      ],
      "metadata": {
        "id": "5RKUVuYt5Fh-",
        "colab": {
          "base_uri": "https://localhost:8080/",
          "height": 342
        },
        "outputId": "c619d399-bc42-4a2a-9496-588ff2cabdcb"
      },
      "execution_count": 3,
      "outputs": [
        {
          "output_type": "execute_result",
          "data": {
            "text/plain": [
              "           Currency  Closing Price (USD)  24h Open (USD)  24h High (USD)  \\\n",
              "Date                                                                       \n",
              "2013-10-01      BTC            123.65499       124.30466       124.75166   \n",
              "2013-10-02      BTC            125.45500       123.65499       125.75850   \n",
              "2013-10-03      BTC            108.58483       125.45500       125.66566   \n",
              "2013-10-04      BTC            118.67466       108.58483       118.67500   \n",
              "2013-10-05      BTC            121.33866       118.67466       121.93633   \n",
              "\n",
              "            24h Low (USD)  \n",
              "Date                       \n",
              "2013-10-01      122.56349  \n",
              "2013-10-02      123.63383  \n",
              "2013-10-03       83.32833  \n",
              "2013-10-04      107.05816  \n",
              "2013-10-05      118.00566  "
            ],
            "text/html": [
              "<div>\n",
              "<style scoped>\n",
              "    .dataframe tbody tr th:only-of-type {\n",
              "        vertical-align: middle;\n",
              "    }\n",
              "\n",
              "    .dataframe tbody tr th {\n",
              "        vertical-align: top;\n",
              "    }\n",
              "\n",
              "    .dataframe thead th {\n",
              "        text-align: right;\n",
              "    }\n",
              "</style>\n",
              "<table border=\"1\" class=\"dataframe\">\n",
              "  <thead>\n",
              "    <tr style=\"text-align: right;\">\n",
              "      <th></th>\n",
              "      <th>Currency</th>\n",
              "      <th>Closing Price (USD)</th>\n",
              "      <th>24h Open (USD)</th>\n",
              "      <th>24h High (USD)</th>\n",
              "      <th>24h Low (USD)</th>\n",
              "    </tr>\n",
              "    <tr>\n",
              "      <th>Date</th>\n",
              "      <th></th>\n",
              "      <th></th>\n",
              "      <th></th>\n",
              "      <th></th>\n",
              "      <th></th>\n",
              "    </tr>\n",
              "  </thead>\n",
              "  <tbody>\n",
              "    <tr>\n",
              "      <th>2013-10-01</th>\n",
              "      <td>BTC</td>\n",
              "      <td>123.65499</td>\n",
              "      <td>124.30466</td>\n",
              "      <td>124.75166</td>\n",
              "      <td>122.56349</td>\n",
              "    </tr>\n",
              "    <tr>\n",
              "      <th>2013-10-02</th>\n",
              "      <td>BTC</td>\n",
              "      <td>125.45500</td>\n",
              "      <td>123.65499</td>\n",
              "      <td>125.75850</td>\n",
              "      <td>123.63383</td>\n",
              "    </tr>\n",
              "    <tr>\n",
              "      <th>2013-10-03</th>\n",
              "      <td>BTC</td>\n",
              "      <td>108.58483</td>\n",
              "      <td>125.45500</td>\n",
              "      <td>125.66566</td>\n",
              "      <td>83.32833</td>\n",
              "    </tr>\n",
              "    <tr>\n",
              "      <th>2013-10-04</th>\n",
              "      <td>BTC</td>\n",
              "      <td>118.67466</td>\n",
              "      <td>108.58483</td>\n",
              "      <td>118.67500</td>\n",
              "      <td>107.05816</td>\n",
              "    </tr>\n",
              "    <tr>\n",
              "      <th>2013-10-05</th>\n",
              "      <td>BTC</td>\n",
              "      <td>121.33866</td>\n",
              "      <td>118.67466</td>\n",
              "      <td>121.93633</td>\n",
              "      <td>118.00566</td>\n",
              "    </tr>\n",
              "  </tbody>\n",
              "</table>\n",
              "</div>"
            ]
          },
          "metadata": {},
          "execution_count": 3
        }
      ]
    },
    {
      "cell_type": "code",
      "source": [
        "df.tail()"
      ],
      "metadata": {
        "colab": {
          "base_uri": "https://localhost:8080/",
          "height": 342
        },
        "id": "E5urUlV15HEZ",
        "outputId": "a0ada8b1-4897-4914-8170-5b3766bb95a9"
      },
      "execution_count": 4,
      "outputs": [
        {
          "output_type": "execute_result",
          "data": {
            "text/plain": [
              "           Currency  Closing Price (USD)  24h Open (USD)  24h High (USD)  \\\n",
              "Date                                                                       \n",
              "2021-05-14      BTC         49764.132082    49596.778891    51448.798576   \n",
              "2021-05-15      BTC         50032.693137    49717.354353    51578.312545   \n",
              "2021-05-16      BTC         47885.625255    49926.035067    50690.802950   \n",
              "2021-05-17      BTC         45604.615754    46805.537852    49670.414174   \n",
              "2021-05-18      BTC         43144.471291    46439.336570    46622.853437   \n",
              "\n",
              "            24h Low (USD)  \n",
              "Date                       \n",
              "2021-05-14   46294.720180  \n",
              "2021-05-15   48944.346536  \n",
              "2021-05-16   47005.102292  \n",
              "2021-05-17   43868.638969  \n",
              "2021-05-18   42102.346430  "
            ],
            "text/html": [
              "<div>\n",
              "<style scoped>\n",
              "    .dataframe tbody tr th:only-of-type {\n",
              "        vertical-align: middle;\n",
              "    }\n",
              "\n",
              "    .dataframe tbody tr th {\n",
              "        vertical-align: top;\n",
              "    }\n",
              "\n",
              "    .dataframe thead th {\n",
              "        text-align: right;\n",
              "    }\n",
              "</style>\n",
              "<table border=\"1\" class=\"dataframe\">\n",
              "  <thead>\n",
              "    <tr style=\"text-align: right;\">\n",
              "      <th></th>\n",
              "      <th>Currency</th>\n",
              "      <th>Closing Price (USD)</th>\n",
              "      <th>24h Open (USD)</th>\n",
              "      <th>24h High (USD)</th>\n",
              "      <th>24h Low (USD)</th>\n",
              "    </tr>\n",
              "    <tr>\n",
              "      <th>Date</th>\n",
              "      <th></th>\n",
              "      <th></th>\n",
              "      <th></th>\n",
              "      <th></th>\n",
              "      <th></th>\n",
              "    </tr>\n",
              "  </thead>\n",
              "  <tbody>\n",
              "    <tr>\n",
              "      <th>2021-05-14</th>\n",
              "      <td>BTC</td>\n",
              "      <td>49764.132082</td>\n",
              "      <td>49596.778891</td>\n",
              "      <td>51448.798576</td>\n",
              "      <td>46294.720180</td>\n",
              "    </tr>\n",
              "    <tr>\n",
              "      <th>2021-05-15</th>\n",
              "      <td>BTC</td>\n",
              "      <td>50032.693137</td>\n",
              "      <td>49717.354353</td>\n",
              "      <td>51578.312545</td>\n",
              "      <td>48944.346536</td>\n",
              "    </tr>\n",
              "    <tr>\n",
              "      <th>2021-05-16</th>\n",
              "      <td>BTC</td>\n",
              "      <td>47885.625255</td>\n",
              "      <td>49926.035067</td>\n",
              "      <td>50690.802950</td>\n",
              "      <td>47005.102292</td>\n",
              "    </tr>\n",
              "    <tr>\n",
              "      <th>2021-05-17</th>\n",
              "      <td>BTC</td>\n",
              "      <td>45604.615754</td>\n",
              "      <td>46805.537852</td>\n",
              "      <td>49670.414174</td>\n",
              "      <td>43868.638969</td>\n",
              "    </tr>\n",
              "    <tr>\n",
              "      <th>2021-05-18</th>\n",
              "      <td>BTC</td>\n",
              "      <td>43144.471291</td>\n",
              "      <td>46439.336570</td>\n",
              "      <td>46622.853437</td>\n",
              "      <td>42102.346430</td>\n",
              "    </tr>\n",
              "  </tbody>\n",
              "</table>\n",
              "</div>"
            ]
          },
          "metadata": {},
          "execution_count": 4
        }
      ]
    },
    {
      "cell_type": "code",
      "source": [
        "len(df)"
      ],
      "metadata": {
        "colab": {
          "base_uri": "https://localhost:8080/"
        },
        "id": "D0K6cSD95M_C",
        "outputId": "744543d4-3d5a-4d8a-84b8-bc0808d98e39"
      },
      "execution_count": 5,
      "outputs": [
        {
          "output_type": "execute_result",
          "data": {
            "text/plain": [
              "2787"
            ]
          },
          "metadata": {},
          "execution_count": 5
        }
      ]
    },
    {
      "cell_type": "markdown",
      "source": [
        "Zaman serisi problemlerinde genelde diğer derin öğrenme problemlerine göre daha az veri olacaktır. Günlük BTC değerlerini aldığımızdan 1 yıl için 365 tane örneğimz oldu."
      ],
      "metadata": {
        "id": "mHrr2qtN7EjF"
      }
    },
    {
      "cell_type": "markdown",
      "source": [
        "## Visualize"
      ],
      "metadata": {
        "id": "s1CmfdoRh_m5"
      }
    },
    {
      "cell_type": "markdown",
      "source": [
        "Kapanış fiyatını direkt olarak price olarak değiştirelim daha basit olur bizim içinde"
      ],
      "metadata": {
        "id": "If9Vk_Csh05K"
      }
    },
    {
      "cell_type": "code",
      "source": [
        "bitcoin_prices = pd.DataFrame(df[\"Closing Price (USD)\"]).rename(columns={\"Closing Price (USD)\": \"Price\"})\n",
        "bitcoin_prices.head()"
      ],
      "metadata": {
        "id": "Ib1S0x3X62q8",
        "colab": {
          "base_uri": "https://localhost:8080/",
          "height": 238
        },
        "outputId": "60d41358-e990-4cd8-b0cc-672591452731"
      },
      "execution_count": 6,
      "outputs": [
        {
          "output_type": "execute_result",
          "data": {
            "text/plain": [
              "                Price\n",
              "Date                 \n",
              "2013-10-01  123.65499\n",
              "2013-10-02  125.45500\n",
              "2013-10-03  108.58483\n",
              "2013-10-04  118.67466\n",
              "2013-10-05  121.33866"
            ],
            "text/html": [
              "<div>\n",
              "<style scoped>\n",
              "    .dataframe tbody tr th:only-of-type {\n",
              "        vertical-align: middle;\n",
              "    }\n",
              "\n",
              "    .dataframe tbody tr th {\n",
              "        vertical-align: top;\n",
              "    }\n",
              "\n",
              "    .dataframe thead th {\n",
              "        text-align: right;\n",
              "    }\n",
              "</style>\n",
              "<table border=\"1\" class=\"dataframe\">\n",
              "  <thead>\n",
              "    <tr style=\"text-align: right;\">\n",
              "      <th></th>\n",
              "      <th>Price</th>\n",
              "    </tr>\n",
              "    <tr>\n",
              "      <th>Date</th>\n",
              "      <th></th>\n",
              "    </tr>\n",
              "  </thead>\n",
              "  <tbody>\n",
              "    <tr>\n",
              "      <th>2013-10-01</th>\n",
              "      <td>123.65499</td>\n",
              "    </tr>\n",
              "    <tr>\n",
              "      <th>2013-10-02</th>\n",
              "      <td>125.45500</td>\n",
              "    </tr>\n",
              "    <tr>\n",
              "      <th>2013-10-03</th>\n",
              "      <td>108.58483</td>\n",
              "    </tr>\n",
              "    <tr>\n",
              "      <th>2013-10-04</th>\n",
              "      <td>118.67466</td>\n",
              "    </tr>\n",
              "    <tr>\n",
              "      <th>2013-10-05</th>\n",
              "      <td>121.33866</td>\n",
              "    </tr>\n",
              "  </tbody>\n",
              "</table>\n",
              "</div>"
            ]
          },
          "metadata": {},
          "execution_count": 6
        }
      ]
    },
    {
      "cell_type": "code",
      "source": [
        "import matplotlib.pyplot as plt\n",
        "bitcoin_prices.plot(figsize=(10,7))\n",
        "plt.ylabel(\"BTC Price\")\n",
        "plt.title(\"BTC Fiyat Grafiği\")\n"
      ],
      "metadata": {
        "colab": {
          "base_uri": "https://localhost:8080/",
          "height": 475
        },
        "id": "oftPB6Zxh9wD",
        "outputId": "0763456c-46f7-460a-8800-9d2984284f66"
      },
      "execution_count": 7,
      "outputs": [
        {
          "output_type": "execute_result",
          "data": {
            "text/plain": [
              "Text(0.5, 1.0, 'BTC Fiyat Grafiği')"
            ]
          },
          "metadata": {},
          "execution_count": 7
        },
        {
          "output_type": "display_data",
          "data": {
            "text/plain": [
              "<Figure size 720x504 with 1 Axes>"
            ],
            "image/png": "[encoded data removed]"
          },
          "metadata": {
            "needs_background": "light"
          }
        }
      ]
    },
    {
      "cell_type": "markdown",
      "source": [
        "### Veriyi CSV modülü ile okumak"
      ],
      "metadata": {
        "id": "tRdStQNri5v5"
      }
    },
    {
      "cell_type": "code",
      "source": [
        "import csv\n",
        "from datetime import datetime\n",
        "\n",
        "timesteps = []\n",
        "btc_price = []\n",
        "with open(\"/content/BTC_USD_2013-10-01_2021-05-18-CoinDesk.csv\", \"r\") as f:\n",
        "  csv_reader = csv.reader(f, delimiter=\",\")\n",
        "  next(csv_reader) #ilk satır pas geç başlıklar var\n",
        "  for line in csv_reader:\n",
        "    timesteps.append(datetime.strptime(line[1], \"%Y-%m-%d\")) #tarih olarak alsın strig olarak değil diye\n",
        "    btc_price.append(float(line[2])) #2. indexi closing price ı eklemek için\n",
        "\n",
        "\n",
        "timesteps[:10], btc_price[:10]"
      ],
      "metadata": {
        "colab": {
          "base_uri": "https://localhost:8080/"
        },
        "id": "NcyYAMAXit04",
        "outputId": "3fc4bf43-8edb-4fd1-aecb-f345331a9fae"
      },
      "execution_count": 8,
      "outputs": [
        {
          "output_type": "execute_result",
          "data": {
            "text/plain": [
              "([datetime.datetime(2013, 10, 1, 0, 0),\n",
              "  datetime.datetime(2013, 10, 2, 0, 0),\n",
              "  datetime.datetime(2013, 10, 3, 0, 0),\n",
              "  datetime.datetime(2013, 10, 4, 0, 0),\n",
              "  datetime.datetime(2013, 10, 5, 0, 0),\n",
              "  datetime.datetime(2013, 10, 6, 0, 0),\n",
              "  datetime.datetime(2013, 10, 7, 0, 0),\n",
              "  datetime.datetime(2013, 10, 8, 0, 0),\n",
              "  datetime.datetime(2013, 10, 9, 0, 0),\n",
              "  datetime.datetime(2013, 10, 10, 0, 0)],\n",
              " [123.65499,\n",
              "  125.455,\n",
              "  108.58483,\n",
              "  118.67466,\n",
              "  121.33866,\n",
              "  120.65533,\n",
              "  121.795,\n",
              "  123.033,\n",
              "  124.049,\n",
              "  125.96116])"
            ]
          },
          "metadata": {},
          "execution_count": 8
        }
      ]
    },
    {
      "cell_type": "markdown",
      "source": [
        "Yine çizdirelim"
      ],
      "metadata": {
        "id": "U8IC-QB7kdYu"
      }
    },
    {
      "cell_type": "code",
      "source": [
        "import matplotlib.pyplot as plt\n",
        "plt.figure(figsize=(10,7))\n",
        "plt.plot(timesteps, btc_price)\n",
        "plt.ylabel(\"BTC Price\")\n",
        "plt.title(\"BTC Fiyatı\", fontsize=16)\n",
        "plt.xlabel(\"Date\");"
      ],
      "metadata": {
        "colab": {
          "base_uri": "https://localhost:8080/",
          "height": 460
        },
        "id": "4H_QR8L-iPYg",
        "outputId": "b9649be7-4867-4c68-d2f1-358dc4859fe1"
      },
      "execution_count": 9,
      "outputs": [
        {
          "output_type": "display_data",
          "data": {
            "text/plain": [
              "<Figure size 720x504 with 1 Axes>"
            ],
            "image/png": "[encoded data removed]"
          },
          "metadata": {
            "needs_background": "light"
          }
        }
      ]
    },
    {
      "cell_type": "markdown",
      "source": [
        "## Train-Test olarak ayırmak\n",
        "**Yanlış yöntemi görelim**"
      ],
      "metadata": {
        "id": "jR8oCzivQRa6"
      }
    },
    {
      "cell_type": "code",
      "source": [
        "timesteps = bitcoin_prices.index.to_numpy()\n",
        "prices = bitcoin_prices[\"Price\"].to_numpy()\n",
        "\n",
        "timesteps[:10] , prices[:10]"
      ],
      "metadata": {
        "id": "YdQRrp4Kkiag",
        "colab": {
          "base_uri": "https://localhost:8080/"
        },
        "outputId": "7ed558a8-8d68-43c5-ca75-7f271764d9f6"
      },
      "execution_count": 10,
      "outputs": [
        {
          "output_type": "execute_result",
          "data": {
            "text/plain": [
              "(array(['2013-10-01T00:00:00.000000000', '2013-10-02T00:00:00.000000000',\n",
              "        '2013-10-03T00:00:00.000000000', '2013-10-04T00:00:00.000000000',\n",
              "        '2013-10-05T00:00:00.000000000', '2013-10-06T00:00:00.000000000',\n",
              "        '2013-10-07T00:00:00.000000000', '2013-10-08T00:00:00.000000000',\n",
              "        '2013-10-09T00:00:00.000000000', '2013-10-10T00:00:00.000000000'],\n",
              "       dtype='datetime64[ns]'),\n",
              " array([123.65499, 125.455  , 108.58483, 118.67466, 121.33866, 120.65533,\n",
              "        121.795  , 123.033  , 124.049  , 125.96116]))"
            ]
          },
          "metadata": {},
          "execution_count": 10
        }
      ]
    },
    {
      "cell_type": "code",
      "source": [
        "from sklearn.model_selection import train_test_split\n",
        "\n",
        "X_train, X_test, y_train, y_test = train_test_split(timesteps, # dates\n",
        "                                                    prices, # BTC prices\n",
        "                                                    test_size=0.2)\n",
        "\n",
        "X_train.shape, X_test.shape, y_train.shape, y_test.shape"
      ],
      "metadata": {
        "colab": {
          "base_uri": "https://localhost:8080/"
        },
        "id": "B-ltza59Q1iM",
        "outputId": "b98b9adb-88d1-4e14-c6d4-44fb008eaae0"
      },
      "execution_count": 11,
      "outputs": [
        {
          "output_type": "execute_result",
          "data": {
            "text/plain": [
              "((2229,), (558,), (2229,), (558,))"
            ]
          },
          "metadata": {},
          "execution_count": 11
        }
      ]
    },
    {
      "cell_type": "markdown",
      "source": [
        "çizdirelim ve neden yanlış olduğuna bakalım"
      ],
      "metadata": {
        "id": "4Bs50DTURr9a"
      }
    },
    {
      "cell_type": "code",
      "source": [
        "plt.figure(figsize=(10, 7))\n",
        "plt.scatter(X_train, y_train, s=5, label=\"Train data\")\n",
        "plt.scatter(X_test, y_test, s=5, label=\"Test data\")\n",
        "plt.xlabel(\"Date\")\n",
        "plt.ylabel(\"BTC Price\")\n",
        "plt.legend(fontsize=14)\n",
        "plt.show();"
      ],
      "metadata": {
        "colab": {
          "base_uri": "https://localhost:8080/",
          "height": 442
        },
        "id": "sxENojR2RSX2",
        "outputId": "73cd8213-c65b-459f-ed50-ee9773855b31"
      },
      "execution_count": 12,
      "outputs": [
        {
          "output_type": "display_data",
          "data": {
            "text/plain": [
              "<Figure size 720x504 with 1 Axes>"
            ],
            "image/png": "[encoded data removed]"
          },
          "metadata": {
            "needs_background": "light"
          }
        }
      ]
    },
    {
      "cell_type": "markdown",
      "source": [
        "görüldüğü gibi zamana bağlı veriler ile geleckteki bir değeri tahmin etmeye çalıştığımız bu problemde veriyi rastgele train-test olarak bölemeyiz. Zamana bağlı olduğu için belirli uygun şekilde bölmeliyiz.\n"
      ],
      "metadata": {
        "id": "-s6-NDxlSRjV"
      }
    },
    {
      "cell_type": "markdown",
      "source": [
        "**Doğru Train-Test Kümesi oluşturma**\n",
        "\n",
        "Belirli bir tarihten itibaren tamamen alırsak doğru bir şekilde ayırmış olur ve poroblemin mantığına uymuş oluruz."
      ],
      "metadata": {
        "id": "K8JTkDJGSmoq"
      }
    },
    {
      "cell_type": "code",
      "source": [
        "split_size = int(0.8 * len(prices)) # 80% train, 20% test \n",
        "\n",
        "X_train, y_train = timesteps[:split_size], prices[:split_size]\n",
        "\n",
        "X_test, y_test = timesteps[split_size:], prices[split_size:]\n",
        "\n",
        "len(X_train), len(X_test), len(y_train), len(y_test)"
      ],
      "metadata": {
        "colab": {
          "base_uri": "https://localhost:8080/"
        },
        "id": "pcf5ckP8SmAf",
        "outputId": "40392db8-51e7-43e2-b488-2f1677afa65b"
      },
      "execution_count": 13,
      "outputs": [
        {
          "output_type": "execute_result",
          "data": {
            "text/plain": [
              "(2229, 558, 2229, 558)"
            ]
          },
          "metadata": {},
          "execution_count": 13
        }
      ]
    },
    {
      "cell_type": "code",
      "source": [
        "plt.figure(figsize=(10,7))\n",
        "plt.scatter(X_train, y_train, s=5, label=\"Train data\")\n",
        "plt.scatter(X_test, y_test, s=5, label=\"Test data\")\n",
        "plt.xlabel(\"Date\")\n",
        "plt.ylabel(\"BTC Price\")\n",
        "plt.legend(fontsize=14)\n",
        "plt.show();"
      ],
      "metadata": {
        "colab": {
          "base_uri": "https://localhost:8080/",
          "height": 442
        },
        "id": "gHiH5Qd_S6VT",
        "outputId": "b870e77f-76c6-40eb-b0de-6858df4f4d8d"
      },
      "execution_count": 14,
      "outputs": [
        {
          "output_type": "display_data",
          "data": {
            "text/plain": [
              "<Figure size 720x504 with 1 Axes>"
            ],
            "image/png": "[encoded data removed]"
          },
          "metadata": {
            "needs_background": "light"
          }
        }
      ]
    },
    {
      "cell_type": "markdown",
      "source": [
        "### Grafikler için fonksiyon"
      ],
      "metadata": {
        "id": "Vvch3tTJUMi6"
      }
    },
    {
      "cell_type": "code",
      "source": [
        "def plot_time_series(timesteps, values, format=\".\", start=0, end=None, label=None):\n",
        "  plt.plot(timesteps[start:end], values[start:end], format, label=label)\n",
        "  plt.xlabel(\"Time\")\n",
        "  plt.ylabel(\"BTC Price\")\n",
        "  if label:\n",
        "    plt.legend(fontsize=14)\n",
        "  plt.grid(True)\n",
        "\n",
        "\n",
        "plt.figure(figsize=(10, 7))\n",
        "plot_time_series(timesteps=X_train, values=y_train, label=\"Train data\")\n",
        "plot_time_series(timesteps=X_test, values=y_test, label=\"Test data\")"
      ],
      "metadata": {
        "colab": {
          "base_uri": "https://localhost:8080/",
          "height": 0
        },
        "id": "j6PdPqx5TQt6",
        "outputId": "accbc698-062d-4a01-90b0-5f6768f348eb"
      },
      "execution_count": 15,
      "outputs": [
        {
          "output_type": "display_data",
          "data": {
            "text/plain": [
              "<Figure size 720x504 with 1 Axes>"
            ],
            "image/png": "[encoded data removed]"
          },
          "metadata": {
            "needs_background": "light"
          }
        }
      ]
    },
    {
      "cell_type": "markdown",
      "source": [
        "## Hangi Modelleri Deneyimleyeceğiz"
      ],
      "metadata": {
        "id": "7JaQUMZzYOVS"
      }
    },
    {
      "cell_type": "markdown",
      "source": [
        "**Horizon** = number of timesteps into the future we re going to predict (tahmin edeceğimiz zaman adımı sayısı)\n",
        "\n",
        "**Window size** = number of timesteps we re going to use to predict horizon (horizon u tahmin etmek için kullanacağımız zaman adımı sayısı)\n",
        "\n",
        "* 0 Naïve model (baseline)\n",
        "* 1 Dense model, horizon = 1, window = 7\n",
        "* 2 Same as 1, horizon = 1, window = 30\n",
        "* 3 Same as 1, horizon = 7, window = 30\n",
        "* 4 Conv1D\n",
        "* 5 LSTM\n",
        "* 6 Same as 1 (but with multivariate data)\n",
        "* 7 N-BEATs Algorithm\n",
        "* 8 Ensemble (multiple models optimized on different loss functions)\n",
        "* 9 Future prediction model (model to predict future values)\n",
        "* 10 Same as 1 (but with turkey 🦃 data introduced)"
      ],
      "metadata": {
        "id": "gsH62ionZHC5"
      }
    },
    {
      "cell_type": "markdown",
      "source": [
        "## Model 0: Naive Forecast (baseline)"
      ],
      "metadata": {
        "id": "yXKEA3HCbG4Z"
      }
    },
    {
      "cell_type": "markdown",
      "source": [
        "Horizon 1 için : t zaman adımındaki tahmin t-1 anındakine eşittir."
      ],
      "metadata": {
        "id": "sb-U9f8ccFaS"
      }
    },
    {
      "cell_type": "markdown",
      "source": [
        "Google amca ile biraz araştırma yapmak lazım \n",
        "\n",
        "[Güzel Kaynak Bakılmalı](https://otexts.com/fpp3/simple-methods.html)\n",
        "\n",
        "\n"
      ],
      "metadata": {
        "id": "7zbty3rdbSBB"
      }
    },
    {
      "cell_type": "code",
      "source": [
        "naive_forecast = y_test[:-1] #horizon 1 olduğu için son indexi pas geçtik\n",
        "\n",
        "naive_forecast[:10], naive_forecast[-10:], y_test[-10:]"
      ],
      "metadata": {
        "colab": {
          "base_uri": "https://localhost:8080/"
        },
        "id": "Ecmrmw5DYYzF",
        "outputId": "0621a5cf-3b11-4fc9-92b5-379601247f8c"
      },
      "execution_count": 16,
      "outputs": [
        {
          "output_type": "execute_result",
          "data": {
            "text/plain": [
              "(array([9226.48582088, 8794.35864452, 8798.04205463, 9081.18687849,\n",
              "        8711.53433917, 8760.89271814, 8749.52059102, 8656.97092235,\n",
              "        8500.64355816, 8469.2608989 ]),\n",
              " array([57107.12067189, 58788.20967893, 58102.19142623, 55715.54665129,\n",
              "        56573.5554719 , 52147.82118698, 49764.1320816 , 50032.69313676,\n",
              "        47885.62525472, 45604.61575361]),\n",
              " array([58788.20967893, 58102.19142623, 55715.54665129, 56573.5554719 ,\n",
              "        52147.82118698, 49764.1320816 , 50032.69313676, 47885.62525472,\n",
              "        45604.61575361, 43144.47129086]))"
            ]
          },
          "metadata": {},
          "execution_count": 16
        }
      ]
    },
    {
      "cell_type": "code",
      "source": [
        "plt.figure(figsize=(10, 7))\n",
        "# plot_time_series(timesteps=X_train, values=y_train, label=\"Train data\")\n",
        "plot_time_series(timesteps=X_test, values=y_test, start=350, format=\"-\", label=\"Test data\")\n",
        "plot_time_series(timesteps=X_test[1:], values=naive_forecast, start=350, format=\"-\", label=\"Naive Forecast\")"
      ],
      "metadata": {
        "colab": {
          "base_uri": "https://localhost:8080/",
          "height": 442
        },
        "id": "9ktsWnBtciqd",
        "outputId": "19faea75-07e0-4f22-b398-ea5ef1a977c2"
      },
      "execution_count": 17,
      "outputs": [
        {
          "output_type": "display_data",
          "data": {
            "text/plain": [
              "<Figure size 720x504 with 1 Axes>"
            ],
            "image/png": "[encoded data removed]"
          },
          "metadata": {
            "needs_background": "light"
          }
        }
      ]
    },
    {
      "cell_type": "markdown",
      "source": [
        "## Evaluating a time series model\n",
        "\n",
        "Bir sürü farklı metric var. Hepsinin birbirine göre avantaj ve dezavantajları var. Probleme göre farklıları seçilir.\n",
        "* MAE - mean absolute error\n",
        "* MSE - mean squared error\n",
        "* RMSE - root mean square error\n",
        "* MAPE/sMAPE - (symmetric) mean absolute percentage error\n",
        "* MASE - mean absolute scaled error"
      ],
      "metadata": {
        "id": "tfuD4bIrd7PI"
      }
    },
    {
      "cell_type": "code",
      "source": [
        "import tensorflow as tf"
      ],
      "metadata": {
        "id": "u5_jBg8Rd-UE"
      },
      "execution_count": 18,
      "outputs": []
    },
    {
      "cell_type": "code",
      "source": [
        "# MASE implementation\n",
        "def mean_absolute_scaled_error(y_true, y_pred):\n",
        "  \"\"\"\n",
        "  Implement MASE (assuming no seasonality of data).\n",
        "  yani veride kış veya yaz gibi belirli zamanlarıda veride etkisi yok\n",
        "  \"\"\"\n",
        "  mae = tf.reduce_mean(tf.abs(y_true-y_pred))\n",
        "\n",
        "  # Find MAE of naive forecast (no seasonality)\n",
        "  mae_naive_no_season = tf.reduce_mean(tf.abs(y_true[1:] - y_true[:-1])) # our seasonality is 1 day (hence the shift of 1)\n",
        "\n",
        "  return mae / mae_naive_no_season"
      ],
      "metadata": {
        "id": "o8pbZnvKhjyV"
      },
      "execution_count": 19,
      "outputs": []
    },
    {
      "cell_type": "code",
      "source": [
        "#sonuc 1 e cok yakın cıkmalıy\n",
        "mean_absolute_scaled_error(y_true=y_test[1:], y_pred=naive_forecast).numpy()"
      ],
      "metadata": {
        "colab": {
          "base_uri": "https://localhost:8080/"
        },
        "id": "Yx6SGksminaA",
        "outputId": "86f0aa5e-0354-4a8c-c6d7-21f4f534bdb2"
      },
      "execution_count": 20,
      "outputs": [
        {
          "output_type": "execute_result",
          "data": {
            "text/plain": [
              "0.9995699939182624"
            ]
          },
          "metadata": {},
          "execution_count": 20
        }
      ]
    },
    {
      "cell_type": "markdown",
      "source": [
        "Metrikleri deneyeceğimiz bir fonksiyon yazalım"
      ],
      "metadata": {
        "id": "CVH5RgGYjaq4"
      }
    },
    {
      "cell_type": "code",
      "source": [
        "def evaluate_preds(y_true, y_pred):\n",
        "  #float32 datatype \n",
        "  y_true = tf.cast(y_true, dtype=tf.float32)\n",
        "  y_pred = tf.cast(y_pred, dtype=tf.float32)\n",
        "\n",
        "  \n",
        "  mae = tf.keras.metrics.mean_absolute_error(y_true, y_pred)\n",
        "  mse = tf.keras.metrics.mean_squared_error(y_true, y_pred)\n",
        "  rmse = tf.sqrt(mse)\n",
        "  mape = tf.keras.metrics.mean_absolute_percentage_error(y_true, y_pred)\n",
        "  mase = mean_absolute_scaled_error(y_true, y_pred)\n",
        "\n",
        "  return {\"mae\": mae.numpy(),\n",
        "          \"mse\": mse.numpy(),\n",
        "          \"rmse\": rmse.numpy(),\n",
        "          \"mape\": mape.numpy(),\n",
        "          \"mase\": mase.numpy()}"
      ],
      "metadata": {
        "id": "JFwZNYDUis6B"
      },
      "execution_count": 21,
      "outputs": []
    },
    {
      "cell_type": "code",
      "source": [
        "naive_results = evaluate_preds(y_true=y_test[1:],\n",
        "                               y_pred=naive_forecast)\n",
        "\n",
        "naive_results"
      ],
      "metadata": {
        "colab": {
          "base_uri": "https://localhost:8080/"
        },
        "id": "fIAt47mCjrMp",
        "outputId": "23762684-eee8-4e95-85cd-9f3955376bed"
      },
      "execution_count": 22,
      "outputs": [
        {
          "output_type": "execute_result",
          "data": {
            "text/plain": [
              "{'mae': 567.9802,\n",
              " 'mape': 2.516525,\n",
              " 'mase': 0.99957,\n",
              " 'mse': 1147547.0,\n",
              " 'rmse': 1071.2362}"
            ]
          },
          "metadata": {},
          "execution_count": 22
        }
      ]
    },
    {
      "cell_type": "markdown",
      "source": [
        "**Lower is better.** Bu sonuçları göre mase metriği bizim için en iyisi olabilir"
      ],
      "metadata": {
        "id": "XSQGmS7rj_xB"
      }
    },
    {
      "cell_type": "code",
      "source": [
        "#ortalama en düşük ve en yüksek değere bakalım\n",
        "tf.reduce_min(y_test), tf.reduce_max(y_test), tf.reduce_mean(y_test)"
      ],
      "metadata": {
        "colab": {
          "base_uri": "https://localhost:8080/"
        },
        "id": "sGCStnCYkKq8",
        "outputId": "9ab8e93b-d948-433a-a7a2-e2533a6562d6"
      },
      "execution_count": 23,
      "outputs": [
        {
          "output_type": "execute_result",
          "data": {
            "text/plain": [
              "(<tf.Tensor: shape=(), dtype=float64, numpy=4944.7023359837>,\n",
              " <tf.Tensor: shape=(), dtype=float64, numpy=63346.7890351052>,\n",
              " <tf.Tensor: shape=(), dtype=float64, numpy=20056.632963737222>)"
            ]
          },
          "metadata": {},
          "execution_count": 23
        }
      ]
    },
    {
      "cell_type": "markdown",
      "source": [
        "[Farklı modeller ve yöntemler için](https://dev.mrdbourke.com/tensorflow-deep-learning/10_time_series_forecasting_in_tensorflow/#other-kinds-of-time-series-forecasting-models-which-can-be-used-for-baselines-and-actual-forecasts)"
      ],
      "metadata": {
        "id": "o-Wv75_glbYh"
      }
    },
    {
      "cell_type": "markdown",
      "source": [
        "## Format Data Part 2: Windowing our dataset\n",
        "\n",
        "Zaman serisi verisini bir supervised learning(denetimli öğrenme) problemine çevirmek için. \n",
        "\n",
        "Windowing nasıl bişi  ? \n",
        "\n",
        "Bir haftayı örnek olarak alırsak veriyi bölmeye ve bunlardan yeni veriler çıkartılır gibi düşün\n",
        "\n",
        "[0, 1, 2, 3, 4, 5, 6] -> [7]\n",
        "\n",
        "[1, 2, 3, 4, 5, 6, 7] -> [8]\n",
        "\n",
        "[2, 3, 4, 5, 6, 7, 8] -> [9]\n"
      ],
      "metadata": {
        "id": "ZTadCYqXl_rJ"
      }
    },
    {
      "cell_type": "markdown",
      "source": [
        "horizon = ufuk"
      ],
      "metadata": {
        "id": "J77FG7JEzaLx"
      }
    },
    {
      "cell_type": "code",
      "source": [
        "print(f\"Bunları {btc_price[:7]} kullanarak ,bunu  {btc_price[7]} tahmin etmeye çalışacağız\")"
      ],
      "metadata": {
        "colab": {
          "base_uri": "https://localhost:8080/"
        },
        "id": "bboxNl8uknqv",
        "outputId": "7ea72a82-1393-483b-b16b-c26e9d55ca5a"
      },
      "execution_count": 24,
      "outputs": [
        {
          "output_type": "stream",
          "name": "stdout",
          "text": [
            "Bunları [123.65499, 125.455, 108.58483, 118.67466, 121.33866, 120.65533, 121.795] kullanarak ,bunu  123.033 tahmin etmeye çalışacağız\n"
          ]
        }
      ]
    },
    {
      "cell_type": "code",
      "source": [
        "HORIZON = 1 #1 sonraki günü tahmin etmek için\n",
        "WINDOW_SIZE = 7 #geçtiğimiz 1 haftayı kullanrak tahmin yapmak için"
      ],
      "metadata": {
        "id": "ma7KC0egneTb"
      },
      "execution_count": 25,
      "outputs": []
    },
    {
      "cell_type": "markdown",
      "source": [
        "Labellar oluşturmak için fonksiyon yazalım ve deneyelim"
      ],
      "metadata": {
        "id": "vhi8ToeIo-9J"
      }
    },
    {
      "cell_type": "code",
      "source": [
        "def get_labelled_windows(x, horizon=HORIZON):\n",
        "  \"\"\"\n",
        "  windowed data için label oluşturacağız\n",
        "\n",
        "   horizon=1\n",
        "  Input: [0, 1, 2, 3, 4, 5, 6, 7] -> Output: ([0, 1, 2, 3, 4, 5, 6], [7])\n",
        "  \"\"\"\n",
        "  return x[:, :-horizon], x[:, -horizon:]"
      ],
      "metadata": {
        "id": "zkrPi4meoatI"
      },
      "execution_count": 26,
      "outputs": []
    },
    {
      "cell_type": "code",
      "source": [
        "test_window, test_label = get_labelled_windows(tf.expand_dims(tf.range(8), axis=0))\n",
        "print(f\"Window: {tf.squeeze(test_window).numpy()} -> Label: {tf.squeeze(test_label).numpy()}\")\n"
      ],
      "metadata": {
        "colab": {
          "base_uri": "https://localhost:8080/"
        },
        "id": "gLOXvy67m9kA",
        "outputId": "f526037e-b70c-4688-a605-2edf12fa30fe"
      },
      "execution_count": 27,
      "outputs": [
        {
          "output_type": "stream",
          "name": "stdout",
          "text": [
            "Window: [0 1 2 3 4 5 6] -> Label: 7\n"
          ]
        }
      ]
    },
    {
      "cell_type": "markdown",
      "source": [
        "bu window dedigimiz seyi olusturmak icin fonksiyon yazalim"
      ],
      "metadata": {
        "id": "QjQMJRfpoCZF"
      }
    },
    {
      "cell_type": "markdown",
      "source": [
        "Fonksýonun alindigi yer burdan anlasilacak sekilde kendi oribrlemimize uyardalik\n",
        "https://towardsdatascience.com/fast-and-robust-sliding-window-vectorization-with-numpy-3ad950ed62f5"
      ],
      "metadata": {
        "id": "_V9w_MfzpjaO"
      }
    },
    {
      "cell_type": "code",
      "source": [
        "import numpy as np\n",
        "\n",
        "\n",
        "def make_windows(x, window_size=WINDOW_SIZE, horizon=HORIZON):\n",
        " \n",
        "  window_step = np.expand_dims(np.arange(window_size+horizon), axis=0)\n",
        "  \n",
        "  window_indexes = window_step + np.expand_dims(np.arange(len(x)-(window_size+horizon-1)), axis=0).T \n",
        "  #print(f\"Window indexes:\\n {window_indexes, window_indexes.shape}\")\n",
        "\n",
        "  windowed_array = x[window_indexes]\n",
        "  #print(windowed_array)\n",
        "  \n",
        "  windows, labels = get_labelled_windows(windowed_array, horizon=horizon)\n",
        "  return windows, labels"
      ],
      "metadata": {
        "id": "nsFO39tmo735"
      },
      "execution_count": 28,
      "outputs": []
    },
    {
      "cell_type": "code",
      "source": [
        "full_windows, full_labels = make_windows(prices, window_size=WINDOW_SIZE, horizon=HORIZON)\n",
        "len(full_windows), len(full_labels)"
      ],
      "metadata": {
        "id": "ZrF22fBk0RyJ",
        "colab": {
          "base_uri": "https://localhost:8080/"
        },
        "outputId": "b30f46ef-7f2e-413e-a23d-b0403e4e4042"
      },
      "execution_count": 29,
      "outputs": [
        {
          "output_type": "execute_result",
          "data": {
            "text/plain": [
              "(2780, 2780)"
            ]
          },
          "metadata": {},
          "execution_count": 29
        }
      ]
    },
    {
      "cell_type": "markdown",
      "source": [
        "Fonksíyonumuzun neler yaptigina bakalaim daha iyi anlasilir"
      ],
      "metadata": {
        "id": "UrFuWcTDqrRc"
      }
    },
    {
      "cell_type": "code",
      "source": [
        "for i in range(3):\n",
        "  print(f\"Window: {full_windows[i]} -> Label: {full_labels[i]}\")"
      ],
      "metadata": {
        "id": "WQGc52rS0TOx",
        "colab": {
          "base_uri": "https://localhost:8080/"
        },
        "outputId": "8bdc42df-bb5e-4be9-a34c-2471a0835fcd"
      },
      "execution_count": 30,
      "outputs": [
        {
          "output_type": "stream",
          "name": "stdout",
          "text": [
            "Window: [123.65499 125.455   108.58483 118.67466 121.33866 120.65533 121.795  ] -> Label: [123.033]\n",
            "Window: [125.455   108.58483 118.67466 121.33866 120.65533 121.795   123.033  ] -> Label: [124.049]\n",
            "Window: [108.58483 118.67466 121.33866 120.65533 121.795   123.033   124.049  ] -> Label: [125.96116]\n"
          ]
        }
      ]
    },
    {
      "cell_type": "markdown",
      "source": [
        "## Window'lari train-test kumelerine ayirma"
      ],
      "metadata": {
        "id": "4gyl0g6UsIL1"
      }
    },
    {
      "cell_type": "markdown",
      "source": [
        "Train-test kumelerini ayrimak icin fonksiyon "
      ],
      "metadata": {
        "id": "4XHu7ZxQrAS9"
      }
    },
    {
      "cell_type": "code",
      "source": [
        "def make_train_test_splits(windows, labels, test_split=0.2):\n",
        "\n",
        "  split_size = int(len(windows) * (1-test_split)) \n",
        "  train_windows = windows[:split_size]\n",
        "  train_labels = labels[:split_size]\n",
        "  test_windows = windows[split_size:]\n",
        "  test_labels = labels[split_size:]\n",
        "  return train_windows, test_windows, train_labels, test_labels"
      ],
      "metadata": {
        "id": "_i8WK9QL0Y3x"
      },
      "execution_count": 31,
      "outputs": []
    },
    {
      "cell_type": "code",
      "source": [
        "# ne kadar varmis\n",
        "train_windows, test_windows, train_labels, test_labels = make_train_test_splits(full_windows, full_labels)\n",
        "len(train_windows), len(test_windows), len(train_labels), len(test_labels)"
      ],
      "metadata": {
        "id": "zdfYkerw0bO6",
        "colab": {
          "base_uri": "https://localhost:8080/"
        },
        "outputId": "83dafbc0-c8d0-4b64-fea3-1e5c3d2b372a"
      },
      "execution_count": 32,
      "outputs": [
        {
          "output_type": "execute_result",
          "data": {
            "text/plain": [
              "(2224, 556, 2224, 556)"
            ]
          },
          "metadata": {},
          "execution_count": 32
        }
      ]
    },
    {
      "cell_type": "markdown",
      "source": [
        "## Checkpoint callback"
      ],
      "metadata": {
        "id": "oSWusdY3tIF9"
      }
    },
    {
      "cell_type": "markdown",
      "source": [
        "Neden checkpoint olusturdugumuzu daha once gorduk arastirilabilir\n",
        "https://www.tensorflow.org/api_docs/python/tf/keras/callbacks/ModelCheckpoint"
      ],
      "metadata": {
        "id": "lHSrAA-BtR1P"
      }
    },
    {
      "cell_type": "code",
      "source": [
        "import os\n",
        "\n",
        "def create_model_checkpoint(model_name, save_path=\"model_experiments\"):\n",
        "  return tf.keras.callbacks.ModelCheckpoint(filepath=os.path.join(save_path, model_name),\n",
        "                                            monitor=\"val_loss\",\n",
        "                                            verbose=0,\n",
        "                                            save_best_only=True) #en iyi halini kaydedecek"
      ],
      "metadata": {
        "id": "OrZyGQ4BtKXM"
      },
      "execution_count": 33,
      "outputs": []
    },
    {
      "cell_type": "markdown",
      "source": [
        "## Model 1: Dense model (window = 7, horizon = 1)"
      ],
      "metadata": {
        "id": "O_3KfwcztjId"
      }
    },
    {
      "cell_type": "markdown",
      "source": [
        "* Tek dense layer, 128 hidden unit ve  ReLU\n",
        "* Tek output ve lineer aktivasyon (aktivasyon fonksiyonu yok demekle ayni sey)\n",
        "* Adam optimizaiton ve MAE loss function\n",
        "* Batch size 128 \n",
        "* 100 epochs"
      ],
      "metadata": {
        "id": "xiZai5uitxCs"
      }
    },
    {
      "cell_type": "code",
      "source": [
        "import tensorflow as tf\n",
        "from tensorflow.keras import layers\n",
        "\n",
        "# 1.model\n",
        "model_1 = tf.keras.Sequential([\n",
        "  layers.Dense(128, activation=\"relu\"),\n",
        "  layers.Dense(HORIZON, activation=\"linear\")          \n",
        "], name=\"model_1_dense\") \n",
        "\n",
        "# 2. Compile\n",
        "model_1.compile(loss=\"mae\",\n",
        "                optimizer=tf.keras.optimizers.Adam(),\n",
        "                metrics=[\"mae\", \"mse\"])\n",
        "\n",
        "# 3. Fit the model\n",
        "model_1.fit(x=train_windows,\n",
        "            y=train_labels,\n",
        "            epochs=100,\n",
        "            verbose=0, #1 yapip ilerleyisi gorebilirsiniz cok yer kaplamasin diye 0 kalsin\n",
        "            batch_size=128,\n",
        "            validation_data=(test_windows, test_labels),\n",
        "            callbacks=[create_model_checkpoint(model_name=model_1.name)])"
      ],
      "metadata": {
        "colab": {
          "base_uri": "https://localhost:8080/"
        },
        "id": "0EAsXuwgtotl",
        "outputId": "c4c0729a-e27d-44fc-e575-1bd28f4083f5"
      },
      "execution_count": 34,
      "outputs": [
        {
          "output_type": "stream",
          "name": "stdout",
          "text": [
            "INFO:tensorflow:Assets written to: model_experiments/model_1_dense/assets\n",
            "INFO:tensorflow:Assets written to: model_experiments/model_1_dense/assets\n",
            "INFO:tensorflow:Assets written to: model_experiments/model_1_dense/assets\n",
            "INFO:tensorflow:Assets written to: model_experiments/model_1_dense/assets\n",
            "INFO:tensorflow:Assets written to: model_experiments/model_1_dense/assets\n",
            "INFO:tensorflow:Assets written to: model_experiments/model_1_dense/assets\n",
            "INFO:tensorflow:Assets written to: model_experiments/model_1_dense/assets\n",
            "INFO:tensorflow:Assets written to: model_experiments/model_1_dense/assets\n",
            "INFO:tensorflow:Assets written to: model_experiments/model_1_dense/assets\n",
            "INFO:tensorflow:Assets written to: model_experiments/model_1_dense/assets\n",
            "INFO:tensorflow:Assets written to: model_experiments/model_1_dense/assets\n",
            "INFO:tensorflow:Assets written to: model_experiments/model_1_dense/assets\n",
            "INFO:tensorflow:Assets written to: model_experiments/model_1_dense/assets\n",
            "INFO:tensorflow:Assets written to: model_experiments/model_1_dense/assets\n",
            "INFO:tensorflow:Assets written to: model_experiments/model_1_dense/assets\n",
            "INFO:tensorflow:Assets written to: model_experiments/model_1_dense/assets\n",
            "INFO:tensorflow:Assets written to: model_experiments/model_1_dense/assets\n",
            "INFO:tensorflow:Assets written to: model_experiments/model_1_dense/assets\n",
            "INFO:tensorflow:Assets written to: model_experiments/model_1_dense/assets\n",
            "INFO:tensorflow:Assets written to: model_experiments/model_1_dense/assets\n",
            "INFO:tensorflow:Assets written to: model_experiments/model_1_dense/assets\n",
            "INFO:tensorflow:Assets written to: model_experiments/model_1_dense/assets\n",
            "INFO:tensorflow:Assets written to: model_experiments/model_1_dense/assets\n",
            "INFO:tensorflow:Assets written to: model_experiments/model_1_dense/assets\n",
            "INFO:tensorflow:Assets written to: model_experiments/model_1_dense/assets\n",
            "INFO:tensorflow:Assets written to: model_experiments/model_1_dense/assets\n",
            "INFO:tensorflow:Assets written to: model_experiments/model_1_dense/assets\n",
            "INFO:tensorflow:Assets written to: model_experiments/model_1_dense/assets\n",
            "INFO:tensorflow:Assets written to: model_experiments/model_1_dense/assets\n",
            "INFO:tensorflow:Assets written to: model_experiments/model_1_dense/assets\n",
            "INFO:tensorflow:Assets written to: model_experiments/model_1_dense/assets\n",
            "INFO:tensorflow:Assets written to: model_experiments/model_1_dense/assets\n",
            "INFO:tensorflow:Assets written to: model_experiments/model_1_dense/assets\n",
            "INFO:tensorflow:Assets written to: model_experiments/model_1_dense/assets\n",
            "INFO:tensorflow:Assets written to: model_experiments/model_1_dense/assets\n",
            "INFO:tensorflow:Assets written to: model_experiments/model_1_dense/assets\n",
            "INFO:tensorflow:Assets written to: model_experiments/model_1_dense/assets\n",
            "INFO:tensorflow:Assets written to: model_experiments/model_1_dense/assets\n",
            "INFO:tensorflow:Assets written to: model_experiments/model_1_dense/assets\n",
            "INFO:tensorflow:Assets written to: model_experiments/model_1_dense/assets\n",
            "INFO:tensorflow:Assets written to: model_experiments/model_1_dense/assets\n",
            "INFO:tensorflow:Assets written to: model_experiments/model_1_dense/assets\n",
            "INFO:tensorflow:Assets written to: model_experiments/model_1_dense/assets\n"
          ]
        },
        {
          "output_type": "execute_result",
          "data": {
            "text/plain": [
              "<keras.callbacks.History at 0x7fcbd0442110>"
            ]
          },
          "metadata": {},
          "execution_count": 34
        }
      ]
    },
    {
      "cell_type": "code",
      "source": [
        "#modeli  degerlendirelim\n",
        "model_1.evaluate(test_windows, test_labels)"
      ],
      "metadata": {
        "colab": {
          "base_uri": "https://localhost:8080/"
        },
        "id": "Mq0kgA4yuqPl",
        "outputId": "2ea8b59a-27f6-4a32-bec5-62d348574288"
      },
      "execution_count": 35,
      "outputs": [
        {
          "output_type": "stream",
          "name": "stdout",
          "text": [
            "18/18 [==============================] - 0s 3ms/step - loss: 586.6349 - mae: 586.6349 - mse: 1211656.0000\n"
          ]
        },
        {
          "output_type": "execute_result",
          "data": {
            "text/plain": [
              "[586.6349487304688, 586.6349487304688, 1211656.0]"
            ]
          },
          "metadata": {},
          "execution_count": 35
        }
      ]
    },
    {
      "cell_type": "code",
      "source": [
        "#checkpoint ile kaydedilen en iyi halini load edelim\n",
        "model_1 = tf.keras.models.load_model(\"model_experiments/model_1_dense/\")\n",
        "model_1.evaluate(test_windows, test_labels)"
      ],
      "metadata": {
        "colab": {
          "base_uri": "https://localhost:8080/"
        },
        "id": "llkytnkcu7FW",
        "outputId": "47171a24-c137-419a-8398-c8e202d20034"
      },
      "execution_count": 36,
      "outputs": [
        {
          "output_type": "stream",
          "name": "stdout",
          "text": [
            "18/18 [==============================] - 0s 3ms/step - loss: 566.9287 - mae: 566.9287 - mse: 1171011.6250\n"
          ]
        },
        {
          "output_type": "execute_result",
          "data": {
            "text/plain": [
              "[566.9287109375, 566.9287109375, 1171011.625]"
            ]
          },
          "metadata": {},
          "execution_count": 36
        }
      ]
    },
    {
      "cell_type": "markdown",
      "source": [
        "evvet daha iyi sonuc aldik"
      ],
      "metadata": {
        "id": "T-K6_ZDozS0U"
      }
    },
    {
      "cell_type": "markdown",
      "source": [
        "## Model ile tahminler yabalim(test verisi ile)\n",
        "\n",
        "Aslinda tahminler(forecast) gelecegin tahmini olmali ama burda test kumesi bir nevi gelecegi temsil edecek sekildedir."
      ],
      "metadata": {
        "id": "P2hfbYq-zxHt"
      }
    },
    {
      "cell_type": "code",
      "source": [
        "def make_preds(model, input_data):\n",
        "  \n",
        "  forecast = model.predict(input_data)\n",
        "  return tf.squeeze(forecast) # 1D array lazim o yuzden"
      ],
      "metadata": {
        "id": "PeLARqrq8C9q"
      },
      "execution_count": 37,
      "outputs": []
    },
    {
      "cell_type": "code",
      "source": [
        "model_1_preds = make_preds(model_1, test_windows) \n",
        "len(model_1_preds), model_1_preds[:10]"
      ],
      "metadata": {
        "colab": {
          "base_uri": "https://localhost:8080/"
        },
        "id": "0Tg9XlAtzVEz",
        "outputId": "c5945ad0-89c2-49b7-c79e-d18644351c2b"
      },
      "execution_count": 38,
      "outputs": [
        {
          "output_type": "execute_result",
          "data": {
            "text/plain": [
              "(556, <tf.Tensor: shape=(10,), dtype=float32, numpy=\n",
              " array([8879.213, 8812.859, 9002.563, 8782.641, 8775.035, 8715.615,\n",
              "        8685.107, 8549.655, 8457.502, 8525.292], dtype=float32)>)"
            ]
          },
          "metadata": {},
          "execution_count": 38
        }
      ]
    },
    {
      "cell_type": "markdown",
      "source": [
        "Tahmini naive ile kiyaslayalim ne kadar iyi oldugunu gormemize yardim edecektir"
      ],
      "metadata": {
        "id": "nImZc7hNMf3R"
      }
    },
    {
      "cell_type": "code",
      "source": [
        "model_1_results = evaluate_preds(y_true=tf.squeeze(test_labels),\n",
        "                                 y_pred=model_1_preds)\n",
        "model_1_results"
      ],
      "metadata": {
        "colab": {
          "base_uri": "https://localhost:8080/"
        },
        "id": "cKHOIesI8Guq",
        "outputId": "616e29bc-2154-401a-97c8-a59bb972de99"
      },
      "execution_count": 39,
      "outputs": [
        {
          "output_type": "execute_result",
          "data": {
            "text/plain": [
              "{'mae': 566.9288,\n",
              " 'mape': 2.5506177,\n",
              " 'mase': 0.9959368,\n",
              " 'mse': 1171011.6,\n",
              " 'rmse': 1082.1329}"
            ]
          },
          "metadata": {},
          "execution_count": 39
        }
      ]
    },
    {
      "cell_type": "code",
      "source": [
        "naive_results"
      ],
      "metadata": {
        "colab": {
          "base_uri": "https://localhost:8080/"
        },
        "id": "X6Gi0jBu8JgM",
        "outputId": "adbd04ff-c583-4973-e016-917d6a1773f6"
      },
      "execution_count": 40,
      "outputs": [
        {
          "output_type": "execute_result",
          "data": {
            "text/plain": [
              "{'mae': 567.9802,\n",
              " 'mape': 2.516525,\n",
              " 'mase': 0.99957,\n",
              " 'mse': 1147547.0,\n",
              " 'rmse': 1071.2362}"
            ]
          },
          "metadata": {},
          "execution_count": 40
        }
      ]
    },
    {
      "cell_type": "markdown",
      "source": [
        "Grafigine bakalim"
      ],
      "metadata": {
        "id": "PEt_BJ8iMvqp"
      }
    },
    {
      "cell_type": "code",
      "source": [
        "offset = 450\n",
        "plt.figure(figsize=(10, 7))\n",
        "\n",
        "plot_time_series(timesteps=X_test[-len(test_windows):], \n",
        "                 values=test_labels[:, 0], \n",
        "                 start=offset, \n",
        "                 label=\"Test Data\")\n",
        "\n",
        "plot_time_series(timesteps=X_test[-len(test_windows):],\n",
        "                 values=model_1_preds,\n",
        "                 start=offset, \n",
        "                 format=\"-\",\n",
        "                 label=\"model_1_preds\")"
      ],
      "metadata": {
        "colab": {
          "base_uri": "https://localhost:8080/",
          "height": 443
        },
        "id": "VTNXvs8h8Lva",
        "outputId": "a7d0e3ec-44eb-46ea-d71d-b2fc5709c79b"
      },
      "execution_count": 41,
      "outputs": [
        {
          "output_type": "display_data",
          "data": {
            "text/plain": [
              "<Figure size 720x504 with 1 Axes>"
            ],
            "image/png": "[encoded data removed]"
          },
          "metadata": {
            "needs_background": "light"
          }
        }
      ]
    },
    {
      "cell_type": "markdown",
      "source": [
        "## Model 2: Dense (window = 30, horizon = 1)"
      ],
      "metadata": {
        "id": "5qJArx5bPNAR"
      }
    },
    {
      "cell_type": "code",
      "source": [
        "HORIZON = 1 \n",
        "WINDOW_SIZE = 30 #30 gunluk olarak alacagiz yani"
      ],
      "metadata": {
        "id": "eQcRBtP9PQTJ"
      },
      "execution_count": 42,
      "outputs": []
    },
    {
      "cell_type": "code",
      "source": [
        "#window'lari olusturalim\n",
        "full_windows, full_labels = make_windows(prices, window_size=WINDOW_SIZE, horizon=HORIZON)\n",
        "len(full_windows), len(full_labels)"
      ],
      "metadata": {
        "colab": {
          "base_uri": "https://localhost:8080/"
        },
        "id": "bjBR43GCPS8j",
        "outputId": "2c4d72fc-b369-4fc0-b8b0-007143b10d57"
      },
      "execution_count": 43,
      "outputs": [
        {
          "output_type": "execute_result",
          "data": {
            "text/plain": [
              "(2757, 2757)"
            ]
          },
          "metadata": {},
          "execution_count": 43
        }
      ]
    },
    {
      "cell_type": "code",
      "source": [
        "#train-test ayrimini yapalim\n",
        "train_windows, test_windows, train_labels, test_labels = make_train_test_splits(windows=full_windows,\n",
        "                                                                                labels=full_labels,\n",
        "                                                                                test_split=0.2)\n",
        "len(train_windows), len(test_windows), len(train_labels), len(test_labels)"
      ],
      "metadata": {
        "colab": {
          "base_uri": "https://localhost:8080/"
        },
        "id": "KWWpurkBPUhC",
        "outputId": "84f28be3-8ef1-4f1f-b03b-8435e8d8fbd2"
      },
      "execution_count": 44,
      "outputs": [
        {
          "output_type": "execute_result",
          "data": {
            "text/plain": [
              "(2205, 552, 2205, 552)"
            ]
          },
          "metadata": {},
          "execution_count": 44
        }
      ]
    },
    {
      "cell_type": "markdown",
      "source": [
        "verimiz hazir simid modeli olusturup baslayalim"
      ],
      "metadata": {
        "id": "-YN2YAG0QPoc"
      }
    },
    {
      "cell_type": "code",
      "source": [
        "# model\n",
        "model_2 = tf.keras.Sequential([\n",
        "  layers.Dense(128, activation=\"relu\"),\n",
        "  layers.Dense(HORIZON)\n",
        "], name=\"model_2_dense\")\n",
        "\n",
        "# Compile\n",
        "model_2.compile(loss=\"mae\",\n",
        "                optimizer=tf.keras.optimizers.Adam())\n",
        "\n",
        "# Fit\n",
        "model_2.fit(train_windows,\n",
        "            train_labels,\n",
        "            epochs=100,\n",
        "            batch_size=128,\n",
        "            verbose=0,\n",
        "            validation_data=(test_windows, test_labels),\n",
        "            callbacks=[create_model_checkpoint(model_name=model_2.name)])"
      ],
      "metadata": {
        "colab": {
          "base_uri": "https://localhost:8080/"
        },
        "id": "A8EK5AVqPZK5",
        "outputId": "8b7ac06d-d962-46de-dc6c-d1918b7a79c3"
      },
      "execution_count": 45,
      "outputs": [
        {
          "output_type": "stream",
          "name": "stdout",
          "text": [
            "INFO:tensorflow:Assets written to: model_experiments/model_2_dense/assets\n",
            "INFO:tensorflow:Assets written to: model_experiments/model_2_dense/assets\n",
            "INFO:tensorflow:Assets written to: model_experiments/model_2_dense/assets\n",
            "INFO:tensorflow:Assets written to: model_experiments/model_2_dense/assets\n",
            "INFO:tensorflow:Assets written to: model_experiments/model_2_dense/assets\n",
            "INFO:tensorflow:Assets written to: model_experiments/model_2_dense/assets\n",
            "INFO:tensorflow:Assets written to: model_experiments/model_2_dense/assets\n",
            "INFO:tensorflow:Assets written to: model_experiments/model_2_dense/assets\n",
            "INFO:tensorflow:Assets written to: model_experiments/model_2_dense/assets\n",
            "INFO:tensorflow:Assets written to: model_experiments/model_2_dense/assets\n",
            "INFO:tensorflow:Assets written to: model_experiments/model_2_dense/assets\n",
            "INFO:tensorflow:Assets written to: model_experiments/model_2_dense/assets\n",
            "INFO:tensorflow:Assets written to: model_experiments/model_2_dense/assets\n",
            "INFO:tensorflow:Assets written to: model_experiments/model_2_dense/assets\n",
            "INFO:tensorflow:Assets written to: model_experiments/model_2_dense/assets\n",
            "INFO:tensorflow:Assets written to: model_experiments/model_2_dense/assets\n",
            "INFO:tensorflow:Assets written to: model_experiments/model_2_dense/assets\n",
            "INFO:tensorflow:Assets written to: model_experiments/model_2_dense/assets\n",
            "INFO:tensorflow:Assets written to: model_experiments/model_2_dense/assets\n",
            "INFO:tensorflow:Assets written to: model_experiments/model_2_dense/assets\n",
            "INFO:tensorflow:Assets written to: model_experiments/model_2_dense/assets\n",
            "INFO:tensorflow:Assets written to: model_experiments/model_2_dense/assets\n",
            "INFO:tensorflow:Assets written to: model_experiments/model_2_dense/assets\n",
            "INFO:tensorflow:Assets written to: model_experiments/model_2_dense/assets\n",
            "INFO:tensorflow:Assets written to: model_experiments/model_2_dense/assets\n",
            "INFO:tensorflow:Assets written to: model_experiments/model_2_dense/assets\n"
          ]
        },
        {
          "output_type": "execute_result",
          "data": {
            "text/plain": [
              "<keras.callbacks.History at 0x7fcb5d6c2590>"
            ]
          },
          "metadata": {},
          "execution_count": 45
        }
      ]
    },
    {
      "cell_type": "code",
      "source": [
        "model_2.evaluate(test_windows, test_labels)"
      ],
      "metadata": {
        "colab": {
          "base_uri": "https://localhost:8080/"
        },
        "id": "ON1bEGJOPb-J",
        "outputId": "ab640dda-7a62-4839-dddc-d9fd40d77688"
      },
      "execution_count": 46,
      "outputs": [
        {
          "output_type": "stream",
          "name": "stdout",
          "text": [
            "18/18 [==============================] - 0s 2ms/step - loss: 798.5907\n"
          ]
        },
        {
          "output_type": "execute_result",
          "data": {
            "text/plain": [
              "798.5906982421875"
            ]
          },
          "metadata": {},
          "execution_count": 46
        }
      ]
    },
    {
      "cell_type": "code",
      "source": [
        "#en iyi oerformansa sahip modeli yukleyelim\n",
        "model_2 = tf.keras.models.load_model(\"model_experiments/model_2_dense/\")\n",
        "model_2.evaluate(test_windows, test_labels)"
      ],
      "metadata": {
        "colab": {
          "base_uri": "https://localhost:8080/"
        },
        "id": "Sh3ORFKXPeJi",
        "outputId": "93cc7d1c-5f36-47ad-999d-fae062e91646"
      },
      "execution_count": 47,
      "outputs": [
        {
          "output_type": "stream",
          "name": "stdout",
          "text": [
            "18/18 [==============================] - 0s 2ms/step - loss: 623.6022\n"
          ]
        },
        {
          "output_type": "execute_result",
          "data": {
            "text/plain": [
              "623.6021728515625"
            ]
          },
          "metadata": {},
          "execution_count": 47
        }
      ]
    },
    {
      "cell_type": "markdown",
      "source": [
        "tekrar tahmin yaptirip"
      ],
      "metadata": {
        "id": "Yra_gmNBRJwR"
      }
    },
    {
      "cell_type": "code",
      "source": [
        "model_2_preds = make_preds(model_2,\n",
        "                           input_data=test_windows)"
      ],
      "metadata": {
        "id": "OCkimg7iPf6i"
      },
      "execution_count": 48,
      "outputs": []
    },
    {
      "cell_type": "code",
      "source": [
        "model_2_results = evaluate_preds(y_true=tf.squeeze(test_labels),\n",
        "                                 y_pred=model_2_preds)\n",
        "model_2_results"
      ],
      "metadata": {
        "colab": {
          "base_uri": "https://localhost:8080/"
        },
        "id": "sFiVOiLOPjIK",
        "outputId": "1e029f6c-e793-4cc3-903d-64b4480fbee2"
      },
      "execution_count": 49,
      "outputs": [
        {
          "output_type": "execute_result",
          "data": {
            "text/plain": [
              "{'mae': 623.6022,\n",
              " 'mape': 2.8273838,\n",
              " 'mase': 1.0900627,\n",
              " 'mse': 1338026.2,\n",
              " 'rmse': 1156.731}"
            ]
          },
          "metadata": {},
          "execution_count": 49
        }
      ]
    },
    {
      "cell_type": "code",
      "source": [
        "model_1_results"
      ],
      "metadata": {
        "colab": {
          "base_uri": "https://localhost:8080/"
        },
        "id": "cdGJMjxERb4b",
        "outputId": "331ec79c-a82b-4fea-b1fe-b75185479c74"
      },
      "execution_count": 50,
      "outputs": [
        {
          "output_type": "execute_result",
          "data": {
            "text/plain": [
              "{'mae': 566.9288,\n",
              " 'mape': 2.5506177,\n",
              " 'mase': 0.9959368,\n",
              " 'mse': 1171011.6,\n",
              " 'rmse': 1082.1329}"
            ]
          },
          "metadata": {},
          "execution_count": 50
        }
      ]
    },
    {
      "cell_type": "markdown",
      "source": [
        "model 1 model 2 den daha iyi bir performans gosterdi bunu degerlendirelim window buyuklugunu arttirdik "
      ],
      "metadata": {
        "id": "Rvo0BcWJRemY"
      }
    },
    {
      "cell_type": "code",
      "source": [
        "offset = 300\n",
        "plt.figure(figsize=(10, 7))\n",
        "# Account for test_window offset when plotting\n",
        "plot_time_series(timesteps=X_test[-len(test_windows):], values=test_labels[:, 0], start=offset, format=\"-\", label=\"Test Data\")\n",
        "plot_time_series(timesteps=X_test[-len(test_windows):], values=model_2_preds, start= offset, format= \"-\",label = \"model_2_pred\")  "
      ],
      "metadata": {
        "colab": {
          "base_uri": "https://localhost:8080/",
          "height": 442
        },
        "id": "q66ShCK7PmWp",
        "outputId": "29e18a59-4c33-4864-acb4-6519bed578f2"
      },
      "execution_count": 53,
      "outputs": [
        {
          "output_type": "display_data",
          "data": {
            "text/plain": [
              "<Figure size 720x504 with 1 Axes>"
            ],
            "image/png": "[encoded data removed]"
          },
          "metadata": {
            "needs_background": "light"
          }
        }
      ]
    },
    {
      "cell_type": "markdown",
      "source": [
        "## Model 3: Dense (window = 30, horizon = 7)"
      ],
      "metadata": {
        "id": "GWc2rGeeSU2h"
      }
    },
    {
      "cell_type": "markdown",
      "source": [
        "hizlica ayni islemleri yapiyoruz"
      ],
      "metadata": {
        "id": "hwf--4dJS5P4"
      }
    },
    {
      "cell_type": "code",
      "source": [
        "HORIZON = 7\n",
        "WINDOW_SIZE = 30\n",
        "\n",
        "full_windows, full_labels = make_windows(prices, window_size=WINDOW_SIZE, horizon=HORIZON)\n",
        "len(full_windows), len(full_labels)"
      ],
      "metadata": {
        "colab": {
          "base_uri": "https://localhost:8080/"
        },
        "id": "eQBcZCBtR_eS",
        "outputId": "398ba514-e67a-493a-fa49-8c5022247fe2"
      },
      "execution_count": 54,
      "outputs": [
        {
          "output_type": "execute_result",
          "data": {
            "text/plain": [
              "(2751, 2751)"
            ]
          },
          "metadata": {},
          "execution_count": 54
        }
      ]
    },
    {
      "cell_type": "code",
      "source": [
        "train_windows, test_windows, train_labels, test_labels = make_train_test_splits(windows=full_windows,\n",
        "                                                                                labels=full_labels)\n",
        "len(train_windows), len(test_windows), len(train_labels), len(test_labels)\n"
      ],
      "metadata": {
        "colab": {
          "base_uri": "https://localhost:8080/"
        },
        "id": "FqVNCDDYSYvH",
        "outputId": "a9a27118-36e7-4d8b-c096-858ce7d0dcf1"
      },
      "execution_count": 55,
      "outputs": [
        {
          "output_type": "execute_result",
          "data": {
            "text/plain": [
              "(2200, 551, 2200, 551)"
            ]
          },
          "metadata": {},
          "execution_count": 55
        }
      ]
    },
    {
      "cell_type": "code",
      "source": [
        "# Model \n",
        "model_3 = tf.keras.Sequential([\n",
        "  layers.Dense(128, activation=\"relu\"),\n",
        "  layers.Dense(HORIZON)\n",
        "], name=\"model_3_dense\")\n",
        "\n",
        "# Compile\n",
        "model_3.compile(loss=\"MAE\",\n",
        "                optimizer=tf.keras.optimizers.Adam())\n",
        "\n",
        "# Fit\n",
        "model_3.fit(train_windows,\n",
        "            train_labels,\n",
        "            batch_size=128,\n",
        "            epochs=100,\n",
        "            verbose=0,\n",
        "            validation_data=(test_windows, test_labels),\n",
        "            callbacks=[create_model_checkpoint(model_name=model_3.name)])"
      ],
      "metadata": {
        "colab": {
          "base_uri": "https://localhost:8080/"
        },
        "id": "yOM1jRKjSaJC",
        "outputId": "7855fb63-b508-44ab-8958-aa64f0d76a01"
      },
      "execution_count": 62,
      "outputs": [
        {
          "output_type": "stream",
          "name": "stdout",
          "text": [
            "INFO:tensorflow:Assets written to: model_experiments/model_3_dense/assets\n",
            "INFO:tensorflow:Assets written to: model_experiments/model_3_dense/assets\n",
            "INFO:tensorflow:Assets written to: model_experiments/model_3_dense/assets\n",
            "INFO:tensorflow:Assets written to: model_experiments/model_3_dense/assets\n",
            "INFO:tensorflow:Assets written to: model_experiments/model_3_dense/assets\n",
            "INFO:tensorflow:Assets written to: model_experiments/model_3_dense/assets\n",
            "INFO:tensorflow:Assets written to: model_experiments/model_3_dense/assets\n",
            "INFO:tensorflow:Assets written to: model_experiments/model_3_dense/assets\n",
            "INFO:tensorflow:Assets written to: model_experiments/model_3_dense/assets\n",
            "INFO:tensorflow:Assets written to: model_experiments/model_3_dense/assets\n",
            "INFO:tensorflow:Assets written to: model_experiments/model_3_dense/assets\n",
            "INFO:tensorflow:Assets written to: model_experiments/model_3_dense/assets\n",
            "INFO:tensorflow:Assets written to: model_experiments/model_3_dense/assets\n",
            "INFO:tensorflow:Assets written to: model_experiments/model_3_dense/assets\n",
            "INFO:tensorflow:Assets written to: model_experiments/model_3_dense/assets\n",
            "INFO:tensorflow:Assets written to: model_experiments/model_3_dense/assets\n",
            "INFO:tensorflow:Assets written to: model_experiments/model_3_dense/assets\n",
            "INFO:tensorflow:Assets written to: model_experiments/model_3_dense/assets\n",
            "INFO:tensorflow:Assets written to: model_experiments/model_3_dense/assets\n",
            "INFO:tensorflow:Assets written to: model_experiments/model_3_dense/assets\n",
            "INFO:tensorflow:Assets written to: model_experiments/model_3_dense/assets\n",
            "INFO:tensorflow:Assets written to: model_experiments/model_3_dense/assets\n",
            "INFO:tensorflow:Assets written to: model_experiments/model_3_dense/assets\n",
            "INFO:tensorflow:Assets written to: model_experiments/model_3_dense/assets\n",
            "INFO:tensorflow:Assets written to: model_experiments/model_3_dense/assets\n",
            "INFO:tensorflow:Assets written to: model_experiments/model_3_dense/assets\n",
            "INFO:tensorflow:Assets written to: model_experiments/model_3_dense/assets\n",
            "INFO:tensorflow:Assets written to: model_experiments/model_3_dense/assets\n"
          ]
        },
        {
          "output_type": "execute_result",
          "data": {
            "text/plain": [
              "<keras.callbacks.History at 0x7fcb5d425ed0>"
            ]
          },
          "metadata": {},
          "execution_count": 62
        }
      ]
    },
    {
      "cell_type": "code",
      "source": [
        "#test verisinde degerlendirme\n",
        "model_3.evaluate(test_windows, test_labels)"
      ],
      "metadata": {
        "colab": {
          "base_uri": "https://localhost:8080/"
        },
        "id": "TgAuxVDuSiqZ",
        "outputId": "25da0f13-b43b-4080-af29-9ea2ee2b4bb8"
      },
      "execution_count": 63,
      "outputs": [
        {
          "output_type": "stream",
          "name": "stdout",
          "text": [
            "18/18 [==============================] - 0s 2ms/step - loss: 1451.5640\n"
          ]
        },
        {
          "output_type": "execute_result",
          "data": {
            "text/plain": [
              "1451.56396484375"
            ]
          },
          "metadata": {},
          "execution_count": 63
        }
      ]
    },
    {
      "cell_type": "code",
      "source": [
        "#en iyi performansli modeli alalim\n",
        "model_3 = tf.keras.models.load_model(\"model_experiments/model_3_dense\")\n",
        "model_3.evaluate(test_windows, test_labels)"
      ],
      "metadata": {
        "colab": {
          "base_uri": "https://localhost:8080/"
        },
        "id": "E8wzdgkFSj4Q",
        "outputId": "4c4eeb32-92b0-4886-8d0f-2d14a52366be"
      },
      "execution_count": 58,
      "outputs": [
        {
          "output_type": "stream",
          "name": "stdout",
          "text": [
            "18/18 [==============================] - 0s 2ms/step - loss: 1225.0725\n"
          ]
        },
        {
          "output_type": "execute_result",
          "data": {
            "text/plain": [
              "1225.072509765625"
            ]
          },
          "metadata": {},
          "execution_count": 58
        }
      ]
    },
    {
      "cell_type": "markdown",
      "source": [
        "HORIZON - WINDOW sayisi arttikca goruldugu gibi model daha kotu performans gosteriyor."
      ],
      "metadata": {
        "id": "kaS8BM6aUhJ4"
      }
    },
    {
      "cell_type": "code",
      "source": [
        "model_3_preds = make_preds(model_3,\n",
        "                           input_data=test_windows)\n",
        "model_3_preds[:5]"
      ],
      "metadata": {
        "colab": {
          "base_uri": "https://localhost:8080/"
        },
        "id": "1Y1S4bSwSlOg",
        "outputId": "f46cf296-c906-45de-ae82-cdbd002f886c"
      },
      "execution_count": 59,
      "outputs": [
        {
          "output_type": "execute_result",
          "data": {
            "text/plain": [
              "<tf.Tensor: shape=(5, 7), dtype=float32, numpy=\n",
              "array([[9315.244 , 9500.475 , 9444.725 , 9646.714 , 9521.576 , 9798.976 ,\n",
              "        9539.416 ],\n",
              "       [8954.446 , 9198.7295, 9168.179 , 9395.464 , 9080.252 , 9320.579 ,\n",
              "        9186.945 ],\n",
              "       [8899.025 , 8953.83  , 8986.562 , 9260.812 , 9051.414 , 8911.248 ,\n",
              "        9157.576 ],\n",
              "       [9112.361 , 9226.18  , 9126.239 , 9413.1045, 9411.557 , 9308.665 ,\n",
              "        9196.985 ],\n",
              "       [9079.77  , 8983.34  , 9011.312 , 9027.437 , 9056.427 , 9091.644 ,\n",
              "        8852.652 ]], dtype=float32)>"
            ]
          },
          "metadata": {},
          "execution_count": 59
        }
      ]
    },
    {
      "cell_type": "code",
      "source": [
        "model_3_results = evaluate_preds(y_true=tf.squeeze(test_labels),\n",
        "                                 y_pred=model_3_preds)\n",
        "model_3_results"
      ],
      "metadata": {
        "colab": {
          "base_uri": "https://localhost:8080/"
        },
        "id": "UobKqL2wSq04",
        "outputId": "2dd27857-aeae-4bdf-b696-7625764653d8"
      },
      "execution_count": 60,
      "outputs": [
        {
          "output_type": "execute_result",
          "data": {
            "text/plain": [
              "{'mae': array([ 744.94574 ,  435.11496 ,  379.25433 ,  629.8471  ,  460.3065  ,\n",
              "         405.45053 ,  397.95035 ,  568.5135  ,  594.2739  ,  571.2958  ,\n",
              "         795.9805  ,  790.9246  ,  738.77264 ,  808.35516 ,  628.08075 ,\n",
              "         207.90012 ,  191.50795 ,  256.16672 ,  255.73055 ,  275.8762  ,\n",
              "         177.5256  ,  180.21819 ,  252.75098 ,  311.41608 ,  159.98326 ,\n",
              "          98.60303 ,  136.53215 ,  140.62619 ,  122.300644,  140.2018  ,\n",
              "         348.095   ,  386.37723 ,  327.42773 ,  364.22147 ,  321.4421  ,\n",
              "         251.47496 ,  339.7419  ,  252.58287 ,  205.20222 ,  273.24057 ,\n",
              "         531.80664 ,   79.296524,  103.48298 ,   66.59257 ,   67.66044 ,\n",
              "         139.50188 ,   76.87165 ,   97.55685 ,   64.83363 ,  159.73988 ,\n",
              "         139.80762 ,  120.07129 ,  270.78244 ,  197.35916 ,  253.20451 ,\n",
              "         349.30246 ,  541.1144  ,  462.28564 ,  476.66803 ,  519.4635  ,\n",
              "         349.52545 ,  226.38916 ,  256.0323  ,  404.69183 ,  422.94135 ,\n",
              "         398.12115 ,  429.99875 ,  528.7169  ,  125.42452 ,  287.58008 ,\n",
              "         267.12515 ,  453.74957 ,  676.3891  ,  490.53696 ,  350.9573  ,\n",
              "         352.6211  ,  351.63922 ,  446.23703 ,  540.1529  ,  657.7994  ,\n",
              "         664.25305 ,  413.13547 ,  145.20535 ,  120.871376,  273.3245  ,\n",
              "         270.80356 ,  263.03683 ,  319.7302  ,  362.1815  ,  504.5148  ,\n",
              "         446.94547 ,  318.54672 ,  180.14592 ,  185.86732 ,  271.5173  ,\n",
              "         244.83398 ,  393.5551  ,  612.01825 ,  685.6953  ,  768.7383  ,\n",
              "         462.56793 ,  335.15094 ,  177.6451  ,  451.34543 ,  494.71793 ,\n",
              "         427.06656 ,  494.7959  ,  743.62    , 1084.3262  ,  991.92145 ,\n",
              "         839.696   ,  344.78363 ,  152.42215 ,  217.80608 ,  265.6504  ,\n",
              "         346.78647 ,  368.30182 ,  494.74295 ,  591.33356 , 1059.2373  ,\n",
              "        1725.375   , 2109.013   , 1873.9666  , 1895.5658  , 2275.2012  ,\n",
              "        2481.319   , 1105.6005  ,  513.795   ,  413.93924 ,  414.417   ,\n",
              "         526.76874 ,  463.1736  ,  302.17838 ,  297.26974 ,  188.96268 ,\n",
              "         274.0498  ,  279.51633 ,  298.2899  ,  274.0851  ,  265.00943 ,\n",
              "         206.68192 ,  311.5023  ,  501.944   ,  840.2896  ,  509.72104 ,\n",
              "         211.96547 ,  339.9163  ,  323.19565 ,  305.52643 ,  225.05168 ,\n",
              "         185.77957 ,  259.23306 ,  464.4354  ,  445.9453  ,  626.47736 ,\n",
              "         198.79199 ,  179.58852 ,  179.97697 ,  231.89201 ,  213.9968  ,\n",
              "         256.42877 ,  212.38504 ,  219.73402 ,  233.98814 ,  318.18646 ,\n",
              "         272.71713 ,  627.24316 ,  671.41473 ,  467.31955 ,  591.93463 ,\n",
              "         773.627   ,  865.8881  ,  844.9937  ,  998.20447 ,  268.80484 ,\n",
              "         211.57199 ,  367.8856  ,  385.76785 ,  402.30078 ,  448.1229  ,\n",
              "         486.26813 ,  561.2987  ,  898.7462  , 1025.6979  ,  884.60004 ,\n",
              "         294.87543 ,  537.4346  ,  553.48914 ,  167.26451 ,  287.26758 ,\n",
              "         192.98563 ,  172.62305 ,  339.56403 ,  571.26825 ,  707.81195 ,\n",
              "         689.4146  ,  259.62012 ,  327.9827  ,  321.12836 ,  349.01898 ,\n",
              "         509.46234 ,  670.4795  ,  541.2358  ,  207.18596 ,  187.16518 ,\n",
              "         218.83412 ,  153.20187 ,  553.23895 ,  244.57352 ,  117.6776  ,\n",
              "         156.84291 ,  115.60421 ,  194.05162 ,  315.00864 ,  398.90778 ,\n",
              "         543.7105  ,  549.68054 ,  182.24498 ,  264.05035 ,  242.60254 ,\n",
              "         141.85031 ,  213.07115 ,  223.39565 ,  261.02887 ,  232.78767 ,\n",
              "         141.45926 ,  226.36021 ,  198.35812 ,  446.1582  ,  482.59683 ,\n",
              "         383.04312 ,  188.78795 ,  182.9965  ,   55.68736 ,  110.06822 ,\n",
              "          91.73466 ,  160.06752 ,  165.14592 ,  134.79422 ,  151.37527 ,\n",
              "          85.52748 ,  135.44029 ,   89.52832 ,  100.939316,  233.34334 ,\n",
              "         204.02873 ,  102.79157 ,  123.169785,  200.76242 ,  208.53307 ,\n",
              "         166.93806 ,  164.3743  ,  169.24387 ,  172.13783 ,  242.49094 ,\n",
              "         273.94586 ,  544.72766 ,  636.602   ,  706.9901  ,  882.561   ,\n",
              "        1063.4     , 1260.3756  , 1220.2673  ,  289.38867 ,  170.30734 ,\n",
              "         227.14217 ,  225.04297 ,  227.86049 ,  527.4238  ,  164.48856 ,\n",
              "         142.83398 ,   93.56041 ,  187.1681  ,  464.36188 ,  363.3969  ,\n",
              "         398.5357  ,  362.94058 ,  408.1187  ,  203.57826 ,  216.00027 ,\n",
              "         185.77832 ,  128.405   ,  201.75893 ,  168.86984 ,  682.5126  ,\n",
              "         584.77747 ,  356.57812 ,  414.59738 ,  390.73813 ,  314.12515 ,\n",
              "         293.8598  ,  341.84836 ,  255.63867 ,  147.22084 ,  302.21918 ,\n",
              "         408.2278  ,  682.0293  ,  914.75684 , 1133.6146  , 1487.3402  ,\n",
              "        1421.1439  ,  762.7327  ,  380.7189  ,  160.71736 ,  166.61551 ,\n",
              "         180.31877 ,  362.57504 ,  289.43918 ,  341.92035 ,  303.94754 ,\n",
              "         336.18082 ,  485.785   ,  230.88379 ,   80.01842 ,  314.7705  ,\n",
              "         342.10797 ,  362.83356 ,  427.90836 ,  424.40625 ,  157.96233 ,\n",
              "          96.541855,  281.9534  ,   93.68457 ,  250.87766 ,  275.67258 ,\n",
              "         330.56488 ,  356.38434 ,  284.8164  ,  333.59918 ,  229.64035 ,\n",
              "         175.2373  ,  304.6391  ,  334.58188 ,  401.095   ,  512.85187 ,\n",
              "         620.4351  ,  467.73535 ,  250.11775 ,  159.90723 ,  134.97127 ,\n",
              "         331.07004 ,  312.80984 ,  439.95758 ,  591.83563 ,  735.0618  ,\n",
              "         972.30164 , 1099.7458  ,  986.0674  , 1007.4661  ,  171.17746 ,\n",
              "         334.64133 ,  184.45494 ,  295.76215 ,  257.14774 ,  219.63254 ,\n",
              "         274.3672  ,  141.96414 ,  394.24496 ,  631.15265 ,  624.06085 ,\n",
              "         755.43945 ,  905.9669  , 1027.706   ,  813.7363  ,  346.83273 ,\n",
              "         492.66937 ,  472.6949  ,  378.78656 ,  419.05957 ,  680.4181  ,\n",
              "         677.14954 ,  720.13617 ,  956.1327  , 1274.1925  , 1755.7732  ,\n",
              "        1196.7366  ,  526.0675  ,  360.78683 ,  412.79437 ,  762.2525  ,\n",
              "        1085.3097  , 1078.9473  ,  957.3161  , 1243.8652  , 1230.2079  ,\n",
              "         904.69727 , 1596.7324  , 1162.1035  ,  611.2308  ,  382.66098 ,\n",
              "         432.89566 ,  653.4579  ,  977.3281  ,  602.5817  ,  653.18274 ,\n",
              "         729.74774 ,  748.28015 ,  640.6722  , 1032.6146  , 1574.0052  ,\n",
              "        2068.0898  , 2479.1694  , 2616.8286  , 2820.5571  , 3212.895   ,\n",
              "        2156.891   ,  561.76086 ,  391.57227 ,  972.954   , 1329.5706  ,\n",
              "        1362.3186  , 1833.3685  , 2402.5078  , 2700.7551  , 2684.3274  ,\n",
              "        1899.4406  , 2279.4968  , 2515.8794  , 3237.2344  , 2647.4062  ,\n",
              "        3522.4866  , 5037.721   , 4454.576   , 4266.8657  , 5162.7812  ,\n",
              "        3635.2122  , 2789.8923  , 2958.2122  , 4298.0986  , 5171.686   ,\n",
              "        4600.9697  ,  849.5765  , 1617.0955  , 1230.653   , 3476.178   ,\n",
              "        3137.4983  , 2194.0156  , 2671.9587  , 3491.6482  , 4137.1636  ,\n",
              "        3807.2407  ,  924.6724  , 1814.0178  , 1590.3624  , 1741.9523  ,\n",
              "        1947.714   , 2039.6423  , 3423.056   , 3007.8452  , 1987.1797  ,\n",
              "        2170.933   , 3608.7942  , 5406.7344  , 4578.462   , 4060.852   ,\n",
              "        5639.077   , 6383.979   , 5834.923   , 6828.371   , 3258.433   ,\n",
              "         849.38226 , 1253.5095  , 1596.092   , 2193.4236  , 2322.0269  ,\n",
              "        3270.207   , 3520.6445  , 3223.779   , 2739.7825  , 3480.1858  ,\n",
              "        5802.8643  , 7314.9644  , 9845.766   , 9742.226   , 3505.4927  ,\n",
              "        2126.5435  , 2457.072   , 2232.4536  , 2873.5703  , 4786.4985  ,\n",
              "        1942.4598  , 2850.977   , 2865.904   , 3382.466   , 4577.7124  ,\n",
              "        6812.337   , 6560.413   , 6395.257   , 4106.3154  , 1804.596   ,\n",
              "        1452.8125  , 1462.058   , 2858.8342  , 4603.296   , 1770.7327  ,\n",
              "        1143.1478  , 3982.3208  , 4916.2617  , 4658.6455  , 5227.614   ,\n",
              "        5571.9097  , 2480.0925  , 2048.3628  , 2114.8303  , 4053.2153  ,\n",
              "        3468.2288  , 2396.0352  , 2451.2122  , 2007.5     ,  834.9286  ,\n",
              "        1279.0452  , 1231.1205  , 1449.6713  , 1332.4258  , 1027.3275  ,\n",
              "        1535.472   , 1614.8873  , 2319.8762  , 3150.543   , 2425.48    ,\n",
              "        1457.4197  , 2200.9604  , 2233.8325  , 4410.163   , 5818.52    ,\n",
              "        7804.3447  , 8589.701   , 7970.2944  , 5709.9937  , 4664.948   ,\n",
              "        4566.106   , 3204.7712  , 2180.4436  , 3271.8694  , 3843.323   ,\n",
              "        5362.1553  , 3373.9019  , 1387.7031  , 2033.635   , 2351.4292  ,\n",
              "        1288.3416  , 2049.4731  , 1438.9525  , 1330.1959  , 2038.2852  ,\n",
              "        1368.9006  , 2202.1624  , 3345.2004  , 6679.6475  , 8139.7734  ,\n",
              "        8930.649   ], dtype=float32),\n",
              " 'mape': array([ 8.502241  ,  5.0108933 ,  4.3886595 ,  7.329378  ,  5.415822  ,\n",
              "         4.844656  ,  4.7839317 ,  7.028066  ,  7.6632605 ,  7.546572  ,\n",
              "        10.750894  , 10.810738  , 10.189867  , 11.142857  ,  8.682789  ,\n",
              "         2.8795898 ,  2.587931  ,  3.4058313 ,  3.404828  ,  3.6564875 ,\n",
              "         2.3842695 ,  2.4425995 ,  3.442315  ,  4.2403507 ,  2.1783764 ,\n",
              "         1.3235009 ,  1.844418  ,  1.8822858 ,  1.649525  ,  1.9339433 ,\n",
              "         4.8125577 ,  5.3827376 ,  4.614374  ,  5.279743  ,  4.6971817 ,\n",
              "         3.6732442 ,  4.944667  ,  3.659561  ,  2.9571657 ,  3.8713243 ,\n",
              "         7.343724  ,  1.0983129 ,  1.441134  ,  0.92371535,  0.9373066 ,\n",
              "         1.9297408 ,  1.0621126 ,  1.3481487 ,  0.89406353,  2.2332408 ,\n",
              "         1.9441876 ,  1.6741682 ,  3.7805247 ,  2.7051282 ,  3.3334184 ,\n",
              "         4.504711  ,  6.916208  ,  5.8296146 ,  5.970646  ,  6.4620605 ,\n",
              "         4.328919  ,  2.7134967 ,  3.0847578 ,  4.66947   ,  4.815324  ,\n",
              "         4.536958  ,  4.9065175 ,  5.9973707 ,  1.4288341 ,  3.3174663 ,\n",
              "         3.1106887 ,  5.311014  ,  7.9526916 ,  5.7899017 ,  4.1364613 ,\n",
              "         4.147418  ,  4.086562  ,  4.8921    ,  5.850619  ,  7.0560627 ,\n",
              "         7.1119256 ,  4.4032264 ,  1.543925  ,  1.2923466 ,  2.9297442 ,\n",
              "         2.8935685 ,  2.7583187 ,  3.2792597 ,  3.684814  ,  5.0554495 ,\n",
              "         4.4232855 ,  3.1274524 ,  1.7520719 ,  1.8316994 ,  2.719087  ,\n",
              "         2.4854677 ,  3.9792743 ,  6.2020173 ,  6.9971704 ,  7.8733525 ,\n",
              "         4.765968  ,  3.4640725 ,  1.8085655 ,  4.691208  ,  5.325676  ,\n",
              "         4.725597  ,  5.5565324 ,  8.391456  , 12.3424225 , 11.310668  ,\n",
              "         9.61656   ,  3.9677951 ,  1.7276956 ,  2.4619753 ,  2.9857395 ,\n",
              "         3.923766  ,  4.3552637 ,  6.0552087 ,  7.218612  , 15.35355   ,\n",
              "        26.45349   , 34.38468   , 32.669727  , 34.940712  , 42.310673  ,\n",
              "        46.14061   , 20.72577   ,  9.623802  ,  7.697846  ,  7.428979  ,\n",
              "         8.653837  ,  7.567186  ,  4.7216244 ,  4.730303  ,  3.102289  ,\n",
              "         4.3963428 ,  4.3488317 ,  4.704113  ,  4.45101   ,  4.2548146 ,\n",
              "         3.287706  ,  4.9930367 ,  7.577998  , 12.533858  ,  7.381205  ,\n",
              "         3.0404525 ,  4.777789  ,  4.450556  ,  4.3223352 ,  3.2104056 ,\n",
              "         2.6062598 ,  3.731374  ,  6.697228  ,  6.4820604 ,  9.125508  ,\n",
              "         2.8782506 ,  2.5278752 ,  2.5729175 ,  3.3363082 ,  3.0324237 ,\n",
              "         3.5921938 ,  2.9812212 ,  3.0844483 ,  3.2771797 ,  4.4779487 ,\n",
              "         3.592978  ,  8.231287  ,  8.327302  ,  5.5124607 ,  6.8749485 ,\n",
              "         8.800879  ,  9.808606  ,  9.552679  , 11.240955  ,  2.9590454 ,\n",
              "         2.2337124 ,  3.848923  ,  4.047386  ,  4.2570214 ,  4.786059  ,\n",
              "         5.2370353 ,  6.1974597 , 10.033889  , 11.384891  ,  9.873007  ,\n",
              "         3.243835  ,  5.5996532 ,  5.7544346 ,  1.7322516 ,  3.0709345 ,\n",
              "         2.0739539 ,  1.8360847 ,  3.6951966 ,  6.2484913 ,  7.808668  ,\n",
              "         7.6284227 ,  2.8849196 ,  3.5684083 ,  3.4646864 ,  3.761177  ,\n",
              "         5.2274942 ,  6.905455  ,  5.535748  ,  2.083604  ,  1.8611455 ,\n",
              "         2.232461  ,  1.5416632 ,  5.722634  ,  2.5176973 ,  1.2071599 ,\n",
              "         1.6465266 ,  1.223143  ,  2.0513487 ,  3.331805  ,  4.244231  ,\n",
              "         5.7756023 ,  5.841458  ,  1.9328763 ,  2.8071003 ,  2.5887392 ,\n",
              "         1.5145692 ,  2.270207  ,  2.3688223 ,  2.785874  ,  2.481472  ,\n",
              "         1.4879147 ,  2.4313743 ,  2.1428103 ,  4.8733897 ,  5.270184  ,\n",
              "         4.185319  ,  2.0683763 ,  2.0110552 ,  0.6090219 ,  1.2045451 ,\n",
              "         1.0062617 ,  1.7474672 ,  1.7982814 ,  1.4556149 ,  1.6400007 ,\n",
              "         0.9269206 ,  1.4520792 ,  0.96383446,  1.0909253 ,  2.5244024 ,\n",
              "         2.2102506 ,  1.1169031 ,  1.34065   ,  2.1855607 ,  2.271782  ,\n",
              "         1.8162237 ,  1.7759922 ,  1.8053833 ,  1.8159945 ,  2.5420198 ,\n",
              "         2.8336754 ,  5.23746   ,  5.946329  ,  6.423006  ,  8.026888  ,\n",
              "         9.535442  , 11.14527   , 10.801629  ,  2.5386703 ,  1.4888419 ,\n",
              "         2.0079165 ,  1.9539673 ,  2.015071  ,  4.625205  ,  1.4446293 ,\n",
              "         1.2217072 ,  0.801885  ,  1.6247922 ,  4.0064907 ,  3.129691  ,\n",
              "         3.4266975 ,  3.1258829 ,  3.478604  ,  1.6881306 ,  1.787222  ,\n",
              "         1.5422456 ,  1.0614445 ,  1.6951585 ,  1.4319271 ,  5.828783  ,\n",
              "         5.0191154 ,  3.0869787 ,  3.6067188 ,  3.4086342 ,  2.7449028 ,\n",
              "         2.56679   ,  2.9807777 ,  2.2058427 ,  1.2631739 ,  2.6389973 ,\n",
              "         3.706313  ,  6.4127417 ,  8.728153  , 10.872799  , 14.357172  ,\n",
              "        13.827485  ,  7.4570723 ,  3.747324  ,  1.5554408 ,  1.6173217 ,\n",
              "         1.7362427 ,  3.4358575 ,  2.6809704 ,  3.1591673 ,  2.7933502 ,\n",
              "         3.0893679 ,  4.4441395 ,  2.1072614 ,  0.74639094,  2.9735978 ,\n",
              "         3.253589  ,  3.4396641 ,  4.0653205 ,  4.025802  ,  1.5069333 ,\n",
              "         0.92487174,  2.6222954 ,  0.87061626,  2.3483179 ,  2.590411  ,\n",
              "         3.1054695 ,  3.352663  ,  2.6807666 ,  3.142164  ,  2.1518996 ,\n",
              "         1.6206291 ,  2.7500691 ,  2.9899688 ,  3.5614111 ,  4.518982  ,\n",
              "         5.439144  ,  4.087538  ,  2.1745238 ,  1.3971403 ,  1.181181  ,\n",
              "         2.901041  ,  2.7231896 ,  3.5645    ,  4.709146  ,  5.718156  ,\n",
              "         7.5139723 ,  8.466717  ,  7.552444  ,  7.6314635 ,  1.2855067 ,\n",
              "         2.5462005 ,  1.3984832 ,  2.1985188 ,  1.8914332 ,  1.6010847 ,\n",
              "         2.028036  ,  1.0247886 ,  2.6723108 ,  4.1687546 ,  4.182159  ,\n",
              "         5.002835  ,  5.917172  ,  6.696701  ,  5.2526083 ,  2.2285933 ,\n",
              "         3.21327   ,  2.9460435 ,  2.3758268 ,  2.5601366 ,  4.0272484 ,\n",
              "         3.906968  ,  4.1414714 ,  5.4688263 ,  7.0720186 ,  9.639514  ,\n",
              "         6.5212884 ,  2.8174226 ,  1.929454  ,  2.3007393 ,  4.3619394 ,\n",
              "         6.179661  ,  6.13313   ,  5.4444637 ,  7.06748   ,  6.9966593 ,\n",
              "         4.805271  ,  8.390625  ,  6.067181  ,  3.1797218 ,  2.010548  ,\n",
              "         2.2910178 ,  3.4747453 ,  5.2117543 ,  3.2550592 ,  3.5328712 ,\n",
              "         3.9604902 ,  4.055552  ,  3.4279044 ,  5.2025523 ,  7.484142  ,\n",
              "         9.4719095 , 10.981984  , 11.357001  , 12.189706  , 13.8515625 ,\n",
              "         9.239409  ,  2.3826706 ,  1.6470442 ,  4.019491  ,  5.362497  ,\n",
              "         5.2521343 ,  6.975953  ,  8.86762   ,  9.784137  ,  9.524736  ,\n",
              "         6.3240843 ,  7.3802567 ,  8.033926  , 10.049387  ,  7.7511234 ,\n",
              "         9.754855  , 13.507631  , 11.547893  , 11.078553  , 13.31216   ,\n",
              "         9.237923  ,  7.3546386 ,  8.251456  , 11.913066  , 14.414318  ,\n",
              "        12.860489  ,  2.3574412 ,  4.3704195 ,  3.3566892 , 10.237521  ,\n",
              "         9.444712  ,  6.78493   ,  8.342544  , 10.8121805 , 12.889738  ,\n",
              "        12.010061  ,  2.8119595 ,  5.445723  ,  4.7060394 ,  5.2084503 ,\n",
              "         5.79112   ,  6.009268  ,  9.713021  ,  8.370165  ,  5.4377923 ,\n",
              "         5.8584175 ,  9.443132  , 13.444749  , 10.636468  ,  9.133774  ,\n",
              "        12.462072  , 13.834153  , 12.659231  , 14.502713  ,  6.828827  ,\n",
              "         1.7894818 ,  2.5162363 ,  3.181896  ,  4.250753  ,  4.330611  ,\n",
              "         6.05632   ,  6.402563  ,  5.9550915 ,  5.2657027 ,  6.8982124 ,\n",
              "        12.046879  , 15.289537  , 20.870008  , 20.71388   ,  7.5161576 ,\n",
              "         4.5602927 ,  5.191171  ,  4.551683  ,  5.857279  ,  9.660062  ,\n",
              "         3.8802173 ,  5.4780803 ,  5.350372  ,  6.117573  ,  8.171749  ,\n",
              "        11.88201   , 11.205153  , 10.989833  ,  7.002069  ,  3.0418506 ,\n",
              "         2.4645643 ,  2.4839907 ,  4.959927  ,  7.984193  ,  3.147389  ,\n",
              "         2.054875  ,  7.2637978 ,  9.085898  ,  8.66577   ,  9.672308  ,\n",
              "        10.328117  ,  4.6201787 ,  3.7156146 ,  3.7078772 ,  7.016845  ,\n",
              "         5.9383025 ,  4.1175017 ,  4.1859655 ,  3.4236047 ,  1.4324852 ,\n",
              "         2.2194815 ,  2.1335716 ,  2.517767  ,  2.312159  ,  1.7627288 ,\n",
              "         2.6334317 ,  2.7119606 ,  3.7650585 ,  5.0685697 ,  3.8858287 ,\n",
              "         2.320542  ,  3.6129792 ,  3.8054678 ,  7.654578  , 10.27969   ,\n",
              "        14.046194  , 15.881434  , 15.035261  , 11.100056  ,  9.133491  ,\n",
              "         8.9545145 ,  6.3383045 ,  4.224152  ,  6.0424285 ,  6.975427  ,\n",
              "         9.602805  ,  5.9823804 ,  2.4714057 ,  3.6363344 ,  4.1242065 ,\n",
              "         2.303673  ,  3.6548045 ,  2.5459294 ,  2.360254  ,  3.5396948 ,\n",
              "         2.4559813 ,  4.209871  ,  6.5680356 , 13.238613  , 16.55961   ,\n",
              "        18.959156  ], dtype=float32),\n",
              " 'mase': 2.179948,\n",
              " 'mse': array([6.04308562e+05, 2.38607594e+05, 1.71742109e+05, 4.37186312e+05,\n",
              "        2.32835453e+05, 2.00891703e+05, 1.66424578e+05, 3.78996250e+05,\n",
              "        5.07057750e+05, 4.63074344e+05, 8.20935875e+05, 7.83510000e+05,\n",
              "        6.23811625e+05, 7.00263312e+05, 4.18092156e+05, 6.82856016e+04,\n",
              "        4.78838945e+04, 8.89986094e+04, 8.53916094e+04, 1.11788945e+05,\n",
              "        4.18293008e+04, 4.83384883e+04, 8.10064766e+04, 1.14970023e+05,\n",
              "        3.64265391e+04, 1.74014004e+04, 2.44012148e+04, 3.29047930e+04,\n",
              "        2.30056816e+04, 2.88632129e+04, 1.34104328e+05, 1.62298031e+05,\n",
              "        1.26562320e+05, 1.86150781e+05, 1.97688625e+05, 1.18405789e+05,\n",
              "        1.78763531e+05, 9.46436406e+04, 6.49465508e+04, 9.58847031e+04,\n",
              "        2.89110688e+05, 8.74546973e+03, 1.87026035e+04, 6.27901465e+03,\n",
              "        6.88133740e+03, 2.82708926e+04, 9.33147168e+03, 1.13477510e+04,\n",
              "        5.94465625e+03, 3.30233516e+04, 2.16667344e+04, 1.78718223e+04,\n",
              "        9.03882344e+04, 5.30280703e+04, 1.22465945e+05, 1.92755609e+05,\n",
              "        3.88665250e+05, 2.79981688e+05, 2.83151688e+05, 3.01526312e+05,\n",
              "        1.33425797e+05, 1.17083234e+05, 8.42327031e+04, 2.91378062e+05,\n",
              "        2.93673656e+05, 2.04741703e+05, 2.02098422e+05, 3.16052344e+05,\n",
              "        2.14644492e+04, 1.22046695e+05, 1.05039945e+05, 2.65083938e+05,\n",
              "        4.95915781e+05, 2.95583438e+05, 1.55770422e+05, 1.61991422e+05,\n",
              "        1.55214281e+05, 2.98703156e+05, 3.83918469e+05, 5.40072688e+05,\n",
              "        4.76635719e+05, 1.99864859e+05, 3.23627695e+04, 2.23457500e+04,\n",
              "        9.83805000e+04, 1.04543734e+05, 8.78985703e+04, 1.50958016e+05,\n",
              "        1.71886969e+05, 3.07665156e+05, 2.47553031e+05, 1.42525781e+05,\n",
              "        5.60662695e+04, 3.94374922e+04, 1.09540742e+05, 1.12491727e+05,\n",
              "        2.43671797e+05, 4.55639656e+05, 5.41655000e+05, 6.17330062e+05,\n",
              "        2.44224250e+05, 1.55004219e+05, 4.50418672e+04, 2.22967250e+05,\n",
              "        3.65648062e+05, 3.24903594e+05, 4.20603062e+05, 7.33417375e+05,\n",
              "        1.35826625e+06, 1.04554519e+06, 7.31380688e+05, 1.55281734e+05,\n",
              "        4.08486875e+04, 8.35789609e+04, 8.75544219e+04, 1.43001328e+05,\n",
              "        1.75888391e+05, 3.99376094e+05, 4.17947594e+05, 2.01935200e+06,\n",
              "        4.32125850e+06, 5.79445700e+06, 4.83187950e+06, 4.78249900e+06,\n",
              "        6.12489850e+06, 6.22510150e+06, 1.40233275e+06, 3.39877188e+05,\n",
              "        2.79022688e+05, 2.45113422e+05, 3.52514562e+05, 2.41767078e+05,\n",
              "        1.02759539e+05, 1.04655297e+05, 1.00616648e+05, 1.30273180e+05,\n",
              "        1.12240539e+05, 1.20521570e+05, 1.71105172e+05, 1.14943805e+05,\n",
              "        6.93887344e+04, 1.74765219e+05, 3.35266812e+05, 7.37249062e+05,\n",
              "        3.43075250e+05, 5.13818398e+04, 1.54702875e+05, 1.71851500e+05,\n",
              "        1.04169523e+05, 8.74059453e+04, 4.96369727e+04, 1.02053516e+05,\n",
              "        2.96521969e+05, 2.38925391e+05, 4.93443562e+05, 4.74722773e+04,\n",
              "        5.66968477e+04, 4.00048047e+04, 6.76373672e+04, 5.40086680e+04,\n",
              "        8.28671641e+04, 5.90510352e+04, 7.06558281e+04, 7.44699219e+04,\n",
              "        1.47922734e+05, 1.12423562e+05, 4.49800906e+05, 7.02848688e+05,\n",
              "        4.65768938e+05, 6.12612625e+05, 9.72467812e+05, 1.01447031e+06,\n",
              "        8.17220938e+05, 1.01181219e+06, 1.16849805e+05, 1.06818930e+05,\n",
              "        2.06037266e+05, 2.08382016e+05, 1.92139469e+05, 2.44767219e+05,\n",
              "        2.68607875e+05, 3.99986438e+05, 1.10891575e+06, 1.20824400e+06,\n",
              "        9.72321125e+05, 1.36086594e+05, 3.73048562e+05, 3.42794312e+05,\n",
              "        4.75627695e+04, 1.37570328e+05, 6.46224453e+04, 4.33133398e+04,\n",
              "        1.86079969e+05, 3.97655531e+05, 5.44535188e+05, 5.04509438e+05,\n",
              "        1.23626211e+05, 1.32639469e+05, 1.35525672e+05, 1.40972969e+05,\n",
              "        4.13568406e+05, 5.70049062e+05, 3.89827562e+05, 9.09496406e+04,\n",
              "        1.14381633e+05, 7.64017734e+04, 5.04552109e+04, 3.38859844e+05,\n",
              "        8.27473750e+04, 1.71238262e+04, 4.62231680e+04, 3.66394453e+04,\n",
              "        6.47005703e+04, 1.33854781e+05, 2.22071859e+05, 3.43631094e+05,\n",
              "        3.19195906e+05, 4.22018125e+04, 7.23028750e+04, 8.31885703e+04,\n",
              "        2.49107012e+04, 6.01142109e+04, 5.52353320e+04, 8.25425078e+04,\n",
              "        6.91949922e+04, 3.46103320e+04, 5.85985039e+04, 5.45573008e+04,\n",
              "        2.46601359e+05, 2.48458141e+05, 1.52704375e+05, 4.12001133e+04,\n",
              "        4.36806680e+04, 4.12635596e+03, 1.81098008e+04, 1.12350732e+04,\n",
              "        2.83975176e+04, 3.63242109e+04, 2.38169824e+04, 2.97533027e+04,\n",
              "        8.55323145e+03, 2.70048125e+04, 1.12926260e+04, 1.50476230e+04,\n",
              "        5.68117578e+04, 5.77394062e+04, 1.46717520e+04, 2.21024883e+04,\n",
              "        4.94406875e+04, 4.88656602e+04, 2.95923086e+04, 3.28884805e+04,\n",
              "        4.21201875e+04, 4.67190352e+04, 7.90378906e+04, 1.06395305e+05,\n",
              "        6.40402938e+05, 8.45286625e+05, 9.85164812e+05, 1.15170200e+06,\n",
              "        1.51868238e+06, 1.89554462e+06, 1.54359000e+06, 1.13292773e+05,\n",
              "        4.86658828e+04, 6.88430156e+04, 6.37693672e+04, 8.46012422e+04,\n",
              "        3.27494562e+05, 5.23333398e+04, 2.77752656e+04, 1.09295000e+04,\n",
              "        6.35680820e+04, 2.79164156e+05, 1.52129031e+05, 1.98462344e+05,\n",
              "        1.85066234e+05, 1.90283984e+05, 7.37495859e+04, 7.67683828e+04,\n",
              "        5.36980703e+04, 3.83691445e+04, 6.03258555e+04, 3.24925410e+04,\n",
              "        5.29845875e+05, 3.48094281e+05, 1.59100531e+05, 1.97178422e+05,\n",
              "        1.85747609e+05, 1.32538797e+05, 1.08932234e+05, 1.24583828e+05,\n",
              "        8.99214609e+04, 3.54465664e+04, 1.68352203e+05, 2.54880875e+05,\n",
              "        7.51272625e+05, 1.19046425e+06, 1.60328888e+06, 2.35161450e+06,\n",
              "        2.06871025e+06, 6.15530438e+05, 1.98950703e+05, 3.67505078e+04,\n",
              "        4.16399023e+04, 4.91983828e+04, 1.68518578e+05, 1.56704781e+05,\n",
              "        1.76491469e+05, 1.39807703e+05, 1.33558516e+05, 2.61497891e+05,\n",
              "        7.21150703e+04, 1.29208174e+04, 1.32651672e+05, 1.81855141e+05,\n",
              "        1.70702375e+05, 2.30521641e+05, 2.11094078e+05, 4.88095391e+04,\n",
              "        2.77437598e+04, 8.36042969e+04, 1.32511006e+04, 8.16035859e+04,\n",
              "        1.02906000e+05, 1.26741500e+05, 1.59648750e+05, 9.23908047e+04,\n",
              "        1.20507570e+05, 5.60027500e+04, 5.31133555e+04, 1.77772016e+05,\n",
              "        2.02266016e+05, 2.29999969e+05, 3.37804594e+05, 4.59353312e+05,\n",
              "        2.44806422e+05, 9.43624844e+04, 3.78136641e+04, 2.56792012e+04,\n",
              "        1.32678625e+05, 1.16851320e+05, 4.37014312e+05, 6.40558812e+05,\n",
              "        9.66899812e+05, 1.38456912e+06, 1.53992800e+06, 1.15216950e+06,\n",
              "        1.09205225e+06, 4.55427266e+04, 1.37106891e+05, 4.72810430e+04,\n",
              "        1.10196117e+05, 9.08105469e+04, 7.98118984e+04, 9.79605234e+04,\n",
              "        3.77604961e+04, 4.44910406e+05, 9.15399875e+05, 6.35878688e+05,\n",
              "        8.30188562e+05, 1.12571762e+06, 1.26553400e+06, 7.66932000e+05,\n",
              "        1.69955094e+05, 3.48683750e+05, 3.33696531e+05, 1.68308172e+05,\n",
              "        3.26105906e+05, 8.95876000e+05, 8.93085688e+05, 7.72966562e+05,\n",
              "        1.19599988e+06, 2.08883512e+06, 3.51493225e+06, 1.56736025e+06,\n",
              "        4.27003438e+05, 1.61965969e+05, 3.98578750e+05, 1.18276462e+06,\n",
              "        1.84185225e+06, 1.67432025e+06, 1.40508062e+06, 2.28457450e+06,\n",
              "        2.30776050e+06, 1.04390431e+06, 2.92872425e+06, 1.57747938e+06,\n",
              "        4.84198719e+05, 2.41177531e+05, 3.07475562e+05, 5.87928938e+05,\n",
              "        1.07213825e+06, 4.85776906e+05, 5.90026938e+05, 8.45237625e+05,\n",
              "        8.25848812e+05, 4.93401281e+05, 1.73584900e+06, 4.39246800e+06,\n",
              "        7.19348100e+06, 9.56471900e+06, 9.81253900e+06, 9.82026300e+06,\n",
              "        1.08799450e+07, 4.75893450e+06, 4.67815344e+05, 2.32271031e+05,\n",
              "        1.34846300e+06, 2.13107425e+06, 3.08476575e+06, 4.76293500e+06,\n",
              "        7.93886750e+06, 8.95472500e+06, 8.73103900e+06, 6.47595200e+06,\n",
              "        7.96863250e+06, 9.01705800e+06, 1.39709980e+07, 1.20172060e+07,\n",
              "        2.09289560e+07, 3.63815880e+07, 2.85085140e+07, 2.25803740e+07,\n",
              "        3.22710400e+07, 1.92309980e+07, 9.01417100e+06, 1.36774750e+07,\n",
              "        2.24900800e+07, 3.01446540e+07, 2.26105420e+07, 1.11363012e+06,\n",
              "        3.06566375e+06, 1.85435212e+06, 1.67869500e+07, 1.52972230e+07,\n",
              "        8.51037700e+06, 1.16990470e+07, 1.52898650e+07, 2.00316060e+07,\n",
              "        1.53521190e+07, 1.44453600e+06, 6.37618250e+06, 5.05731250e+06,\n",
              "        4.07679375e+06, 5.05354000e+06, 5.06324550e+06, 1.46445330e+07,\n",
              "        1.15180730e+07, 5.41180550e+06, 6.77323900e+06, 1.68723980e+07,\n",
              "        3.99463920e+07, 3.60025320e+07, 2.87601120e+07, 4.55253760e+07,\n",
              "        5.28138600e+07, 3.74049200e+07, 4.84618000e+07, 1.24059770e+07,\n",
              "        1.07186575e+06, 2.81162850e+06, 4.12537675e+06, 7.25713500e+06,\n",
              "        9.12300900e+06, 1.47480860e+07, 1.68225400e+07, 1.23630390e+07,\n",
              "        9.59832200e+06, 1.79767460e+07, 5.04962600e+07, 6.66708160e+07,\n",
              "        1.06452944e+08, 1.00472568e+08, 1.53103580e+07, 7.41681150e+06,\n",
              "        6.71287100e+06, 6.80768450e+06, 9.70946100e+06, 2.56821660e+07,\n",
              "        4.70826050e+06, 1.43329620e+07, 1.38739150e+07, 1.91680460e+07,\n",
              "        3.15436700e+07, 6.10814000e+07, 5.68089600e+07, 4.47971000e+07,\n",
              "        2.07882380e+07, 5.39971450e+06, 3.19007150e+06, 2.79061350e+06,\n",
              "        1.03304380e+07, 2.17934720e+07, 6.25020550e+06, 2.46552275e+06,\n",
              "        2.36831240e+07, 3.20757320e+07, 2.82965500e+07, 3.03903220e+07,\n",
              "        3.36334360e+07, 9.03820100e+06, 6.14788550e+06, 6.10262850e+06,\n",
              "        1.93599220e+07, 1.51233510e+07, 6.13724450e+06, 7.22922950e+06,\n",
              "        4.29720400e+06, 9.62016938e+05, 2.38649850e+06, 1.86486162e+06,\n",
              "        2.66283600e+06, 2.53549225e+06, 1.70658288e+06, 3.08070050e+06,\n",
              "        4.88833700e+06, 8.61788900e+06, 1.41580190e+07, 8.12401850e+06,\n",
              "        4.25608950e+06, 6.44845500e+06, 8.58586100e+06, 2.98067040e+07,\n",
              "        4.57459200e+07, 6.96954960e+07, 8.26271360e+07, 6.95025200e+07,\n",
              "        3.82953080e+07, 2.70010100e+07, 2.58978020e+07, 1.57438050e+07,\n",
              "        6.41427500e+06, 1.33806010e+07, 1.73472960e+07, 3.15796840e+07,\n",
              "        1.25824340e+07, 2.48111475e+06, 5.00281350e+06, 6.39258900e+06,\n",
              "        2.73588950e+06, 5.56577600e+06, 3.21343175e+06, 3.49759150e+06,\n",
              "        5.23968000e+06, 3.07286800e+06, 1.12008870e+07, 2.29214120e+07,\n",
              "        6.29165000e+07, 8.13173040e+07, 9.99172480e+07], dtype=float32),\n",
              " 'rmse': array([  777.37286 ,   488.4748  ,   414.41782 ,   661.2006  ,\n",
              "          482.53027 ,   448.20944 ,   407.9517  ,   615.6267  ,\n",
              "          712.0799  ,   680.4956  ,   906.0551  ,   885.161   ,\n",
              "          789.81744 ,   836.8174  ,   646.60046 ,   261.31516 ,\n",
              "          218.8239  ,   298.32632 ,   292.2184  ,   334.34854 ,\n",
              "          204.52214 ,   219.86015 ,   284.61636 ,   339.0723  ,\n",
              "          190.85738 ,   131.91437 ,   156.20888 ,   181.39679 ,\n",
              "          151.67624 ,   169.89177 ,   366.2026  ,   402.86227 ,\n",
              "          355.75598 ,   431.45193 ,   444.62192 ,   344.10144 ,\n",
              "          422.80435 ,   307.64206 ,   254.84613 ,   309.65256 ,\n",
              "          537.6901  ,    93.51722 ,   136.75746 ,    79.240234,\n",
              "           82.95383 ,   168.13951 ,    96.59955 ,   106.52582 ,\n",
              "           77.1016  ,   181.72328 ,   147.19624 ,   133.68555 ,\n",
              "          300.64636 ,   230.27824 ,   349.95135 ,   439.03943 ,\n",
              "          623.43024 ,   529.13293 ,   532.12    ,   549.11414 ,\n",
              "          365.27496 ,   342.1743  ,   290.2287  ,   539.7945  ,\n",
              "          541.9167  ,   452.48395 ,   449.55356 ,   562.1853  ,\n",
              "          146.5075  ,   349.3518  ,   324.09866 ,   514.86304 ,\n",
              "          704.2129  ,   543.67584 ,   394.6776  ,   402.48157 ,\n",
              "          393.97247 ,   546.5375  ,   619.6116  ,   734.89636 ,\n",
              "          690.3881  ,   447.06247 ,   179.89656 ,   149.48495 ,\n",
              "          313.65665 ,   323.33224 ,   296.47693 ,   388.53317 ,\n",
              "          414.59256 ,   554.6757  ,   497.54697 ,   377.52588 ,\n",
              "          236.78317 ,   198.58876 ,   330.9694  ,   335.3979  ,\n",
              "          493.63123 ,   675.01086 ,   735.9721  ,   785.7035  ,\n",
              "          494.19052 ,   393.70578 ,   212.2307  ,   472.19406 ,\n",
              "          604.68835 ,   570.0032  ,   648.5392  ,   856.3979  ,\n",
              "         1165.4468  ,  1022.519   ,   855.208   ,   394.05807 ,\n",
              "          202.1106  ,   289.10028 ,   295.89597 ,   378.15518 ,\n",
              "          419.3905  ,   631.9621  ,   646.48865 ,  1421.0391  ,\n",
              "         2078.7637  ,  2407.168   ,  2198.1538  ,  2186.8926  ,\n",
              "         2474.8533  ,  2495.0154  ,  1184.2013  ,   582.98987 ,\n",
              "          528.22595 ,   495.08932 ,   593.7294  ,   491.69818 ,\n",
              "          320.56128 ,   323.5047  ,   317.2013  ,   360.93375 ,\n",
              "          335.0232  ,   347.16217 ,   413.64862 ,   339.03363 ,\n",
              "          263.41742 ,   418.0493  ,   579.0223  ,   858.6321  ,\n",
              "          585.72626 ,   226.67563 ,   393.32288 ,   414.54977 ,\n",
              "          322.75302 ,   295.64496 ,   222.79355 ,   319.45816 ,\n",
              "          544.53827 ,   488.79996 ,   702.4554  ,   217.88135 ,\n",
              "          238.11101 ,   200.01202 ,   260.07187 ,   232.39764 ,\n",
              "          287.86658 ,   243.00418 ,   265.81165 ,   272.89178 ,\n",
              "          384.60727 ,   335.29623 ,   670.672   ,   838.3607  ,\n",
              "          682.47266 ,   782.6958  ,   986.1379  ,  1007.2092  ,\n",
              "          904.00275 ,  1005.88873 ,   341.833   ,   326.83167 ,\n",
              "          453.91327 ,   456.48883 ,   438.33716 ,   494.73956 ,\n",
              "          518.2739  ,   632.4448  ,  1053.0507  ,  1099.2015  ,\n",
              "          986.06354 ,   368.89917 ,   610.777   ,   585.4864  ,\n",
              "          218.0889  ,   370.90472 ,   254.20946 ,   208.11856 ,\n",
              "          431.36987 ,   630.59937 ,   737.9263  ,   710.2883  ,\n",
              "          351.6052  ,   364.19702 ,   368.1381  ,   375.46368 ,\n",
              "          643.09283 ,   755.016   ,   624.36176 ,   301.57858 ,\n",
              "          338.20352 ,   276.40872 ,   224.62238 ,   582.1167  ,\n",
              "          287.65845 ,   130.85805 ,   214.99574 ,   191.41435 ,\n",
              "          254.36307 ,   365.86172 ,   471.24503 ,   586.20056 ,\n",
              "          564.97424 ,   205.4308  ,   268.89194 ,   288.4243  ,\n",
              "          157.83125 ,   245.18199 ,   235.022   ,   287.30212 ,\n",
              "          263.04944 ,   186.03853 ,   242.07126 ,   233.57506 ,\n",
              "          496.58972 ,   498.45578 ,   390.77408 ,   202.9781  ,\n",
              "          208.99919 ,    64.23672 ,   134.57266 ,   105.995636,\n",
              "          168.51564 ,   190.58911 ,   154.32753 ,   172.49146 ,\n",
              "           92.48369 ,   164.3314  ,   106.26677 ,   122.668755,\n",
              "          238.35219 ,   240.29025 ,   121.12701 ,   148.66907 ,\n",
              "          222.35263 ,   221.05577 ,   172.02415 ,   181.3518  ,\n",
              "          205.23203 ,   216.14586 ,   281.13678 ,   326.18292 ,\n",
              "          800.2518  ,   919.39465 ,   992.5547  ,  1073.1738  ,\n",
              "         1232.3484  ,  1376.7878  ,  1242.413   ,   336.58994 ,\n",
              "          220.60344 ,   262.37952 ,   252.52597 ,   290.86295 ,\n",
              "          572.2714  ,   228.76482 ,   166.65912 ,   104.54424 ,\n",
              "          252.12712 ,   528.35986 ,   390.0372  ,   445.49112 ,\n",
              "          430.19327 ,   436.21555 ,   271.56876 ,   277.07108 ,\n",
              "          231.72845 ,   195.88045 ,   245.61324 ,   180.25688 ,\n",
              "          727.90515 ,   589.9951  ,   398.87408 ,   444.0478  ,\n",
              "          430.9845  ,   364.0588  ,   330.04883 ,   352.96436 ,\n",
              "          299.86908 ,   188.27258 ,   410.30743 ,   504.85727 ,\n",
              "          866.7599  ,  1091.084   ,  1266.2104  ,  1533.4974  ,\n",
              "         1438.3011  ,   784.5575  ,   446.0389  ,   191.70422 ,\n",
              "          204.05858 ,   221.80708 ,   410.51016 ,   395.85956 ,\n",
              "          420.1089  ,   373.9087  ,   365.4566  ,   511.36862 ,\n",
              "          268.54248 ,   113.66977 ,   364.21378 ,   426.4448  ,\n",
              "          413.16144 ,   480.1267  ,   459.44974 ,   220.9288  ,\n",
              "          166.56458 ,   289.14407 ,   115.113434,   285.66342 ,\n",
              "          320.78964 ,   356.00772 ,   399.56067 ,   303.95856 ,\n",
              "          347.142   ,   236.649   ,   230.46336 ,   421.6302  ,\n",
              "          449.73993 ,   479.58313 ,   581.20966 ,   677.7561  ,\n",
              "          494.77917 ,   307.18475 ,   194.45737 ,   160.24731 ,\n",
              "          364.25076 ,   341.83524 ,   661.0706  ,   800.34924 ,\n",
              "          983.31067 ,  1176.6771  ,  1240.9384  ,  1073.3916  ,\n",
              "         1045.0131  ,   213.40742 ,   370.27948 ,   217.44205 ,\n",
              "          331.958   ,   301.3479  ,   282.51    ,   312.98645 ,\n",
              "          194.3206  ,   667.01605 ,   956.7653  ,   797.42004 ,\n",
              "          911.14685 ,  1060.9984  ,  1124.9595  ,   875.7466  ,\n",
              "          412.2561  ,   590.4945  ,   577.66473 ,   410.25378 ,\n",
              "          571.0568  ,   946.5072  ,   945.0321  ,   879.1852  ,\n",
              "         1093.6179  ,  1445.2804  ,  1874.8152  ,  1251.9426  ,\n",
              "          653.455   ,   402.44995 ,   631.33093 ,  1087.5498  ,\n",
              "         1357.1486  ,  1293.9552  ,  1185.361   ,  1511.481   ,\n",
              "         1519.1315  ,  1021.7163  ,  1711.3517  ,  1255.9774  ,\n",
              "          695.8439  ,   491.0983  ,   554.5048  ,   766.76526 ,\n",
              "         1035.4412  ,   696.977   ,   768.1321  ,   919.368   ,\n",
              "          908.76227 ,   702.4253  ,  1317.5161  ,  2095.8218  ,\n",
              "         2682.0667  ,  3092.688   ,  3132.4976  ,  3133.73    ,\n",
              "         3298.4763  ,  2181.4983  ,   683.9703  ,   481.94507 ,\n",
              "         1161.2334  ,  1459.8201  ,  1756.3502  ,  2182.415   ,\n",
              "         2817.5996  ,  2992.4448  ,  2954.8333  ,  2544.7893  ,\n",
              "         2822.8767  ,  3002.8418  ,  3737.7798  ,  3466.5842  ,\n",
              "         4574.818   ,  6031.7153  ,  5339.3364  ,  4751.8813  ,\n",
              "         5680.7607  ,  4385.316   ,  3002.361   ,  3698.307   ,\n",
              "         4742.371   ,  5490.415   ,  4755.0547  ,  1055.2867  ,\n",
              "         1750.9037  ,  1361.746   ,  4097.188   ,  3911.1665  ,\n",
              "         2917.255   ,  3420.3872  ,  3910.226   ,  4475.6685  ,\n",
              "         3918.1777  ,  1201.8885  ,  2525.1104  ,  2248.847   ,\n",
              "         2019.107   ,  2248.0078  ,  2250.1655  ,  3826.8174  ,\n",
              "         3393.8286  ,  2326.3289  ,  2602.5447  ,  4107.602   ,\n",
              "         6320.3154  ,  6000.2114  ,  5362.8457  ,  6747.2495  ,\n",
              "         7267.3145  ,  6115.956   ,  6961.4507  ,  3522.212   ,\n",
              "         1035.3096  ,  1676.7913  ,  2031.1023  ,  2693.9072  ,\n",
              "         3020.432   ,  3840.3237  ,  4101.529   ,  3516.1113  ,\n",
              "         3098.116   ,  4239.8994  ,  7106.0723  ,  8165.2197  ,\n",
              "        10317.604   , 10023.602   ,  3912.8452  ,  2723.3823  ,\n",
              "         2590.921   ,  2609.154   ,  3116.0007  ,  5067.7573  ,\n",
              "         2169.8525  ,  3785.89    ,  3724.7705  ,  4378.133   ,\n",
              "         5616.375   ,  7815.46    ,  7537.172   ,  6693.0635  ,\n",
              "         4559.412   ,  2323.7285  ,  1786.0771  ,  1670.513   ,\n",
              "         3214.1     ,  4668.3477  ,  2500.0413  ,  1570.1982  ,\n",
              "         4866.5312  ,  5663.544   ,  5319.45    ,  5512.7417  ,\n",
              "         5799.434   ,  3006.3599  ,  2479.4932  ,  2470.3499  ,\n",
              "         4399.991   ,  3888.8752  ,  2477.3464  ,  2688.7227  ,\n",
              "         2072.9697  ,   980.82465 ,  1544.8296  ,  1365.5994  ,\n",
              "         1631.8198  ,  1592.3229  ,  1306.3624  ,  1755.1925  ,\n",
              "         2210.9585  ,  2935.6243  ,  3762.7144  ,  2850.2666  ,\n",
              "         2063.029   ,  2539.3809  ,  2930.1643  ,  5459.552   ,\n",
              "         6763.5728  ,  8348.383   ,  9089.947   ,  8336.817   ,\n",
              "         6188.3203  ,  5196.2495  ,  5088.989   ,  3967.8467  ,\n",
              "         2532.6418  ,  3657.9504  ,  4165.0083  ,  5619.5806  ,\n",
              "         3547.1729  ,  1575.1556  ,  2236.697   ,  2528.357   ,\n",
              "         1654.0525  ,  2359.1897  ,  1792.6046  ,  1870.1848  ,\n",
              "         2289.035   ,  1752.9598  ,  3346.7727  ,  4787.6313  ,\n",
              "         7931.9927  ,  9017.61    ,  9995.862   ], dtype=float32)}"
            ]
          },
          "metadata": {},
          "execution_count": 60
        }
      ]
    },
    {
      "cell_type": "markdown",
      "source": [
        "model 3 un sonuclarinin bU kadar fazla cikmasi HORIZON sayisnin artmasiyla artan dimension sayisi bunu da cozecez"
      ],
      "metadata": {
        "id": "RZzSCX1DVAuj"
      }
    },
    {
      "cell_type": "code",
      "source": [
        "model_3_preds.shape, model_2_preds.shape, model_1_preds.shape"
      ],
      "metadata": {
        "colab": {
          "base_uri": "https://localhost:8080/"
        },
        "id": "6AnKYXrHStmo",
        "outputId": "b3c1ffbf-3540-4f46-9295-7857755d2f21"
      },
      "execution_count": 64,
      "outputs": [
        {
          "output_type": "execute_result",
          "data": {
            "text/plain": [
              "(TensorShape([551, 7]), TensorShape([552]), TensorShape([556]))"
            ]
          },
          "metadata": {},
          "execution_count": 64
        }
      ]
    },
    {
      "cell_type": "markdown",
      "source": [
        "##### **Yuksek HORIZON sayisi ile tahmin yapmak icin evaluation fonksiyonunu duzenliyelim**"
      ],
      "metadata": {
        "id": "WlVXC7VQVu-3"
      }
    },
    {
      "cell_type": "code",
      "source": [
        "def evaluate_preds(y_true, y_pred):\n",
        "  # Make sure float32 datatype (for metric calculations)\n",
        "  y_true = tf.cast(y_true, dtype=tf.float32)\n",
        "  y_pred = tf.cast(y_pred, dtype=tf.float32)\n",
        "\n",
        "  # Calculate various evaluation metrics \n",
        "  mae = tf.keras.metrics.mean_absolute_error(y_true, y_pred)\n",
        "  mse = tf.keras.metrics.mean_squared_error(y_true, y_pred)\n",
        "  rmse = tf.sqrt(mse)\n",
        "  mape = tf.keras.metrics.mean_absolute_percentage_error(y_true, y_pred)\n",
        "  mase = mean_absolute_scaled_error(y_true, y_pred)\n",
        "\n",
        "  #bu blok ile eger dimension sayisi 0 dan buyukse onu 0 dimensiona dusurecegiz\n",
        "  if mae.ndim > 0:\n",
        "    mae = tf.reduce_mean(mae)\n",
        "    mse = tf.reduce_mean(mse)\n",
        "    rmse = tf.reduce_mean(rmse)\n",
        "    mape = tf.reduce_mean(mape)\n",
        "    mase = tf.reduce_mean(mase)\n",
        "\n",
        "  return {\"mae\": mae.numpy(),\n",
        "          \"mse\": mse.numpy(),\n",
        "          \"rmse\": rmse.numpy(),\n",
        "          \"mape\": mape.numpy(),\n",
        "          \"mase\": mase.numpy()}"
      ],
      "metadata": {
        "id": "fC6f9EBVVOzg"
      },
      "execution_count": 65,
      "outputs": []
    },
    {
      "cell_type": "markdown",
      "source": [
        "tekrar deneyelim"
      ],
      "metadata": {
        "id": "Z2cWkk1DWeIw"
      }
    },
    {
      "cell_type": "code",
      "source": [
        "model_3_results = evaluate_preds(y_true=tf.squeeze(test_labels),\n",
        "                                 y_pred=model_3_preds)\n",
        "model_3_results"
      ],
      "metadata": {
        "colab": {
          "base_uri": "https://localhost:8080/"
        },
        "id": "lkJQjMadWbHq",
        "outputId": "fef2c2e7-254a-4df2-c18d-96b7924823bf"
      },
      "execution_count": 66,
      "outputs": [
        {
          "output_type": "execute_result",
          "data": {
            "text/plain": [
              "{'mae': 1225.0724,\n",
              " 'mape': 5.4491835,\n",
              " 'mase': 2.179948,\n",
              " 'mse': 5381287.5,\n",
              " 'rmse': 1412.7332}"
            ]
          },
          "metadata": {},
          "execution_count": 66
        }
      ]
    },
    {
      "cell_type": "markdown",
      "source": [
        "hallettigimize gore grafige bakalim"
      ],
      "metadata": {
        "id": "09872OPPWl7a"
      }
    },
    {
      "cell_type": "code",
      "source": [
        "offset = 300\n",
        "plt.figure(figsize=(10, 7))\n",
        "plot_time_series(timesteps=X_test[-len(test_windows):], values=test_labels[:, 0], start=offset, format=\"-\", label=\"Test data\")\n",
        "plot_time_series(timesteps=X_test[-len(test_windows):], values=model_3_preds, start=offset, label=\"model_3_preds\")\n"
      ],
      "metadata": {
        "colab": {
          "base_uri": "https://localhost:8080/",
          "height": 442
        },
        "id": "vrjoi_17WfV4",
        "outputId": "1ca68a9d-b391-4170-faf2-36394da34a29"
      },
      "execution_count": 67,
      "outputs": [
        {
          "output_type": "display_data",
          "data": {
            "text/plain": [
              "<Figure size 720x504 with 1 Axes>"
            ],
            "image/png": "[encoded data removed]"
          },
          "metadata": {
            "needs_background": "light"
          }
        }
      ]
    },
    {
      "cell_type": "markdown",
      "source": [
        "biraz karisi nedenine bakalim"
      ],
      "metadata": {
        "id": "haWInmW0YR_4"
      }
    },
    {
      "cell_type": "code",
      "source": [
        "model_3_preds[:5]"
      ],
      "metadata": {
        "colab": {
          "base_uri": "https://localhost:8080/"
        },
        "id": "_0RDChlcWqcJ",
        "outputId": "b4ae7a3c-5838-4c13-bd4b-c0dd00283dfe"
      },
      "execution_count": 68,
      "outputs": [
        {
          "output_type": "execute_result",
          "data": {
            "text/plain": [
              "<tf.Tensor: shape=(5, 7), dtype=float32, numpy=\n",
              "array([[9315.244 , 9500.475 , 9444.725 , 9646.714 , 9521.576 , 9798.976 ,\n",
              "        9539.416 ],\n",
              "       [8954.446 , 9198.7295, 9168.179 , 9395.464 , 9080.252 , 9320.579 ,\n",
              "        9186.945 ],\n",
              "       [8899.025 , 8953.83  , 8986.562 , 9260.812 , 9051.414 , 8911.248 ,\n",
              "        9157.576 ],\n",
              "       [9112.361 , 9226.18  , 9126.239 , 9413.1045, 9411.557 , 9308.665 ,\n",
              "        9196.985 ],\n",
              "       [9079.77  , 8983.34  , 9011.312 , 9027.437 , 9056.427 , 9091.644 ,\n",
              "        8852.652 ]], dtype=float32)>"
            ]
          },
          "metadata": {},
          "execution_count": 68
        }
      ]
    },
    {
      "cell_type": "markdown",
      "source": [
        "HORIZON 7 oldugu icin tahminleri de 7 tane yapmis oluyor bunu ortalamaya ve 1 tane olacak sekilde ayarlayip tekrar grafige bakalim"
      ],
      "metadata": {
        "id": "yPFuf2olYcS5"
      }
    },
    {
      "cell_type": "code",
      "source": [
        "tf.reduce_mean(model_3_preds[0])"
      ],
      "metadata": {
        "colab": {
          "base_uri": "https://localhost:8080/"
        },
        "id": "bhreUYjjYXg3",
        "outputId": "a02990f9-5f85-4c8a-abda-d8f32dc997ce"
      },
      "execution_count": 69,
      "outputs": [
        {
          "output_type": "execute_result",
          "data": {
            "text/plain": [
              "<tf.Tensor: shape=(), dtype=float32, numpy=9538.161>"
            ]
          },
          "metadata": {},
          "execution_count": 69
        }
      ]
    },
    {
      "cell_type": "markdown",
      "source": [
        "bunu yapmak bize bilgi kaybina yol acar ama grafigi cizdirmek icin yararli olabilir."
      ],
      "metadata": {
        "id": "SQFrYkY_Y2FH"
      }
    },
    {
      "cell_type": "code",
      "source": [
        "offset = 300\n",
        "plt.figure(figsize=(10, 7))\n",
        "plot_time_series(timesteps=X_test[-len(test_windows):], \n",
        "                 values=test_labels[:, 0], \n",
        "                 start=offset, \n",
        "                 format=\"-\",\n",
        "                 label=\"Test data\")\n",
        "plot_time_series(timesteps=X_test[-len(test_windows):], \n",
        "                 values=tf.reduce_mean(model_3_preds, axis=1), \n",
        "                 start=offset,\n",
        "                 format=\"-\", \n",
        "                 label=\"model_3_preds\")"
      ],
      "metadata": {
        "colab": {
          "base_uri": "https://localhost:8080/",
          "height": 442
        },
        "id": "mK81KtGPYufw",
        "outputId": "3012a45d-3f25-4ff8-c7a2-367bedf17940"
      },
      "execution_count": 70,
      "outputs": [
        {
          "output_type": "display_data",
          "data": {
            "text/plain": [
              "<Figure size 720x504 with 1 Axes>"
            ],
            "image/png": "[encoded data removed]"
          },
          "metadata": {
            "needs_background": "light"
          }
        }
      ]
    },
    {
      "cell_type": "markdown",
      "source": [
        "**Simdi hangi modelin daha iyi oldugunu secebilmek icin ufak bir grafik olusturalim**"
      ],
      "metadata": {
        "id": "7Qz1gXtjZF7h"
      }
    },
    {
      "cell_type": "code",
      "source": [
        "pd.DataFrame({\"naive\": naive_results[\"mae\"],\n",
        "              \"horizon_1_window_7\": model_1_results[\"mae\"],\n",
        "              \"horizon_1_window_30\": model_2_results[\"mae\"],\n",
        "              \"horizon_7_window_30\": model_3_results[\"mae\"]}, index=[\"mae\"]).plot(figsize= (10,7), kind ='bar')"
      ],
      "metadata": {
        "colab": {
          "base_uri": "https://localhost:8080/",
          "height": 458
        },
        "id": "Ir3sj2-qYyAg",
        "outputId": "d17374f4-d822-4f01-a5e6-3851a686bd8b"
      },
      "execution_count": 75,
      "outputs": [
        {
          "output_type": "execute_result",
          "data": {
            "text/plain": [
              "<matplotlib.axes._subplots.AxesSubplot at 0x7fcb5ae5cf10>"
            ]
          },
          "metadata": {},
          "execution_count": 75
        },
        {
          "output_type": "display_data",
          "data": {
            "text/plain": [
              "<Figure size 720x504 with 1 Axes>"
            ],
            "image/png": "[encoded data removed]"
          },
          "metadata": {
            "needs_background": "light"
          }
        }
      ]
    },
    {
      "cell_type": "markdown",
      "source": [
        "Goruldugu gibi HORIZON ve WINDOW arttikca yani daha uzun bir gelecegi tahmin etmeye calistikca modelin performansi azaldi normal bir sekilde.\n",
        "\n",
        "Okunacak📓**AutoCorelation** = https://towardsdatascience.com/how-not-to-use-machine-learning-for-time-series-forecasting-avoiding-the-pitfalls-19f9d7adf424"
      ],
      "metadata": {
        "id": "yLObsybbZwpQ"
      }
    },
    {
      "cell_type": "code",
      "source": [
        ""
      ],
      "metadata": {
        "id": "zQQVv5SxZMnw"
      },
      "execution_count": null,
      "outputs": []
    }
  ]
}