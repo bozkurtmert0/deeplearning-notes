{
  "nbformat": 4,
  "nbformat_minor": 0,
  "metadata": {
    "colab": {
      "name": "NN_Regression_Tensorflow.ipynb",
      "provenance": [],
<<<<<<< HEAD
      "collapsed_sections": []
=======
      "collapsed_sections": [],
      "authorship_tag": "ABX9TyNCfaFIQYHruKawDM1Z89Nh"
>>>>>>> 57415a2b06b347f162196bd9a7ac512e7386cd1e
    },
    "kernelspec": {
      "name": "python3",
      "display_name": "Python 3"
    },
    "language_info": {
      "name": "python"
    }
  },
  "cells": [
    {
      "cell_type": "markdown",
      "metadata": {
        "id": "4VRWfQ77X_YI"
      },
      "source": [
        "# Neural Network Regression with Tensorflow"
      ]
    },
    {
<<<<<<< HEAD
      "cell_type": "markdown",
      "metadata": {
        "id": "xhn6vGksN6JG"
      },
      "source": [
        "Tensorflow kütüphanemizi import edip hangi sürümde olduğunu kontrol edelim"
      ]
    },
    {
=======
>>>>>>> 57415a2b06b347f162196bd9a7ac512e7386cd1e
      "cell_type": "code",
      "metadata": {
        "colab": {
          "base_uri": "https://localhost:8080/"
        },
        "id": "4ar8EMJNX0cc",
<<<<<<< HEAD
        "outputId": "c94f19fc-fb6e-470d-d22c-405b6b2f960e"
=======
        "outputId": "44905af2-e23a-498a-b72d-fa7a0205bff0"
>>>>>>> 57415a2b06b347f162196bd9a7ac512e7386cd1e
      },
      "source": [
        "import tensorflow as tf \n",
        "print(tf.__version__)"
      ],
<<<<<<< HEAD
      "execution_count": null,
=======
      "execution_count": 1,
>>>>>>> 57415a2b06b347f162196bd9a7ac512e7386cd1e
      "outputs": [
        {
          "output_type": "stream",
          "name": "stdout",
          "text": [
            "2.6.0\n"
          ]
        }
      ]
    },
    {
      "cell_type": "markdown",
      "metadata": {
        "id": "Rp2IHV4dac0N"
      },
      "source": [
<<<<<<< HEAD
        "## Veriyi oluşturma"
=======
        "## Veriyi olusturma"
>>>>>>> 57415a2b06b347f162196bd9a7ac512e7386cd1e
      ]
    },
    {
      "cell_type": "code",
      "metadata": {
        "colab": {
          "base_uri": "https://localhost:8080/",
          "height": 282
        },
        "id": "srGFCpHMaNH2",
<<<<<<< HEAD
        "outputId": "b1c4e31d-b3d1-4b62-92ab-f2c10db0bd6c"
=======
        "outputId": "1153eaa1-f33c-4624-e29d-445670f9a9b9"
>>>>>>> 57415a2b06b347f162196bd9a7ac512e7386cd1e
      },
      "source": [
        "import numpy as np\n",
        "import matplotlib.pyplot as plt\n",
        "\n",
        "#ozellikleri tanimliyoruz\n",
        "X = np.array([1.0,2.0,3.0,4.0,5.0])\n",
        "\n",
        "#labellari tanimliyalim\n",
        "y = np.array([4.0,8.0,12.0,16.0,20.0])\n",
        "\n",
        "#grafige dokelim\n",
        "plt.scatter(X,y)"
      ],
<<<<<<< HEAD
      "execution_count": null,
=======
      "execution_count": 2,
>>>>>>> 57415a2b06b347f162196bd9a7ac512e7386cd1e
      "outputs": [
        {
          "output_type": "execute_result",
          "data": {
            "text/plain": [
<<<<<<< HEAD
              "<matplotlib.collections.PathCollection at 0x7f639eb525d0>"
=======
              "<matplotlib.collections.PathCollection at 0x7fceb1e0a5d0>"
>>>>>>> 57415a2b06b347f162196bd9a7ac512e7386cd1e
            ]
          },
          "metadata": {},
          "execution_count": 2
        },
        {
          "output_type": "display_data",
          "data": {
            "image/png": "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\n",
            "text/plain": [
              "<Figure size 432x288 with 1 Axes>"
            ]
          },
          "metadata": {
            "needs_background": "light"
          }
        }
      ]
    },
    {
      "cell_type": "markdown",
      "metadata": {
        "id": "tKctUy1abeNl"
      },
      "source": [
        "Veriler arasinda basit bir iliski var bunu kontrol edebiliriz."
      ]
    },
    {
      "cell_type": "code",
      "metadata": {
        "colab": {
          "base_uri": "https://localhost:8080/"
        },
        "id": "eNC317hdbCHs",
<<<<<<< HEAD
        "outputId": "c2a855fa-cbb0-4759-f468-133fb1bbd331"
=======
        "outputId": "75bf16da-1476-4718-e829-72a760125337"
>>>>>>> 57415a2b06b347f162196bd9a7ac512e7386cd1e
      },
      "source": [
        "y == X*4"
      ],
<<<<<<< HEAD
      "execution_count": null,
=======
      "execution_count": 3,
>>>>>>> 57415a2b06b347f162196bd9a7ac512e7386cd1e
      "outputs": [
        {
          "output_type": "execute_result",
          "data": {
            "text/plain": [
              "array([ True,  True,  True,  True,  True])"
            ]
          },
          "metadata": {},
<<<<<<< HEAD
          "execution_count": 4
=======
          "execution_count": 3
>>>>>>> 57415a2b06b347f162196bd9a7ac512e7386cd1e
        }
      ]
    },
    {
      "cell_type": "markdown",
      "metadata": {
        "id": "IzbsGYwpb5Vu"
      },
      "source": [
<<<<<<< HEAD
        "Burada X bagımsiz, y ise bagimli degiskendir."
=======
        "Burada X bagimsiz y ise bagimli degiskendir"
>>>>>>> 57415a2b06b347f162196bd9a7ac512e7386cd1e
      ]
    },
    {
      "cell_type": "markdown",
      "metadata": {
        "id": "YHsLML30cG6v"
      },
      "source": [
<<<<<<< HEAD
        "* numpy arraylarimizi tensorlere donusturelim ki modelimizin kullanımına uygun olsunlar"
=======
        "numpy arraylarimizi tensorlere donusturelim"
>>>>>>> 57415a2b06b347f162196bd9a7ac512e7386cd1e
      ]
    },
    {
      "cell_type": "code",
      "metadata": {
        "colab": {
          "base_uri": "https://localhost:8080/"
        },
        "id": "r2Pv4-ALagkk",
<<<<<<< HEAD
        "outputId": "bcd743ff-0867-4a18-e3ae-8abae65c612a"
=======
        "outputId": "829d3c1b-c569-49cb-91bd-43d90b21ee96"
>>>>>>> 57415a2b06b347f162196bd9a7ac512e7386cd1e
      },
      "source": [
        "X = tf.cast(tf.constant(X), dtype=tf.float32)\n",
        "y = tf.cast(tf.constant(y) , dtype=tf.float32)\n",
        "#boyutlarina da bakalim\n",
        "X[0].ndim ,y[0].ndim"
      ],
<<<<<<< HEAD
      "execution_count": null,
=======
      "execution_count": 4,
>>>>>>> 57415a2b06b347f162196bd9a7ac512e7386cd1e
      "outputs": [
        {
          "output_type": "execute_result",
          "data": {
            "text/plain": [
              "(0, 0)"
            ]
          },
          "metadata": {},
<<<<<<< HEAD
          "execution_count": 5
=======
          "execution_count": 4
>>>>>>> 57415a2b06b347f162196bd9a7ac512e7386cd1e
        }
      ]
    },
    {
      "cell_type": "markdown",
      "metadata": {
        "id": "z-PHYe2hdcKA"
      },
      "source": [
        "## Tensorflow ile modelleme adimlari\n",
        "\n",
        "1. Modeli olusturmak --- girdi, cikti ve gizli katmanlari tanimlamak\n",
        "2. Modeli derlemek --- kayip fonksiyonunu(loss function) , optimizer ve degerlendirme metriklerini(evaluation metrics) tanimlamak\n",
        "3. Modeli fit etmek --- modelin x ve y arasindaki desen(pattern)leri bulamasi icin denemek"
      ]
    },
    {
      "cell_type": "markdown",
      "metadata": {
        "id": "ZOB-D8fRfI3o"
      },
      "source": [
<<<<<<< HEAD
        "\n",
        "\n",
        "\n",
        "### **Model olusturmak**"
=======
        "Model olusturmak"
>>>>>>> 57415a2b06b347f162196bd9a7ac512e7386cd1e
      ]
    },
    {
      "cell_type": "code",
      "metadata": {
        "colab": {
          "base_uri": "https://localhost:8080/"
        },
        "id": "xJREqHTOdGwd",
<<<<<<< HEAD
        "outputId": "586f4b11-e71f-4936-850b-ab28d94de9d2"
=======
        "outputId": "821fcbd3-ef92-4e76-d945-03d2ade5e483"
>>>>>>> 57415a2b06b347f162196bd9a7ac512e7386cd1e
      },
      "source": [
        "tf.random.set_seed(42)\n",
        "\n",
        "\n",
<<<<<<< HEAD
        "#1.adim modeli olusturmak icin Sequential API kullandik burda\n",
=======
        "#1.adim modeli olusturmak Sequential API kullandik burda\n",
>>>>>>> 57415a2b06b347f162196bd9a7ac512e7386cd1e
        "model = tf.keras.Sequential([\n",
        "      tf.keras.layers.Dense(1)\n",
        "])\n",
        "\n",
        "#2. adim derlemek/Compile  model\\\n",
        "model.compile(loss= tf.keras.losses.mae,    #mae = mean absolute error\n",
        "              optimizer= tf.keras.optimizers.SGD(),  #SGD  = Stochastic Gradient Descent\n",
        "              metrics=[\"mae\"]\n",
        "              )\n",
        "\n",
        "# 3.adim modeli fit etmek\n",
        "model.fit(X, y, epochs = 5)"
      ],
<<<<<<< HEAD
      "execution_count": null,
=======
      "execution_count": 5,
>>>>>>> 57415a2b06b347f162196bd9a7ac512e7386cd1e
      "outputs": [
        {
          "output_type": "stream",
          "name": "stdout",
          "text": [
            "Epoch 1/5\n",
<<<<<<< HEAD
            "1/1 [==============================] - 0s 276ms/step - loss: 10.2898 - mae: 10.2898\n",
            "Epoch 2/5\n",
            "1/1 [==============================] - 0s 7ms/step - loss: 10.1898 - mae: 10.1898\n",
            "Epoch 3/5\n",
            "1/1 [==============================] - 0s 8ms/step - loss: 10.0898 - mae: 10.0898\n",
            "Epoch 4/5\n",
            "1/1 [==============================] - 0s 8ms/step - loss: 9.9898 - mae: 9.9898\n",
            "Epoch 5/5\n",
            "1/1 [==============================] - 0s 6ms/step - loss: 9.8898 - mae: 9.8898\n"
=======
            "1/1 [==============================] - 1s 696ms/step - loss: 10.2898 - mae: 10.2898\n",
            "Epoch 2/5\n",
            "1/1 [==============================] - 0s 8ms/step - loss: 10.1898 - mae: 10.1898\n",
            "Epoch 3/5\n",
            "1/1 [==============================] - 0s 8ms/step - loss: 10.0898 - mae: 10.0898\n",
            "Epoch 4/5\n",
            "1/1 [==============================] - 0s 5ms/step - loss: 9.9898 - mae: 9.9898\n",
            "Epoch 5/5\n",
            "1/1 [==============================] - 0s 7ms/step - loss: 9.8898 - mae: 9.8898\n"
>>>>>>> 57415a2b06b347f162196bd9a7ac512e7386cd1e
          ]
        },
        {
          "output_type": "execute_result",
          "data": {
            "text/plain": [
<<<<<<< HEAD
              "<keras.callbacks.History at 0x7f63989d3610>"
            ]
          },
          "metadata": {},
          "execution_count": 6
=======
              "<keras.callbacks.History at 0x7fceadd9e450>"
            ]
          },
          "metadata": {},
          "execution_count": 5
>>>>>>> 57415a2b06b347f162196bd9a7ac512e7386cd1e
        }
      ]
    },
    {
      "cell_type": "markdown",
      "metadata": {
        "id": "oDwqKlXKiRcX"
      },
      "source": [
<<<<<<< HEAD
        "**X ve y degerlerimizi tekrar hatirlayip modele bir tahmin yaptiralim**\n",
        "\n",
        "\n"
=======
        "X ve y degerlerimizi tekrar hatirlayip modele bir tahmin yaptiralim"
>>>>>>> 57415a2b06b347f162196bd9a7ac512e7386cd1e
      ]
    },
    {
      "cell_type": "code",
      "metadata": {
        "colab": {
          "base_uri": "https://localhost:8080/"
        },
        "id": "wlKw84eHg_kl",
<<<<<<< HEAD
        "outputId": "3c304800-8d75-42ae-bc4f-c190f0e18531"
=======
        "outputId": "59b74d6e-1eed-4c32-fc95-fc47f1bd5fc6"
>>>>>>> 57415a2b06b347f162196bd9a7ac512e7386cd1e
      },
      "source": [
        "X, y"
      ],
<<<<<<< HEAD
      "execution_count": null,
=======
      "execution_count": 6,
>>>>>>> 57415a2b06b347f162196bd9a7ac512e7386cd1e
      "outputs": [
        {
          "output_type": "execute_result",
          "data": {
            "text/plain": [
              "(<tf.Tensor: shape=(5,), dtype=float32, numpy=array([1., 2., 3., 4., 5.], dtype=float32)>,\n",
              " <tf.Tensor: shape=(5,), dtype=float32, numpy=array([ 4.,  8., 12., 16., 20.], dtype=float32)>)"
            ]
          },
          "metadata": {},
<<<<<<< HEAD
          "execution_count": 7
=======
          "execution_count": 6
>>>>>>> 57415a2b06b347f162196bd9a7ac512e7386cd1e
        }
      ]
    },
    {
      "cell_type": "code",
      "metadata": {
        "colab": {
          "base_uri": "https://localhost:8080/"
        },
        "id": "hMJX0jSeiZ5T",
<<<<<<< HEAD
        "outputId": "7785291a-a19b-4d89-aba2-0ce049f26440"
=======
        "outputId": "cf1b77a3-c1b5-4450-92e2-eab58d53baa0"
>>>>>>> 57415a2b06b347f162196bd9a7ac512e7386cd1e
      },
      "source": [
        "model.predict([10.0])"
      ],
<<<<<<< HEAD
      "execution_count": null,
=======
      "execution_count": 7,
>>>>>>> 57415a2b06b347f162196bd9a7ac512e7386cd1e
      "outputs": [
        {
          "output_type": "execute_result",
          "data": {
            "text/plain": [
              "array([[7.2505984]], dtype=float32)"
            ]
          },
          "metadata": {},
<<<<<<< HEAD
          "execution_count": 9
=======
          "execution_count": 7
>>>>>>> 57415a2b06b347f162196bd9a7ac512e7386cd1e
        }
      ]
    },
    {
      "cell_type": "markdown",
      "metadata": {
        "id": "-ZVmq50Wigg8"
      },
      "source": [
<<<<<<< HEAD
        "10 degeri icin modelimiz cok kotu bir tahminde bulundu. 40 degerini bulmasi gerekirken 7 degerini buldu. Modelimizin tahminleri kotuydu bunu gelistirmeye calisalim"
=======
        "10 degeri icin modelimiz cok kotu bir tahminde bulundu 40 degerini bumasi gerkirken 7 degerini buldu. Modelimizin tahminleri kotuydu bunu gelistirmye bakalim"
>>>>>>> 57415a2b06b347f162196bd9a7ac512e7386cd1e
      ]
    },
    {
      "cell_type": "markdown",
      "metadata": {
        "id": "I07TkRvxV3CH"
      },
      "source": [
<<<<<<< HEAD
        "## **Modeli Geliştirmek**\n",
=======
        "## Modeli Geliştirmek \n",
>>>>>>> 57415a2b06b347f162196bd9a7ac512e7386cd1e
        "\n",
        "1. **Modeli olustururken gelistirmek** : Daha fazla katman ekleyebilir,  noron sayisini(hidden units) sayisini arttirabilir, her katman icin aktivasyon fonskiyonunu degistirebiliriz.\n",
        "\n",
        "2. **Modelin derleme asamasinda gelistirmek** : optimizasyon fonksiyonunu degistirebilir , ogrenme orani(learning rate)  degistirilebilir.\n",
        "\n",
<<<<<<< HEAD
        "3. **Modeli fit etme asamasinda gelistirmek** : daha fazla epoch ile egitime sokabiliriz veya daha fazla veri ile egitebiliriz."
=======
        "3. ** Modeli fit etme asamasinda gelistirmek** : daha fazla epoch ile egitime sokabiliriz veya daha fazla veri ile egitebiliriz."
>>>>>>> 57415a2b06b347f162196bd9a7ac512e7386cd1e
      ]
    },
    {
      "cell_type": "markdown",
      "metadata": {
        "id": "5PW8YhAAX6rC"
      },
      "source": [
        "Modeli tekrar olusturalim"
      ]
    },
    {
      "cell_type": "code",
      "metadata": {
        "id": "TLj5Bb-tieyD"
      },
      "source": [
        "#1.adim modeli olusturmak Sequential API kullandik burda\n",
        "model = tf.keras.Sequential([\n",
        "      tf.keras.layers.Dense(1)\n",
        "])\n",
        "\n",
        "#2. adim derlemek/Compile  model\\\n",
        "model.compile(loss= tf.keras.losses.mae,    #mae = mean absolute error\n",
        "              optimizer= tf.keras.optimizers.SGD(),  #SGD  = Stochastic Gradient Descent\n",
        "              metrics=[\"mae\"]\n",
        "              )\n",
        "\n",
        "# 3.adim modeli fit etmek\n",
        "model.fit(X, y, epochs = 100)\n",
        "\n",
        "#sadece epochs sayisini degistirdik"
      ],
      "execution_count": null,
      "outputs": []
    },
    {
<<<<<<< HEAD
=======
      "cell_type": "markdown",
      "metadata": {
        "id": "trIZociqYano"
      },
      "source": [
        "loss degerimiz 11 den 0.6 ya kadar dustu.\n"
      ]
    },
    {
>>>>>>> 57415a2b06b347f162196bd9a7ac512e7386cd1e
      "cell_type": "code",
      "metadata": {
        "colab": {
          "base_uri": "https://localhost:8080/"
        },
        "id": "onHaKEXZYWQ9",
<<<<<<< HEAD
        "outputId": "0342a288-e09a-4013-cfb2-c0929689e090"
=======
        "outputId": "bd631c34-72eb-4fa5-d534-eedc765a17d7"
>>>>>>> 57415a2b06b347f162196bd9a7ac512e7386cd1e
      },
      "source": [
        "model.predict([10.0])"
      ],
<<<<<<< HEAD
      "execution_count": null,
=======
      "execution_count": 9,
>>>>>>> 57415a2b06b347f162196bd9a7ac512e7386cd1e
      "outputs": [
        {
          "output_type": "execute_result",
          "data": {
            "text/plain": [
              "array([[36.720722]], dtype=float32)"
            ]
          },
          "metadata": {},
<<<<<<< HEAD
          "execution_count": 10
=======
          "execution_count": 9
>>>>>>> 57415a2b06b347f162196bd9a7ac512e7386cd1e
        }
      ]
    },
    {
      "cell_type": "markdown",
      "metadata": {
        "id": "KxxzWOOvY2Ie"
      },
      "source": [
<<<<<<< HEAD
        "Tekrar tahmin etmesini istedigimizde bu sefer cok daha yaklasmis olduk.Bekledigimiz deger 40 idi fakat modelimizin gelisitigini gormus olduk."
=======
        "tekrar tahmin etmesini denedigimizdde bu sefer cok daha yaklasmis olduk bekledigimiz deger 40 idi fakat modelimizin gelsitiginii gormus olduk"
>>>>>>> 57415a2b06b347f162196bd9a7ac512e7386cd1e
      ]
    },
    {
      "cell_type": "markdown",
      "metadata": {
        "id": "pVZGDCWxZIue"
      },
      "source": [
<<<<<<< HEAD
        "Daha fazla gelisitirmek icin degisiklikler yapmaya devam edelim\\\n",
        "Yeni katman ekleyelim."
=======
        "daha fazla gelsitirmek icin degisiklikler yapmaya devam edelim\n",
        "yeni katman ekleyelim"
>>>>>>> 57415a2b06b347f162196bd9a7ac512e7386cd1e
      ]
    },
    {
      "cell_type": "code",
      "metadata": {
        "id": "5MxW80RlY03o"
      },
      "source": [
        "#1.adim modeli olusturmak Sequential API kullandik burda\n",
        "model = tf.keras.Sequential([\n",
        "      tf.keras.layers.Dense(100,activation = \"relu\"), #yeni katman ve aktivasyon fonksiyonu ekledik\n",
        "      tf.keras.layers.Dense(1)\n",
        "])\n",
        "\n",
        "#2. adim derlemek/Compile  model\\\n",
        "model.compile(loss= tf.keras.losses.mae,    #mae = mean absolute error\n",
        "             #optimizeri degistirip learning rate ekledik  cok onemli bir hiperapremetredir\n",
        "              optimizer= tf.keras.optimizers.Adam(learning_rate=0.01),  \n",
        "              metrics=[\"mae\"]\n",
        "              )\n",
        "\n",
        "# 3.adim modeli fit etmek\n",
        "model.fit(X, y, epochs = 100)"
      ],
      "execution_count": null,
      "outputs": []
    },
    {
      "cell_type": "markdown",
      "metadata": {
        "id": "7zC1lG1nbCyP"
      },
      "source": [
<<<<<<< HEAD
        "Tekrar tahmin yaptiralim"
=======
        "tekrar tahmin yaptiralim"
>>>>>>> 57415a2b06b347f162196bd9a7ac512e7386cd1e
      ]
    },
    {
      "cell_type": "code",
      "metadata": {
        "colab": {
          "base_uri": "https://localhost:8080/"
        },
        "id": "xphaF4EgZ6_l",
<<<<<<< HEAD
        "outputId": "6aa2adeb-d6ed-447c-c9ac-f942115fe19c"
=======
        "outputId": "47310830-7392-4729-862a-91c8e189cb0b"
>>>>>>> 57415a2b06b347f162196bd9a7ac512e7386cd1e
      },
      "source": [
        "model.predict([10.0])"
      ],
<<<<<<< HEAD
      "execution_count": null,
=======
      "execution_count": 11,
>>>>>>> 57415a2b06b347f162196bd9a7ac512e7386cd1e
      "outputs": [
        {
          "output_type": "execute_result",
          "data": {
            "text/plain": [
              "array([[40.38787]], dtype=float32)"
            ]
          },
          "metadata": {},
<<<<<<< HEAD
          "execution_count": 12
=======
          "execution_count": 11
>>>>>>> 57415a2b06b347f162196bd9a7ac512e7386cd1e
        }
      ]
    },
    {
      "cell_type": "markdown",
      "metadata": {
        "id": "QMMyL3o_bHrH"
      },
      "source": [
<<<<<<< HEAD
        "Bu sefer daha da yaklasmis olduk ve model gelisitirmeye basit bir sekilde bakmis olduk."
=======
        "bu sefer daha da yaklasmis olduk ve model gelsitirmeye basit bir sekildi bakmis olduk"
>>>>>>> 57415a2b06b347f162196bd9a7ac512e7386cd1e
      ]
    },
    {
      "cell_type": "markdown",
      "metadata": {
        "id": "zV1r0gbIiavp"
      },
      "source": [
        "### Modeli Degerlendirmek (Evalueta Model )\n",
        "\n",
        "Basitce calisma mantigimiz sudur\n",
        "\n",
        "Modeli olusturur --> modeli fit eder --> modeli degerlendirir --> ince ayarlar yapar --> modeli fit eder-- > modeli degerlendirir --> ince ayalarlar yapar ....\n",
        "seklinde modeli gelsitirerek devam ederiz"
      ]
    },
    {
      "cell_type": "markdown",
      "metadata": {
        "id": "qbkOD29ijitl"
      },
      "source": [
        "Modeli degerlendirmek icin onu dogru sekilde okumamiz gerekir bunun da en iyi yolu gorsellestiremkten gecer\n",
        "\n",
        "* Veriyi gorsellestirmek -- Calistigimiz veri nedir nasil gorunuyor ?\n",
        "* Modelin kendisi -- Modelimiz nasil gorunuyor ?\n",
        "* Ogrenme asamasina bakmak -- Modelimiz ogrenirken nasil performans gosteriyor ?\n",
        "* Modelin tahminlerine goz atmak -- Modelimiz gercekte ne kadar iyi tahmin yapiyor ?\n"
      ]
    },
    {
      "cell_type": "markdown",
      "metadata": {
        "id": "uWlUUhzDkzMJ"
      },
      "source": [
        "Daha buyuk bir veri seti olusturalim"
      ]
    },
    {
      "cell_type": "code",
      "metadata": {
        "colab": {
          "base_uri": "https://localhost:8080/"
        },
        "id": "TrxUIkfSa_iO",
<<<<<<< HEAD
        "outputId": "f28a7b85-bf05-4f5f-ee3b-4cfb952f1e22"
=======
        "outputId": "f7dae544-37d5-40bd-ec4a-c5413bccce30"
>>>>>>> 57415a2b06b347f162196bd9a7ac512e7386cd1e
      },
      "source": [
        "X = tf.range(-100 ,100,4) \n",
        "X"
      ],
<<<<<<< HEAD
      "execution_count": null,
=======
      "execution_count": 12,
>>>>>>> 57415a2b06b347f162196bd9a7ac512e7386cd1e
      "outputs": [
        {
          "output_type": "execute_result",
          "data": {
            "text/plain": [
              "<tf.Tensor: shape=(50,), dtype=int32, numpy=\n",
              "array([-100,  -96,  -92,  -88,  -84,  -80,  -76,  -72,  -68,  -64,  -60,\n",
              "        -56,  -52,  -48,  -44,  -40,  -36,  -32,  -28,  -24,  -20,  -16,\n",
              "        -12,   -8,   -4,    0,    4,    8,   12,   16,   20,   24,   28,\n",
              "         32,   36,   40,   44,   48,   52,   56,   60,   64,   68,   72,\n",
              "         76,   80,   84,   88,   92,   96], dtype=int32)>"
            ]
          },
          "metadata": {},
<<<<<<< HEAD
          "execution_count": 13
=======
          "execution_count": 12
>>>>>>> 57415a2b06b347f162196bd9a7ac512e7386cd1e
        }
      ]
    },
    {
      "cell_type": "markdown",
      "metadata": {
        "id": "v2deMsc3lQPZ"
      },
      "source": [
        "Verimiz icin label olsuturalim"
      ]
    },
    {
      "cell_type": "code",
      "metadata": {
        "colab": {
          "base_uri": "https://localhost:8080/"
        },
        "id": "VDky2p7fk--Y",
<<<<<<< HEAD
        "outputId": "fe15acc5-fecb-4146-af63-b61b94a8d6f9"
=======
        "outputId": "78c0a85b-d1e4-4584-eac6-66e9420f7cd0"
>>>>>>> 57415a2b06b347f162196bd9a7ac512e7386cd1e
      },
      "source": [
        "y = X *4\n",
        "y"
      ],
<<<<<<< HEAD
      "execution_count": null,
=======
      "execution_count": 13,
>>>>>>> 57415a2b06b347f162196bd9a7ac512e7386cd1e
      "outputs": [
        {
          "output_type": "execute_result",
          "data": {
            "text/plain": [
              "<tf.Tensor: shape=(50,), dtype=int32, numpy=\n",
              "array([-400, -384, -368, -352, -336, -320, -304, -288, -272, -256, -240,\n",
              "       -224, -208, -192, -176, -160, -144, -128, -112,  -96,  -80,  -64,\n",
              "        -48,  -32,  -16,    0,   16,   32,   48,   64,   80,   96,  112,\n",
              "        128,  144,  160,  176,  192,  208,  224,  240,  256,  272,  288,\n",
              "        304,  320,  336,  352,  368,  384], dtype=int32)>"
            ]
          },
          "metadata": {},
<<<<<<< HEAD
          "execution_count": 14
=======
          "execution_count": 13
>>>>>>> 57415a2b06b347f162196bd9a7ac512e7386cd1e
        }
      ]
    },
    {
      "cell_type": "markdown",
      "metadata": {
        "id": "qbSI4E4QldGx"
      },
      "source": [
        "Veriyi gorsellestirelim"
      ]
    },
    {
      "cell_type": "code",
      "metadata": {
        "colab": {
          "base_uri": "https://localhost:8080/",
          "height": 282
        },
        "id": "UlHaWWzHlXLP",
<<<<<<< HEAD
        "outputId": "01304985-5098-42a7-ca91-7ce395eb985b"
=======
        "outputId": "89a0ea44-64b1-49bf-e73f-71f3d330bfb4"
>>>>>>> 57415a2b06b347f162196bd9a7ac512e7386cd1e
      },
      "source": [
        "import matplotlib.pyplot as plt\n",
        "\n",
        "plt.scatter(X,y)"
      ],
<<<<<<< HEAD
      "execution_count": null,
=======
      "execution_count": 14,
>>>>>>> 57415a2b06b347f162196bd9a7ac512e7386cd1e
      "outputs": [
        {
          "output_type": "execute_result",
          "data": {
            "text/plain": [
<<<<<<< HEAD
              "<matplotlib.collections.PathCollection at 0x7ffa01d36390>"
            ]
          },
          "metadata": {},
          "execution_count": 15
=======
              "<matplotlib.collections.PathCollection at 0x7fceaddca310>"
            ]
          },
          "metadata": {},
          "execution_count": 14
>>>>>>> 57415a2b06b347f162196bd9a7ac512e7386cd1e
        },
        {
          "output_type": "display_data",
          "data": {
            "image/png": "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\n",
            "text/plain": [
              "<Figure size 432x288 with 1 Axes>"
            ]
          },
          "metadata": {
            "needs_background": "light"
          }
        }
      ]
    },
    {
      "cell_type": "markdown",
      "metadata": {
        "id": "pnqnVj9blqFx"
      },
      "source": [
        "Verimizi 3'e ayiralim\n",
        "* **Egitim kumesi** --> model bu veriden ogrenecektir. Genelde toplam verinin %70-80 inini olsuturur.\n",
        "* **Dogrulama kumesi** --> modeli bu kumeyi kullanarak gelistirecegiz. %10-15 i olur toplam verinin\n",
        "* **Test kumesi** --- > modelin neler ogrendigini degerlendirmek icin kullanilir genelde toplam verinin %10-15 ni icerir \n"
      ]
    },
    {
      "cell_type": "markdown",
      "metadata": {
        "id": "22Q6ZzhXm-Iz"
      },
      "source": [
        "Egitim kumesi --> ders kitabi ve dersler\n",
        "\n",
        "Dogrulama kumesi --> deneme sinavlarimiz\n",
        "\n",
        "Test kumesi --> final sinavimiz (yks vb. :()"
      ]
    },
    {
      "cell_type": "markdown",
      "metadata": {
        "id": "WRtnaz6VnbW7"
      },
      "source": [
        "Dogrulama (Validation) kumesini her zaman kullanmayabiliriz. Elimizde buyuk bir veri kumesi var ise kullaniriz. Kisitli verimiz var ise kullanmamak bizim icin daha iyi olacaktir"
      ]
    },
    {
      "cell_type": "code",
      "metadata": {
        "colab": {
          "base_uri": "https://localhost:8080/"
        },
        "id": "BpCVqOlhoPGA",
<<<<<<< HEAD
        "outputId": "2768fa8e-faad-472c-ac59-1e263566f276"
=======
        "outputId": "e5109c47-a99e-46c8-d2cc-c20d6a03bc47"
>>>>>>> 57415a2b06b347f162196bd9a7ac512e7386cd1e
      },
      "source": [
        "len(X)"
      ],
<<<<<<< HEAD
      "execution_count": null,
=======
      "execution_count": 15,
>>>>>>> 57415a2b06b347f162196bd9a7ac512e7386cd1e
      "outputs": [
        {
          "output_type": "execute_result",
          "data": {
            "text/plain": [
              "50"
            ]
          },
          "metadata": {},
<<<<<<< HEAD
          "execution_count": 16
=======
          "execution_count": 15
>>>>>>> 57415a2b06b347f162196bd9a7ac512e7386cd1e
        }
      ]
    },
    {
      "cell_type": "code",
      "metadata": {
        "colab": {
          "base_uri": "https://localhost:8080/"
        },
        "id": "E68FVqI1lkM6",
<<<<<<< HEAD
        "outputId": "aec7e908-ebd1-4086-aaf5-dc1a48f1f7a4"
=======
        "outputId": "644c64f6-a255-4d11-d387-184b2c9d7c9c"
>>>>>>> 57415a2b06b347f162196bd9a7ac512e7386cd1e
      },
      "source": [
        "X_train = X[:40] #ilk 40 veriyi egitim kumesine ayirdik %80\n",
        "y_train = y[:40]\n",
        "\n",
        "X_test = X[40:] #son 10 veriyi de test kumesine ayirmis olduk %20\n",
        "y_test = y[40:]\n",
        "\n",
        "len(X_train), len(y_train), len(X_test), len(y_test)"
      ],
<<<<<<< HEAD
      "execution_count": null,
=======
      "execution_count": 16,
>>>>>>> 57415a2b06b347f162196bd9a7ac512e7386cd1e
      "outputs": [
        {
          "output_type": "execute_result",
          "data": {
            "text/plain": [
              "(40, 40, 10, 10)"
            ]
          },
          "metadata": {},
<<<<<<< HEAD
          "execution_count": 17
=======
          "execution_count": 16
>>>>>>> 57415a2b06b347f162196bd9a7ac512e7386cd1e
        }
      ]
    },
    {
      "cell_type": "markdown",
      "metadata": {
        "id": "aIkK0hKfp3Zr"
      },
      "source": [
        "Verimizi gorsellestirelim"
      ]
    },
    {
      "cell_type": "code",
      "metadata": {
        "colab": {
          "base_uri": "https://localhost:8080/",
          "height": 428
        },
        "id": "OowV8LzeoefA",
<<<<<<< HEAD
        "outputId": "7d50edb2-c406-4154-a971-34780be3505f"
=======
        "outputId": "1068315b-ab17-4c03-ab23-782b2abf407c"
>>>>>>> 57415a2b06b347f162196bd9a7ac512e7386cd1e
      },
      "source": [
        "plt.figure(figsize=(10,7))\n",
        "\n",
        "#Egitim verisini mavi\n",
        "plt.scatter(X_train, y_train, c='b', label = \"Egitim Verisi\")\n",
        "# test verisini yesil rengle gosterecegiz\n",
        "plt.scatter(X_test, y_test, c='g', label = \"Test Verisi\")\n",
        "#lejant eklemis olduk\n",
        "plt.legend();"
      ],
<<<<<<< HEAD
      "execution_count": null,
=======
      "execution_count": 17,
>>>>>>> 57415a2b06b347f162196bd9a7ac512e7386cd1e
      "outputs": [
        {
          "output_type": "display_data",
          "data": {
            "image/png": "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\n",
            "text/plain": [
              "<Figure size 720x504 with 1 Axes>"
            ]
          },
          "metadata": {
            "needs_background": "light"
          }
        }
      ]
    },
    {
      "cell_type": "markdown",
      "metadata": {
        "id": "RZ9XAv_jrcoy"
      },
      "source": [
        "**Modelimize Goz atma asamasi**"
      ]
    },
    {
      "cell_type": "code",
      "metadata": {
        "id": "8HQZYRtHqfJ5"
      },
      "source": [
        "#1.adim modeli olusturmak \n",
        "model = tf.keras.Sequential([\n",
        "      tf.keras.layers.Dense(10, input_shape = [1], name='input_layer'), #input shape yani giridi boyutunu bazen otomatik algilasade kendimiz girmemeiz daha iyi olacaktir\n",
        "      tf.keras.layers.Dense(1, name= \"output_layer\")\n",
        "], name= \"Model1\")\n",
        "\n",
        "#2. adim derlemek/Compile  model\\\n",
        "model.compile(loss= tf.keras.losses.mae,             \n",
        "              optimizer= tf.keras.optimizers.SGD(),  \n",
        "              metrics=[\"mae\"]\n",
        "              )\n",
        "\n",
        "# 3.adim modeli fit etmek\n",
        "#model.fit(X_train, y_train, epochs = 100)"
      ],
<<<<<<< HEAD
      "execution_count": null,
=======
      "execution_count": 35,
>>>>>>> 57415a2b06b347f162196bd9a7ac512e7386cd1e
      "outputs": []
    },
    {
      "cell_type": "markdown",
      "metadata": {
        "id": "mYNhuKRRsGyD"
      },
      "source": [
        "Modeli fit etmeden once ona goz atmak iyi olacaktir"
      ]
    },
    {
      "cell_type": "code",
      "metadata": {
        "colab": {
          "base_uri": "https://localhost:8080/"
        },
        "id": "ZtyaA-musQkp",
<<<<<<< HEAD
        "outputId": "ad6b69fc-e1ae-4395-e524-89d21db5161c"
=======
        "outputId": "7f877486-5875-48dc-ee12-b2b41d54fba7"
>>>>>>> 57415a2b06b347f162196bd9a7ac512e7386cd1e
      },
      "source": [
        "model.summary()"
      ],
<<<<<<< HEAD
      "execution_count": null,
=======
      "execution_count": 36,
>>>>>>> 57415a2b06b347f162196bd9a7ac512e7386cd1e
      "outputs": [
        {
          "output_type": "stream",
          "name": "stdout",
          "text": [
            "Model: \"Model1\"\n",
            "_________________________________________________________________\n",
            "Layer (type)                 Output Shape              Param #   \n",
            "=================================================================\n",
            "input_layer (Dense)          (None, 10)                20        \n",
            "_________________________________________________________________\n",
            "output_layer (Dense)         (None, 1)                 11        \n",
            "=================================================================\n",
            "Total params: 31\n",
            "Trainable params: 31\n",
            "Non-trainable params: 0\n",
            "_________________________________________________________________\n"
          ]
        }
      ]
    },
    {
      "cell_type": "markdown",
      "metadata": {
        "id": "9uyjhwF7tKtz"
      },
      "source": [
        "* Total params: modeldeki toplam parametre sayisidir.\n",
        "\n",
        "* Trainable params: bu parametreler model ogrenirken guncellenen parametrelerdir.\n",
        "\n",
        "* Non-trainable params: Modelimize daha onceden egitilmis (preetrained model) ekleersek zaten egitilmis olduklari icin  o modelin parametreleri egitilmeyecektir. Bu sayida onu belirtiyor. **Transfer Learning**\n",
        "\n",
        "\n"
      ]
    },
    {
      "cell_type": "markdown",
      "metadata": {
        "id": "voUR1x8su6Im"
      },
      "source": [
        "Modeli fit edelim"
      ]
    },
    {
      "cell_type": "code",
      "metadata": {
        "colab": {
          "base_uri": "https://localhost:8080/"
        },
        "id": "tSyKlwA3sT-w",
<<<<<<< HEAD
        "outputId": "1e0f4919-2a89-4425-e92c-0d10638472f6"
=======
        "outputId": "a1de6d8e-aec1-4740-8b40-9be790ec571d"
>>>>>>> 57415a2b06b347f162196bd9a7ac512e7386cd1e
      },
      "source": [
        "model.fit(X_train, y_train, epochs = 100,verbose=0) #verbos degiskeni model egitilirken cikti olan loglarin nasil olacagini belirler"
      ],
<<<<<<< HEAD
      "execution_count": null,
=======
      "execution_count": 37,
>>>>>>> 57415a2b06b347f162196bd9a7ac512e7386cd1e
      "outputs": [
        {
          "output_type": "execute_result",
          "data": {
            "text/plain": [
<<<<<<< HEAD
              "<keras.callbacks.History at 0x7ff9feaf30d0>"
            ]
          },
          "metadata": {},
          "execution_count": 21
=======
              "<keras.callbacks.History at 0x7fcea8f06590>"
            ]
          },
          "metadata": {},
          "execution_count": 37
>>>>>>> 57415a2b06b347f162196bd9a7ac512e7386cd1e
        }
      ]
    },
    {
      "cell_type": "code",
      "metadata": {
        "id": "3W_2h1YKvNFa",
        "colab": {
          "base_uri": "https://localhost:8080/"
        },
<<<<<<< HEAD
        "outputId": "cae89546-5677-4468-a905-303e51912f82"
=======
        "outputId": "a0f105ff-18cd-46b6-fe35-011ef84511aa"
>>>>>>> 57415a2b06b347f162196bd9a7ac512e7386cd1e
      },
      "source": [
        "model.summary()"
      ],
<<<<<<< HEAD
      "execution_count": null,
=======
      "execution_count": 38,
>>>>>>> 57415a2b06b347f162196bd9a7ac512e7386cd1e
      "outputs": [
        {
          "output_type": "stream",
          "name": "stdout",
          "text": [
            "Model: \"Model1\"\n",
            "_________________________________________________________________\n",
            "Layer (type)                 Output Shape              Param #   \n",
            "=================================================================\n",
            "input_layer (Dense)          (None, 10)                20        \n",
            "_________________________________________________________________\n",
            "output_layer (Dense)         (None, 1)                 11        \n",
            "=================================================================\n",
            "Total params: 31\n",
            "Trainable params: 31\n",
            "Non-trainable params: 0\n",
            "_________________________________________________________________\n"
          ]
        }
      ]
    },
    {
      "cell_type": "markdown",
      "metadata": {
        "id": "nIkRS9FtwcHr"
      },
      "source": [
        "Modelimize gorsel acidan bakalim"
      ]
    },
    {
      "cell_type": "code",
      "metadata": {
        "colab": {
          "base_uri": "https://localhost:8080/",
          "height": 312
        },
        "id": "ToOh3AwqwRB3",
<<<<<<< HEAD
        "outputId": "3d5d927a-8ddc-49a0-d58f-dbc588ede28d"
=======
        "outputId": "f96807be-2a12-4f95-ca45-e08d06edc1ef"
>>>>>>> 57415a2b06b347f162196bd9a7ac512e7386cd1e
      },
      "source": [
        "from tensorflow.keras.utils import plot_model\n",
        "\n",
        "plot_model(model, show_shapes=True)"
      ],
<<<<<<< HEAD
      "execution_count": null,
=======
      "execution_count": 39,
>>>>>>> 57415a2b06b347f162196bd9a7ac512e7386cd1e
      "outputs": [
        {
          "output_type": "execute_result",
          "data": {
            "image/png": "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\n",
            "text/plain": [
              "<IPython.core.display.Image object>"
            ]
          },
          "metadata": {},
<<<<<<< HEAD
          "execution_count": 23
=======
          "execution_count": 39
>>>>>>> 57415a2b06b347f162196bd9a7ac512e7386cd1e
        }
      ]
    },
    {
      "cell_type": "markdown",
      "metadata": {
        "id": "3q4Kc_WYzI-Z"
      },
      "source": [
        "## Modelin tahminlerini gorsellestirmek"
      ]
    },
    {
      "cell_type": "code",
      "metadata": {
        "colab": {
          "base_uri": "https://localhost:8080/"
        },
        "id": "_S6-obBGws2e",
<<<<<<< HEAD
        "outputId": "89a9634b-4d35-4b03-a12b-aa5f5632333a"
=======
        "outputId": "7fbe61e6-ebef-4c29-dd4f-6a13306d0915"
>>>>>>> 57415a2b06b347f162196bd9a7ac512e7386cd1e
      },
      "source": [
        "#modelimizin test seti uzerindeki tahminleree bakalim\n",
        "y_pred = model.predict(X_test)\n",
        "y_pred"
      ],
<<<<<<< HEAD
      "execution_count": null,
=======
      "execution_count": 42,
>>>>>>> 57415a2b06b347f162196bd9a7ac512e7386cd1e
      "outputs": [
        {
          "output_type": "execute_result",
          "data": {
            "text/plain": [
<<<<<<< HEAD
              "array([[272.81207],\n",
              "       [291.01312],\n",
              "       [309.2141 ],\n",
              "       [327.41513],\n",
              "       [345.61618],\n",
              "       [363.8172 ],\n",
              "       [382.01822],\n",
              "       [400.21924],\n",
              "       [418.42026],\n",
              "       [436.62128]], dtype=float32)"
            ]
          },
          "metadata": {},
          "execution_count": 24
=======
              "array([[239.61615],\n",
              "       [255.59372],\n",
              "       [271.5713 ],\n",
              "       [287.54883],\n",
              "       [303.52643],\n",
              "       [319.504  ],\n",
              "       [335.48157],\n",
              "       [351.45914],\n",
              "       [367.4367 ],\n",
              "       [383.4143 ]], dtype=float32)"
            ]
          },
          "metadata": {},
          "execution_count": 42
>>>>>>> 57415a2b06b347f162196bd9a7ac512e7386cd1e
        }
      ]
    },
    {
      "cell_type": "code",
      "metadata": {
        "colab": {
          "base_uri": "https://localhost:8080/"
        },
        "id": "Urtplpyrzlde",
<<<<<<< HEAD
        "outputId": "0adc9a16-7abb-4e58-d646-3e713cfa0931"
=======
        "outputId": "3a291c0d-ed2a-48dd-8d19-917f7005d0ce"
>>>>>>> 57415a2b06b347f162196bd9a7ac512e7386cd1e
      },
      "source": [
        "#olmasi gereken degerlere bakalim bunlara labelda diyebiliriz\n",
        "y_test"
      ],
<<<<<<< HEAD
      "execution_count": null,
=======
      "execution_count": 43,
>>>>>>> 57415a2b06b347f162196bd9a7ac512e7386cd1e
      "outputs": [
        {
          "output_type": "execute_result",
          "data": {
            "text/plain": [
              "<tf.Tensor: shape=(10,), dtype=int32, numpy=array([240, 256, 272, 288, 304, 320, 336, 352, 368, 384], dtype=int32)>"
            ]
          },
          "metadata": {},
<<<<<<< HEAD
          "execution_count": 25
=======
          "execution_count": 43
>>>>>>> 57415a2b06b347f162196bd9a7ac512e7386cd1e
        }
      ]
    },
    {
      "cell_type": "markdown",
      "metadata": {
        "id": "h0QWkiatz80Y"
      },
      "source": [
        "Bunlari gorsellestirelim. Fonksiyon yazip bunu tekrar kullanabiliriz"
      ]
    },
    {
      "cell_type": "code",
      "metadata": {
        "id": "FiayLMCyztf_"
      },
      "source": [
        "def plot_predictions(train_data ,\n",
        "                     train_labels ,\n",
        "                     test_data ,\n",
        "                     test_labels,\n",
        "                     predictions ):\n",
        "  plt.figure(figsize=(10,7))\n",
        "  #plt.scatter(train_data, train_labels, c=\"b\",label =\"Egitim Verisi\")\n",
        "  plt.scatter(test_data, test_labels, c=\"g\",label =\"Test Verisi\")\n",
        "  plt.scatter(test_data, predictions, c=\"r\",label =\"Tahminler\")\n",
        "  plt.legend();"
      ],
<<<<<<< HEAD
      "execution_count": null,
=======
      "execution_count": 49,
>>>>>>> 57415a2b06b347f162196bd9a7ac512e7386cd1e
      "outputs": []
    },
    {
      "cell_type": "code",
      "metadata": {
        "colab": {
          "base_uri": "https://localhost:8080/",
          "height": 428
        },
        "id": "BfydDbfy1YFK",
<<<<<<< HEAD
        "outputId": "ca0c01b6-1a6a-4227-8204-eb018213f133"
=======
        "outputId": "6a0ce80b-b3a5-45a3-d283-b0b8c9b7370d"
>>>>>>> 57415a2b06b347f162196bd9a7ac512e7386cd1e
      },
      "source": [
        "plot_predictions(train_data = X_train,\n",
        "                train_labels = y_train,\n",
        "                test_data = X_test,\n",
        "                test_labels = y_test,\n",
        "                predictions = y_pred)"
      ],
<<<<<<< HEAD
      "execution_count": null,
=======
      "execution_count": 50,
>>>>>>> 57415a2b06b347f162196bd9a7ac512e7386cd1e
      "outputs": [
        {
          "output_type": "display_data",
          "data": {
<<<<<<< HEAD
            "image/png": "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\n",
=======
            "image/png": "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\n",
>>>>>>> 57415a2b06b347f162196bd9a7ac512e7386cd1e
            "text/plain": [
              "<Figure size 720x504 with 1 Axes>"
            ]
          },
          "metadata": {
            "needs_background": "light"
          }
        }
      ]
    },
    {
      "cell_type": "markdown",
      "metadata": {
        "id": "A4WI6Foi1w46"
      },
      "source": [
        "Tahminler gayet iyi oldugu icin yesil nokatarimiz cok az gorunuyor. Fonksiyonumuzdaki # i kaldirip egitim verisinide gorsellestirebiliriz"
      ]
    },
    {
      "cell_type": "markdown",
      "metadata": {
        "id": "bVJ8w-2G2lY4"
      },
      "source": [
        "### Modelimizin performansini degerlendirmek icin cesitli metriclere bakalim.()"
      ]
    },
    {
      "cell_type": "markdown",
      "metadata": {
        "id": "H_7rJNsIAuU5"
      },
      "source": [
        "mae veya mase gibi"
      ]
    },
    {
      "cell_type": "code",
      "metadata": {
        "colab": {
          "base_uri": "https://localhost:8080/"
        },
        "id": "OezlWEbW1Zd2",
<<<<<<< HEAD
        "outputId": "9746adc4-a5e4-43c6-b886-1eddd87f9af8"
=======
        "outputId": "2ea9d12f-028d-40bd-ae64-b41502a3a3ef"
>>>>>>> 57415a2b06b347f162196bd9a7ac512e7386cd1e
      },
      "source": [
        "model.evaluate(X_test, y_test)"
      ],
<<<<<<< HEAD
      "execution_count": null,
=======
      "execution_count": 51,
>>>>>>> 57415a2b06b347f162196bd9a7ac512e7386cd1e
      "outputs": [
        {
          "output_type": "stream",
          "name": "stdout",
          "text": [
<<<<<<< HEAD
            "1/1 [==============================] - 0s 126ms/step - loss: 42.7167 - mae: 42.7167\n"
=======
            "1/1 [==============================] - 0s 137ms/step - loss: 0.4848 - mae: 0.4848\n"
>>>>>>> 57415a2b06b347f162196bd9a7ac512e7386cd1e
          ]
        },
        {
          "output_type": "execute_result",
          "data": {
            "text/plain": [
<<<<<<< HEAD
              "[42.716678619384766, 42.716678619384766]"
            ]
          },
          "metadata": {},
          "execution_count": 28
=======
              "[0.4847961366176605, 0.4847961366176605]"
            ]
          },
          "metadata": {},
          "execution_count": 51
>>>>>>> 57415a2b06b347f162196bd9a7ac512e7386cd1e
        }
      ]
    },
    {
      "cell_type": "markdown",
      "metadata": {
        "id": "SJBj4vnyBQR_"
      },
      "source": [
        "loss fonk nunuda metrici de mae sectigimiz icin ayni degerleri donduler"
      ]
    },
    {
      "cell_type": "code",
      "metadata": {
        "colab": {
          "base_uri": "https://localhost:8080/"
        },
        "id": "yukxiN2oC83q",
<<<<<<< HEAD
        "outputId": "802bf967-a7dc-4c2c-8a5f-f4b32cef840e"
=======
        "outputId": "ff958188-36b6-421b-9fcc-2c719b111792"
>>>>>>> 57415a2b06b347f162196bd9a7ac512e7386cd1e
      },
      "source": [
        "tf.squeeze(y_pred)"
      ],
<<<<<<< HEAD
      "execution_count": null,
=======
      "execution_count": 55,
>>>>>>> 57415a2b06b347f162196bd9a7ac512e7386cd1e
      "outputs": [
        {
          "output_type": "execute_result",
          "data": {
            "text/plain": [
              "<tf.Tensor: shape=(10,), dtype=float32, numpy=\n",
<<<<<<< HEAD
              "array([272.81207, 291.01312, 309.2141 , 327.41513, 345.61618, 363.8172 ,\n",
              "       382.01822, 400.21924, 418.42026, 436.62128], dtype=float32)>"
            ]
          },
          "metadata": {},
          "execution_count": 29
=======
              "array([239.61615, 255.59372, 271.5713 , 287.54883, 303.52643, 319.504  ,\n",
              "       335.48157, 351.45914, 367.4367 , 383.4143 ], dtype=float32)>"
            ]
          },
          "metadata": {},
          "execution_count": 55
>>>>>>> 57415a2b06b347f162196bd9a7ac512e7386cd1e
        }
      ]
    },
    {
      "cell_type": "code",
      "metadata": {
        "colab": {
          "base_uri": "https://localhost:8080/"
        },
        "id": "gwAJA3cdBdD5",
<<<<<<< HEAD
        "outputId": "6d0e3f1a-7727-45d6-af00-eddcedaeb980"
=======
        "outputId": "33b28284-3f56-47fc-c39e-4b5fccf2b953"
>>>>>>> 57415a2b06b347f162196bd9a7ac512e7386cd1e
      },
      "source": [
        "#mean absolute error u hesaplayalim (mae)\n",
        "mae = tf.metrics.mean_absolute_error(y_test, tf.squeeze(y_pred))\n",
        "mae "
      ],
<<<<<<< HEAD
      "execution_count": null,
=======
      "execution_count": 57,
>>>>>>> 57415a2b06b347f162196bd9a7ac512e7386cd1e
      "outputs": [
        {
          "output_type": "execute_result",
          "data": {
            "text/plain": [
<<<<<<< HEAD
              "<tf.Tensor: shape=(), dtype=float32, numpy=42.716682>"
            ]
          },
          "metadata": {},
          "execution_count": 30
=======
              "<tf.Tensor: shape=(), dtype=float32, numpy=0.484787>"
            ]
          },
          "metadata": {},
          "execution_count": 57
>>>>>>> 57415a2b06b347f162196bd9a7ac512e7386cd1e
        }
      ]
    },
    {
      "cell_type": "markdown",
      "metadata": {
        "id": "elFUAg1yDLa9"
      },
      "source": [
        "goruldugu gibi evaluate fonksiyonu ile ayni ciktiyi almis olduk"
      ]
    },
    {
      "cell_type": "code",
      "metadata": {
        "colab": {
          "base_uri": "https://localhost:8080/"
        },
        "id": "eZet6AdvDP0G",
<<<<<<< HEAD
        "outputId": "4a6a247a-5735-4fe7-898e-75eb3f5ba77d"
=======
        "outputId": "f9299d57-424f-4b56-b6b3-6253ade447c4"
>>>>>>> 57415a2b06b347f162196bd9a7ac512e7386cd1e
      },
      "source": [
        "#mean square error u hesaplayalim bu da bir metrictir\n",
        "mse = tf.metrics.mean_squared_error(y_test,tf.squeeze(y_pred))\n",
        "mse"
      ],
<<<<<<< HEAD
      "execution_count": null,
=======
      "execution_count": 60,
>>>>>>> 57415a2b06b347f162196bd9a7ac512e7386cd1e
      "outputs": [
        {
          "output_type": "execute_result",
          "data": {
            "text/plain": [
<<<<<<< HEAD
              "<tf.Tensor: shape=(), dtype=float32, numpy=1864.682>"
            ]
          },
          "metadata": {},
          "execution_count": 31
=======
              "<tf.Tensor: shape=(), dtype=float32, numpy=0.23916836>"
            ]
          },
          "metadata": {},
          "execution_count": 60
>>>>>>> 57415a2b06b347f162196bd9a7ac512e7386cd1e
        }
      ]
    },
    {
      "cell_type": "code",
      "metadata": {
        "id": "cTuW9qqGDhM4"
      },
      "source": [
        "#bunlari bir fonksiyon seklinde yazalim tekrar kullanabilmek icin\n",
        "\n",
        "def mae(y_true, y_pred):\n",
        "  return tf.metrics.mean_absolute_error(y_true= y_test,\n",
        "                                        y_pred= tf.squeeze(y_pred))\n",
        "  \n",
        "def mse(y_true, y_pred):\n",
        "  return tf.metrics.mean_squared_error(y_true= y_test,\n",
        "                                        y_pred= tf.squeeze(y_pred))\n",
        "  #tf.squeeze metodunu verilerimizin shapeini benzetmek icin kullaniyoruz"
      ],
<<<<<<< HEAD
      "execution_count": null,
=======
      "execution_count": 69,
>>>>>>> 57415a2b06b347f162196bd9a7ac512e7386cd1e
      "outputs": []
    },
    {
      "cell_type": "markdown",
      "metadata": {
        "id": "qNawznLXFx_o"
      },
      "source": [
        "# Ogrendiklerimizi uygulayalim"
      ]
    },
    {
      "cell_type": "markdown",
      "metadata": {
        "id": "Zr460YoTF13_"
      },
      "source": [
        "3 tane farkli model gelistirelim\n",
        " 1. \"model_1\" - 1 katman(layer) ve 100 epochs ta egitelim.\n",
        " 2. \"model_2\" - 2 katman(layer) ve 100 epochs ta egitelim.\n",
        " 3. \"model_3\" - 2 katman (layer) ve 500 epochs ta egitelim"
      ]
    },
    {
      "cell_type": "markdown",
      "metadata": {
        "id": "FEU1F6GLGkYY"
      },
      "source": [
        "**model_1** i yapalim"
      ]
    },
    {
      "cell_type": "code",
      "metadata": {
        "id": "TAujkC83EhpK"
      },
      "source": [
        " #1modelin tanimlayalim\n",
        "model_1 =tf.keras.Sequential([                      \n",
        "          tf.keras.layers.Dense(1)\n",
        "])\n",
        "\n",
        "#modeli compile edelim\n",
        "model_1.compile(loss = tf.keras.losses.MAE,\n",
        "                optimizer = tf.keras.optimizers.SGD(),\n",
        "                metrics=[\"mae\"])\n",
        "\n",
        "#modeli fit edelim\n",
        "model_1.fit(X_train ,y_train, epochs = 100)"
      ],
      "execution_count": null,
      "outputs": []
    },
    {
      "cell_type": "code",
      "metadata": {
        "colab": {
          "base_uri": "https://localhost:8080/",
<<<<<<< HEAD
          "height": 465
        },
        "id": "5jCvusPnHsB6",
        "outputId": "6ce53920-aab7-4dfe-fa50-eba3a7894387"
=======
          "height": 428
        },
        "id": "5jCvusPnHsB6",
        "outputId": "cac4bb49-de19-4498-9740-7d861760f8ce"
>>>>>>> 57415a2b06b347f162196bd9a7ac512e7386cd1e
      },
      "source": [
        "#yukarida yazdigimiz fonksiyonu kullanarak cizdirelim\n",
        "y_pred_1 = model_1.predict(X_test)\n",
        "\n",
        "plot_predictions(train_data = X_train,\n",
        "                train_labels = y_train,\n",
        "                test_data = X_test,\n",
        "                test_labels = y_test,\n",
        "                predictions = y_pred_1)"
      ],
<<<<<<< HEAD
      "execution_count": null,
      "outputs": [
        {
          "output_type": "stream",
          "name": "stdout",
          "text": [
            "WARNING:tensorflow:5 out of the last 5 calls to <function Model.make_predict_function.<locals>.predict_function at 0x7ffa585c9cb0> triggered tf.function retracing. Tracing is expensive and the excessive number of tracings could be due to (1) creating @tf.function repeatedly in a loop, (2) passing tensors with different shapes, (3) passing Python objects instead of tensors. For (1), please define your @tf.function outside of the loop. For (2), @tf.function has experimental_relax_shapes=True option that relaxes argument shapes that can avoid unnecessary retracing. For (3), please refer to https://www.tensorflow.org/guide/function#controlling_retracing and https://www.tensorflow.org/api_docs/python/tf/function for  more details.\n"
          ]
        },
        {
=======
      "execution_count": 65,
      "outputs": [
        {
>>>>>>> 57415a2b06b347f162196bd9a7ac512e7386cd1e
          "output_type": "display_data",
          "data": {
            "image/png": "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\n",
            "text/plain": [
              "<Figure size 720x504 with 1 Axes>"
            ]
          },
          "metadata": {
            "needs_background": "light"
          }
        }
      ]
    },
    {
      "cell_type": "code",
      "metadata": {
        "colab": {
          "base_uri": "https://localhost:8080/"
        },
        "id": "wd8TZnBJIF4_",
<<<<<<< HEAD
        "outputId": "b7ee1dcc-be39-4fbd-f1c0-f07027cbc586"
=======
        "outputId": "732b1788-19d6-4c65-beee-a9018ae0ab7f"
>>>>>>> 57415a2b06b347f162196bd9a7ac512e7386cd1e
      },
      "source": [
        "#model_1 icin degerlendirme metriklerine bakalim\n",
        "mae_1 = mae(y_test, y_pred_1)\n",
        "mse_1 = mse(y_test, y_pred_1)\n",
        "\n",
        "mae_1 , mse_1"
      ],
<<<<<<< HEAD
      "execution_count": null,
=======
      "execution_count": 70,
>>>>>>> 57415a2b06b347f162196bd9a7ac512e7386cd1e
      "outputs": [
        {
          "output_type": "execute_result",
          "data": {
            "text/plain": [
<<<<<<< HEAD
              "(<tf.Tensor: shape=(), dtype=float32, numpy=33.492638>,\n",
              " <tf.Tensor: shape=(), dtype=float32, numpy=1146.1062>)"
            ]
          },
          "metadata": {},
          "execution_count": 35
=======
              "(<tf.Tensor: shape=(), dtype=float32, numpy=33.49416>,\n",
              " <tf.Tensor: shape=(), dtype=float32, numpy=1146.2102>)"
            ]
          },
          "metadata": {},
          "execution_count": 70
>>>>>>> 57415a2b06b347f162196bd9a7ac512e7386cd1e
        }
      ]
    },
    {
      "cell_type": "markdown",
      "metadata": {
        "id": "BMSoFqvoNqlx"
      },
      "source": [
        "**model_2**\n",
        "\n",
        "* 2 dense layers , 100 epochs"
      ]
    },
    {
      "cell_type": "code",
      "metadata": {
        "id": "KswcIKiBM4Wj"
      },
      "source": [
        "#modelin tanimlayalim\n",
        "model_2 =tf.keras.Sequential([                      \n",
        "          tf.keras.layers.Dense(10), #10 tane gizli katman(hidden layer) ekleyelim \n",
        "          tf.keras.layers.Dense(1)\n",
        "])\n",
        "\n",
        "#modeli compile edelim\n",
        "model_2.compile(loss = tf.keras.losses.MAE,\n",
        "                optimizer = tf.keras.optimizers.SGD(),\n",
        "                metrics=[\"mae\"])\n",
        "\n",
        "#modeli fit edelim\n",
        "model_2.fit(X_train ,y_train, epochs = 100)"
      ],
      "execution_count": null,
      "outputs": []
    },
    {
      "cell_type": "code",
      "metadata": {
        "colab": {
          "base_uri": "https://localhost:8080/",
          "height": 465
        },
        "id": "4EhvH_htOVHi",
<<<<<<< HEAD
        "outputId": "732b0acc-88ed-4697-8c2b-8978e9b2fba5"
=======
        "outputId": "c001a59e-9dfa-4945-feca-dcf50dcc4428"
>>>>>>> 57415a2b06b347f162196bd9a7ac512e7386cd1e
      },
      "source": [
        "#yukarida yazdigimiz fonksiyonu kullanarak cizdirelim\n",
        "y_pred_2 = model_2.predict(X_test)\n",
        "\n",
        "plot_predictions(train_data = X_train,\n",
        "                train_labels = y_train,\n",
        "                test_data = X_test,\n",
        "                test_labels = y_test,\n",
        "                predictions = y_pred_2)"
      ],
<<<<<<< HEAD
      "execution_count": null,
=======
      "execution_count": 73,
>>>>>>> 57415a2b06b347f162196bd9a7ac512e7386cd1e
      "outputs": [
        {
          "output_type": "stream",
          "name": "stdout",
          "text": [
<<<<<<< HEAD
            "WARNING:tensorflow:6 out of the last 6 calls to <function Model.make_predict_function.<locals>.predict_function at 0x7ffa01bb3c20> triggered tf.function retracing. Tracing is expensive and the excessive number of tracings could be due to (1) creating @tf.function repeatedly in a loop, (2) passing tensors with different shapes, (3) passing Python objects instead of tensors. For (1), please define your @tf.function outside of the loop. For (2), @tf.function has experimental_relax_shapes=True option that relaxes argument shapes that can avoid unnecessary retracing. For (3), please refer to https://www.tensorflow.org/guide/function#controlling_retracing and https://www.tensorflow.org/api_docs/python/tf/function for  more details.\n"
=======
            "WARNING:tensorflow:6 out of the last 9 calls to <function Model.make_predict_function.<locals>.predict_function at 0x7fcea4e2add0> triggered tf.function retracing. Tracing is expensive and the excessive number of tracings could be due to (1) creating @tf.function repeatedly in a loop, (2) passing tensors with different shapes, (3) passing Python objects instead of tensors. For (1), please define your @tf.function outside of the loop. For (2), @tf.function has experimental_relax_shapes=True option that relaxes argument shapes that can avoid unnecessary retracing. For (3), please refer to https://www.tensorflow.org/guide/function#controlling_retracing and https://www.tensorflow.org/api_docs/python/tf/function for  more details.\n"
>>>>>>> 57415a2b06b347f162196bd9a7ac512e7386cd1e
          ]
        },
        {
          "output_type": "display_data",
          "data": {
<<<<<<< HEAD
            "image/png": "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\n",
=======
            "image/png": "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\n",
>>>>>>> 57415a2b06b347f162196bd9a7ac512e7386cd1e
            "text/plain": [
              "<Figure size 720x504 with 1 Axes>"
            ]
          },
          "metadata": {
            "needs_background": "light"
          }
        }
      ]
    },
    {
      "cell_type": "markdown",
      "metadata": {
        "id": "leN4ipd9OtYK"
      },
      "source": [
        "Grafikleri karsilastigimizda ekledigimiz katman ile model daha iyi bir performans sergiledigini gorebiliriz"
      ]
    },
    {
      "cell_type": "code",
      "metadata": {
        "colab": {
          "base_uri": "https://localhost:8080/"
        },
        "id": "o9t_LL6dOqJH",
<<<<<<< HEAD
        "outputId": "5d158fc6-1b61-43df-999f-39f451e913b2"
=======
        "outputId": "659b0a49-fe8c-4099-99f8-001cc2bb2bda"
>>>>>>> 57415a2b06b347f162196bd9a7ac512e7386cd1e
      },
      "source": [
        "#model_2 icin degerlendirme metriklerine bakalim\n",
        "mae_2 = mae(y_test, y_pred_2)\n",
        "mse_2 = mse(y_test, y_pred_2)\n",
        "\n",
        "mae_2 , mse_2"
      ],
<<<<<<< HEAD
      "execution_count": null,
=======
      "execution_count": 74,
>>>>>>> 57415a2b06b347f162196bd9a7ac512e7386cd1e
      "outputs": [
        {
          "output_type": "execute_result",
          "data": {
            "text/plain": [
<<<<<<< HEAD
              "(<tf.Tensor: shape=(), dtype=float32, numpy=5.608266>,\n",
              " <tf.Tensor: shape=(), dtype=float32, numpy=32.146828>)"
            ]
          },
          "metadata": {},
          "execution_count": 38
=======
              "(<tf.Tensor: shape=(), dtype=float32, numpy=8.179173>,\n",
              " <tf.Tensor: shape=(), dtype=float32, numpy=68.36714>)"
            ]
          },
          "metadata": {},
          "execution_count": 74
>>>>>>> 57415a2b06b347f162196bd9a7ac512e7386cd1e
        }
      ]
    },
    {
      "cell_type": "markdown",
      "metadata": {
        "id": "yktL8wFAPBgq"
      },
      "source": [
        "**model_3**\n",
        "\n",
        "* 2 layers , 500 epochs"
      ]
    },
    {
      "cell_type": "code",
      "metadata": {
        "id": "2w8tpvLoO9Cg"
      },
      "source": [
        "#modelin tanimlayalim\n",
        "model_3 =tf.keras.Sequential([                      \n",
        "          tf.keras.layers.Dense(10), #10 tane gizli katman(hidden layer) ekleyelim \n",
        "          tf.keras.layers.Dense(1)\n",
        "])\n",
        "\n",
        "#modeli compile edelim\n",
        "model_3.compile(loss = tf.keras.losses.MAE,\n",
        "                optimizer = tf.keras.optimizers.SGD(),\n",
        "                metrics=[\"mae\"])\n",
        "\n",
        "#modeli fit edelim\n",
        "model_3.fit(X_train ,y_train, epochs = 500)"
      ],
      "execution_count": null,
      "outputs": []
    },
    {
      "cell_type": "code",
      "metadata": {
        "colab": {
          "base_uri": "https://localhost:8080/",
<<<<<<< HEAD
          "height": 428
        },
        "id": "oCUfB5E5PYtn",
        "outputId": "fb211cbd-8a08-4dfa-8efd-0e1c4d191084"
=======
          "height": 431
        },
        "id": "oCUfB5E5PYtn",
        "outputId": "be06f188-7783-4ec5-c6aa-b07970085eae"
>>>>>>> 57415a2b06b347f162196bd9a7ac512e7386cd1e
      },
      "source": [
        "#yukarida yazdigimiz fonksiyonu kullanarak cizdirelim\n",
        "y_pred_3 = model_3.predict(X_test)\n",
        "\n",
        "plot_predictions(train_data = X_train,\n",
        "                train_labels = y_train,\n",
        "                test_data = X_test,\n",
        "                test_labels = y_test,\n",
        "                predictions = y_pred_3)"
      ],
<<<<<<< HEAD
      "execution_count": null,
=======
      "execution_count": 76,
>>>>>>> 57415a2b06b347f162196bd9a7ac512e7386cd1e
      "outputs": [
        {
          "output_type": "display_data",
          "data": {
<<<<<<< HEAD
            "image/png": "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\n",
=======
            "image/png": "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\n",
>>>>>>> 57415a2b06b347f162196bd9a7ac512e7386cd1e
            "text/plain": [
              "<Figure size 720x504 with 1 Axes>"
            ]
          },
          "metadata": {
            "needs_background": "light"
          }
        }
      ]
    },
    {
      "cell_type": "markdown",
      "metadata": {
        "id": "0hBvxpBXPiSL"
      },
      "source": [
        "Grafikte gordugumuz gibi model_3 en kotu performansa sahip modelimiz oldu. Modelimizin epochs sayisi cok fazla geldi. Modelimiz verileri fazlasiyla gormesiyle verileri ezberleme basladi. Bu bizi overfitting (asiri ogrenme) sorunuyla karsilastirdi."
      ]
    },
    {
      "cell_type": "code",
      "metadata": {
        "colab": {
          "base_uri": "https://localhost:8080/"
        },
        "id": "nF3GQyQIPdiZ",
<<<<<<< HEAD
        "outputId": "42cbcd1d-8807-41ac-c977-de90855c3006"
=======
        "outputId": "29c67c4d-b2f7-4264-de15-f099dbadce06"
>>>>>>> 57415a2b06b347f162196bd9a7ac512e7386cd1e
      },
      "source": [
        "#model_2 icin degerlendirme metriklerine bakalim\n",
        "mae_3 = mae(y_test, y_pred_3)\n",
        "mse_3 = mse(y_test, y_pred_3)\n",
        "\n",
        "mae_3 , mse_3"
      ],
<<<<<<< HEAD
      "execution_count": null,
=======
      "execution_count": 77,
>>>>>>> 57415a2b06b347f162196bd9a7ac512e7386cd1e
      "outputs": [
        {
          "output_type": "execute_result",
          "data": {
            "text/plain": [
<<<<<<< HEAD
              "(<tf.Tensor: shape=(), dtype=float32, numpy=465.04266>,\n",
              " <tf.Tensor: shape=(), dtype=float32, numpy=220952.2>)"
            ]
          },
          "metadata": {},
          "execution_count": 41
=======
              "(<tf.Tensor: shape=(), dtype=float32, numpy=261.31485>,\n",
              " <tf.Tensor: shape=(), dtype=float32, numpy=69762.89>)"
            ]
          },
          "metadata": {},
          "execution_count": 77
>>>>>>> 57415a2b06b347f162196bd9a7ac512e7386cd1e
        }
      ]
    },
    {
      "cell_type": "markdown",
      "metadata": {
        "id": "76XudpR_QTbA"
      },
      "source": [
        "# Modellerimizi karsilastiralim"
      ]
    },
    {
      "cell_type": "code",
      "metadata": {
        "colab": {
          "base_uri": "https://localhost:8080/",
          "height": 142
        },
        "id": "xmRpDXXQP_xR",
<<<<<<< HEAD
        "outputId": "1619363f-5317-4afb-95be-eb1db334d82a"
=======
        "outputId": "6c7eaa1b-b4e5-4c10-f4c6-9a5b4fc8462c"
>>>>>>> 57415a2b06b347f162196bd9a7ac512e7386cd1e
      },
      "source": [
        "import pandas as pd\n",
        "\n",
        "model_results = [[\"model_1\", mae_1.numpy(), mse_1.numpy()],\n",
        "                [\"model_2\", mae_2.numpy(), mse_2.numpy()],\n",
        "                [\"model_3\", mae_3.numpy(), mse_3.numpy()]]\n",
        "\n",
        "all_results = pd.DataFrame(model_results, columns=[\"model\",\"mae\",\"mse\"])\n",
        "all_results\n"
      ],
<<<<<<< HEAD
      "execution_count": null,
=======
      "execution_count": 79,
>>>>>>> 57415a2b06b347f162196bd9a7ac512e7386cd1e
      "outputs": [
        {
          "output_type": "execute_result",
          "data": {
            "text/html": [
              "<div>\n",
              "<style scoped>\n",
              "    .dataframe tbody tr th:only-of-type {\n",
              "        vertical-align: middle;\n",
              "    }\n",
              "\n",
              "    .dataframe tbody tr th {\n",
              "        vertical-align: top;\n",
              "    }\n",
              "\n",
              "    .dataframe thead th {\n",
              "        text-align: right;\n",
              "    }\n",
              "</style>\n",
              "<table border=\"1\" class=\"dataframe\">\n",
              "  <thead>\n",
              "    <tr style=\"text-align: right;\">\n",
              "      <th></th>\n",
              "      <th>model</th>\n",
              "      <th>mae</th>\n",
              "      <th>mse</th>\n",
              "    </tr>\n",
              "  </thead>\n",
              "  <tbody>\n",
              "    <tr>\n",
              "      <th>0</th>\n",
              "      <td>model_1</td>\n",
<<<<<<< HEAD
              "      <td>33.492638</td>\n",
              "      <td>1146.106201</td>\n",
=======
              "      <td>33.494160</td>\n",
              "      <td>1146.210205</td>\n",
>>>>>>> 57415a2b06b347f162196bd9a7ac512e7386cd1e
              "    </tr>\n",
              "    <tr>\n",
              "      <th>1</th>\n",
              "      <td>model_2</td>\n",
<<<<<<< HEAD
              "      <td>5.608266</td>\n",
              "      <td>32.146828</td>\n",
=======
              "      <td>8.179173</td>\n",
              "      <td>68.367142</td>\n",
>>>>>>> 57415a2b06b347f162196bd9a7ac512e7386cd1e
              "    </tr>\n",
              "    <tr>\n",
              "      <th>2</th>\n",
              "      <td>model_3</td>\n",
<<<<<<< HEAD
              "      <td>465.042664</td>\n",
              "      <td>220952.203125</td>\n",
=======
              "      <td>261.314850</td>\n",
              "      <td>69762.890625</td>\n",
>>>>>>> 57415a2b06b347f162196bd9a7ac512e7386cd1e
              "    </tr>\n",
              "  </tbody>\n",
              "</table>\n",
              "</div>"
            ],
            "text/plain": [
<<<<<<< HEAD
              "     model         mae            mse\n",
              "0  model_1   33.492638    1146.106201\n",
              "1  model_2    5.608266      32.146828\n",
              "2  model_3  465.042664  220952.203125"
            ]
          },
          "metadata": {},
          "execution_count": 42
=======
              "     model         mae           mse\n",
              "0  model_1   33.494160   1146.210205\n",
              "1  model_2    8.179173     68.367142\n",
              "2  model_3  261.314850  69762.890625"
            ]
          },
          "metadata": {},
          "execution_count": 79
>>>>>>> 57415a2b06b347f162196bd9a7ac512e7386cd1e
        }
      ]
    },
    {
      "cell_type": "markdown",
      "metadata": {
        "id": "OpLk9F6-RiaC"
      },
      "source": [
        "en iyi modelimiz model_2 oldu onu inceleyelim"
      ]
    },
    {
      "cell_type": "code",
      "metadata": {
        "colab": {
          "base_uri": "https://localhost:8080/"
        },
        "id": "6jEDk0VWRUJR",
<<<<<<< HEAD
        "outputId": "c3d7761e-ec24-4568-f254-9d0ecd664660"
      },
      "source": [
        "model_2.summary()"
      ],
      "execution_count": null,
      "outputs": [
        {
          "output_type": "stream",
          "name": "stdout",
          "text": [
            "Model: \"sequential_4\"\n",
            "_________________________________________________________________\n",
            "Layer (type)                 Output Shape              Param #   \n",
            "=================================================================\n",
            "dense_5 (Dense)              (None, 10)                20        \n",
            "_________________________________________________________________\n",
            "dense_6 (Dense)              (None, 1)                 11        \n",
            "=================================================================\n",
            "Total params: 31\n",
            "Trainable params: 31\n",
            "Non-trainable params: 0\n",
            "_________________________________________________________________\n"
          ]
        }
      ]
    },
    {
      "cell_type": "markdown",
      "metadata": {
        "id": "Zi8fG5r4E4AW"
      },
      "source": [
        "Modeli kaydetmek"
      ]
    },
    {
      "cell_type": "code",
      "metadata": {
        "id": "EFeT0qE9Rhu_",
        "colab": {
          "base_uri": "https://localhost:8080/"
        },
        "outputId": "ca4fb67f-79c1-4192-ad27-2a2c72d66344"
      },
      "source": [
        "model_2.save(\"model_2\") #modeli kaydetmek icin nereye edecegini yazdik"
      ],
      "execution_count": null,
      "outputs": [
        {
          "output_type": "stream",
          "name": "stdout",
          "text": [
            "INFO:tensorflow:Assets written to: model_2/assets\n"
          ]
        }
      ]
    },
    {
      "cell_type": "markdown",
      "metadata": {
        "id": "vMCni-1gFZTy"
      },
      "source": [
        "farkli bir formatta edelim"
      ]
    },
    {
      "cell_type": "code",
      "metadata": {
        "id": "yL7GIeCkFQKN"
      },
      "source": [
        "model_2.save(\"model_2_HDF5_format.h5\")"
      ],
      "execution_count": null,
      "outputs": []
    },
    {
      "cell_type": "markdown",
      "metadata": {
        "id": "me4LNrweFtzX"
      },
      "source": [
        "modelin dogru kaydedildigini kontrol etmek icin kaydedilmis modeli yukleyelim"
      ]
    },
    {
      "cell_type": "code",
      "metadata": {
        "id": "Zo-vwRMtFkIl"
      },
      "source": [
        "loaded_model_2 = tf.keras.models.load_model(\"/content/model_2_HDF5_format.h5\")\n",
        "#sadece ice aktaracagimiz modelin dosya yolunu yazdik"
      ],
      "execution_count": null,
      "outputs": []
    },
    {
      "cell_type": "code",
      "metadata": {
        "colab": {
          "base_uri": "https://localhost:8080/"
        },
        "id": "5D040bRJGIoS",
        "outputId": "bab1946f-086c-4455-c089-b3a4c6a8efaa"
      },
      "source": [
        "loaded_model_2.summary()"
      ],
      "execution_count": null,
      "outputs": [
        {
          "output_type": "stream",
          "name": "stdout",
          "text": [
            "Model: \"sequential_4\"\n",
            "_________________________________________________________________\n",
            "Layer (type)                 Output Shape              Param #   \n",
            "=================================================================\n",
            "dense_5 (Dense)              (None, 10)                20        \n",
            "_________________________________________________________________\n",
            "dense_6 (Dense)              (None, 1)                 11        \n",
            "=================================================================\n",
            "Total params: 31\n",
            "Trainable params: 31\n",
            "Non-trainable params: 0\n",
            "_________________________________________________________________\n"
          ]
        }
      ]
    },
    {
      "cell_type": "code",
      "metadata": {
        "colab": {
          "base_uri": "https://localhost:8080/"
        },
        "id": "11KOur6gGLGM",
        "outputId": "1796016e-ede4-4710-f900-ffbb690212bd"
=======
        "outputId": "c5ce8eeb-854d-4cbc-f325-569805e8b932"
>>>>>>> 57415a2b06b347f162196bd9a7ac512e7386cd1e
      },
      "source": [
        "model_2.summary()"
      ],
<<<<<<< HEAD
      "execution_count": null,
=======
      "execution_count": 81,
>>>>>>> 57415a2b06b347f162196bd9a7ac512e7386cd1e
      "outputs": [
        {
          "output_type": "stream",
          "name": "stdout",
          "text": [
<<<<<<< HEAD
            "Model: \"sequential_4\"\n",
            "_________________________________________________________________\n",
            "Layer (type)                 Output Shape              Param #   \n",
            "=================================================================\n",
            "dense_5 (Dense)              (None, 10)                20        \n",
            "_________________________________________________________________\n",
            "dense_6 (Dense)              (None, 1)                 11        \n",
=======
            "Model: \"sequential_5\"\n",
            "_________________________________________________________________\n",
            "Layer (type)                 Output Shape              Param #   \n",
            "=================================================================\n",
            "dense_6 (Dense)              (None, 10)                20        \n",
            "_________________________________________________________________\n",
            "dense_7 (Dense)              (None, 1)                 11        \n",
>>>>>>> 57415a2b06b347f162196bd9a7ac512e7386cd1e
            "=================================================================\n",
            "Total params: 31\n",
            "Trainable params: 31\n",
            "Non-trainable params: 0\n",
            "_________________________________________________________________\n"
          ]
        }
      ]
    },
    {
<<<<<<< HEAD
      "cell_type": "markdown",
      "metadata": {
        "id": "Vs2oZy18GW4d"
      },
      "source": [
        "goruldugu uzere ayni modeller"
      ]
    },
    {
      "cell_type": "code",
      "metadata": {
        "colab": {
          "base_uri": "https://localhost:8080/"
        },
        "id": "lWT8IcvnGQC8",
        "outputId": "f8191ee9-e9ed-46b7-e70b-691fe6b83f8a"
      },
      "source": [
        "model_2_preds = model_2.predict(X_test)\n",
        "loaded_model_preds = loaded_model_2.predict(X_test)\n",
        "model_2_preds == loaded_model_preds"
      ],
      "execution_count": null,
      "outputs": [
        {
          "output_type": "execute_result",
          "data": {
            "text/plain": [
              "array([[ True],\n",
              "       [ True],\n",
              "       [ True],\n",
              "       [ True],\n",
              "       [ True],\n",
              "       [ True],\n",
              "       [ True],\n",
              "       [ True],\n",
              "       [ True],\n",
              "       [ True]])"
            ]
          },
          "metadata": {},
          "execution_count": 54
        }
      ]
    },
    {
      "cell_type": "markdown",
      "metadata": {
        "id": "JIl7o1fVHVnj"
      },
      "source": [
        "gordugunuz gibi yaptiklari tahminlerde birbirine esit"
      ]
    },
    {
      "cell_type": "code",
      "metadata": {
        "id": "W6W9akKOHUP1"
=======
      "cell_type": "code",
      "metadata": {
        "id": "EFeT0qE9Rhu_"
>>>>>>> 57415a2b06b347f162196bd9a7ac512e7386cd1e
      },
      "source": [
        ""
      ],
      "execution_count": null,
      "outputs": []
    }
  ]
}