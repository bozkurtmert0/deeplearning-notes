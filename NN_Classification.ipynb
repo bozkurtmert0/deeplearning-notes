{
  "nbformat": 4,
  "nbformat_minor": 0,
  "metadata": {
    "accelerator": "GPU",
    "colab": {
      "name": "NN_Classification.ipynb",
      "provenance": []
    },
    "kernelspec": {
      "display_name": "Python 3",
      "name": "python3"
    },
    "language_info": {
      "name": "python"
    }
  },
  "cells": [
    {
      "cell_type": "markdown",
      "metadata": {
        "id": "Scs8onfhZVpM"
      },
      "source": [
        "# Creating Data"
      ]
    },
    {
      "cell_type": "code",
      "metadata": {
        "id": "mCmFwHkGXeJk"
      },
      "source": [
        "#ornek olusturmak icin bir veri seti olusturucusu basit sekilde\n",
        "from sklearn.datasets import make_circles\n",
        "\n",
        "#kac adet ornek icerecegi\n",
        "n_samples = 10000\n",
        "\n",
        "#olusturalim\n",
        "X, y = make_circles(n_samples,\n",
        "                    noise = 0.03,\n",
        "                    random_state =43)"
      ],
      "execution_count": 1,
      "outputs": []
    },
    {
      "cell_type": "markdown",
      "metadata": {
        "id": "VI9cOfR_aT_G"
      },
      "source": [
        "Verimizi inceleyelim"
      ]
    },
    {
      "cell_type": "code",
      "metadata": {
        "colab": {
          "base_uri": "https://localhost:8080/"
        },
        "id": "CQhitjvtaR7W",
        "outputId": "932d4add-be15-4bbe-e2cc-501a81ca69d6"
      },
      "source": [
        "X"
      ],
      "execution_count": 2,
      "outputs": [
        {
          "output_type": "execute_result",
          "data": {
            "text/plain": [
              "array([[ 0.64499139, -0.5548348 ],\n",
              "       [-0.09155029,  0.76526084],\n",
              "       [-0.59846096, -0.5020346 ],\n",
              "       ...,\n",
              "       [-0.66059051, -0.5000104 ],\n",
              "       [-0.97435605,  0.28935059],\n",
              "       [-0.48026755, -0.87332996]])"
            ]
          },
          "metadata": {},
          "execution_count": 2
        }
      ]
    },
    {
      "cell_type": "code",
      "metadata": {
        "colab": {
          "base_uri": "https://localhost:8080/"
        },
        "id": "jfiQhVhCaX4v",
        "outputId": "896634c5-6bd8-46bc-ebfd-68ef4a3212a7"
      },
      "source": [
        "y"
      ],
      "execution_count": 3,
      "outputs": [
        {
          "output_type": "execute_result",
          "data": {
            "text/plain": [
              "array([1, 1, 1, ..., 1, 0, 0])"
            ]
          },
          "metadata": {},
          "execution_count": 3
        }
      ]
    },
    {
      "cell_type": "markdown",
      "metadata": {
        "id": "kVdQM1cvad4t"
      },
      "source": [
        "labellarimiza baktigimizda sadece 0 ve 1 leri goruyoruz yani bi bir binary classification yani ikili siniflandirma verisidir"
      ]
    },
    {
      "cell_type": "markdown",
      "metadata": {
        "id": "gIlH6dl3ay-s"
      },
      "source": [
        "daha guzel sekilde bakmak icin bir dataframe olsuturalim"
      ]
    },
    {
      "cell_type": "code",
      "metadata": {
        "colab": {
          "base_uri": "https://localhost:8080/",
          "height": 417
        },
        "id": "P0BUXSvTabkb",
        "outputId": "de8cea3c-4e2b-43fc-984f-1d5167e7047c"
      },
      "source": [
        "import pandas as pd\n",
        "\n",
        "circles = pd.DataFrame({\"X0\":X[:,0],\"X1\":X[:,1], \"label\": y})\n",
        "circles"
      ],
      "execution_count": 4,
      "outputs": [
        {
          "output_type": "execute_result",
          "data": {
            "text/html": [
              "<div>\n",
              "<style scoped>\n",
              "    .dataframe tbody tr th:only-of-type {\n",
              "        vertical-align: middle;\n",
              "    }\n",
              "\n",
              "    .dataframe tbody tr th {\n",
              "        vertical-align: top;\n",
              "    }\n",
              "\n",
              "    .dataframe thead th {\n",
              "        text-align: right;\n",
              "    }\n",
              "</style>\n",
              "<table border=\"1\" class=\"dataframe\">\n",
              "  <thead>\n",
              "    <tr style=\"text-align: right;\">\n",
              "      <th></th>\n",
              "      <th>X0</th>\n",
              "      <th>X1</th>\n",
              "      <th>label</th>\n",
              "    </tr>\n",
              "  </thead>\n",
              "  <tbody>\n",
              "    <tr>\n",
              "      <th>0</th>\n",
              "      <td>0.644991</td>\n",
              "      <td>-0.554835</td>\n",
              "      <td>1</td>\n",
              "    </tr>\n",
              "    <tr>\n",
              "      <th>1</th>\n",
              "      <td>-0.091550</td>\n",
              "      <td>0.765261</td>\n",
              "      <td>1</td>\n",
              "    </tr>\n",
              "    <tr>\n",
              "      <th>2</th>\n",
              "      <td>-0.598461</td>\n",
              "      <td>-0.502035</td>\n",
              "      <td>1</td>\n",
              "    </tr>\n",
              "    <tr>\n",
              "      <th>3</th>\n",
              "      <td>-0.750643</td>\n",
              "      <td>-0.255237</td>\n",
              "      <td>1</td>\n",
              "    </tr>\n",
              "    <tr>\n",
              "      <th>4</th>\n",
              "      <td>1.021241</td>\n",
              "      <td>-0.013013</td>\n",
              "      <td>0</td>\n",
              "    </tr>\n",
              "    <tr>\n",
              "      <th>...</th>\n",
              "      <td>...</td>\n",
              "      <td>...</td>\n",
              "      <td>...</td>\n",
              "    </tr>\n",
              "    <tr>\n",
              "      <th>9995</th>\n",
              "      <td>-0.298812</td>\n",
              "      <td>-0.743841</td>\n",
              "      <td>1</td>\n",
              "    </tr>\n",
              "    <tr>\n",
              "      <th>9996</th>\n",
              "      <td>-0.834559</td>\n",
              "      <td>0.524279</td>\n",
              "      <td>0</td>\n",
              "    </tr>\n",
              "    <tr>\n",
              "      <th>9997</th>\n",
              "      <td>-0.660591</td>\n",
              "      <td>-0.500010</td>\n",
              "      <td>1</td>\n",
              "    </tr>\n",
              "    <tr>\n",
              "      <th>9998</th>\n",
              "      <td>-0.974356</td>\n",
              "      <td>0.289351</td>\n",
              "      <td>0</td>\n",
              "    </tr>\n",
              "    <tr>\n",
              "      <th>9999</th>\n",
              "      <td>-0.480268</td>\n",
              "      <td>-0.873330</td>\n",
              "      <td>0</td>\n",
              "    </tr>\n",
              "  </tbody>\n",
              "</table>\n",
              "<p>10000 rows × 3 columns</p>\n",
              "</div>"
            ],
            "text/plain": [
              "            X0        X1  label\n",
              "0     0.644991 -0.554835      1\n",
              "1    -0.091550  0.765261      1\n",
              "2    -0.598461 -0.502035      1\n",
              "3    -0.750643 -0.255237      1\n",
              "4     1.021241 -0.013013      0\n",
              "...        ...       ...    ...\n",
              "9995 -0.298812 -0.743841      1\n",
              "9996 -0.834559  0.524279      0\n",
              "9997 -0.660591 -0.500010      1\n",
              "9998 -0.974356  0.289351      0\n",
              "9999 -0.480268 -0.873330      0\n",
              "\n",
              "[10000 rows x 3 columns]"
            ]
          },
          "metadata": {},
          "execution_count": 4
        }
      ]
    },
    {
      "cell_type": "markdown",
      "metadata": {
        "id": "ehY-1z_-bUV1"
      },
      "source": [
        "2 girdimiz yani ozelligimiz ve 1 ciktimiz var"
      ]
    },
    {
      "cell_type": "markdown",
      "metadata": {
        "id": "g4WzsiIkbY01"
      },
      "source": [
        "plot seklinde bakalim ki verimizi daha iyi anlayalim"
      ]
    },
    {
      "cell_type": "code",
      "metadata": {
        "colab": {
          "base_uri": "https://localhost:8080/",
          "height": 265
        },
        "id": "vRhX6QYPbINc",
        "outputId": "ce8f7bf9-2073-4045-ad7a-a6a6b2556923"
      },
      "source": [
        "import matplotlib.pyplot as plt\n",
        "plt.scatter(X[:, 0], X[:,1], c=y, cmap= plt.cm.RdYlBu);"
      ],
      "execution_count": 5,
      "outputs": [
        {
          "output_type": "display_data",
          "data": {
            "image/png": "[encoded data removed]",
            "text/plain": [
              "<Figure size 432x288 with 1 Axes>"
            ]
          },
          "metadata": {
            "needs_background": "light"
          }
        }
      ]
    },
    {
      "cell_type": "markdown",
      "metadata": {
        "id": "9pxx_YhKb9-N"
      },
      "source": [
        "burada yapmak istedigimiz sey mavi ve kirmizi noktalari ayirarak onlari siniflandirmak olacaktir"
      ]
    },
    {
      "cell_type": "markdown",
      "metadata": {
        "id": "IL3rn_6Md6uG"
      },
      "source": [
        "# Input and output shapes"
      ]
    },
    {
      "cell_type": "markdown",
      "metadata": {
        "id": "ftTSzQmzeVyd"
      },
      "source": [
        "X yani inputlarimiz 2 boyutlu outputlarimiz tek boyutlu"
      ]
    },
    {
      "cell_type": "code",
      "metadata": {
        "colab": {
          "base_uri": "https://localhost:8080/"
        },
        "id": "tgAORkzjbzGD",
        "outputId": "18b65af9-7e29-4916-9387-d33ff318b10f"
      },
      "source": [
        "X.shape, y.shape"
      ],
      "execution_count": 6,
      "outputs": [
        {
          "output_type": "execute_result",
          "data": {
            "text/plain": [
              "((10000, 2), (10000,))"
            ]
          },
          "metadata": {},
          "execution_count": 6
        }
      ]
    },
    {
      "cell_type": "markdown",
      "metadata": {
        "id": "Tin-cU-IejbN"
      },
      "source": [
        "ne kadar verimiz vardi?\n"
      ]
    },
    {
      "cell_type": "code",
      "metadata": {
        "colab": {
          "base_uri": "https://localhost:8080/"
        },
        "id": "zydTiZeweG1u",
        "outputId": "215ef84e-c989-4a77-8c1b-947fceb20485"
      },
      "source": [
        "len(X), len(y)"
      ],
      "execution_count": 7,
      "outputs": [
        {
          "output_type": "execute_result",
          "data": {
            "text/plain": [
              "(10000, 10000)"
            ]
          },
          "metadata": {},
          "execution_count": 7
        }
      ]
    },
    {
      "cell_type": "markdown",
      "metadata": {
        "id": "qcNl0yHYermt"
      },
      "source": [
        "ilk verimize bakalim"
      ]
    },
    {
      "cell_type": "code",
      "metadata": {
        "colab": {
          "base_uri": "https://localhost:8080/"
        },
        "id": "ZKMKvcYyeNbr",
        "outputId": "2864bcfb-5a7f-4066-e4a3-b9a6dc734edc"
      },
      "source": [
        "X[0], y[0]"
      ],
      "execution_count": 8,
      "outputs": [
        {
          "output_type": "execute_result",
          "data": {
            "text/plain": [
              "(array([ 0.64499139, -0.5548348 ]), 1)"
            ]
          },
          "metadata": {},
          "execution_count": 8
        }
      ]
    },
    {
      "cell_type": "markdown",
      "metadata": {
        "id": "qVwBHuahe5h-"
      },
      "source": [
        "# Modelling\n",
        "Modelimizi olusturmaya baslayalim"
      ]
    },
    {
      "cell_type": "code",
      "metadata": {
        "id": "PlbrK9f8fbnX"
      },
      "source": [
        "import tensorflow as tf\n"
      ],
      "execution_count": 9,
      "outputs": []
    },
    {
      "cell_type": "code",
      "metadata": {
        "colab": {
          "base_uri": "https://localhost:8080/"
        },
        "id": "_MHalh5bevkt",
        "outputId": "e2ce91ee-2dd8-4b8b-f289-23cd367c971b"
      },
      "source": [
        "#create the model\n",
        "model_1 = tf.keras.Sequential([\n",
        "        tf.keras.layers.Dense(1)                        \n",
        "               ])\n",
        "\n",
        "#compile the model\n",
        "model_1.compile(loss= tf.keras.losses.BinaryCrossentropy(),\n",
        "                optimizer= tf.keras.optimizers.SGD(),\n",
        "                metrics=[\"accuracy\"])\n",
        "\n",
        "#fit the model\n",
        "model_1.fit(X, y, epochs= 5)"
      ],
      "execution_count": 10,
      "outputs": [
        {
          "output_type": "stream",
          "name": "stdout",
          "text": [
            "Epoch 1/5\n",
            "313/313 [==============================] - 4s 3ms/step - loss: 4.8269 - accuracy: 0.5260\n",
            "Epoch 2/5\n",
            "313/313 [==============================] - 1s 3ms/step - loss: 5.0990 - accuracy: 0.5106\n",
            "Epoch 3/5\n",
            "313/313 [==============================] - 1s 3ms/step - loss: 7.7127 - accuracy: 0.5000\n",
            "Epoch 4/5\n",
            "313/313 [==============================] - 1s 3ms/step - loss: 7.7125 - accuracy: 0.5000\n",
            "Epoch 5/5\n",
            "313/313 [==============================] - 1s 3ms/step - loss: 7.7125 - accuracy: 0.5000\n"
          ]
        },
        {
          "output_type": "execute_result",
          "data": {
            "text/plain": [
              "<keras.callbacks.History at 0x7f6957df6a90>"
            ]
          },
          "metadata": {},
          "execution_count": 10
        }
      ]
    },
    {
      "cell_type": "markdown",
      "metadata": {
        "id": "uMjC62dOg7R2"
      },
      "source": [
        "accuracy mize baktigimizda basarimiz yeterli degil daha uzun surede egitmeyi deniyelim"
      ]
    },
    {
      "cell_type": "code",
      "metadata": {
        "colab": {
          "base_uri": "https://localhost:8080/"
        },
        "id": "1zV_rtWlgOuO",
        "outputId": "592c8a71-6cdb-452b-e3ce-617a0ca59b3a"
      },
      "source": [
        "#epochs=200\n",
        "model_1.fit(X, y, epochs= 200,verbose=0)"
      ],
      "execution_count": 11,
      "outputs": [
        {
          "output_type": "execute_result",
          "data": {
            "text/plain": [
              "<keras.callbacks.History at 0x7f6950398410>"
            ]
          },
          "metadata": {},
          "execution_count": 11
        }
      ]
    },
    {
      "cell_type": "code",
      "metadata": {
        "colab": {
          "base_uri": "https://localhost:8080/"
        },
        "id": "YCDuRYVahVPc",
        "outputId": "8961ec30-e0a2-4af7-dad6-004518e424d3"
      },
      "source": [
        "model_1.evaluate(X,y)"
      ],
      "execution_count": 12,
      "outputs": [
        {
          "output_type": "stream",
          "name": "stdout",
          "text": [
            "313/313 [==============================] - 1s 2ms/step - loss: 7.7125 - accuracy: 0.5000\n"
          ]
        },
        {
          "output_type": "execute_result",
          "data": {
            "text/plain": [
              "[7.712477207183838, 0.5]"
            ]
          },
          "metadata": {},
          "execution_count": 12
        }
      ]
    },
    {
      "cell_type": "markdown",
      "metadata": {
        "id": "UPqBgdnQhlfO"
      },
      "source": [
        "epoch sayisini degistirmemizin bir etkisi olmadi baska bir yol deneyelim"
      ]
    },
    {
      "cell_type": "markdown",
      "metadata": {
        "id": "ao22p5ashtlv"
      },
      "source": [
        "modelimize katman ekleyelim ve tekrar deneyelim"
      ]
    },
    {
      "cell_type": "code",
      "metadata": {
        "colab": {
          "base_uri": "https://localhost:8080/"
        },
        "id": "eo9a6VhdhirY",
        "outputId": "4076661b-a70d-414f-e98e-b425f391000f"
      },
      "source": [
        "#create the model\n",
        "model_2 = tf.keras.Sequential([\n",
        "        tf.keras.layers.Dense(1),\n",
        "        tf.keras.layers.Dense(1)                        \n",
        "               ])\n",
        "\n",
        "#compile the model\n",
        "model_2.compile(loss= tf.keras.losses.BinaryCrossentropy(),\n",
        "                optimizer= tf.keras.optimizers.SGD(),\n",
        "                metrics=[\"accuracy\"])\n",
        "\n",
        "#fit the model\n",
        "model_2.fit(X, y, epochs= 100, verbose= 0)"
      ],
      "execution_count": 13,
      "outputs": [
        {
          "output_type": "execute_result",
          "data": {
            "text/plain": [
              "<keras.callbacks.History at 0x7f69501ed910>"
            ]
          },
          "metadata": {},
          "execution_count": 13
        }
      ]
    },
    {
      "cell_type": "code",
      "metadata": {
        "colab": {
          "base_uri": "https://localhost:8080/"
        },
        "id": "Kk3ahqaHiEfc",
        "outputId": "2c3ed810-823c-42df-bd4b-d99e40c49a93"
      },
      "source": [
        "model_2.evaluate(X,y)"
      ],
      "execution_count": 14,
      "outputs": [
        {
          "output_type": "stream",
          "name": "stdout",
          "text": [
            "313/313 [==============================] - 1s 2ms/step - loss: 0.6933 - accuracy: 0.5000\n"
          ]
        },
        {
          "output_type": "execute_result",
          "data": {
            "text/plain": [
              "[0.6933327913284302, 0.5]"
            ]
          },
          "metadata": {},
          "execution_count": 14
        }
      ]
    },
    {
      "cell_type": "markdown",
      "metadata": {
        "id": "RvaUiZibiR6G"
      },
      "source": [
        "Yeni katman eklememizin de performansa etkisi olmadi"
      ]
    },
    {
      "cell_type": "markdown",
      "metadata": {
        "id": "7Q4RQXfxig8u"
      },
      "source": [
        "# Improving our Model"
      ]
    },
    {
      "cell_type": "markdown",
      "metadata": {
        "id": "dah0y26fkOnX"
      },
      "source": [
        "Model performanisni gelistirmek icin yapabilecegimiz bazi basit adimlar var.\n",
        "\n",
        "* Model olustururken -- Katman eklemek veya gizli katmanlardaki unit sayisini arttirmak (hidden units)\n",
        "* Compile Asamasinda -- Optimizasyon fonksiyonunu degistirmek.\n",
        "* Modeli Fit ederken -- Modeli daha uzun surede egitmek yani epochs degerini arttirmak."
      ]
    },
    {
      "cell_type": "code",
      "metadata": {
        "colab": {
          "base_uri": "https://localhost:8080/"
        },
        "id": "HRr4qxAbiQmk",
        "outputId": "08fdca48-e176-4a4f-e59c-77b6a684ad46"
      },
      "source": [
        "#create the model\n",
        "model_3 = tf.keras.Sequential([\n",
        "        tf.keras.layers.Dense(100), #hidden unit sayisni degistirelim\n",
        "        tf.keras.layers.Dense(10), #yeni bir katman ekleyelim\n",
        "        tf.keras.layers.Dense(1)                        \n",
        "               ])\n",
        "\n",
        "#compile the model\n",
        "model_3.compile(loss= tf.keras.losses.BinaryCrossentropy(),\n",
        "                optimizer= tf.keras.optimizers.Adam(learning_rate=0.001), #optimizer i Adam olarak degistirelim\n",
        "                metrics=[\"accuracy\"])\n",
        "\n",
        "#fit the model\n",
        "model_3.fit(X, y, epochs= 100, verbose= 0)"
      ],
      "execution_count": 15,
      "outputs": [
        {
          "output_type": "execute_result",
          "data": {
            "text/plain": [
              "<keras.callbacks.History at 0x7f69501017d0>"
            ]
          },
          "metadata": {},
          "execution_count": 15
        }
      ]
    },
    {
      "cell_type": "code",
      "metadata": {
        "colab": {
          "base_uri": "https://localhost:8080/"
        },
        "id": "FCvFOCfGl-Wm",
        "outputId": "988db216-67a7-45c0-bf8e-2dfc97fe99de"
      },
      "source": [
        "model_3.evaluate(X,y)"
      ],
      "execution_count": 16,
      "outputs": [
        {
          "output_type": "stream",
          "name": "stdout",
          "text": [
            "313/313 [==============================] - 1s 2ms/step - loss: 0.6932 - accuracy: 0.5062\n"
          ]
        },
        {
          "output_type": "execute_result",
          "data": {
            "text/plain": [
              "[0.6931737065315247, 0.5062000155448914]"
            ]
          },
          "metadata": {},
          "execution_count": 16
        }
      ]
    },
    {
      "cell_type": "markdown",
      "metadata": {
        "id": "qQ0twUbrmOk3"
      },
      "source": [
        "Modelimizin performansi hala iyilesmedi "
      ]
    },
    {
      "cell_type": "markdown",
      "metadata": {
        "id": "UDPKyint0SGR"
      },
      "source": [
        "Gorsellestırerek modelimizin neden hiç gelişmediğini sürekli aynı performansı segilediğine bakalım\n"
      ]
    },
    {
      "cell_type": "code",
      "metadata": {
        "id": "eSKFyPnz0J0O"
      },
      "source": [
        "import numpy as np\n",
        "\n",
        "#bu fonnsiyon ile modelimizin sinirlarini nasil tahmin ettigine bakcagiz\n",
        "def plot_decision_boundary(model, X, y):\n",
        "  \n",
        "  # Define the axis boundaries of the plot and create a meshgrid\n",
        "  x_min, x_max = X[:, 0].min() - 0.1, X[:, 0].max() + 0.1\n",
        "  y_min, y_max = X[:, 1].min() - 0.1, X[:, 1].max() + 0.1\n",
        "  xx, yy = np.meshgrid(np.linspace(x_min, x_max, 100),\n",
        "                       np.linspace(y_min, y_max, 100))\n",
        "  \n",
        "  # Create X value (we're going to make predictions on these)\n",
        "  x_in = np.c_[xx.ravel(), yy.ravel()] # stack 2D arrays together\n",
        "\n",
        "  # Make predictions\n",
        "  y_pred = model.predict(x_in)\n",
        "\n",
        "  # Check for multi-class\n",
        "  if len(y_pred[0]) > 1:\n",
        "    print(\"doing multiclass classification\")\n",
        "    # We have to reshape our prediction to get them ready for plotting\n",
        "    y_pred = np.argmax(y_pred, axis=1).reshape(xx.shape)\n",
        "  else:\n",
        "    print(\"doing binary classification\")\n",
        "    y_pred = np.round(y_pred).reshape(xx.shape)\n",
        "  \n",
        "  # Plot the decision boundary\n",
        "  plt.contourf(xx, yy, y_pred, cmap=plt.cm.RdYlBu, alpha=0.7)\n",
        "  plt.scatter(X[:, 0], X[:, 1], c=y, s=40, cmap=plt.cm.RdYlBu)\n",
        "  plt.xlim(xx.min(), xx.max())\n",
        "  plt.ylim(yy.min(), yy.max())"
      ],
      "execution_count": 17,
      "outputs": []
    },
    {
      "cell_type": "code",
      "metadata": {
        "colab": {
          "base_uri": "https://localhost:8080/",
          "height": 282
        },
        "id": "HhtUl0620tY3",
        "outputId": "f5f6ffa9-1aa1-4050-f8a1-bad00f6a899e"
      },
      "source": [
        "plot_decision_boundary(model_3, X, y)"
      ],
      "execution_count": 18,
      "outputs": [
        {
          "output_type": "stream",
          "name": "stdout",
          "text": [
            "doing binary classification\n"
          ]
        },
        {
          "output_type": "display_data",
          "data": {
            "image/png": "[encoded data removed]",
            "text/plain": [
              "<Figure size 432x288 with 1 Axes>"
            ]
          },
          "metadata": {
            "needs_background": "light"
          }
        }
      ]
    },
    {
      "cell_type": "markdown",
      "metadata": {
        "id": "blTA0HKD1-I9"
      },
      "source": [
        "Gordugunuz gibi verimiz duzgun  bir cizgi ile ikili siniflandirma yapmaya uygun degil. Kirmizi ve mavi noklari duz bir cigi ule ayiramayacagimiz asikar. Lineer bir tahmin cizgisi ile lineer olmayan bir veri kumesini siniflandirma yapamayiz"
      ]
    },
    {
      "cell_type": "markdown",
      "metadata": {
        "id": "iDMVjR8-2wJN"
      },
      "source": [
        "Regresyon icin modelimizi deneyelim"
      ]
    },
    {
      "cell_type": "code",
      "metadata": {
        "id": "t575FGxp2v5O"
      },
      "source": [
        "X_regression = tf.range(0, 1000, 5)\n",
        "y_regression = tf.range(100, 1100, 5)"
      ],
      "execution_count": 19,
      "outputs": []
    },
    {
      "cell_type": "code",
      "metadata": {
        "id": "TKOV6_eo29mE"
      },
      "source": [
        "X_reg_train = X_regression[:150]\n",
        "X_reg_test = X_regression[150:]\n",
        "y_reg_train = y_regression[:150]\n",
        "y_reg_test = y_regression[150:]"
      ],
      "execution_count": 20,
      "outputs": []
    },
    {
      "cell_type": "code",
      "metadata": {
        "colab": {
          "base_uri": "https://localhost:8080/"
        },
        "id": "Jprbp7hm3j6G",
        "outputId": "1e3a7386-9c0b-48f1-ddfa-1fdc079b1ce0"
      },
      "source": [
        "#create the model\n",
        "model_4 = tf.keras.Sequential([\n",
        "        tf.keras.layers.Dense(100), \n",
        "        tf.keras.layers.Dense(10), \n",
        "        tf.keras.layers.Dense(1)                        \n",
        "               ])\n",
        "\n",
        "#compile the model\n",
        "model_4.compile(loss= tf.keras.losses.mae,# regresyon oldugu icin loss umuzu degistirdik\n",
        "                optimizer= tf.keras.optimizers.Adam(),\n",
        "                metrics=[\"mae\"])\n",
        "\n",
        "#fit the model\n",
        "model_4.fit(X_reg_train, y_reg_train, epochs= 100, verbose= 0)"
      ],
      "execution_count": 21,
      "outputs": [
        {
          "output_type": "execute_result",
          "data": {
            "text/plain": [
              "<keras.callbacks.History at 0x7f68db7164d0>"
            ]
          },
          "metadata": {},
          "execution_count": 21
        }
      ]
    },
    {
      "cell_type": "code",
      "metadata": {
        "colab": {
          "base_uri": "https://localhost:8080/",
          "height": 428
        },
        "id": "uNehvmk409BL",
        "outputId": "8ed10913-7e96-42cf-f3b4-886078b2b62a"
      },
      "source": [
        "# tahmin yaptiralim\n",
        "y_reg_preds = model_4.predict(X_reg_test)\n",
        "\n",
        "# tahminlere goz atalim\n",
        "plt.figure(figsize=(10, 7))\n",
        "plt.scatter(X_reg_train, y_reg_train, c=\"b\", label=\"Training data\")\n",
        "plt.scatter(X_reg_test, y_reg_test, c=\"g\", label=\"Test data\")\n",
        "plt.scatter(X_reg_test, y_reg_preds, c=\"r\", label=\"Predictions\")\n",
        "plt.legend();"
      ],
      "execution_count": 22,
      "outputs": [
        {
          "output_type": "display_data",
          "data": {
            "image/png": "[encoded data removed]",
            "text/plain": [
              "<Figure size 720x504 with 1 Axes>"
            ]
          },
          "metadata": {
            "needs_background": "light"
          }
        }
      ]
    },
    {
      "cell_type": "markdown",
      "metadata": {
        "id": "dOTRqODx4iL0"
      },
      "source": [
        "Modelimiz linner bir veride gayet iyi calistigini gormus olduk. Buraya kadar yapamadigimiz tek sey lineer olmayan verimiz ile ne yapacagimizi bulamadik simdi ona bakalim."
      ]
    },
    {
      "cell_type": "markdown",
      "metadata": {
        "id": "YxJqhL4p4z6X"
      },
      "source": [
        "# Non-Linearty"
      ]
    },
    {
      "cell_type": "markdown",
      "metadata": {
        "id": "DU4Kbl255_YS"
      },
      "source": [
        "Lineer olmayan bir model olsuturalim"
      ]
    },
    {
      "cell_type": "code",
      "metadata": {
        "colab": {
          "base_uri": "https://localhost:8080/"
        },
        "id": "EQHvdZxb4VO7",
        "outputId": "38db2dcc-cb5b-44ec-cb24-45643b922668"
      },
      "source": [
        "import tensorflow as tf\n",
        "# 1. Create the model\n",
        "\n",
        "#aktivasyon fonksiyonunu lineer olmayan bir fonksiyonla degistirdik\n",
        "model_5 = tf.keras.Sequential([\n",
        "  tf.keras.layers.Dense(4, activation=\"relu\"),\n",
        "  tf.keras.layers.Dense(4, activation=\"relu\"), \n",
        "  tf.keras.layers.Dense(1, activation=\"sigmoid\")                              \n",
        "])\n",
        "\n",
        "# 2. Compile the model\n",
        "model_5.compile(loss=\"binary_crossentropy\", #loss u bu sekilde de tanimlayabiliriz\n",
        "                optimizer=tf.keras.optimizers.Adam(lr=0.001),\n",
        "                metrics=[\"accuracy\"])\n",
        "\n",
        "# 3. Fit the model\n",
        "history = model_5.fit(X, y, epochs=250, verbose = 0)"
      ],
      "execution_count": 23,
      "outputs": [
        {
          "output_type": "stream",
          "name": "stderr",
          "text": [
            "/usr/local/lib/python3.7/dist-packages/keras/optimizer_v2/optimizer_v2.py:356: UserWarning: The `lr` argument is deprecated, use `learning_rate` instead.\n",
            "  \"The `lr` argument is deprecated, use `learning_rate` instead.\")\n"
          ]
        }
      ]
    },
    {
      "cell_type": "code",
      "metadata": {
        "colab": {
          "base_uri": "https://localhost:8080/"
        },
        "id": "vGEk3iVU5Yok",
        "outputId": "0538c7c6-58fc-41ce-9870-5b6afecff364"
      },
      "source": [
        "#evaluate our model\n",
        "model_5.evaluate(X, y)"
      ],
      "execution_count": 24,
      "outputs": [
        {
          "output_type": "stream",
          "name": "stdout",
          "text": [
            "313/313 [==============================] - 1s 2ms/step - loss: 0.0269 - accuracy: 0.9915\n"
          ]
        },
        {
          "output_type": "execute_result",
          "data": {
            "text/plain": [
              "[0.026911646127700806, 0.9915000200271606]"
            ]
          },
          "metadata": {},
          "execution_count": 24
        }
      ]
    },
    {
      "cell_type": "markdown",
      "metadata": {
        "id": "LT7WOqDAA7mj"
      },
      "source": [
        "Dogruluk oranimiz bu sefer gayet yuksek cikti. Biz yine de metriclere guvenmeyelim ve gorunusue bakalim."
      ]
    },
    {
      "cell_type": "code",
      "metadata": {
        "colab": {
          "base_uri": "https://localhost:8080/",
          "height": 282
        },
        "id": "N0qb6_nw87DD",
        "outputId": "423f76d9-e064-4d00-ae01-34b261f4af02"
      },
      "source": [
        "plot_decision_boundary(model_5, X, y)"
      ],
      "execution_count": 25,
      "outputs": [
        {
          "output_type": "stream",
          "name": "stdout",
          "text": [
            "doing binary classification\n"
          ]
        },
        {
          "output_type": "display_data",
          "data": {
            "image/png": "[encoded data removed]",
            "text/plain": [
              "<Figure size 432x288 with 1 Axes>"
            ]
          },
          "metadata": {
            "needs_background": "light"
          }
        }
      ]
    },
    {
      "cell_type": "markdown",
      "metadata": {
        "id": "Fhd6MqVPBP_i"
      },
      "source": [
        "Bu sefer modelimiz mavi ve kirmizi noktalari ayirmada gayet basarili oldugunu goruyoruz.\n"
      ]
    },
    {
      "cell_type": "markdown",
      "metadata": {
        "id": "yyLMxsCeCEvM"
      },
      "source": [
        "Nasil oldugunu anlamak icin sigmoid fonksiyonunu incelememiz yeterli olacaktir"
      ]
    },
    {
      "cell_type": "code",
      "metadata": {
        "colab": {
          "base_uri": "https://localhost:8080/",
          "height": 265
        },
        "id": "V88sVdjqBEYQ",
        "outputId": "294804f6-13f8-48ab-fad1-677e0b1c7292"
      },
      "source": [
        "#lineer bir veri tanimlayalim\n",
        "A = tf.cast(tf.range(-10, 10), tf.float32)\n",
        "plt.plot(A);"
      ],
      "execution_count": 26,
      "outputs": [
        {
          "output_type": "display_data",
          "data": {
            "image/png": "[encoded data removed]",
            "text/plain": [
              "<Figure size 432x288 with 1 Axes>"
            ]
          },
          "metadata": {
            "needs_background": "light"
          }
        }
      ]
    },
    {
      "cell_type": "code",
      "metadata": {
        "colab": {
          "base_uri": "https://localhost:8080/",
          "height": 265
        },
        "id": "b3Ojowt_CTPn",
        "outputId": "5e87cce2-b650-4b31-ab39-72d1d66d7e9d"
      },
      "source": [
        "#sigmoid fonksiyonunu tanimlayalim ve lineer verimizi fonksiyona sokalim\n",
        "def sigmoid(x):\n",
        "  return 1 / (1 + tf.exp(-x))\n",
        "plt.plot(sigmoid(A));"
      ],
      "execution_count": 27,
      "outputs": [
        {
          "output_type": "display_data",
          "data": {
            "image/png": "[encoded data removed]",
            "text/plain": [
              "<Figure size 432x288 with 1 Axes>"
            ]
          },
          "metadata": {
            "needs_background": "light"
          }
        }
      ]
    },
    {
      "cell_type": "markdown",
      "metadata": {
        "id": "iN2TQAP7DVsJ"
      },
      "source": [
        "# Evaluating and Improving our Classificiation"
      ]
    },
    {
      "cell_type": "markdown",
      "metadata": {
        "id": "t0MTEN5lD6LU"
      },
      "source": [
        "\n",
        "\n",
        "Modelimizi train ve test olarak bolmemiz gerekir."
      ]
    },
    {
      "cell_type": "code",
      "metadata": {
        "colab": {
          "base_uri": "https://localhost:8080/"
        },
        "id": "9KaY6GOsCWu5",
        "outputId": "47c088ec-3ec8-4137-a120-6e692a041782"
      },
      "source": [
        "len(X)"
      ],
      "execution_count": 28,
      "outputs": [
        {
          "output_type": "execute_result",
          "data": {
            "text/plain": [
              "10000"
            ]
          },
          "metadata": {},
          "execution_count": 28
        }
      ]
    },
    {
      "cell_type": "code",
      "metadata": {
        "colab": {
          "base_uri": "https://localhost:8080/"
        },
        "id": "Ns7c3S00EWCR",
        "outputId": "5d52f639-7203-4374-ba1d-99ba1201bb8d"
      },
      "source": [
        "X_train, y_train = X[:8000], y[:8000]\n",
        "X_test, y_test = X[8000:], y[8000:]\n",
        "\n",
        "X_train.shape, X_test.shape, y_train.shape, y_test.shape"
      ],
      "execution_count": 29,
      "outputs": [
        {
          "output_type": "execute_result",
          "data": {
            "text/plain": [
              "((8000, 2), (2000, 2), (8000,), (2000,))"
            ]
          },
          "metadata": {},
          "execution_count": 29
        }
      ]
    },
    {
      "cell_type": "markdown",
      "metadata": {
        "id": "x1QKL635EzWF"
      },
      "source": [
        "Modelimizi tekrar olusturalim"
      ]
    },
    {
      "cell_type": "code",
      "metadata": {
        "id": "Z0dsst_GEXNx"
      },
      "source": [
        "#Creating the model\n",
        "model_8 = tf.keras.Sequential([\n",
        "  tf.keras.layers.Dense(4, activation=\"relu\"),\n",
        "  tf.keras.layers.Dense(4, activation=\"relu\"),\n",
        "  tf.keras.layers.Dense(1, activation=\"sigmoid\")                            \n",
        "])\n",
        "\n",
        "# 2. Compile the model\n",
        "model_8.compile(loss=\"binary_crossentropy\",\n",
        "                optimizer=tf.keras.optimizers.Adam(lr=0.01),\n",
        "                metrics=[\"accuracy\"])\n",
        "\n",
        "# 3. Fit the model\n",
        "history = model_8.fit(X_train, y_train, epochs=25)"
      ],
      "execution_count": null,
      "outputs": []
    },
    {
      "cell_type": "code",
      "metadata": {
        "colab": {
          "base_uri": "https://localhost:8080/"
        },
        "id": "esjXzF1eEoeY",
        "outputId": "03c86977-b5cd-43d1-b6d3-20a171a0a392"
      },
      "source": [
        "model_8.evaluate(X_test, y_test)"
      ],
      "execution_count": 31,
      "outputs": [
        {
          "output_type": "stream",
          "name": "stdout",
          "text": [
            "63/63 [==============================] - 0s 2ms/step - loss: 0.0124 - accuracy: 0.9945\n"
          ]
        },
        {
          "output_type": "execute_result",
          "data": {
            "text/plain": [
              "[0.012374229729175568, 0.9944999814033508]"
            ]
          },
          "metadata": {},
          "execution_count": 31
        }
      ]
    },
    {
      "cell_type": "code",
      "metadata": {
        "colab": {
          "base_uri": "https://localhost:8080/",
          "height": 379
        },
        "id": "RKaVKExVE7wI",
        "outputId": "b68fadab-4039-49de-a4ce-859e51acf81c"
      },
      "source": [
        "plt.figure(figsize=(12, 6))\n",
        "plt.subplot(1, 2, 1)\n",
        "plt.title(\"Train\")\n",
        "plot_decision_boundary(model_8, X=X_train, y=y_train)\n",
        "plt.subplot(1, 2, 2)\n",
        "plt.title(\"Test\")\n",
        "plot_decision_boundary(model_8, X=X_test, y=y_test)\n",
        "plt.show();"
      ],
      "execution_count": 32,
      "outputs": [
        {
          "output_type": "stream",
          "name": "stdout",
          "text": [
            "doing binary classification\n",
            "doing binary classification\n"
          ]
        },
        {
          "output_type": "display_data",
          "data": {
            "image/png": "[encoded data removed]",
            "text/plain": [
              "<Figure size 864x432 with 2 Axes>"
            ]
          },
          "metadata": {
            "needs_background": "light"
          }
        }
      ]
    },
    {
      "cell_type": "code",
      "metadata": {
        "colab": {
          "base_uri": "https://localhost:8080/",
          "height": 281
        },
        "id": "mcJxHwlUFCOC",
        "outputId": "5b0991e9-65a0-45dc-e3d4-9dbd338274ee"
      },
      "source": [
        "# Modelımızın gelişimini gorselleştirelim\n",
        "pd.DataFrame(history.history).plot()\n",
        "plt.title(\"Model_8 loss curves\");"
      ],
      "execution_count": 36,
      "outputs": [
        {
          "output_type": "display_data",
          "data": {
            "image/png": "[encoded data removed]",
            "text/plain": [
              "<Figure size 432x288 with 1 Axes>"
            ]
          },
          "metadata": {
            "needs_background": "light"
          }
        }
      ]
    },
    {
      "cell_type": "markdown",
      "metadata": {
        "id": "nVBanvVa4s9j"
      },
      "source": [
        "En iyi learning rate değerini bulalım.\n",
        "model_8 ile aynı olacak şekilde sadece learning rateii dinamik bir şeklide değiştireceğiz"
      ]
    },
    {
      "cell_type": "code",
      "metadata": {
        "id": "1VQnYwTSnUXW"
      },
      "source": [
        "# Create a model \n",
        "model_9 = tf.keras.Sequential([\n",
        "  tf.keras.layers.Dense(4, activation=\"relu\"),\n",
        "  tf.keras.layers.Dense(4, activation=\"relu\"),\n",
        "  tf.keras.layers.Dense(1, activation=\"sigmoid\")\n",
        "])\n",
        "\n",
        "# Compile the model\n",
        "model_9.compile(loss=\"binary_crossentropy\",\n",
        "                optimizer=\"Adam\",\n",
        "                metrics=[\"accuracy\"])\n",
        "\n",
        "# her epochta farklı bir learning rate uygulamak için bir metod\n",
        "lr_scheduler = tf.keras.callbacks.LearningRateScheduler(lambda epoch: 1e-4 * 10**(epoch/20))\n",
        "\n",
        "# Fit the model \n",
        "history_9 = model_9.fit(X_train,\n",
        "                        y_train, \n",
        "                        epochs=100,\n",
        "                        callbacks=[lr_scheduler])"
      ],
      "execution_count": null,
      "outputs": []
    },
    {
      "cell_type": "code",
      "metadata": {
        "colab": {
          "base_uri": "https://localhost:8080/",
          "height": 281
        },
        "id": "5vEamlmq5VbT",
        "outputId": "05454fee-3c4e-4be3-c63d-079d15d34b12"
      },
      "source": [
        "pd.DataFrame(history_9.history).plot()\n",
        "plt.title(\"Model_8 loss curves\");"
      ],
      "execution_count": 38,
      "outputs": [
        {
          "output_type": "display_data",
          "data": {
            "image/png": "[encoded data removed]",
            "text/plain": [
              "<Figure size 432x288 with 1 Axes>"
            ]
          },
          "metadata": {
            "needs_background": "light"
          }
        }
      ]
    },
    {
      "cell_type": "markdown",
      "metadata": {
        "id": "vfS_0bqv55fj"
      },
      "source": [
        "Learning rate VS Loss"
      ]
    },
    {
      "cell_type": "code",
      "metadata": {
        "colab": {
          "base_uri": "https://localhost:8080/",
          "height": 462
        },
        "id": "r8eft9Ec5uRM",
        "outputId": "f7258d5c-71b5-4f8e-dc97-085185b5a794"
      },
      "source": [
        "lrs = 1e-4 * (10 ** (tf.range(100)/20))\n",
        "plt.figure(figsize=(10, 7))\n",
        "plt.semilogx(lrs, history_9.history[\"loss\"])\n",
        "plt.xlabel(\"Learning Rate\")\n",
        "plt.ylabel(\"Loss\")\n",
        "plt.title(\"Learning Rate vs. Loss\");"
      ],
      "execution_count": 40,
      "outputs": [
        {
          "output_type": "display_data",
          "data": {
            "image/png": "[encoded data removed]",
            "text/plain": [
              "<Figure size 720x504 with 1 Axes>"
            ]
          },
          "metadata": {
            "needs_background": "light"
          }
        }
      ]
    },
    {
      "cell_type": "markdown",
      "metadata": {
        "id": "pfLgDgR069jD"
      },
      "source": [
        "Daha yüksek ve idael bir learning rate ile tekrar deneyelim"
      ]
    },
    {
      "cell_type": "code",
      "metadata": {
        "colab": {
          "base_uri": "https://localhost:8080/"
        },
        "id": "_PEIAXXp6b6R",
        "outputId": "3db0c2ba-a0d8-440d-a2ad-9618887672ea"
      },
      "source": [
        "# Create the model\n",
        "model_10 = tf.keras.Sequential([\n",
        "  tf.keras.layers.Dense(4, activation=\"relu\"),\n",
        "  tf.keras.layers.Dense(4, activation=\"relu\"),\n",
        "  tf.keras.layers.Dense(1, activation=\"sigmoid\")                             \n",
        "])\n",
        "\n",
        "# Compile the model \n",
        "model_10.compile(loss=\"binary_crossentropy\",\n",
        "                 optimizer=tf.keras.optimizers.Adam(lr=0.02),\n",
        "                 metrics=[\"accuracy\"])\n",
        "\n",
        "# Fit the model \n",
        "history_10 = model_10.fit(X_train, y_train, epochs=20)"
      ],
      "execution_count": 41,
      "outputs": [
        {
          "output_type": "stream",
          "name": "stderr",
          "text": [
            "/usr/local/lib/python3.7/dist-packages/keras/optimizer_v2/optimizer_v2.py:356: UserWarning: The `lr` argument is deprecated, use `learning_rate` instead.\n",
            "  \"The `lr` argument is deprecated, use `learning_rate` instead.\")\n"
          ]
        },
        {
          "output_type": "stream",
          "name": "stdout",
          "text": [
            "Epoch 1/20\n",
            "250/250 [==============================] - 1s 2ms/step - loss: 0.5949 - accuracy: 0.6755\n",
            "Epoch 2/20\n",
            "250/250 [==============================] - 1s 3ms/step - loss: 0.1799 - accuracy: 0.9571\n",
            "Epoch 3/20\n",
            "250/250 [==============================] - 1s 2ms/step - loss: 0.0436 - accuracy: 0.9940\n",
            "Epoch 4/20\n",
            "250/250 [==============================] - 1s 2ms/step - loss: 0.0306 - accuracy: 0.9925\n",
            "Epoch 5/20\n",
            "250/250 [==============================] - 1s 2ms/step - loss: 0.0258 - accuracy: 0.9930\n",
            "Epoch 6/20\n",
            "250/250 [==============================] - 1s 2ms/step - loss: 0.0289 - accuracy: 0.9911\n",
            "Epoch 7/20\n",
            "250/250 [==============================] - 1s 2ms/step - loss: 0.0200 - accuracy: 0.9939\n",
            "Epoch 8/20\n",
            "250/250 [==============================] - 1s 2ms/step - loss: 0.0304 - accuracy: 0.9899\n",
            "Epoch 9/20\n",
            "250/250 [==============================] - 1s 2ms/step - loss: 0.0164 - accuracy: 0.9948\n",
            "Epoch 10/20\n",
            "250/250 [==============================] - 1s 2ms/step - loss: 0.0247 - accuracy: 0.9923\n",
            "Epoch 11/20\n",
            "250/250 [==============================] - 1s 2ms/step - loss: 0.0229 - accuracy: 0.9925\n",
            "Epoch 12/20\n",
            "250/250 [==============================] - 1s 2ms/step - loss: 0.0236 - accuracy: 0.9916\n",
            "Epoch 13/20\n",
            "250/250 [==============================] - 1s 2ms/step - loss: 0.0185 - accuracy: 0.9929\n",
            "Epoch 14/20\n",
            "250/250 [==============================] - 1s 2ms/step - loss: 0.0167 - accuracy: 0.9946\n",
            "Epoch 15/20\n",
            "250/250 [==============================] - 1s 2ms/step - loss: 0.0185 - accuracy: 0.9936\n",
            "Epoch 16/20\n",
            "250/250 [==============================] - 1s 2ms/step - loss: 0.0165 - accuracy: 0.9946\n",
            "Epoch 17/20\n",
            "250/250 [==============================] - 1s 2ms/step - loss: 0.0246 - accuracy: 0.9909\n",
            "Epoch 18/20\n",
            "250/250 [==============================] - 1s 2ms/step - loss: 0.0204 - accuracy: 0.9927\n",
            "Epoch 19/20\n",
            "250/250 [==============================] - 1s 2ms/step - loss: 0.0164 - accuracy: 0.9939\n",
            "Epoch 20/20\n",
            "250/250 [==============================] - 1s 2ms/step - loss: 0.0212 - accuracy: 0.9914\n"
          ]
        }
      ]
    },
    {
      "cell_type": "code",
      "metadata": {
        "colab": {
          "base_uri": "https://localhost:8080/"
        },
        "id": "XgKCAepI7Loi",
        "outputId": "8aa355e8-b663-41b3-cec9-f2d27473c327"
      },
      "source": [
        "model_10.evaluate(X_test, y_test)"
      ],
      "execution_count": 42,
      "outputs": [
        {
          "output_type": "stream",
          "name": "stdout",
          "text": [
            "63/63 [==============================] - 0s 2ms/step - loss: 0.0169 - accuracy: 0.9935\n"
          ]
        },
        {
          "output_type": "execute_result",
          "data": {
            "text/plain": [
              "[0.01687668077647686, 0.9934999942779541]"
            ]
          },
          "metadata": {},
          "execution_count": 42
        }
      ]
    },
    {
      "cell_type": "code",
      "metadata": {
        "colab": {
          "base_uri": "https://localhost:8080/"
        },
        "id": "o7w-qC_i7izk",
        "outputId": "6a73ba5b-41ee-4e9c-d114-0cc31700d25b"
      },
      "source": [
        "model_8.evaluate(X_test, y_test)"
      ],
      "execution_count": 43,
      "outputs": [
        {
          "output_type": "stream",
          "name": "stdout",
          "text": [
            "63/63 [==============================] - 0s 2ms/step - loss: 0.0124 - accuracy: 0.9945\n"
          ]
        },
        {
          "output_type": "execute_result",
          "data": {
            "text/plain": [
              "[0.012374229729175568, 0.9944999814033508]"
            ]
          },
          "metadata": {},
          "execution_count": 43
        }
      ]
    },
    {
      "cell_type": "markdown",
      "metadata": {
        "id": "IcfUqfk_7x0D"
      },
      "source": [
        "Model8 için learning rate değeri 0.01 model_10 içinse 0.02 olarak belirlemiştik. Model10 daha kısa sürede eğitilmesine rağmen farklı bir learning rate ile performans olarak gayet yakın bir sonuç verdi."
      ]
    },
    {
      "cell_type": "markdown",
      "metadata": {
        "id": "SMUEXZqq9ByT"
      },
      "source": [
        "**Confusion Matrix**\n",
        "Biraz google ile anotomisini inceleyebilriz. "
      ]
    },
    {
      "cell_type": "code",
      "metadata": {
        "colab": {
          "base_uri": "https://localhost:8080/",
          "height": 404
        },
        "id": "HWqvz26e7ksw",
        "outputId": "c1eb3e47-ffb7-4843-eae9-a4e98dfda209"
      },
      "source": [
        "from sklearn.metrics import confusion_matrix\n",
        "y_preds = model_10.predict(X_test)\n",
        "confusion_matrix(y_test, y_preds)"
      ],
      "execution_count": 44,
      "outputs": [
        {
          "output_type": "error",
          "ename": "ValueError",
          "evalue": "ignored",
          "traceback": [
            "\u001b[0;31m---------------------------------------------------------------------------\u001b[0m",
            "\u001b[0;31mValueError\u001b[0m                                Traceback (most recent call last)",
            "\u001b[0;32m<ipython-input-44-551aae78a69f>\u001b[0m in \u001b[0;36m<module>\u001b[0;34m()\u001b[0m\n\u001b[1;32m      1\u001b[0m \u001b[0;32mfrom\u001b[0m \u001b[0msklearn\u001b[0m\u001b[0;34m.\u001b[0m\u001b[0mmetrics\u001b[0m \u001b[0;32mimport\u001b[0m \u001b[0mconfusion_matrix\u001b[0m\u001b[0;34m\u001b[0m\u001b[0;34m\u001b[0m\u001b[0m\n\u001b[1;32m      2\u001b[0m \u001b[0my_preds\u001b[0m \u001b[0;34m=\u001b[0m \u001b[0mmodel_10\u001b[0m\u001b[0;34m.\u001b[0m\u001b[0mpredict\u001b[0m\u001b[0;34m(\u001b[0m\u001b[0mX_test\u001b[0m\u001b[0;34m)\u001b[0m\u001b[0;34m\u001b[0m\u001b[0;34m\u001b[0m\u001b[0m\n\u001b[0;32m----> 3\u001b[0;31m \u001b[0mconfusion_matrix\u001b[0m\u001b[0;34m(\u001b[0m\u001b[0my_test\u001b[0m\u001b[0;34m,\u001b[0m \u001b[0my_preds\u001b[0m\u001b[0;34m)\u001b[0m\u001b[0;34m\u001b[0m\u001b[0;34m\u001b[0m\u001b[0m\n\u001b[0m",
            "\u001b[0;32m/usr/local/lib/python3.7/dist-packages/sklearn/metrics/_classification.py\u001b[0m in \u001b[0;36mconfusion_matrix\u001b[0;34m(y_true, y_pred, labels, sample_weight, normalize)\u001b[0m\n\u001b[1;32m    266\u001b[0m \u001b[0;34m\u001b[0m\u001b[0m\n\u001b[1;32m    267\u001b[0m     \"\"\"\n\u001b[0;32m--> 268\u001b[0;31m     \u001b[0my_type\u001b[0m\u001b[0;34m,\u001b[0m \u001b[0my_true\u001b[0m\u001b[0;34m,\u001b[0m \u001b[0my_pred\u001b[0m \u001b[0;34m=\u001b[0m \u001b[0m_check_targets\u001b[0m\u001b[0;34m(\u001b[0m\u001b[0my_true\u001b[0m\u001b[0;34m,\u001b[0m \u001b[0my_pred\u001b[0m\u001b[0;34m)\u001b[0m\u001b[0;34m\u001b[0m\u001b[0;34m\u001b[0m\u001b[0m\n\u001b[0m\u001b[1;32m    269\u001b[0m     \u001b[0;32mif\u001b[0m \u001b[0my_type\u001b[0m \u001b[0;32mnot\u001b[0m \u001b[0;32min\u001b[0m \u001b[0;34m(\u001b[0m\u001b[0;34m\"binary\"\u001b[0m\u001b[0;34m,\u001b[0m \u001b[0;34m\"multiclass\"\u001b[0m\u001b[0;34m)\u001b[0m\u001b[0;34m:\u001b[0m\u001b[0;34m\u001b[0m\u001b[0;34m\u001b[0m\u001b[0m\n\u001b[1;32m    270\u001b[0m         \u001b[0;32mraise\u001b[0m \u001b[0mValueError\u001b[0m\u001b[0;34m(\u001b[0m\u001b[0;34m\"%s is not supported\"\u001b[0m \u001b[0;34m%\u001b[0m \u001b[0my_type\u001b[0m\u001b[0;34m)\u001b[0m\u001b[0;34m\u001b[0m\u001b[0;34m\u001b[0m\u001b[0m\n",
            "\u001b[0;32m/usr/local/lib/python3.7/dist-packages/sklearn/metrics/_classification.py\u001b[0m in \u001b[0;36m_check_targets\u001b[0;34m(y_true, y_pred)\u001b[0m\n\u001b[1;32m     88\u001b[0m     \u001b[0;32mif\u001b[0m \u001b[0mlen\u001b[0m\u001b[0;34m(\u001b[0m\u001b[0my_type\u001b[0m\u001b[0;34m)\u001b[0m \u001b[0;34m>\u001b[0m \u001b[0;36m1\u001b[0m\u001b[0;34m:\u001b[0m\u001b[0;34m\u001b[0m\u001b[0;34m\u001b[0m\u001b[0m\n\u001b[1;32m     89\u001b[0m         raise ValueError(\"Classification metrics can't handle a mix of {0} \"\n\u001b[0;32m---> 90\u001b[0;31m                          \"and {1} targets\".format(type_true, type_pred))\n\u001b[0m\u001b[1;32m     91\u001b[0m \u001b[0;34m\u001b[0m\u001b[0m\n\u001b[1;32m     92\u001b[0m     \u001b[0;31m# We can't have more than one value on y_type => The set is no more needed\u001b[0m\u001b[0;34m\u001b[0m\u001b[0;34m\u001b[0m\u001b[0;34m\u001b[0m\u001b[0m\n",
            "\u001b[0;31mValueError\u001b[0m: Classification metrics can't handle a mix of binary and continuous targets"
          ]
        }
      ]
    },
    {
      "cell_type": "code",
      "metadata": {
        "colab": {
          "base_uri": "https://localhost:8080/"
        },
        "id": "QZ1JwCoG9cbL",
        "outputId": "6c927455-e2b9-472a-e3fc-d37ee40793ef"
      },
      "source": [
        "y_test[:10] ,y_preds[:10]"
      ],
      "execution_count": 45,
      "outputs": [
        {
          "output_type": "execute_result",
          "data": {
            "text/plain": [
              "(array([0, 0, 0, 1, 0, 0, 0, 0, 0, 0]), array([[1.4650169e-06],\n",
              "        [2.5416227e-02],\n",
              "        [1.3410917e-05],\n",
              "        [9.9658930e-01],\n",
              "        [2.2099469e-08],\n",
              "        [2.2478839e-06],\n",
              "        [2.5894307e-05],\n",
              "        [4.3229297e-06],\n",
              "        [6.6438054e-07],\n",
              "        [3.5499798e-07]], dtype=float32))"
            ]
          },
          "metadata": {},
          "execution_count": 45
        }
      ]
    },
    {
      "cell_type": "markdown",
      "metadata": {
        "id": "w8fbKLto9uaz"
      },
      "source": [
        "Hata almamızın sebebi tahminlerin yani y_preds in aray şeklinde deger dönmesi"
      ]
    },
    {
      "cell_type": "code",
      "metadata": {
        "colab": {
          "base_uri": "https://localhost:8080/"
        },
        "id": "gPJZBu6c9odR",
        "outputId": "1df28218-bf81-4eed-d4ef-0354d1887bf9"
      },
      "source": [
        "tf.round(y_preds)[:10] #bu sorunumuzu cozecek ve tahmin degerlerimizi binary seklinedon nusturecektir"
      ],
      "execution_count": 46,
      "outputs": [
        {
          "output_type": "execute_result",
          "data": {
            "text/plain": [
              "<tf.Tensor: shape=(10, 1), dtype=float32, numpy=\n",
              "array([[0.],\n",
              "       [0.],\n",
              "       [0.],\n",
              "       [1.],\n",
              "       [0.],\n",
              "       [0.],\n",
              "       [0.],\n",
              "       [0.],\n",
              "       [0.],\n",
              "       [0.]], dtype=float32)>"
            ]
          },
          "metadata": {},
          "execution_count": 46
        }
      ]
    },
    {
      "cell_type": "code",
      "metadata": {
        "colab": {
          "base_uri": "https://localhost:8080/"
        },
        "id": "P0_c_sFR-FTj",
        "outputId": "e15528f9-1524-4561-e538-0c4a092179c1"
      },
      "source": [
        "confusion_matrix(y_test, tf.round(y_preds))"
      ],
      "execution_count": 47,
      "outputs": [
        {
          "output_type": "execute_result",
          "data": {
            "text/plain": [
              "array([[1018,    2],\n",
              "       [  11,  969]])"
            ]
          },
          "metadata": {},
          "execution_count": 47
        }
      ]
    },
    {
      "cell_type": "markdown",
      "metadata": {
        "id": "B9s26gNG-OBc"
      },
      "source": [
        "Gorsellestirmek icin scikit-learn sitesinde yer alan bir kod blogunu kullancaigiz"
      ]
    },
    {
      "cell_type": "code",
      "metadata": {
        "colab": {
          "base_uri": "https://localhost:8080/",
          "height": 574
        },
        "id": "20ChkCOp-JWp",
        "outputId": "47d0b1aa-2eed-4721-8546-b4a69b466188"
      },
      "source": [
        "# https://scikit-learn.org/stable/modules/generated/sklearn.metrics.plot_confusion_matrix.html?highlight=plot%20confusion%20matrix#sklearn.metrics.plot_confusion_matrix\n",
        "\n",
        "import itertools\n",
        "\n",
        "figsize = (10, 10)\n",
        "\n",
        "# Create the confusion matrix\n",
        "cm = confusion_matrix(y_test, tf.round(y_preds))\n",
        "cm_norm = cm.astype(\"float\") / cm.sum(axis=1)[:, np.newaxis] # normalize our confusion matrix\n",
        "n_classes = cm.shape[0]\n",
        "\n",
        "# Let's prettify it\n",
        "fig, ax = plt.subplots(figsize=figsize)\n",
        "# Create a matrix plot\n",
        "cax = ax.matshow(cm, cmap=plt.cm.Blues)\n",
        "fig.colorbar(cax)\n",
        "\n",
        "# Create classes\n",
        "classes = False\n",
        "\n",
        "if classes:\n",
        "  labels = classes\n",
        "else:\n",
        "  labels = np.arange(cm.shape[0])\n",
        "\n",
        "# Label the axes\n",
        "ax.set(title=\"Confusion Matrix\",\n",
        "       xlabel=\"Predicted Label\",\n",
        "       ylabel=\"True Label\",\n",
        "       xticks=np.arange(n_classes),\n",
        "       yticks=np.arange(n_classes),\n",
        "       xticklabels=labels, \n",
        "       yticklabels=labels)\n",
        "\n",
        "# Set x-axis labels to bottom\n",
        "ax.xaxis.set_label_position(\"bottom\")\n",
        "ax.xaxis.tick_bottom()\n",
        "\n",
        "# Adjust label size\n",
        "ax.yaxis.label.set_size(20)\n",
        "ax.xaxis.label.set_size(20)\n",
        "ax.title.set_size(20)\n",
        "\n",
        "# Set threshold for different colors\n",
        "threshold = (cm.max() + cm.min()) / 2.\n",
        "\n",
        "# Plot the text on each cell\n",
        "for i, j in itertools.product(range(cm.shape[0]), range(cm.shape[1])):\n",
        "  plt.text(j, i, f\"{cm[i, j]} ({cm_norm[i, j]*100:.1f}%)\",\n",
        "           horizontalalignment=\"center\",\n",
        "           color=\"white\" if cm[i, j] > threshold else \"black\",\n",
        "           size=15)"
      ],
      "execution_count": 48,
      "outputs": [
        {
          "output_type": "display_data",
          "data": {
            "image/png": "[encoded data removed]",
            "text/plain": [
              "<Figure size 720x720 with 2 Axes>"
            ]
          },
          "metadata": {
            "needs_background": "light"
          }
        }
      ]
    },
    {
      "cell_type": "markdown",
      "metadata": {
        "id": "aDAHaaQo-d2c"
      },
      "source": [
        "Confusion matrixin ne ifade ettigini arastiralim"
      ]
    }
  ]
}