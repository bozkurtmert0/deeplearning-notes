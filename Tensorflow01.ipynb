{
  "nbformat": 4,
  "nbformat_minor": 0,
  "metadata": {
    "colab": {
      "name": "Tensorflow01.ipynb",
      "provenance": []
    },
    "kernelspec": {
      "name": "python3",
      "display_name": "Python 3"
    },
    "language_info": {
      "name": "python"
    }
  },
  "cells": [
    {
      "cell_type": "markdown",
      "metadata": {
        "id": "QeO5wQWB7Nh7"
      },
      "source": [
        "Tensorflow kütüphanesini kullanamka için önce import ediyoruz. tf kısıltmasıyla kullanmak için as tf şeklinde belirtiyoruz. Hangi verisyona sahip olduğumuuzu kontrol edelim"
      ]
    },
    {
      "cell_type": "code",
      "metadata": {
        "colab": {
          "base_uri": "https://localhost:8080/"
        },
        "id": "A_m0QSNy5y2P",
        "outputId": "5e4fee52-b830-4722-fa3c-99f5ec8cda01"
      },
      "source": [
        "import tensorflow as tf\n",
        "print(tf.__version__)"
      ],
      "execution_count": 1,
      "outputs": [
        {
          "output_type": "stream",
          "name": "stdout",
          "text": [
            "2.6.0\n"
          ]
        }
      ]
    },
    {
      "cell_type": "markdown",
      "metadata": {
        "id": "bQC-1oXE7x4z"
      },
      "source": [
        "Tensor'ler nedir anlamaya caislim"
      ]
    },
    {
      "cell_type": "code",
      "metadata": {
        "colab": {
          "base_uri": "https://localhost:8080/"
        },
        "id": "OoWUJhtH7rWz",
        "outputId": "7ddd0d1d-0d10-4777-860d-36eb3c1e7a91"
      },
      "source": [
        "scalar = tf.constant(11)\n",
        "scalar"
      ],
      "execution_count": 2,
      "outputs": [
        {
          "output_type": "execute_result",
          "data": {
            "text/plain": [
              "<tf.Tensor: shape=(), dtype=int32, numpy=11>"
            ]
          },
          "metadata": {},
          "execution_count": 2
        }
      ]
    },
    {
      "cell_type": "markdown",
      "metadata": {
        "id": "hKe0GdqM9F16"
      },
      "source": [
        "Basit bir tensor olusturduk simdi bunun boyutuna(dimensions) bakalim"
      ]
    },
    {
      "cell_type": "code",
      "metadata": {
        "colab": {
          "base_uri": "https://localhost:8080/"
        },
        "id": "ScwoyOBs9DBs",
        "outputId": "2b19ec9a-a378-4806-e025-8e1e4556ac83"
      },
      "source": [
        "scalar.ndim \n",
        "#ndim = number of dimensions"
      ],
      "execution_count": 3,
      "outputs": [
        {
          "output_type": "execute_result",
          "data": {
            "text/plain": [
              "0"
            ]
          },
          "metadata": {},
          "execution_count": 3
        }
      ]
    },
    {
      "cell_type": "markdown",
      "metadata": {
        "id": "VVI8W1nj9eay"
      },
      "source": [
        "Simdi de bir vektor olusturalim"
      ]
    },
    {
      "cell_type": "code",
      "metadata": {
        "colab": {
          "base_uri": "https://localhost:8080/"
        },
        "id": "OVN4BS1e9agb",
        "outputId": "379b42c4-e7d4-4059-fc9a-cbb761fd9be0"
      },
      "source": [
        "vector = tf.constant([1,2])\n",
        "vector"
      ],
      "execution_count": 4,
      "outputs": [
        {
          "output_type": "execute_result",
          "data": {
            "text/plain": [
              "<tf.Tensor: shape=(2,), dtype=int32, numpy=array([1, 2], dtype=int32)>"
            ]
          },
          "metadata": {},
          "execution_count": 4
        }
      ]
    },
    {
      "cell_type": "markdown",
      "metadata": {
        "id": "YT4yqsWJ9x1x"
      },
      "source": [
        "Vektorumuzun boyutunu kontrol edelim"
      ]
    },
    {
      "cell_type": "code",
      "metadata": {
        "colab": {
          "base_uri": "https://localhost:8080/"
        },
        "id": "haTw-Mfk9xGJ",
        "outputId": "0d92b440-0fb5-48c2-a2f2-ea1badb4c282"
      },
      "source": [
        "vector.ndim"
      ],
      "execution_count": 5,
      "outputs": [
        {
          "output_type": "execute_result",
          "data": {
            "text/plain": [
              "1"
            ]
          },
          "metadata": {},
          "execution_count": 5
        }
      ]
    },
    {
      "cell_type": "markdown",
      "metadata": {
        "id": "CW6Ymyav9-Rm"
      },
      "source": [
        "Matris olusturalim"
      ]
    },
    {
      "cell_type": "code",
      "metadata": {
        "colab": {
          "base_uri": "https://localhost:8080/"
        },
        "id": "g6RKYwoL97er",
        "outputId": "6481f623-d12b-40ff-caad-7bb1f6f898f8"
      },
      "source": [
        "matrix = tf.constant([[1,2],\n",
        "                     [3,4]])\n",
        "matrix"
      ],
      "execution_count": 12,
      "outputs": [
        {
          "output_type": "execute_result",
          "data": {
            "text/plain": [
              "<tf.Tensor: shape=(2, 2), dtype=int32, numpy=\n",
              "array([[1, 2],\n",
              "       [3, 4]], dtype=int32)>"
            ]
          },
          "metadata": {},
          "execution_count": 12
        }
      ]
    },
    {
      "cell_type": "markdown",
      "metadata": {
        "id": "wh00kU-w-bhL"
      },
      "source": [
        "Shape gordugunuz gibi 2 ye 2 bir matris olusturdugumuzu gosteriyor. Simdi matrisimizin boyutuna bakalim."
      ]
    },
    {
      "cell_type": "code",
      "metadata": {
        "colab": {
          "base_uri": "https://localhost:8080/"
        },
        "id": "_xIYtTNO-TG5",
        "outputId": "cec3f66f-b94d-41bf-8976-ba87b20fbcd8"
      },
      "source": [
        "matrix.ndim"
      ],
      "execution_count": 13,
      "outputs": [
        {
          "output_type": "execute_result",
          "data": {
            "text/plain": [
              "2"
            ]
          },
          "metadata": {},
          "execution_count": 13
        }
      ]
    },
    {
      "cell_type": "markdown",
      "metadata": {
        "id": "0PjDejG4_OZ0"
      },
      "source": [
        "Daha spesifik bir matris tanimlayalim"
      ]
    },
    {
      "cell_type": "code",
      "metadata": {
        "colab": {
          "base_uri": "https://localhost:8080/"
        },
        "id": "mX5tUAdo-pVR",
        "outputId": "1aba3def-d853-4ffa-bb7f-74a71358e0f9"
      },
      "source": [
        "another_matrix = tf.constant([[10.,11],\n",
        "                              [12,13],\n",
        "                              [14,15]] , dtype = tf.float16) #spesifik bir veri tipi tanimladik\n",
        "\n",
        "another_matrix"
      ],
      "execution_count": 14,
      "outputs": [
        {
          "output_type": "execute_result",
          "data": {
            "text/plain": [
              "<tf.Tensor: shape=(3, 2), dtype=float16, numpy=\n",
              "array([[10., 11.],\n",
              "       [12., 13.],\n",
              "       [14., 15.]], dtype=float16)>"
            ]
          },
          "metadata": {},
          "execution_count": 14
        }
      ]
    },
    {
      "cell_type": "markdown",
      "metadata": {
        "id": "1qN31vAqO85R"
      },
      "source": [
        "3x2 lik bir matris olusturugumuzu goruyoruz. Boyutuna bakalim"
      ]
    },
    {
      "cell_type": "code",
      "metadata": {
        "colab": {
          "base_uri": "https://localhost:8080/"
        },
        "id": "GvuEu210AgW8",
        "outputId": "ccf25359-56df-4fd2-8ae7-c050575b575f"
      },
      "source": [
        "another_matrix.ndim"
      ],
      "execution_count": 15,
      "outputs": [
        {
          "output_type": "execute_result",
          "data": {
            "text/plain": [
              "2"
            ]
          },
          "metadata": {},
          "execution_count": 15
        }
      ]
    },
    {
      "cell_type": "markdown",
      "metadata": {
        "id": "jKC_TMZnPuRw"
      },
      "source": [
        "Tensor Olsuturmaya baslayim"
      ]
    },
    {
      "cell_type": "code",
      "metadata": {
        "colab": {
          "base_uri": "https://localhost:8080/"
        },
        "id": "SWWZvBNAPGAO",
        "outputId": "f585b746-725d-4db2-c323-096d401b52eb"
      },
      "source": [
        "tensor = tf.constant([[[1,2,3],\n",
        "                       [4,5,6]],\n",
        "                      [[7,8,9],\n",
        "                       [10,11,12]],\n",
        "                      [[13,14,15],\n",
        "                       [16,17,18]]])\n",
        "tensor"
      ],
      "execution_count": 16,
      "outputs": [
        {
          "output_type": "execute_result",
          "data": {
            "text/plain": [
              "<tf.Tensor: shape=(3, 2, 3), dtype=int32, numpy=\n",
              "array([[[ 1,  2,  3],\n",
              "        [ 4,  5,  6]],\n",
              "\n",
              "       [[ 7,  8,  9],\n",
              "        [10, 11, 12]],\n",
              "\n",
              "       [[13, 14, 15],\n",
              "        [16, 17, 18]]], dtype=int32)>"
            ]
          },
          "metadata": {},
          "execution_count": 16
        }
      ]
    },
    {
      "cell_type": "markdown",
      "metadata": {
        "id": "rPsi8TYEQsxX"
      },
      "source": [
        "Shape kisminda gordugunuz gibi (3, 2, 3) seklinde bir ciktimiz var bunu 3 tane 3x2 lik matrismiz varmis gibi dusunebilirsiniz. Boyutuna bakalim\n"
      ]
    },
    {
      "cell_type": "code",
      "metadata": {
        "colab": {
          "base_uri": "https://localhost:8080/"
        },
        "id": "pmQYNGKvQmzw",
        "outputId": "ccd59758-332c-4505-c5bd-445430a42920"
      },
      "source": [
        "tensor.ndim"
      ],
      "execution_count": 17,
      "outputs": [
        {
          "output_type": "execute_result",
          "data": {
            "text/plain": [
              "3"
            ]
          },
          "metadata": {},
          "execution_count": 17
        }
      ]
    },
    {
      "cell_type": "markdown",
      "metadata": {
        "id": "JBoj4keURm2w"
      },
      "source": [
        "## Son toparlama \n",
        "Yukarida olusturduklarimiz aslinda hepsi birer tensor idi. \n",
        "\n",
        "* scalar : matematikten bildigimiz skaler ,sadece bir sayi \n",
        "* vector : fizikte de gordugumuz vektor bir sayi ve yon bilgisi vardir.\n",
        "* matrix : universitede lineer cebirde ki matirs NxN sayi dizisinde olusur\n",
        "* tensor : n-boyutlu sayi dizisidir\n",
        "\n",
        "Ilk 3 madde de aslinda tensordur fakat boyutlara sahiplerdir"
      ]
    }
  ]
}