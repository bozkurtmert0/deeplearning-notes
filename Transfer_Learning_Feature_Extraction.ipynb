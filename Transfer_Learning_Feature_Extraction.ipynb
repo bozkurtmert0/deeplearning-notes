{
  "nbformat": 4,
  "nbformat_minor": 0,
  "metadata": {
    "colab": {
      "name": "Transfer_Learning_Feature_Extraction.ipynb",
      "provenance": []
    },
    "kernelspec": {
      "name": "python3",
      "display_name": "Python 3"
    },
    "language_info": {
      "name": "python"
    },
    "accelerator": "GPU"
  },
  "cells": [
    {
      "cell_type": "markdown",
      "source": [
        "Nedir https://medium.com/novaresearchlab/öğrenme-aktarımı-transfer-learning-c0b8126965c4"
      ],
      "metadata": {
        "id": "bUj1WCO_qlIB"
      }
    },
    {
      "cell_type": "markdown",
      "source": [
        "Verimizi indirelim ve zipten cikartalim. Bu sefer toplam verimizin sadece %10 unu kullanacagiz."
      ],
      "metadata": {
        "id": "xLZmBISqqxpw"
      }
    },
    {
      "cell_type": "code",
      "execution_count": 1,
      "metadata": {
        "colab": {
          "base_uri": "https://localhost:8080/"
        },
        "id": "ClDJkwQOqCmO",
        "outputId": "76193139-edbd-4bb2-ff21-5a34cf8d16f8"
      },
      "outputs": [
        {
          "output_type": "stream",
          "name": "stdout",
          "text": [
            "--2022-01-27 11:25:21--  https://storage.googleapis.com/ztm_tf_course/food_vision/10_food_classes_10_percent.zip\n",
            "Resolving storage.googleapis.com (storage.googleapis.com)... 108.177.125.128, 142.250.157.128, 142.251.8.128, ...\n",
            "Connecting to storage.googleapis.com (storage.googleapis.com)|108.177.125.128|:443... connected.\n",
            "HTTP request sent, awaiting response... 200 OK\n",
            "Length: 168546183 (161M) [application/zip]\n",
            "Saving to: ‘10_food_classes_10_percent.zip’\n",
            "\n",
            "10_food_classes_10_ 100%[===================>] 160.74M   224MB/s    in 0.7s    \n",
            "\n",
            "2022-01-27 11:25:22 (224 MB/s) - ‘10_food_classes_10_percent.zip’ saved [168546183/168546183]\n",
            "\n"
          ]
        }
      ],
      "source": [
        "import zipfile\n",
        "\n",
        "!wget https://storage.googleapis.com/ztm_tf_course/food_vision/10_food_classes_10_percent.zip\n",
        "\n",
        "zip_ref = zipfile.ZipFile(\"10_food_classes_10_percent.zip\", \"r\")\n",
        "zip_ref.extractall()\n",
        "zip_ref.close()"
      ]
    },
    {
      "cell_type": "markdown",
      "source": [
        "Hangi dosya yolunda ne kadar verimiz olduguna bakalim"
      ],
      "metadata": {
        "id": "BAnNF_8xsd5q"
      }
    },
    {
      "cell_type": "code",
      "source": [
        "import os\n",
        "\n",
        "for dirpath, dirnames, filenames in os.walk(\"10_food_classes_10_percent\"):\n",
        "  print(f\"There are {len(dirnames)} directories and {len(filenames)} images in '{dirpath}'.\")"
      ],
      "metadata": {
        "colab": {
          "base_uri": "https://localhost:8080/"
        },
        "id": "WOWTGh1rsOXY",
        "outputId": "9dfc2708-df32-49c6-eeb2-9dc89805fe92"
      },
      "execution_count": 2,
      "outputs": [
        {
          "output_type": "stream",
          "name": "stdout",
          "text": [
            "There are 2 directories and 0 images in '10_food_classes_10_percent'.\n",
            "There are 10 directories and 0 images in '10_food_classes_10_percent/test'.\n",
            "There are 0 directories and 250 images in '10_food_classes_10_percent/test/ramen'.\n",
            "There are 0 directories and 250 images in '10_food_classes_10_percent/test/chicken_wings'.\n",
            "There are 0 directories and 250 images in '10_food_classes_10_percent/test/ice_cream'.\n",
            "There are 0 directories and 250 images in '10_food_classes_10_percent/test/chicken_curry'.\n",
            "There are 0 directories and 250 images in '10_food_classes_10_percent/test/pizza'.\n",
            "There are 0 directories and 250 images in '10_food_classes_10_percent/test/sushi'.\n",
            "There are 0 directories and 250 images in '10_food_classes_10_percent/test/fried_rice'.\n",
            "There are 0 directories and 250 images in '10_food_classes_10_percent/test/grilled_salmon'.\n",
            "There are 0 directories and 250 images in '10_food_classes_10_percent/test/hamburger'.\n",
            "There are 0 directories and 250 images in '10_food_classes_10_percent/test/steak'.\n",
            "There are 10 directories and 0 images in '10_food_classes_10_percent/train'.\n",
            "There are 0 directories and 75 images in '10_food_classes_10_percent/train/ramen'.\n",
            "There are 0 directories and 75 images in '10_food_classes_10_percent/train/chicken_wings'.\n",
            "There are 0 directories and 75 images in '10_food_classes_10_percent/train/ice_cream'.\n",
            "There are 0 directories and 75 images in '10_food_classes_10_percent/train/chicken_curry'.\n",
            "There are 0 directories and 75 images in '10_food_classes_10_percent/train/pizza'.\n",
            "There are 0 directories and 75 images in '10_food_classes_10_percent/train/sushi'.\n",
            "There are 0 directories and 75 images in '10_food_classes_10_percent/train/fried_rice'.\n",
            "There are 0 directories and 75 images in '10_food_classes_10_percent/train/grilled_salmon'.\n",
            "There are 0 directories and 75 images in '10_food_classes_10_percent/train/hamburger'.\n",
            "There are 0 directories and 75 images in '10_food_classes_10_percent/train/steak'.\n"
          ]
        }
      ]
    },
    {
      "cell_type": "markdown",
      "source": [
        "Verilerimizi hazirlayalim"
      ],
      "metadata": {
        "id": "_eJnZVQbs8lR"
      }
    },
    {
      "cell_type": "markdown",
      "source": [
        "ImageDataGenerator ile kolayca halledecegiz"
      ],
      "metadata": {
        "id": "f0X2FkO5tPJH"
      }
    },
    {
      "cell_type": "code",
      "source": [
        "from tensorflow.keras.preprocessing.image import ImageDataGenerator\n",
        "\n",
        "IMAGE_SHAPE = (224, 224)\n",
        "BATCH_SIZE = 32\n",
        "\n",
        "train_dir = \"10_food_classes_10_percent/train/\"\n",
        "test_dir = \"10_food_classes_10_percent/test/\"\n",
        "\n",
        "train_datagen = ImageDataGenerator(rescale=1/255.)\n",
        "test_datagen = ImageDataGenerator(rescale=1/255.)\n",
        "\n",
        "print(\"Training images:\")\n",
        "train_data_10_percent = train_datagen.flow_from_directory(train_dir,\n",
        "                                               target_size=IMAGE_SHAPE,\n",
        "                                               batch_size=BATCH_SIZE,\n",
        "                                               class_mode=\"categorical\")\n",
        "\n",
        "print(\"Testing images:\")\n",
        "test_data = train_datagen.flow_from_directory(test_dir,\n",
        "                                              target_size=IMAGE_SHAPE,\n",
        "                                              batch_size=BATCH_SIZE,\n",
        "                                              class_mode=\"categorical\")"
      ],
      "metadata": {
        "colab": {
          "base_uri": "https://localhost:8080/"
        },
        "id": "7wtgwJe5sVx_",
        "outputId": "f644c53e-a96b-453d-850a-2fb64e293651"
      },
      "execution_count": 3,
      "outputs": [
        {
          "output_type": "stream",
          "name": "stdout",
          "text": [
            "Training images:\n",
            "Found 750 images belonging to 10 classes.\n",
            "Testing images:\n",
            "Found 2500 images belonging to 10 classes.\n"
          ]
        }
      ]
    },
    {
      "cell_type": "markdown",
      "source": [
        "## Callbacks"
      ],
      "metadata": {
        "id": "TifMdyJlundj"
      }
    },
    {
      "cell_type": "markdown",
      "source": [
        "Bircok callback vardir bunlar bircok acidan islevselligi arttirir. Birkacina bakalim.\n",
        "\n",
        "https://www.tensorflow.org/api_docs/python/tf/keras/callbacks"
      ],
      "metadata": {
        "id": "XuVPmfGvvG-I"
      }
    },
    {
      "cell_type": "markdown",
      "source": [
        "**TensorBoard Callbacks** : Modelin sureclerini goruntulemek gibi bircok ise yarar.\n",
        "Bir fonksiyon yazalim ve ne ise yaradigini anlamaya calisalim."
      ],
      "metadata": {
        "id": "53vJoqX2v04n"
      }
    },
    {
      "cell_type": "code",
      "source": [
        "import datetime\n",
        "\n",
        "def create_tensorboard_callback(dir_name, experiment_name):\n",
        "  \n",
        "  log_dir = dir_name + \"/\" + experiment_name + \"/\" + datetime.datetime.now().strftime(\"%Y%m%d-%H%M%S\")\n",
        "  tensorboard_callback = tf.keras.callbacks.TensorBoard(\n",
        "      log_dir=log_dir\n",
        "  )\n",
        "  print(f\"Saving TensorBoard log files to: {log_dir}\")\n",
        "  return tensorboard_callback"
      ],
      "metadata": {
        "id": "siKvDABpusTP"
      },
      "execution_count": 4,
      "outputs": []
    },
    {
      "cell_type": "markdown",
      "source": [
        "**TensorflowHub** https://www.tensorflow.org/hub hazir modelleri dogrudan kullanmak icin kulanacagiz."
      ],
      "metadata": {
        "id": "bIDp1x9Ewp7A"
      }
    },
    {
      "cell_type": "markdown",
      "source": [
        "Cesitli model mimarileri gibi faydali icerikler bulabilecgin site  https://paperswithcode.com"
      ],
      "metadata": {
        "id": "1U2fNkUbxvL4"
      }
    },
    {
      "cell_type": "markdown",
      "source": [
        "Kullanacagimiz https://tfhub.dev/tensorflow/efficientnet/b0/feature-vector/1"
      ],
      "metadata": {
        "id": "nCzOKND7yFH4"
      }
    },
    {
      "cell_type": "code",
      "source": [
        "# Resnet 50 V2 feature vector\n",
        "resnet_url = \"https://tfhub.dev/google/imagenet/resnet_v2_50/feature_vector/4\"\n",
        "\n",
        "# EfficientNetB0 feature vector \n",
        "efficientnet_url = \"https://tfhub.dev/tensorflow/efficientnet/b0/feature-vector/1\""
      ],
      "metadata": {
        "id": "FjZZUhRMyKig"
      },
      "execution_count": 5,
      "outputs": []
    },
    {
      "cell_type": "code",
      "source": [
        "import tensorflow as tf\n",
        "import tensorflow_hub as hub\n",
        "from tensorflow.keras import layers"
      ],
      "metadata": {
        "id": "q9n4VeW2wQtO"
      },
      "execution_count": 6,
      "outputs": []
    },
    {
      "cell_type": "markdown",
      "source": [
        "bu fonksiyon ile tensorflowHub uzerinden modeli dogrudan cekmis olacagiz. Ogrenilmis olan oruntuleri(pattern) tekrar ogrenmesina gerek kalmicak."
      ],
      "metadata": {
        "id": "-BdLd5GQ16qf"
      }
    },
    {
      "cell_type": "code",
      "source": [
        "def create_model(model_url, num_classes=10):\n",
        " \n",
        "  \n",
        "  feature_extractor_layer = hub.KerasLayer(model_url,\n",
        "                                           trainable=False, # freeze the already learned patterns\n",
        "                                           name=\"feature_extraction_lyaer\",\n",
        "                                           input_shape=IMAGE_SHAPE+(3,)) \n",
        "\n",
        "  # kendi modelimize ekleyelim\n",
        "  model = tf.keras.Sequential([\n",
        "    feature_extractor_layer,\n",
        "    layers.Dense(num_classes, activation=\"softmax\", name=\"output_layer\")\n",
        "  ])\n",
        "    \n",
        "  return model  "
      ],
      "metadata": {
        "id": "8Myby9qq1xk4"
      },
      "execution_count": 7,
      "outputs": []
    },
    {
      "cell_type": "markdown",
      "source": [
        "ResNet modeli icin"
      ],
      "metadata": {
        "id": "VU9pE9W42q8o"
      }
    },
    {
      "cell_type": "code",
      "source": [
        "resnet_model = create_model(resnet_url,\n",
        "                            num_classes=train_data_10_percent.num_classes)"
      ],
      "metadata": {
        "id": "MWyKvoX52eI5"
      },
      "execution_count": 8,
      "outputs": []
    },
    {
      "cell_type": "code",
      "source": [
        "resnet_model.summary()"
      ],
      "metadata": {
        "colab": {
          "base_uri": "https://localhost:8080/"
        },
        "id": "8aacIBvu3L3R",
        "outputId": "4d535bc2-cd56-4d1d-e99b-6f04b05b15ea"
      },
      "execution_count": 9,
      "outputs": [
        {
          "output_type": "stream",
          "name": "stdout",
          "text": [
            "Model: \"sequential\"\n",
            "_________________________________________________________________\n",
            " Layer (type)                Output Shape              Param #   \n",
            "=================================================================\n",
            " feature_extraction_lyaer (K  (None, 2048)             23564800  \n",
            " erasLayer)                                                      \n",
            "                                                                 \n",
            " output_layer (Dense)        (None, 10)                20490     \n",
            "                                                                 \n",
            "=================================================================\n",
            "Total params: 23,585,290\n",
            "Trainable params: 20,490\n",
            "Non-trainable params: 23,564,800\n",
            "_________________________________________________________________\n"
          ]
        }
      ]
    },
    {
      "cell_type": "markdown",
      "source": [
        "goruldugu gibi Non-trainable params sayisi olduklca fazla cunku model daha onceden egitilmis bir model."
      ],
      "metadata": {
        "id": "xC9-pE775q9Y"
      }
    },
    {
      "cell_type": "code",
      "source": [
        "resnet_model.compile(loss=\"categorical_crossentropy\",\n",
        "                     optimizer=tf.keras.optimizers.Adam(),\n",
        "                     metrics=[\"accuracy\"])"
      ],
      "metadata": {
        "id": "cc_nQTuF216v"
      },
      "execution_count": 10,
      "outputs": []
    },
    {
      "cell_type": "code",
      "source": [
        "resnet_history = resnet_model.fit(train_data_10_percent,\n",
        "                                  epochs=5,\n",
        "                                  steps_per_epoch=len(train_data_10_percent),\n",
        "                                  validation_data=test_data,\n",
        "                                  validation_steps=len(test_data),\n",
        "                                  #burda callback imizi ekliyoruz\n",
        "                                  callbacks=[create_tensorboard_callback(dir_name=\"tensorflow_hub\",\n",
        "                                                                         experiment_name=\"resnet50V2\"\n",
        "                                                                         )])"
      ],
      "metadata": {
        "colab": {
          "base_uri": "https://localhost:8080/"
        },
        "id": "NT4HQJbG272O",
        "outputId": "cc63eab7-f9e8-4671-8fbf-b522fc40a574"
      },
      "execution_count": 11,
      "outputs": [
        {
          "output_type": "stream",
          "name": "stdout",
          "text": [
            "Saving TensorBoard log files to: tensorflow_hub/resnet50V2/20220127-112541\n",
            "Epoch 1/5\n",
            "24/24 [==============================] - 53s 1s/step - loss: 1.8186 - accuracy: 0.3800 - val_loss: 1.1869 - val_accuracy: 0.6224\n",
            "Epoch 2/5\n",
            "24/24 [==============================] - 25s 1s/step - loss: 0.8801 - accuracy: 0.7387 - val_loss: 0.8952 - val_accuracy: 0.7132\n",
            "Epoch 3/5\n",
            "24/24 [==============================] - 23s 998ms/step - loss: 0.6179 - accuracy: 0.8173 - val_loss: 0.7732 - val_accuracy: 0.7524\n",
            "Epoch 4/5\n",
            "24/24 [==============================] - 25s 1s/step - loss: 0.4660 - accuracy: 0.8747 - val_loss: 0.7260 - val_accuracy: 0.7640\n",
            "Epoch 5/5\n",
            "24/24 [==============================] - 48s 2s/step - loss: 0.3809 - accuracy: 0.8987 - val_loss: 0.7052 - val_accuracy: 0.7692\n"
          ]
        }
      ]
    },
    {
      "cell_type": "markdown",
      "source": [
        "sadece verimizin %10 u ile iyi degerler elde ettik bu bize tranfer learningin gücü görmemiz için bir veri"
      ],
      "metadata": {
        "id": "G4mBgaLL6NQQ"
      }
    },
    {
      "cell_type": "markdown",
      "source": [
        "model performansını grafikte inceleyim"
      ],
      "metadata": {
        "id": "x4L9ieN8Qkg2"
      }
    },
    {
      "cell_type": "code",
      "source": [
        "import matplotlib.pyplot as plt\n",
        "\n",
        "def plot_loss_curves(history):\n",
        " \n",
        "  loss = history.history[\"loss\"]\n",
        "  val_loss = history.history[\"val_loss\"]\n",
        "\n",
        "  accuracy = history.history[\"accuracy\"]\n",
        "  val_accuracy = history.history[\"val_accuracy\"]\n",
        "\n",
        "  epochs = range(len(history.history[\"loss\"]))\n",
        "\n",
        "  # Plot loss\n",
        "  plt.plot(epochs, loss, label=\"training_loss\")\n",
        "  plt.plot(epochs, val_loss, label=\"val_loss\")\n",
        "  plt.title(\"Loss\")\n",
        "  plt.xlabel(\"Epochs\")\n",
        "  plt.legend()\n",
        "\n",
        "  # Plot accuracy\n",
        "  plt.figure()\n",
        "  plt.plot(epochs, accuracy, label=\"training_accuracy\")\n",
        "  plt.plot(epochs, val_accuracy, label=\"val_accuracy\")\n",
        "  plt.title(\"Accuracy\")\n",
        "  plt.xlabel(\"Epochs\")\n",
        "  plt.legend();"
      ],
      "metadata": {
        "id": "gTPJ9Gwi3FKX"
      },
      "execution_count": 12,
      "outputs": []
    },
    {
      "cell_type": "code",
      "source": [
        "plot_loss_curves(resnet_history)"
      ],
      "metadata": {
        "colab": {
          "base_uri": "https://localhost:8080/",
          "height": 573
        },
        "id": "yM-9-dbx6Tb3",
        "outputId": "6ecf1b5f-2e5a-46ad-d3ba-c9ac8c04c065"
      },
      "execution_count": 13,
      "outputs": [
        {
          "output_type": "display_data",
          "data": {
            "image/png": "[encoded data removed]",
            "text/plain": [
              "<Figure size 432x288 with 1 Axes>"
            ]
          },
          "metadata": {
            "needs_background": "light"
          }
        },
        {
          "output_type": "display_data",
          "data": {
            "image/png": "[encoded data removed]",
            "text/plain": [
              "<Figure size 432x288 with 1 Axes>"
            ]
          },
          "metadata": {
            "needs_background": "light"
          }
        }
      ]
    },
    {
      "cell_type": "markdown",
      "source": [
        "# EfficientNetB0 "
      ],
      "metadata": {
        "id": "um3rRrjKRgRv"
      }
    },
    {
      "cell_type": "markdown",
      "source": [
        ""
      ],
      "metadata": {
        "id": "zKvTmaoCR0NG"
      }
    },
    {
      "cell_type": "code",
      "source": [
        "from gc import callbacks\n",
        "efficientnet_model = create_model(model_url= efficientnet_url,\n",
        "                                  num_classes= train_data_10_percent.num_classes)\n",
        "\n",
        "efficientnet_model.compile(loss=\"categorical_crossentropy\",\n",
        "                           optimizer= tf.keras.optimizers.Adam(),\n",
        "                           metrics= [\"accuracy\"] \n",
        ")\n",
        "\n",
        "efficientnet_history = efficientnet_model.fit(train_data_10_percent,\n",
        "                                              epochs = 5,\n",
        "                                              steps_per_epoch = len(train_data_10_percent),\n",
        "                                              validation_data = test_data ,\n",
        "                                              validation_steps = len(test_data),\n",
        "                                              callbacks= [create_tensorboard_callback(dir_name = \"tensorflow_hub\",\n",
        "                                                                                      experiment_name = \"efficient\")]\n",
        "                                              )\n"
      ],
      "metadata": {
        "id": "b490MbmC6Uxm",
        "colab": {
          "base_uri": "https://localhost:8080/"
        },
        "outputId": "4ef2b48e-e804-4a1e-c9e6-8859bbadd91d"
      },
      "execution_count": 17,
      "outputs": [
        {
          "output_type": "stream",
          "name": "stdout",
          "text": [
            "Saving TensorBoard log files to: tensorflow_hub/efficient/20220127-115539\n",
            "Epoch 1/5\n",
            "24/24 [==============================] - 31s 864ms/step - loss: 1.8640 - accuracy: 0.4173 - val_loss: 1.3308 - val_accuracy: 0.7176\n",
            "Epoch 2/5\n",
            "24/24 [==============================] - 19s 824ms/step - loss: 1.0706 - accuracy: 0.7480 - val_loss: 0.8827 - val_accuracy: 0.8172\n",
            "Epoch 3/5\n",
            "24/24 [==============================] - 22s 936ms/step - loss: 0.7578 - accuracy: 0.8360 - val_loss: 0.7093 - val_accuracy: 0.8396\n",
            "Epoch 4/5\n",
            "24/24 [==============================] - 19s 812ms/step - loss: 0.6086 - accuracy: 0.8667 - val_loss: 0.6196 - val_accuracy: 0.8484\n",
            "Epoch 5/5\n",
            "24/24 [==============================] - 19s 812ms/step - loss: 0.5142 - accuracy: 0.8840 - val_loss: 0.5679 - val_accuracy: 0.8532\n"
          ]
        }
      ]
    },
    {
      "cell_type": "code",
      "source": [
        "plot_loss_curves(efficientnet_history)"
      ],
      "metadata": {
        "colab": {
          "base_uri": "https://localhost:8080/",
          "height": 573
        },
        "id": "k7sukJWTT6VN",
        "outputId": "f8953b71-deab-4de4-e889-9dd93abe0fee"
      },
      "execution_count": 18,
      "outputs": [
        {
          "output_type": "display_data",
          "data": {
            "image/png": "[encoded data removed]",
            "text/plain": [
              "<Figure size 432x288 with 1 Axes>"
            ]
          },
          "metadata": {
            "needs_background": "light"
          }
        },
        {
          "output_type": "display_data",
          "data": {
            "image/png": "[encoded data removed]",
            "text/plain": [
              "<Figure size 432x288 with 1 Axes>"
            ]
          },
          "metadata": {
            "needs_background": "light"
          }
        }
      ]
    },
    {
      "cell_type": "code",
      "source": [
        "efficientnet_model.summary()"
      ],
      "metadata": {
        "colab": {
          "base_uri": "https://localhost:8080/"
        },
        "id": "Jorydxf_Zjw5",
        "outputId": "357515ab-1077-4124-e546-eff73935fd94"
      },
      "execution_count": 19,
      "outputs": [
        {
          "output_type": "stream",
          "name": "stdout",
          "text": [
            "Model: \"sequential_3\"\n",
            "_________________________________________________________________\n",
            " Layer (type)                Output Shape              Param #   \n",
            "=================================================================\n",
            " feature_extraction_lyaer (K  (None, 1280)             4049564   \n",
            " erasLayer)                                                      \n",
            "                                                                 \n",
            " output_layer (Dense)        (None, 10)                12810     \n",
            "                                                                 \n",
            "=================================================================\n",
            "Total params: 4,062,374\n",
            "Trainable params: 12,810\n",
            "Non-trainable params: 4,049,564\n",
            "_________________________________________________________________\n"
          ]
        }
      ]
    },
    {
      "cell_type": "code",
      "source": [
        "resnet_model.summary()"
      ],
      "metadata": {
        "colab": {
          "base_uri": "https://localhost:8080/"
        },
        "id": "hTD7CvqYZ4Um",
        "outputId": "1a6c4d08-c9ad-48ec-f954-2f88a19a9c2a"
      },
      "execution_count": 20,
      "outputs": [
        {
          "output_type": "stream",
          "name": "stdout",
          "text": [
            "Model: \"sequential\"\n",
            "_________________________________________________________________\n",
            " Layer (type)                Output Shape              Param #   \n",
            "=================================================================\n",
            " feature_extraction_lyaer (K  (None, 2048)             23564800  \n",
            " erasLayer)                                                      \n",
            "                                                                 \n",
            " output_layer (Dense)        (None, 10)                20490     \n",
            "                                                                 \n",
            "=================================================================\n",
            "Total params: 23,585,290\n",
            "Trainable params: 20,490\n",
            "Non-trainable params: 23,564,800\n",
            "_________________________________________________________________\n"
          ]
        }
      ]
    },
    {
      "cell_type": "markdown",
      "source": [
        "İki farklı modelin gösterdiği performansı ve detaylarını inceleyelim."
      ],
      "metadata": {
        "id": "w0bwz1BXaIt4"
      }
    },
    {
      "cell_type": "markdown",
      "source": [
        "## TensorBoard"
      ],
      "metadata": {
        "id": "UebEPqEDezch"
      }
    },
    {
      "cell_type": "markdown",
      "source": [
        "Modellerimizi TensorBoard üzerinden karşılaştıralım veya detaylarına bakalım.\n",
        "Tensorboard birçok yararlı aracı var bakalım deneyelim tecrübe edelim."
      ],
      "metadata": {
        "id": "SEHHGOX_gb7F"
      }
    },
    {
      "cell_type": "code",
      "source": [
        "!tensorboard dev upload --logdir ./tensorflow_hub/ \\\n",
        "--name \"EfficientNetB0 vs. ResNet50V2\"  \\\n",
        "--description \"Kıyaslama için bir açıklama yazmak gerekiyordu üşendim\" \\\n",
        "--one_shot"
      ],
      "metadata": {
        "colab": {
          "base_uri": "https://localhost:8080/"
        },
        "id": "z_WRbXW_aBeO",
        "outputId": "652b7b21-e0e7-4d78-9318-52c2d38e7649"
      },
      "execution_count": 22,
      "outputs": [
        {
          "output_type": "stream",
          "name": "stdout",
          "text": [
            "\n",
            "***** TensorBoard Uploader *****\n",
            "\n",
            "This will upload your TensorBoard logs to https://tensorboard.dev/ from\n",
            "the following directory:\n",
            "\n",
            "./tensorflow_hub/\n",
            "\n",
            "This TensorBoard will be visible to everyone. Do not upload sensitive\n",
            "data.\n",
            "\n",
            "Your use of this service is subject to Google's Terms of Service\n",
            "<https://policies.google.com/terms> and Privacy Policy\n",
            "<https://policies.google.com/privacy>, and TensorBoard.dev's Terms of Service\n",
            "<https://tensorboard.dev/policy/terms/>.\n",
            "\n",
            "This notice will not be shown again while you are logged into the uploader.\n",
            "To log out, run `tensorboard dev auth revoke`.\n",
            "\n",
            "Continue? (yes/NO) yes\n",
            "\n",
            "Please visit this URL to authorize this application: https://accounts.google.com/o/oauth2/auth?response_type=code&client_id=373649185512-8v619h5kft38l4456nm2dj4ubeqsrvh6.apps.googleusercontent.com&redirect_uri=urn%3Aietf%3Awg%3Aoauth%3A2.0%3Aoob&scope=openid+https%3A%2F%2Fwww.googleapis.com%2Fauth%2Fuserinfo.email&state=wShRlxlHUoHjlGL8AfsqTWXLyYMoFX&prompt=consent&access_type=offline\n",
            "Enter the authorization code: 4/1AX4XfWirTnFUPhuCcZY082wuhA5tXE8_WIzQEq69hRnsoMuOW4AWZ3w1aFY\n",
            "\n",
            "\n",
            "New experiment created. View your TensorBoard at: https://tensorboard.dev/experiment/nRSywejJQv6PwinJ4UjecQ/\n",
            "\n",
            "\u001b[1m[2022-01-27T12:27:00]\u001b[0m Started scanning logdir.\n",
            "\u001b[1m[2022-01-27T12:27:08]\u001b[0m Total uploaded: 70 scalars, 0 tensors, 3 binary objects (9.5 MB)\n",
            "\u001b[1m[2022-01-27T12:27:08]\u001b[0m Done scanning logdir.\n",
            "\n",
            "\n",
            "Done. View your TensorBoard at https://tensorboard.dev/experiment/nRSywejJQv6PwinJ4UjecQ/\n"
          ]
        }
      ]
    },
    {
      "cell_type": "markdown",
      "source": [
        "Tensorboardu kullandığımızda verilerimizin public olduğunu unutmayalım."
      ],
      "metadata": {
        "id": "K7z75FBAhZuz"
      }
    },
    {
      "cell_type": "code",
      "source": [
        ""
      ],
      "metadata": {
        "id": "qDO0_6Jmf1z1"
      },
      "execution_count": null,
      "outputs": []
    }
  ]
}