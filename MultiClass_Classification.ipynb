{
  "nbformat": 4,
  "nbformat_minor": 0,
  "metadata": {
    "colab": {
      "name": "MultiClass_Classification.ipynb",
      "provenance": []
    },
    "kernelspec": {
      "name": "python3",
      "display_name": "Python 3"
    },
    "language_info": {
      "name": "python"
    }
  },
  "cells": [
    {
      "cell_type": "markdown",
      "metadata": {
        "id": "h_H9mVUgvBCm"
      },
      "source": [
        "Ikiden fazla sinif varsa bu multi-class classification a girer.\n",
        "Bu ornekte fashion mnist datasini kullancagiz.\n",
        "(https://github.com/zalandoresearch/fashion-mnist)\n"
      ]
    },
    {
      "cell_type": "code",
      "metadata": {
        "id": "nIiVo93ekvrv",
        "colab": {
          "base_uri": "https://localhost:8080/"
        },
        "outputId": "b7dc83b7-869d-4361-ea3e-125e80de75c7"
      },
      "source": [
        "import tensorflow as tf\n",
        "from tensorflow.keras.datasets import fashion_mnist\n",
        "\n",
        "#bu data halihazirda trainning ve test kumelerine ayrilmis durumda\n",
        "(train_data, train_labels), (test_data, test_labels) = fashion_mnist.load_data()"
      ],
      "execution_count": 1,
      "outputs": [
        {
          "output_type": "stream",
          "name": "stdout",
          "text": [
            "Downloading data from https://storage.googleapis.com/tensorflow/tf-keras-datasets/train-labels-idx1-ubyte.gz\n",
            "32768/29515 [=================================] - 0s 0us/step\n",
            "40960/29515 [=========================================] - 0s 0us/step\n",
            "Downloading data from https://storage.googleapis.com/tensorflow/tf-keras-datasets/train-images-idx3-ubyte.gz\n",
            "26427392/26421880 [==============================] - 0s 0us/step\n",
            "26435584/26421880 [==============================] - 0s 0us/step\n",
            "Downloading data from https://storage.googleapis.com/tensorflow/tf-keras-datasets/t10k-labels-idx1-ubyte.gz\n",
            "16384/5148 [===============================================================================================] - 0s 0us/step\n",
            "Downloading data from https://storage.googleapis.com/tensorflow/tf-keras-datasets/t10k-images-idx3-ubyte.gz\n",
            "4423680/4422102 [==============================] - 0s 0us/step\n",
            "4431872/4422102 [==============================] - 0s 0us/step\n"
          ]
        }
      ]
    },
    {
      "cell_type": "markdown",
      "metadata": {
        "id": "QMk7zkg4wK9L"
      },
      "source": [
        "ornek olarak verimize bakalim"
      ]
    },
    {
      "cell_type": "code",
      "metadata": {
        "colab": {
          "base_uri": "https://localhost:8080/"
        },
        "id": "tsX_DSjOwHvV",
        "outputId": "fc02ac0a-0a76-4a97-de42-e4a3b8640199"
      },
      "source": [
        "train_data[0]"
      ],
      "execution_count": 2,
      "outputs": [
        {
          "output_type": "execute_result",
          "data": {
            "text/plain": [
              "array([[  0,   0,   0,   0,   0,   0,   0,   0,   0,   0,   0,   0,   0,\n",
              "          0,   0,   0,   0,   0,   0,   0,   0,   0,   0,   0,   0,   0,\n",
              "          0,   0],\n",
              "       [  0,   0,   0,   0,   0,   0,   0,   0,   0,   0,   0,   0,   0,\n",
              "          0,   0,   0,   0,   0,   0,   0,   0,   0,   0,   0,   0,   0,\n",
              "          0,   0],\n",
              "       [  0,   0,   0,   0,   0,   0,   0,   0,   0,   0,   0,   0,   0,\n",
              "          0,   0,   0,   0,   0,   0,   0,   0,   0,   0,   0,   0,   0,\n",
              "          0,   0],\n",
              "       [  0,   0,   0,   0,   0,   0,   0,   0,   0,   0,   0,   0,   1,\n",
              "          0,   0,  13,  73,   0,   0,   1,   4,   0,   0,   0,   0,   1,\n",
              "          1,   0],\n",
              "       [  0,   0,   0,   0,   0,   0,   0,   0,   0,   0,   0,   0,   3,\n",
              "          0,  36, 136, 127,  62,  54,   0,   0,   0,   1,   3,   4,   0,\n",
              "          0,   3],\n",
              "       [  0,   0,   0,   0,   0,   0,   0,   0,   0,   0,   0,   0,   6,\n",
              "          0, 102, 204, 176, 134, 144, 123,  23,   0,   0,   0,   0,  12,\n",
              "         10,   0],\n",
              "       [  0,   0,   0,   0,   0,   0,   0,   0,   0,   0,   0,   0,   0,\n",
              "          0, 155, 236, 207, 178, 107, 156, 161, 109,  64,  23,  77, 130,\n",
              "         72,  15],\n",
              "       [  0,   0,   0,   0,   0,   0,   0,   0,   0,   0,   0,   1,   0,\n",
              "         69, 207, 223, 218, 216, 216, 163, 127, 121, 122, 146, 141,  88,\n",
              "        172,  66],\n",
              "       [  0,   0,   0,   0,   0,   0,   0,   0,   0,   1,   1,   1,   0,\n",
              "        200, 232, 232, 233, 229, 223, 223, 215, 213, 164, 127, 123, 196,\n",
              "        229,   0],\n",
              "       [  0,   0,   0,   0,   0,   0,   0,   0,   0,   0,   0,   0,   0,\n",
              "        183, 225, 216, 223, 228, 235, 227, 224, 222, 224, 221, 223, 245,\n",
              "        173,   0],\n",
              "       [  0,   0,   0,   0,   0,   0,   0,   0,   0,   0,   0,   0,   0,\n",
              "        193, 228, 218, 213, 198, 180, 212, 210, 211, 213, 223, 220, 243,\n",
              "        202,   0],\n",
              "       [  0,   0,   0,   0,   0,   0,   0,   0,   0,   1,   3,   0,  12,\n",
              "        219, 220, 212, 218, 192, 169, 227, 208, 218, 224, 212, 226, 197,\n",
              "        209,  52],\n",
              "       [  0,   0,   0,   0,   0,   0,   0,   0,   0,   0,   6,   0,  99,\n",
              "        244, 222, 220, 218, 203, 198, 221, 215, 213, 222, 220, 245, 119,\n",
              "        167,  56],\n",
              "       [  0,   0,   0,   0,   0,   0,   0,   0,   0,   4,   0,   0,  55,\n",
              "        236, 228, 230, 228, 240, 232, 213, 218, 223, 234, 217, 217, 209,\n",
              "         92,   0],\n",
              "       [  0,   0,   1,   4,   6,   7,   2,   0,   0,   0,   0,   0, 237,\n",
              "        226, 217, 223, 222, 219, 222, 221, 216, 223, 229, 215, 218, 255,\n",
              "         77,   0],\n",
              "       [  0,   3,   0,   0,   0,   0,   0,   0,   0,  62, 145, 204, 228,\n",
              "        207, 213, 221, 218, 208, 211, 218, 224, 223, 219, 215, 224, 244,\n",
              "        159,   0],\n",
              "       [  0,   0,   0,   0,  18,  44,  82, 107, 189, 228, 220, 222, 217,\n",
              "        226, 200, 205, 211, 230, 224, 234, 176, 188, 250, 248, 233, 238,\n",
              "        215,   0],\n",
              "       [  0,  57, 187, 208, 224, 221, 224, 208, 204, 214, 208, 209, 200,\n",
              "        159, 245, 193, 206, 223, 255, 255, 221, 234, 221, 211, 220, 232,\n",
              "        246,   0],\n",
              "       [  3, 202, 228, 224, 221, 211, 211, 214, 205, 205, 205, 220, 240,\n",
              "         80, 150, 255, 229, 221, 188, 154, 191, 210, 204, 209, 222, 228,\n",
              "        225,   0],\n",
              "       [ 98, 233, 198, 210, 222, 229, 229, 234, 249, 220, 194, 215, 217,\n",
              "        241,  65,  73, 106, 117, 168, 219, 221, 215, 217, 223, 223, 224,\n",
              "        229,  29],\n",
              "       [ 75, 204, 212, 204, 193, 205, 211, 225, 216, 185, 197, 206, 198,\n",
              "        213, 240, 195, 227, 245, 239, 223, 218, 212, 209, 222, 220, 221,\n",
              "        230,  67],\n",
              "       [ 48, 203, 183, 194, 213, 197, 185, 190, 194, 192, 202, 214, 219,\n",
              "        221, 220, 236, 225, 216, 199, 206, 186, 181, 177, 172, 181, 205,\n",
              "        206, 115],\n",
              "       [  0, 122, 219, 193, 179, 171, 183, 196, 204, 210, 213, 207, 211,\n",
              "        210, 200, 196, 194, 191, 195, 191, 198, 192, 176, 156, 167, 177,\n",
              "        210,  92],\n",
              "       [  0,   0,  74, 189, 212, 191, 175, 172, 175, 181, 185, 188, 189,\n",
              "        188, 193, 198, 204, 209, 210, 210, 211, 188, 188, 194, 192, 216,\n",
              "        170,   0],\n",
              "       [  2,   0,   0,   0,  66, 200, 222, 237, 239, 242, 246, 243, 244,\n",
              "        221, 220, 193, 191, 179, 182, 182, 181, 176, 166, 168,  99,  58,\n",
              "          0,   0],\n",
              "       [  0,   0,   0,   0,   0,   0,   0,  40,  61,  44,  72,  41,  35,\n",
              "          0,   0,   0,   0,   0,   0,   0,   0,   0,   0,   0,   0,   0,\n",
              "          0,   0],\n",
              "       [  0,   0,   0,   0,   0,   0,   0,   0,   0,   0,   0,   0,   0,\n",
              "          0,   0,   0,   0,   0,   0,   0,   0,   0,   0,   0,   0,   0,\n",
              "          0,   0],\n",
              "       [  0,   0,   0,   0,   0,   0,   0,   0,   0,   0,   0,   0,   0,\n",
              "          0,   0,   0,   0,   0,   0,   0,   0,   0,   0,   0,   0,   0,\n",
              "          0,   0]], dtype=uint8)"
            ]
          },
          "metadata": {},
          "execution_count": 2
        }
      ]
    },
    {
      "cell_type": "code",
      "metadata": {
        "colab": {
          "base_uri": "https://localhost:8080/"
        },
        "id": "h4hfT7fLwRba",
        "outputId": "8dc11018-0a3e-4f8e-b497-a15e769bb331"
      },
      "source": [
        "#shapemiza bakalim\n",
        "train_data[0].shape"
      ],
      "execution_count": 4,
      "outputs": [
        {
          "output_type": "execute_result",
          "data": {
            "text/plain": [
              "(28, 28)"
            ]
          },
          "metadata": {},
          "execution_count": 4
        }
      ]
    },
    {
      "cell_type": "code",
      "metadata": {
        "colab": {
          "base_uri": "https://localhost:8080/"
        },
        "id": "n90DG-6dwtpT",
        "outputId": "8f92ed34-aa50-49d8-9881-d9b49dbff0ec"
      },
      "source": [
        "train_labels[0].shape"
      ],
      "execution_count": 5,
      "outputs": [
        {
          "output_type": "execute_result",
          "data": {
            "text/plain": [
              "()"
            ]
          },
          "metadata": {},
          "execution_count": 5
        }
      ]
    },
    {
      "cell_type": "markdown",
      "metadata": {
        "id": "mQl7Tqhvw2XT"
      },
      "source": [
        "labelimiz skaler oldugu icin bos dondu"
      ]
    },
    {
      "cell_type": "code",
      "metadata": {
        "colab": {
          "base_uri": "https://localhost:8080/",
          "height": 282
        },
        "id": "dE3QamXJw01K",
        "outputId": "fc67fbb1-afd5-4c29-c241-a88da97b7924"
      },
      "source": [
        "#ornegimizin sayisal degerlerini degilde direkt kendinsine baklaim\n",
        "import matplotlib.pyplot as plt\n",
        "plt.imshow(train_data[0])"
      ],
      "execution_count": 7,
      "outputs": [
        {
          "output_type": "execute_result",
          "data": {
            "text/plain": [
              "<matplotlib.image.AxesImage at 0x7f461c5b62d0>"
            ]
          },
          "metadata": {},
          "execution_count": 7
        },
        {
          "output_type": "display_data",
          "data": {
            "image/png": "[encoded data removed]",
            "text/plain": [
              "<Figure size 432x288 with 1 Axes>"
            ]
          },
          "metadata": {
            "needs_background": "light"
          }
        }
      ]
    },
    {
      "cell_type": "markdown",
      "metadata": {
        "id": "VBGJOTpzxLeP"
      },
      "source": [
        "ilk verimiz bir ayakkabi ldugunu anladik simdide labelina bakalim"
      ]
    },
    {
      "cell_type": "code",
      "metadata": {
        "colab": {
          "base_uri": "https://localhost:8080/"
        },
        "id": "OStonF9OxCAi",
        "outputId": "41cec5ce-333a-4472-a4b3-15a8b09b8b9c"
      },
      "source": [
        "train_labels[0]"
      ],
      "execution_count": 8,
      "outputs": [
        {
          "output_type": "execute_result",
          "data": {
            "text/plain": [
              "9"
            ]
          },
          "metadata": {},
          "execution_count": 8
        }
      ]
    },
    {
      "cell_type": "markdown",
      "metadata": {
        "id": "duoLA1sIxb5c"
      },
      "source": [
        "labelimiz 9 peki neyi ifade ediyor github sayfasindan bakabiliriz kolay olsundu diye buraya yazdim\n",
        "\n",
        "Label\tDescription\n",
        "\n",
        "0\tT-shirt/top\n",
        "\n",
        "1\tTrouser\n",
        "\n",
        "2\tPullover\n",
        "\n",
        "3\tDress\n",
        "\n",
        "4\tCoat\n",
        "\n",
        "5\tSandal\n",
        "\n",
        "6\tShirt\n",
        "\n",
        "7\tSneaker\n",
        "\n",
        "8\tBag\n",
        "\n",
        "9\tAnkle boot\n"
      ]
    },
    {
      "cell_type": "code",
      "metadata": {
        "id": "ppAlj3qLxVBr"
      },
      "source": [
        "#labellari liste seklinde yazalim anlasilmasi kolay olsun\n",
        "class_names = [\"T-shirt/top\",\t\"Trouser\",\t\"Pullover\",\t\"Dress\",\t\"Coat\",\t\"Sandal\",\"Shirt\",\"Sneaker\",\t\"Bag\",\"Ankle boot\"]"
      ],
      "execution_count": 10,
      "outputs": []
    },
    {
      "cell_type": "code",
      "metadata": {
        "colab": {
          "base_uri": "https://localhost:8080/",
          "height": 298
        },
        "id": "B1iiPgAByH1E",
        "outputId": "530aa829-fcc8-4d62-efd5-18b57e500f88"
      },
      "source": [
        "#tekrar bir ornege goz atalim\n",
        "plt.imshow(train_data[14], cmap=plt.cm.binary)\n",
        "plt.title(class_names[train_labels[14]])"
      ],
      "execution_count": 16,
      "outputs": [
        {
          "output_type": "execute_result",
          "data": {
            "text/plain": [
              "Text(0.5, 1.0, 'Sneaker')"
            ]
          },
          "metadata": {},
          "execution_count": 16
        },
        {
          "output_type": "display_data",
          "data": {
            "image/png": "[encoded data removed]",
            "text/plain": [
              "<Figure size 432x288 with 1 Axes>"
            ]
          },
          "metadata": {
            "needs_background": "light"
          }
        }
      ]
    },
    {
      "cell_type": "code",
      "metadata": {
        "colab": {
          "base_uri": "https://localhost:8080/",
          "height": 444
        },
        "id": "ij4o8KIkzDqs",
        "outputId": "830bed7e-ce15-4585-ca09-283d84bb011e"
      },
      "source": [
        "#random birkac tane ornege goz atalim\n",
        "import random\n",
        "plt.figure(figsize=(7,7))\n",
        "for i in range(4):\n",
        "  ax =plt.subplot(2, 2, i+1)\n",
        "  rand_index = random.choice(range(len(train_data)))\n",
        "  plt.imshow(train_data[rand_index], cmap= plt.cm.binary)\n",
        "  plt.title(class_names[train_labels[rand_index]])"
      ],
      "execution_count": 18,
      "outputs": [
        {
          "output_type": "display_data",
          "data": {
            "image/png": "[encoded data removed]",
            "text/plain": [
              "<Figure size 504x504 with 4 Axes>"
            ]
          },
          "metadata": {
            "needs_background": "light"
          }
        }
      ]
    },
    {
      "cell_type": "markdown",
      "metadata": {
        "id": "TyGrpUXd3ynI"
      },
      "source": [
        "## Building a Multi-Class Classification Model"
      ]
    },
    {
      "cell_type": "markdown",
      "metadata": {
        "id": "j70cuCNE4L_O"
      },
      "source": [
        "Ikili siniflandirmaya yakin bir mimari kullanabiliriz.\n",
        "\n",
        "input shape = 28x28 (fotograflarin boyutu)\n",
        "output shape = 10 (her sinif icin birer)\n",
        "loss function = CategoricalCrossentropy\n",
        "output layer activation = softmax\n"
      ]
    },
    {
      "cell_type": "code",
      "metadata": {
        "colab": {
          "base_uri": "https://localhost:8080/"
        },
        "id": "2IbcnQzT0RMV",
        "outputId": "4431e8a6-b178-45a2-ec0e-f4e9c312d334"
      },
      "source": [
        "train_data[0].shape"
      ],
      "execution_count": 19,
      "outputs": [
        {
          "output_type": "execute_result",
          "data": {
            "text/plain": [
              "(28, 28)"
            ]
          },
          "metadata": {},
          "execution_count": 19
        }
      ]
    },
    {
      "cell_type": "code",
      "metadata": {
        "colab": {
          "base_uri": "https://localhost:8080/"
        },
        "id": "EojDxV-E4cLd",
        "outputId": "65f71cc3-56aa-436c-be6b-777326772292"
      },
      "source": [
        "len(class_names)"
      ],
      "execution_count": 20,
      "outputs": [
        {
          "output_type": "execute_result",
          "data": {
            "text/plain": [
              "10"
            ]
          },
          "metadata": {},
          "execution_count": 20
        }
      ]
    },
    {
      "cell_type": "markdown",
      "metadata": {
        "id": "vVIPUNFU4_lR"
      },
      "source": [
        "Modeli hazirlayalim"
      ]
    },
    {
      "cell_type": "code",
      "metadata": {
        "colab": {
          "base_uri": "https://localhost:8080/"
        },
        "id": "mRZFeJKM4d8_",
        "outputId": "989bd83b-a043-4288-8b52-29532859c123"
      },
      "source": [
        "#create the model\n",
        "model_1 = tf.keras.Sequential([\n",
        "      tf.keras.layers.Flatten(input_shape= (28, 28)), #flatten layer ne yaptigina ufak bir arastirma ile bakalim\n",
        "      tf.keras.layers.Dense(4, activation=\"relu\"),\n",
        "      tf.keras.layers.Dense(4, activation=\"relu\"),\n",
        "      tf.keras.layers.Dense(10, activation= tf.keras.activations.softmax)\n",
        "    ])\n",
        "\n",
        "#compile the model\n",
        "\n",
        "model_1.compile(loss = tf.keras.losses.SparseCategoricalCrossentropy(),#Sparce seklinde kullanmamizin sebei labellarimiz one hot seklinde degilse ullaniriz biraz arastiralim bunuda\n",
        "                optimizer= tf.keras.optimizers.Adam(),\n",
        "                metrics= [\"accuracy\"])\n",
        "\n",
        "#fit the model\n",
        "history= model_1.fit(train_data,\n",
        "                     train_labels,\n",
        "                     epochs= 10,\n",
        "                     validation_data= (test_data,test_labels) #ayri bir validation kumemiz yok o yuzden boyle kalabilir\n",
        "                     )"
      ],
      "execution_count": 33,
      "outputs": [
        {
          "output_type": "stream",
          "name": "stdout",
          "text": [
            "Epoch 1/10\n",
            "1875/1875 [==============================] - 5s 2ms/step - loss: 2.0861 - accuracy: 0.2115 - val_loss: 1.6647 - val_accuracy: 0.2985\n",
            "Epoch 2/10\n",
            "1875/1875 [==============================] - 3s 2ms/step - loss: 1.5309 - accuracy: 0.3630 - val_loss: 1.4182 - val_accuracy: 0.4069\n",
            "Epoch 3/10\n",
            "1875/1875 [==============================] - 4s 2ms/step - loss: 1.4013 - accuracy: 0.4119 - val_loss: 1.3576 - val_accuracy: 0.4297\n",
            "Epoch 4/10\n",
            "1875/1875 [==============================] - 3s 2ms/step - loss: 1.3667 - accuracy: 0.4212 - val_loss: 1.3344 - val_accuracy: 0.4350\n",
            "Epoch 5/10\n",
            "1875/1875 [==============================] - 4s 2ms/step - loss: 1.3409 - accuracy: 0.4295 - val_loss: 1.3352 - val_accuracy: 0.4321\n",
            "Epoch 6/10\n",
            "1875/1875 [==============================] - 4s 2ms/step - loss: 1.3263 - accuracy: 0.4342 - val_loss: 1.3122 - val_accuracy: 0.4450\n",
            "Epoch 7/10\n",
            "1875/1875 [==============================] - 4s 2ms/step - loss: 1.3094 - accuracy: 0.4378 - val_loss: 1.3570 - val_accuracy: 0.4388\n",
            "Epoch 8/10\n",
            "1875/1875 [==============================] - 4s 2ms/step - loss: 1.3012 - accuracy: 0.4418 - val_loss: 1.2997 - val_accuracy: 0.4415\n",
            "Epoch 9/10\n",
            "1875/1875 [==============================] - 3s 2ms/step - loss: 1.3004 - accuracy: 0.4399 - val_loss: 1.2740 - val_accuracy: 0.4497\n",
            "Epoch 10/10\n",
            "1875/1875 [==============================] - 4s 2ms/step - loss: 1.2911 - accuracy: 0.4420 - val_loss: 1.3447 - val_accuracy: 0.4209\n"
          ]
        }
      ]
    },
    {
      "cell_type": "markdown",
      "metadata": {
        "id": "jOdgcup07oIa"
      },
      "source": [
        "labellarimiz one hot tanimlamasi seklinde olmadigi icin SparseCategoricalCrossEntrop kullandik su sekilde de yapabilirdik.\n",
        "Once verimizi one hot temsili icin duzenleyelim"
      ]
    },
    {
      "cell_type": "code",
      "metadata": {
        "colab": {
          "base_uri": "https://localhost:8080/"
        },
        "id": "RieQ3iZZ6LzB",
        "outputId": "c7552fd9-7ff3-4e71-9300-594bc723f84e"
      },
      "source": [
        "#create the model\n",
        "model_1 = tf.keras.Sequential([\n",
        "      tf.keras.layers.Flatten(input_shape= (28, 28)), #flatten layer ne yaptigina ufak bir arastirma ile bakalim\n",
        "      tf.keras.layers.Dense(4, activation=\"relu\"),\n",
        "      tf.keras.layers.Dense(4, activation=\"relu\"),\n",
        "      tf.keras.layers.Dense(10, activation= tf.keras.activations.softmax)\n",
        "    ])\n",
        "\n",
        "#compile the model\n",
        "\n",
        "model_1.compile(loss = tf.keras.losses.CategoricalCrossentropy(),\n",
        "                optimizer= tf.keras.optimizers.Adam(),\n",
        "                metrics= [\"accuracy\"])\n",
        "\n",
        "#fit the model\n",
        "history= model_1.fit(train_data,\n",
        "                     tf.one_hot(train_labels,depth=10),#burasi ve test labels kismi\n",
        "                     epochs= 10,\n",
        "                     validation_data= (test_data,tf.one_hot(test_labels, depth=10)) \n",
        "                     )"
      ],
      "execution_count": 34,
      "outputs": [
        {
          "output_type": "stream",
          "name": "stdout",
          "text": [
            "Epoch 1/10\n",
            "1875/1875 [==============================] - 4s 2ms/step - loss: 2.3351 - accuracy: 0.0980 - val_loss: 2.3027 - val_accuracy: 0.1000\n",
            "Epoch 2/10\n",
            "1875/1875 [==============================] - 4s 2ms/step - loss: 2.3028 - accuracy: 0.0990 - val_loss: 2.3026 - val_accuracy: 0.1000\n",
            "Epoch 3/10\n",
            "1875/1875 [==============================] - 4s 2ms/step - loss: 2.3027 - accuracy: 0.1012 - val_loss: 2.3028 - val_accuracy: 0.1000\n",
            "Epoch 4/10\n",
            "1875/1875 [==============================] - 4s 2ms/step - loss: 2.3028 - accuracy: 0.0985 - val_loss: 2.3027 - val_accuracy: 0.1000\n",
            "Epoch 5/10\n",
            "1875/1875 [==============================] - 4s 2ms/step - loss: 2.3028 - accuracy: 0.0981 - val_loss: 2.3026 - val_accuracy: 0.1000\n",
            "Epoch 6/10\n",
            "1875/1875 [==============================] - 4s 2ms/step - loss: 2.3028 - accuracy: 0.0973 - val_loss: 2.3026 - val_accuracy: 0.1000\n",
            "Epoch 7/10\n",
            "1875/1875 [==============================] - 4s 2ms/step - loss: 2.3028 - accuracy: 0.0985 - val_loss: 2.3026 - val_accuracy: 0.1000\n",
            "Epoch 8/10\n",
            "1875/1875 [==============================] - 4s 2ms/step - loss: 2.3028 - accuracy: 0.0992 - val_loss: 2.3027 - val_accuracy: 0.1000\n",
            "Epoch 9/10\n",
            "1875/1875 [==============================] - 4s 2ms/step - loss: 2.3028 - accuracy: 0.1002 - val_loss: 2.3027 - val_accuracy: 0.1000\n",
            "Epoch 10/10\n",
            "1875/1875 [==============================] - 4s 2ms/step - loss: 2.3027 - accuracy: 0.0989 - val_loss: 2.3026 - val_accuracy: 0.1000\n"
          ]
        }
      ]
    },
    {
      "cell_type": "code",
      "metadata": {
        "colab": {
          "base_uri": "https://localhost:8080/"
        },
        "id": "dglTkbve9Cqj",
        "outputId": "83c07337-b82d-4a13-84fd-dcedfbb671ef"
      },
      "source": [
        "model_1.summary()"
      ],
      "execution_count": 27,
      "outputs": [
        {
          "output_type": "stream",
          "name": "stdout",
          "text": [
            "Model: \"sequential_3\"\n",
            "_________________________________________________________________\n",
            "Layer (type)                 Output Shape              Param #   \n",
            "=================================================================\n",
            "flatten_2 (Flatten)          (None, 784)               0         \n",
            "_________________________________________________________________\n",
            "dense_9 (Dense)              (None, 4)                 3140      \n",
            "_________________________________________________________________\n",
            "dense_10 (Dense)             (None, 4)                 20        \n",
            "_________________________________________________________________\n",
            "dense_11 (Dense)             (None, 10)                50        \n",
            "=================================================================\n",
            "Total params: 3,210\n",
            "Trainable params: 3,210\n",
            "Non-trainable params: 0\n",
            "_________________________________________________________________\n"
          ]
        }
      ]
    },
    {
      "cell_type": "markdown",
      "metadata": {
        "id": "TijO9Hs4FO33"
      },
      "source": [
        ""
      ]
    },
    {
      "cell_type": "code",
      "metadata": {
        "colab": {
          "base_uri": "https://localhost:8080/"
        },
        "id": "VHg09tlj9ETw",
        "outputId": "ad987d1c-9440-46c0-c0be-eb7963dfea34"
      },
      "source": [
        "train_data.min() ,train_data.max()"
      ],
      "execution_count": 28,
      "outputs": [
        {
          "output_type": "execute_result",
          "data": {
            "text/plain": [
              "(0, 255)"
            ]
          },
          "metadata": {},
          "execution_count": 28
        }
      ]
    },
    {
      "cell_type": "markdown",
      "metadata": {
        "id": "4aGCfhqdFZy-"
      },
      "source": [
        "Verimiz 0 ile 255 arasinda bunu 0-1 arasina skistirmamiz modelimiz icin daha iy olcaktir. Normalization denir. bunu tanimini ve acklamasini yazarim buraya veya link"
      ]
    },
    {
      "cell_type": "code",
      "metadata": {
        "colab": {
          "base_uri": "https://localhost:8080/"
        },
        "id": "znOf5TV8FWhW",
        "outputId": "07dd92b7-c8e7-41cb-9fc3-5ce4cebeba64"
      },
      "source": [
        "train_data_norm = train_data /255.0\n",
        "test_data_norm = test_data / 255.0 \n",
        "\n",
        "train_data_norm.min() ,train_data_norm.max()"
      ],
      "execution_count": 30,
      "outputs": [
        {
          "output_type": "execute_result",
          "data": {
            "text/plain": [
              "(0.0, 1.0)"
            ]
          },
          "metadata": {},
          "execution_count": 30
        }
      ]
    },
    {
      "cell_type": "markdown",
      "metadata": {
        "id": "BSw6oNTBGJfR"
      },
      "source": [
        "Verimiz hazir ayni modeli tekrar deneyelim"
      ]
    },
    {
      "cell_type": "code",
      "metadata": {
        "colab": {
          "base_uri": "https://localhost:8080/"
        },
        "id": "nERiqlK8F-uN",
        "outputId": "f3e84d3b-6f9d-4f47-b810-f5ebaceb92c9"
      },
      "source": [
        "#create the model\n",
        "model_2 = tf.keras.Sequential([\n",
        "      tf.keras.layers.Flatten(input_shape= (28, 28)), #flatten layer ne yaptigina ufak bir arastirma ile bakalim\n",
        "      tf.keras.layers.Dense(4, activation=\"relu\"),\n",
        "      tf.keras.layers.Dense(4, activation=\"relu\"),\n",
        "      tf.keras.layers.Dense(10, activation= tf.keras.activations.softmax)\n",
        "    ])\n",
        "\n",
        "#compile the model\n",
        "\n",
        "model_2.compile(loss = tf.keras.losses.CategoricalCrossentropy(),\n",
        "                optimizer= tf.keras.optimizers.Adam(),\n",
        "                metrics= [\"accuracy\"])\n",
        "\n",
        "#fit the model\n",
        "history_2= model_2.fit(train_data_norm,\n",
        "                     tf.one_hot(train_labels,depth=10),#burasi ve test labels kismi\n",
        "                     epochs= 10,\n",
        "                     validation_data= (test_data_norm,tf.one_hot(test_labels, depth=10)) \n",
        "                     )"
      ],
      "execution_count": 32,
      "outputs": [
        {
          "output_type": "stream",
          "name": "stdout",
          "text": [
            "Epoch 1/10\n",
            "1875/1875 [==============================] - 4s 2ms/step - loss: 1.4637 - accuracy: 0.4397 - val_loss: 1.2097 - val_accuracy: 0.5272\n",
            "Epoch 2/10\n",
            "1875/1875 [==============================] - 4s 2ms/step - loss: 1.0980 - accuracy: 0.5734 - val_loss: 1.0118 - val_accuracy: 0.6236\n",
            "Epoch 3/10\n",
            "1875/1875 [==============================] - 3s 2ms/step - loss: 0.9387 - accuracy: 0.6364 - val_loss: 0.9250 - val_accuracy: 0.6528\n",
            "Epoch 4/10\n",
            "1875/1875 [==============================] - 4s 2ms/step - loss: 0.8673 - accuracy: 0.6607 - val_loss: 0.8676 - val_accuracy: 0.6710\n",
            "Epoch 5/10\n",
            "1875/1875 [==============================] - 3s 2ms/step - loss: 0.8202 - accuracy: 0.6969 - val_loss: 0.8109 - val_accuracy: 0.7067\n",
            "Epoch 6/10\n",
            "1875/1875 [==============================] - 4s 2ms/step - loss: 0.7778 - accuracy: 0.7175 - val_loss: 0.8080 - val_accuracy: 0.7002\n",
            "Epoch 7/10\n",
            "1875/1875 [==============================] - 4s 2ms/step - loss: 0.7501 - accuracy: 0.7248 - val_loss: 0.7760 - val_accuracy: 0.7135\n",
            "Epoch 8/10\n",
            "1875/1875 [==============================] - 4s 2ms/step - loss: 0.7315 - accuracy: 0.7281 - val_loss: 0.7504 - val_accuracy: 0.7253\n",
            "Epoch 9/10\n",
            "1875/1875 [==============================] - 4s 2ms/step - loss: 0.7146 - accuracy: 0.7330 - val_loss: 0.7377 - val_accuracy: 0.7237\n",
            "Epoch 10/10\n",
            "1875/1875 [==============================] - 4s 2ms/step - loss: 0.7007 - accuracy: 0.7388 - val_loss: 0.7402 - val_accuracy: 0.7253\n"
          ]
        }
      ]
    },
    {
      "cell_type": "markdown",
      "metadata": {
        "id": "zawXq251G1uS"
      },
      "source": [
        "goruldugu gibi modelimiz guzel bir sekilde daha iyi sonuc verdi"
      ]
    },
    {
      "cell_type": "markdown",
      "metadata": {
        "id": "kKD2MlZAHSJm"
      },
      "source": [
        "sonuclari cizdirerek bakalkim"
      ]
    },
    {
      "cell_type": "code",
      "metadata": {
        "colab": {
          "base_uri": "https://localhost:8080/",
          "height": 562
        },
        "id": "6rAKXgM5HX51",
        "outputId": "810a0f1d-f7bd-47a5-edc6-4e0044dfdc19"
      },
      "source": [
        "import pandas as pd\n",
        "\n",
        "pd.DataFrame(history.history).plot(title= \"Non-Normalized Data\")\n",
        "\n",
        "\n",
        "pd.DataFrame(history_2.history).plot(title= \"Normalized Data\")"
      ],
      "execution_count": 35,
      "outputs": [
        {
          "output_type": "execute_result",
          "data": {
            "text/plain": [
              "<matplotlib.axes._subplots.AxesSubplot at 0x7f4614de7b50>"
            ]
          },
          "metadata": {},
          "execution_count": 35
        },
        {
          "output_type": "display_data",
          "data": {
            "image/png": "[encoded data removed]",
            "text/plain": [
              "<Figure size 432x288 with 1 Axes>"
            ]
          },
          "metadata": {
            "needs_background": "light"
          }
        },
        {
          "output_type": "display_data",
          "data": {
            "image/png": "[encoded data removed]",
            "text/plain": [
              "<Figure size 432x288 with 1 Axes>"
            ]
          },
          "metadata": {
            "needs_background": "light"
          }
        }
      ]
    },
    {
      "cell_type": "markdown",
      "metadata": {
        "id": "d_MbvA-0IA27"
      },
      "source": [
        "Goruldugu gibi sadece verimiza normalization uygulamamiza ragmen ayni mimariye sahip 2 model farkli veriler ile farkli sonuclar verebiliyor. Modelimiz ciddi manada daha iyi sonuc vermis oldu."
      ]
    },
    {
      "cell_type": "markdown",
      "metadata": {
        "id": "DG_x5SjJIX-H"
      },
      "source": [
        "## Ideal Learning rate"
      ]
    },
    {
      "cell_type": "markdown",
      "metadata": {
        "id": "oRdOtrNAIb7_"
      },
      "source": [
        "Uygun Learning rate ile modelimiz ne kadar gelisecek buna bakalim."
      ]
    },
    {
      "cell_type": "code",
      "metadata": {
        "colab": {
          "base_uri": "https://localhost:8080/"
        },
        "id": "KQ4beu7uHvP9",
        "outputId": "8f4926dd-7f04-45b1-d844-ffb30bea62fc"
      },
      "source": [
        "#create the model\n",
        "model_3 = tf.keras.Sequential([\n",
        "      tf.keras.layers.Flatten(input_shape= (28, 28)), #flatten layer ne yaptigina ufak bir arastirma ile bakalim\n",
        "      tf.keras.layers.Dense(4, activation=\"relu\"),\n",
        "      tf.keras.layers.Dense(4, activation=\"relu\"),\n",
        "      tf.keras.layers.Dense(10, activation= tf.keras.activations.softmax)\n",
        "    ])\n",
        "\n",
        "#compile the model\n",
        "\n",
        "model_3.compile(loss = tf.keras.losses.CategoricalCrossentropy(),\n",
        "                optimizer= tf.keras.optimizers.Adam(),\n",
        "                metrics= [\"accuracy\"])\n",
        "\n",
        "#learning rate callback\n",
        "lr_scheduler = tf.keras.callbacks.LearningRateScheduler(lambda epoch: 1e-3 * 10**(epoch/20))\n",
        "\n",
        "#fit the model\n",
        "history_3= model_3.fit(train_data_norm,\n",
        "                     tf.one_hot(train_labels,depth=10),#burasi ve test labels kismi\n",
        "                     epochs= 40,\n",
        "                     validation_data= (test_data_norm,tf.one_hot(test_labels, depth=10)),\n",
        "                     callbacks= [lr_scheduler] \n",
        "                     )"
      ],
      "execution_count": 38,
      "outputs": [
        {
          "output_type": "stream",
          "name": "stdout",
          "text": [
            "Epoch 1/40\n",
            "1875/1875 [==============================] - 4s 2ms/step - loss: 1.8392 - accuracy: 0.2593 - val_loss: 1.3865 - val_accuracy: 0.4493\n",
            "Epoch 2/40\n",
            "1875/1875 [==============================] - 3s 2ms/step - loss: 1.0761 - accuracy: 0.5958 - val_loss: 0.9445 - val_accuracy: 0.6299\n",
            "Epoch 3/40\n",
            "1875/1875 [==============================] - 3s 2ms/step - loss: 0.8557 - accuracy: 0.6758 - val_loss: 0.8262 - val_accuracy: 0.6865\n",
            "Epoch 4/40\n",
            "1875/1875 [==============================] - 3s 2ms/step - loss: 0.7834 - accuracy: 0.6973 - val_loss: 0.7871 - val_accuracy: 0.7010\n",
            "Epoch 5/40\n",
            "1875/1875 [==============================] - 4s 2ms/step - loss: 0.7592 - accuracy: 0.7053 - val_loss: 0.7743 - val_accuracy: 0.6993\n",
            "Epoch 6/40\n",
            "1875/1875 [==============================] - 3s 2ms/step - loss: 0.7439 - accuracy: 0.7106 - val_loss: 0.7624 - val_accuracy: 0.7121\n",
            "Epoch 7/40\n",
            "1875/1875 [==============================] - 3s 2ms/step - loss: 0.7374 - accuracy: 0.7186 - val_loss: 0.8051 - val_accuracy: 0.6941\n",
            "Epoch 8/40\n",
            "1875/1875 [==============================] - 3s 2ms/step - loss: 0.7313 - accuracy: 0.7340 - val_loss: 0.8006 - val_accuracy: 0.7265\n",
            "Epoch 9/40\n",
            "1875/1875 [==============================] - 3s 2ms/step - loss: 0.7210 - accuracy: 0.7496 - val_loss: 0.8191 - val_accuracy: 0.7122\n",
            "Epoch 10/40\n",
            "1875/1875 [==============================] - 3s 2ms/step - loss: 0.7116 - accuracy: 0.7547 - val_loss: 0.7392 - val_accuracy: 0.7522\n",
            "Epoch 11/40\n",
            "1875/1875 [==============================] - 3s 2ms/step - loss: 0.6981 - accuracy: 0.7571 - val_loss: 0.7238 - val_accuracy: 0.7539\n",
            "Epoch 12/40\n",
            "1875/1875 [==============================] - 3s 2ms/step - loss: 0.6833 - accuracy: 0.7594 - val_loss: 0.7142 - val_accuracy: 0.7540\n",
            "Epoch 13/40\n",
            "1875/1875 [==============================] - 3s 2ms/step - loss: 0.6761 - accuracy: 0.7620 - val_loss: 0.7475 - val_accuracy: 0.7535\n",
            "Epoch 14/40\n",
            "1875/1875 [==============================] - 3s 2ms/step - loss: 0.6707 - accuracy: 0.7605 - val_loss: 0.7170 - val_accuracy: 0.7510\n",
            "Epoch 15/40\n",
            "1875/1875 [==============================] - 3s 2ms/step - loss: 0.6675 - accuracy: 0.7637 - val_loss: 0.7031 - val_accuracy: 0.7577\n",
            "Epoch 16/40\n",
            "1875/1875 [==============================] - 3s 2ms/step - loss: 0.6706 - accuracy: 0.7603 - val_loss: 0.7192 - val_accuracy: 0.7527\n",
            "Epoch 17/40\n",
            "1875/1875 [==============================] - 3s 2ms/step - loss: 0.6682 - accuracy: 0.7622 - val_loss: 0.7238 - val_accuracy: 0.7455\n",
            "Epoch 18/40\n",
            "1875/1875 [==============================] - 3s 2ms/step - loss: 0.6689 - accuracy: 0.7606 - val_loss: 0.7418 - val_accuracy: 0.7515\n",
            "Epoch 19/40\n",
            "1875/1875 [==============================] - 3s 2ms/step - loss: 0.6710 - accuracy: 0.7597 - val_loss: 0.7047 - val_accuracy: 0.7556\n",
            "Epoch 20/40\n",
            "1875/1875 [==============================] - 3s 2ms/step - loss: 0.6747 - accuracy: 0.7571 - val_loss: 0.7214 - val_accuracy: 0.7424\n",
            "Epoch 21/40\n",
            "1875/1875 [==============================] - 3s 2ms/step - loss: 0.6747 - accuracy: 0.7573 - val_loss: 0.7111 - val_accuracy: 0.7611\n",
            "Epoch 22/40\n",
            "1875/1875 [==============================] - 3s 2ms/step - loss: 0.6750 - accuracy: 0.7564 - val_loss: 0.7342 - val_accuracy: 0.7312\n",
            "Epoch 23/40\n",
            "1875/1875 [==============================] - 3s 2ms/step - loss: 0.6866 - accuracy: 0.7516 - val_loss: 0.8097 - val_accuracy: 0.7047\n",
            "Epoch 24/40\n",
            "1875/1875 [==============================] - 3s 2ms/step - loss: 0.6877 - accuracy: 0.7513 - val_loss: 0.7525 - val_accuracy: 0.7461\n",
            "Epoch 25/40\n",
            "1875/1875 [==============================] - 3s 2ms/step - loss: 0.6992 - accuracy: 0.7458 - val_loss: 0.7770 - val_accuracy: 0.7204\n",
            "Epoch 26/40\n",
            "1875/1875 [==============================] - 3s 2ms/step - loss: 0.7038 - accuracy: 0.7426 - val_loss: 0.7472 - val_accuracy: 0.7252\n",
            "Epoch 27/40\n",
            "1875/1875 [==============================] - 3s 2ms/step - loss: 0.7058 - accuracy: 0.7463 - val_loss: 0.7352 - val_accuracy: 0.7407\n",
            "Epoch 28/40\n",
            "1875/1875 [==============================] - 4s 2ms/step - loss: 0.7209 - accuracy: 0.7391 - val_loss: 0.7715 - val_accuracy: 0.7042\n",
            "Epoch 29/40\n",
            "1875/1875 [==============================] - 4s 2ms/step - loss: 0.7359 - accuracy: 0.7358 - val_loss: 0.8142 - val_accuracy: 0.6964\n",
            "Epoch 30/40\n",
            "1875/1875 [==============================] - 4s 2ms/step - loss: 0.7457 - accuracy: 0.7310 - val_loss: 0.7509 - val_accuracy: 0.7398\n",
            "Epoch 31/40\n",
            "1875/1875 [==============================] - 4s 2ms/step - loss: 0.7560 - accuracy: 0.7287 - val_loss: 0.7814 - val_accuracy: 0.7446\n",
            "Epoch 32/40\n",
            "1875/1875 [==============================] - 4s 2ms/step - loss: 0.7749 - accuracy: 0.7176 - val_loss: 1.0159 - val_accuracy: 0.6671\n",
            "Epoch 33/40\n",
            "1875/1875 [==============================] - 4s 2ms/step - loss: 0.7938 - accuracy: 0.7098 - val_loss: 0.8833 - val_accuracy: 0.6906\n",
            "Epoch 34/40\n",
            "1875/1875 [==============================] - 4s 2ms/step - loss: 0.8289 - accuracy: 0.6939 - val_loss: 0.9204 - val_accuracy: 0.6217\n",
            "Epoch 35/40\n",
            "1875/1875 [==============================] - 3s 2ms/step - loss: 0.8522 - accuracy: 0.6807 - val_loss: 0.9220 - val_accuracy: 0.6351\n",
            "Epoch 36/40\n",
            "1875/1875 [==============================] - 4s 2ms/step - loss: 0.9362 - accuracy: 0.6528 - val_loss: 1.0212 - val_accuracy: 0.6608\n",
            "Epoch 37/40\n",
            "1875/1875 [==============================] - 3s 2ms/step - loss: 0.9102 - accuracy: 0.6583 - val_loss: 1.0562 - val_accuracy: 0.6495\n",
            "Epoch 38/40\n",
            "1875/1875 [==============================] - 3s 2ms/step - loss: 0.9637 - accuracy: 0.6491 - val_loss: 0.8042 - val_accuracy: 0.6937\n",
            "Epoch 39/40\n",
            "1875/1875 [==============================] - 3s 2ms/step - loss: 1.0685 - accuracy: 0.5944 - val_loss: 1.1881 - val_accuracy: 0.5609\n",
            "Epoch 40/40\n",
            "1875/1875 [==============================] - 3s 2ms/step - loss: 1.1182 - accuracy: 0.5640 - val_loss: 1.0015 - val_accuracy: 0.6094\n"
          ]
        }
      ]
    },
    {
      "cell_type": "code",
      "metadata": {
        "colab": {
          "base_uri": "https://localhost:8080/",
          "height": 300
        },
        "id": "hqeY9yryJXXP",
        "outputId": "8d2bde67-aad0-4a66-9c4c-b9b2836ed518"
      },
      "source": [
        "import numpy as np\n",
        "\n",
        "lrs = 1e-3* (10**(tf.range(40)/20))\n",
        "plt.semilogx(lrs, history_3.history[\"loss\"])\n",
        "plt.xlabel(\"Learning rate\")\n",
        "plt.ylabel(\"Loss\")"
      ],
      "execution_count": 39,
      "outputs": [
        {
          "output_type": "execute_result",
          "data": {
            "text/plain": [
              "Text(0, 0.5, 'Loss')"
            ]
          },
          "metadata": {},
          "execution_count": 39
        },
        {
          "output_type": "display_data",
          "data": {
            "image/png": "[encoded data removed]",
            "text/plain": [
              "<Figure size 432x288 with 1 Axes>"
            ]
          },
          "metadata": {
            "needs_background": "light"
          }
        }
      ]
    },
    {
      "cell_type": "markdown",
      "metadata": {
        "id": "CcEQknzmKZOk"
      },
      "source": [
        "Ideal learning rate icin bu grafigimizde; loss degerinin sert bir sekilde dustugu yerin en dusuk seviyesini almamiz mantikli bir tercih olur."
      ]
    },
    {
      "cell_type": "code",
      "metadata": {
        "colab": {
          "base_uri": "https://localhost:8080/"
        },
        "id": "cDSh8jMZKMFQ",
        "outputId": "3cbfa48c-811c-4f8e-a720-f48bbb8c716b"
      },
      "source": [
        "#yani bizim icin\n",
        "10**-3 "
      ],
      "execution_count": 40,
      "outputs": [
        {
          "output_type": "execute_result",
          "data": {
            "text/plain": [
              "0.001"
            ]
          },
          "metadata": {},
          "execution_count": 40
        }
      ]
    },
    {
      "cell_type": "code",
      "metadata": {
        "colab": {
          "base_uri": "https://localhost:8080/"
        },
        "id": "LAd4UrduKuOX",
        "outputId": "0b785c1b-1228-4a85-a127-ce960b0708fe"
      },
      "source": [
        "#create the model\n",
        "model_4 = tf.keras.Sequential([\n",
        "      tf.keras.layers.Flatten(input_shape= (28, 28)), \n",
        "      tf.keras.layers.Dense(4, activation=\"relu\"),\n",
        "      tf.keras.layers.Dense(4, activation=\"relu\"),\n",
        "      tf.keras.layers.Dense(10, activation= tf.keras.activations.softmax)\n",
        "    ])\n",
        "\n",
        "#compile the model\n",
        "\n",
        "model_4.compile(loss = tf.keras.losses.CategoricalCrossentropy(),\n",
        "                optimizer= tf.keras.optimizers.Adam(learning_rate=0.001),\n",
        "                metrics= [\"accuracy\"])\n",
        "\n",
        "#fit the model\n",
        "history_4= model_4.fit(train_data_norm,\n",
        "                     tf.one_hot(train_labels,depth=10),#burasi ve test labels kismi\n",
        "                     epochs= 20,\n",
        "                     validation_data= (test_data_norm,tf.one_hot(test_labels, depth=10)),\n",
        "                     )"
      ],
      "execution_count": 41,
      "outputs": [
        {
          "output_type": "stream",
          "name": "stdout",
          "text": [
            "Epoch 1/20\n",
            "1875/1875 [==============================] - 4s 2ms/step - loss: 1.2845 - accuracy: 0.5088 - val_loss: 1.0510 - val_accuracy: 0.6014\n",
            "Epoch 2/20\n",
            "1875/1875 [==============================] - 4s 2ms/step - loss: 0.9734 - accuracy: 0.6036 - val_loss: 0.9351 - val_accuracy: 0.6051\n",
            "Epoch 3/20\n",
            "1875/1875 [==============================] - 4s 2ms/step - loss: 0.8958 - accuracy: 0.6173 - val_loss: 0.8873 - val_accuracy: 0.6200\n",
            "Epoch 4/20\n",
            "1875/1875 [==============================] - 4s 2ms/step - loss: 0.8536 - accuracy: 0.6342 - val_loss: 0.8442 - val_accuracy: 0.6385\n",
            "Epoch 5/20\n",
            "1875/1875 [==============================] - 4s 2ms/step - loss: 0.8177 - accuracy: 0.6518 - val_loss: 0.8114 - val_accuracy: 0.6655\n",
            "Epoch 6/20\n",
            "1875/1875 [==============================] - 3s 2ms/step - loss: 0.7715 - accuracy: 0.6697 - val_loss: 0.7977 - val_accuracy: 0.6523\n",
            "Epoch 7/20\n",
            "1875/1875 [==============================] - 4s 2ms/step - loss: 0.7495 - accuracy: 0.6832 - val_loss: 0.7592 - val_accuracy: 0.6886\n",
            "Epoch 8/20\n",
            "1875/1875 [==============================] - 4s 2ms/step - loss: 0.7276 - accuracy: 0.7059 - val_loss: 0.7502 - val_accuracy: 0.6987\n",
            "Epoch 9/20\n",
            "1875/1875 [==============================] - 4s 2ms/step - loss: 0.7105 - accuracy: 0.7165 - val_loss: 0.7235 - val_accuracy: 0.7276\n",
            "Epoch 10/20\n",
            "1875/1875 [==============================] - 4s 2ms/step - loss: 0.6776 - accuracy: 0.7387 - val_loss: 0.6899 - val_accuracy: 0.7281\n",
            "Epoch 11/20\n",
            "1875/1875 [==============================] - 4s 2ms/step - loss: 0.6536 - accuracy: 0.7498 - val_loss: 0.7135 - val_accuracy: 0.7263\n",
            "Epoch 12/20\n",
            "1875/1875 [==============================] - 3s 2ms/step - loss: 0.6404 - accuracy: 0.7560 - val_loss: 0.6640 - val_accuracy: 0.7458\n",
            "Epoch 13/20\n",
            "1875/1875 [==============================] - 4s 2ms/step - loss: 0.6295 - accuracy: 0.7602 - val_loss: 0.6594 - val_accuracy: 0.7484\n",
            "Epoch 14/20\n",
            "1875/1875 [==============================] - 4s 2ms/step - loss: 0.6216 - accuracy: 0.7661 - val_loss: 0.6513 - val_accuracy: 0.7574\n",
            "Epoch 15/20\n",
            "1875/1875 [==============================] - 4s 2ms/step - loss: 0.6150 - accuracy: 0.7688 - val_loss: 0.6474 - val_accuracy: 0.7594\n",
            "Epoch 16/20\n",
            "1875/1875 [==============================] - 4s 2ms/step - loss: 0.6058 - accuracy: 0.7732 - val_loss: 0.6425 - val_accuracy: 0.7641\n",
            "Epoch 17/20\n",
            "1875/1875 [==============================] - 4s 2ms/step - loss: 0.6020 - accuracy: 0.7734 - val_loss: 0.6734 - val_accuracy: 0.7545\n",
            "Epoch 18/20\n",
            "1875/1875 [==============================] - 4s 2ms/step - loss: 0.5940 - accuracy: 0.7775 - val_loss: 0.6323 - val_accuracy: 0.7679\n",
            "Epoch 19/20\n",
            "1875/1875 [==============================] - 4s 2ms/step - loss: 0.5851 - accuracy: 0.7810 - val_loss: 0.6468 - val_accuracy: 0.7592\n",
            "Epoch 20/20\n",
            "1875/1875 [==============================] - 4s 2ms/step - loss: 0.5741 - accuracy: 0.7862 - val_loss: 0.6130 - val_accuracy: 0.7740\n"
          ]
        }
      ]
    },
    {
      "cell_type": "markdown",
      "metadata": {
        "id": "alSUwyTiQw-t"
      },
      "source": [
        "## Evaluateing The Model"
      ]
    },
    {
      "cell_type": "markdown",
      "metadata": {
        "id": "TSkTLU-UREo7"
      },
      "source": [
        "Confusion Matrix\n",
        "\n",
        "Bunun hakkinda makaleler ile ne olduguna bakilmalidir"
      ]
    },
    {
      "cell_type": "code",
      "metadata": {
        "id": "rpcepAcvLWUJ"
      },
      "source": [
        "#kod confusion matrix olusturmak icin sklearn sitesinden alinmistir\n",
        "#icerigi incelenebilir\n",
        " # Create a confusion matrix\n",
        "import itertools\n",
        "from sklearn.metrics import confusion_matrix\n",
        "\n",
        "def make_confusion_matrix(y_true, y_pred, classes=None, figsize=(10, 10), text_size=15):\n",
        "  # Create the confusion matrix\n",
        "  cm = confusion_matrix(y_true, y_pred)\n",
        "  cm_norm = cm.astype(\"float\") / cm.sum(axis=1)[:, np.newaxis] # normalize our confusion matrix\n",
        "  n_classes = cm.shape[0]\n",
        "\n",
        "  # Let's prettify it\n",
        "  fig, ax = plt.subplots(figsize=figsize)\n",
        "  # Create a matrix plot\n",
        "  cax = ax.matshow(cm, cmap=plt.cm.Blues)\n",
        "  fig.colorbar(cax)\n",
        "\n",
        "  # Set labels to be classes \n",
        "  if classes:\n",
        "    labels = classes\n",
        "  else:\n",
        "    labels = np.arange(cm.shape[0])\n",
        "\n",
        "  # Label the axes\n",
        "  ax.set(title=\"Confusion Matrix\",\n",
        "        xlabel=\"Predicted Label\",\n",
        "        ylabel=\"True Label\",\n",
        "        xticks=np.arange(n_classes),\n",
        "        yticks=np.arange(n_classes),\n",
        "        xticklabels=labels, \n",
        "        yticklabels=labels)\n",
        "\n",
        "  # Set x-axis labels to bottom\n",
        "  ax.xaxis.set_label_position(\"bottom\")\n",
        "  ax.xaxis.tick_bottom()\n",
        "\n",
        "  # Adjust label size\n",
        "  ax.yaxis.label.set_size(text_size)\n",
        "  ax.xaxis.label.set_size(text_size)\n",
        "  ax.title.set_size(text_size)\n",
        "\n",
        "  # Set threshold for different colors\n",
        "  threshold = (cm.max() + cm.min()) / 2.\n",
        "\n",
        "  # Plot the text on each cell\n",
        "  for i, j in itertools.product(range(cm.shape[0]), range(cm.shape[1])):\n",
        "    plt.text(j, i, f\"{cm[i, j]} ({cm_norm[i, j]*100:.1f}%)\",\n",
        "            horizontalalignment=\"center\",\n",
        "            color=\"white\" if cm[i, j] > threshold else \"black\",\n",
        "            size=text_size)"
      ],
      "execution_count": 42,
      "outputs": []
    },
    {
      "cell_type": "code",
      "metadata": {
        "colab": {
          "base_uri": "https://localhost:8080/"
        },
        "id": "weoSoYoKRfQb",
        "outputId": "d94c5aa5-8c89-4311-a34b-9431f859ecc1"
      },
      "source": [
        "class_names"
      ],
      "execution_count": 44,
      "outputs": [
        {
          "output_type": "execute_result",
          "data": {
            "text/plain": [
              "['T-shirt/top',\n",
              " 'Trouser',\n",
              " 'Pullover',\n",
              " 'Dress',\n",
              " 'Coat',\n",
              " 'Sandal',\n",
              " 'Shirt',\n",
              " 'Sneaker',\n",
              " 'Bag',\n",
              " 'Ankle boot']"
            ]
          },
          "metadata": {},
          "execution_count": 44
        }
      ]
    },
    {
      "cell_type": "code",
      "metadata": {
        "colab": {
          "base_uri": "https://localhost:8080/"
        },
        "id": "32jvzCLNRtkq",
        "outputId": "dd270bfd-1e57-46a7-8932-7ac1e93cae69"
      },
      "source": [
        "#biraz tahmin yapalim \n",
        "y_probs = model_3.predict(test_data_norm) \n",
        "\n",
        "# ilk 5 tahmine bakalim\n",
        "y_probs[:5]"
      ],
      "execution_count": 46,
      "outputs": [
        {
          "output_type": "execute_result",
          "data": {
            "text/plain": [
              "array([[0.0000000e+00, 3.4978276e-15, 0.0000000e+00, 2.4411150e-29,\n",
              "        0.0000000e+00, 1.3884382e-02, 0.0000000e+00, 4.1787708e-01,\n",
              "        1.3942138e-23, 5.6823856e-01],\n",
              "       [3.2051567e-03, 8.3559723e-07, 2.3502274e-01, 2.7066991e-03,\n",
              "        3.7157711e-01, 4.2915838e-03, 1.9125985e-01, 1.7427913e-03,\n",
              "        1.9019324e-01, 7.7052299e-08],\n",
              "       [1.1310215e-02, 6.0217935e-01, 7.4139815e-03, 3.2018468e-01,\n",
              "        1.3793829e-02, 3.0897005e-02, 1.3589384e-02, 4.6076158e-05,\n",
              "        5.8471382e-04, 7.6671279e-07],\n",
              "       [1.1310215e-02, 6.0217935e-01, 7.4139815e-03, 3.2018468e-01,\n",
              "        1.3793829e-02, 3.0897005e-02, 1.3589384e-02, 4.6076158e-05,\n",
              "        5.8471382e-04, 7.6671279e-07],\n",
              "       [5.0848675e-01, 5.1394939e-02, 5.2045520e-02, 1.5971637e-01,\n",
              "        3.6675625e-02, 6.8582303e-04, 1.9085659e-01, 7.0279521e-07,\n",
              "        1.3765287e-04, 8.3130356e-09]], dtype=float32)"
            ]
          },
          "metadata": {},
          "execution_count": 46
        }
      ]
    },
    {
      "cell_type": "code",
      "metadata": {
        "colab": {
          "base_uri": "https://localhost:8080/"
        },
        "id": "W_HRKrSHRxxf",
        "outputId": "976f49db-58a6-4616-a817-56db7c041f33"
      },
      "source": [
        "y_probs[0], tf.argmax(y_probs[0]), class_names[tf.argmax(y_probs[0])]"
      ],
      "execution_count": 47,
      "outputs": [
        {
          "output_type": "execute_result",
          "data": {
            "text/plain": [
              "(array([0.0000000e+00, 3.4978276e-15, 0.0000000e+00, 2.4411150e-29,\n",
              "        0.0000000e+00, 1.3884382e-02, 0.0000000e+00, 4.1787708e-01,\n",
              "        1.3942138e-23, 5.6823856e-01], dtype=float32),\n",
              " <tf.Tensor: shape=(), dtype=int64, numpy=9>,\n",
              " 'Ankle boot')"
            ]
          },
          "metadata": {},
          "execution_count": 47
        }
      ]
    },
    {
      "cell_type": "code",
      "metadata": {
        "colab": {
          "base_uri": "https://localhost:8080/"
        },
        "id": "eXALWv2eRzPz",
        "outputId": "9564c497-521b-40be-b9eb-e66e763fda10"
      },
      "source": [
        "# tahminleri int degerlerine cevirelim\n",
        "y_preds = y_probs.argmax(axis=1)\n",
        "\n",
        "# ilk 10 tahminin labellarina bakalim\n",
        "y_preds[:10]"
      ],
      "execution_count": 48,
      "outputs": [
        {
          "output_type": "execute_result",
          "data": {
            "text/plain": [
              "array([9, 4, 1, 1, 0, 1, 0, 6, 5, 7])"
            ]
          },
          "metadata": {},
          "execution_count": 48
        }
      ]
    },
    {
      "cell_type": "code",
      "metadata": {
        "colab": {
          "base_uri": "https://localhost:8080/"
        },
        "id": "A3GJkf-9R0cB",
        "outputId": "173536b3-137c-4f76-92b6-7c12b3ea91f5"
      },
      "source": [
        "test_labels"
      ],
      "execution_count": 49,
      "outputs": [
        {
          "output_type": "execute_result",
          "data": {
            "text/plain": [
              "array([9, 2, 1, ..., 8, 1, 5], dtype=uint8)"
            ]
          },
          "metadata": {},
          "execution_count": 49
        }
      ]
    },
    {
      "cell_type": "code",
      "metadata": {
        "colab": {
          "base_uri": "https://localhost:8080/"
        },
        "id": "jXhzT6_dR1ot",
        "outputId": "c653631b-58de-41ee-ecab-508919ec44a2"
      },
      "source": [
        "#confusion matrixe bir goz atalim\n",
        "from sklearn.metrics import confusion_matrix\n",
        "confusion_matrix(y_true=test_labels, \n",
        "                 y_pred=y_preds)"
      ],
      "execution_count": 50,
      "outputs": [
        {
          "output_type": "execute_result",
          "data": {
            "text/plain": [
              "array([[847,  39,   0,  65,   6,   0,  37,   0,   6,   0],\n",
              "       [ 15, 962,   0,  14,   2,   0,   7,   0,   0,   0],\n",
              "       [ 60,  24,   0, 107, 120,   0, 683,   0,   6,   0],\n",
              "       [112, 642,   0, 164,   7,   2,  71,   0,   2,   0],\n",
              "       [ 15,  13,   0,  92, 262,   0, 608,   0,  10,   0],\n",
              "       [  2,  10,   0,   5,   3, 759,   2, 169,   0,  50],\n",
              "       [315,  23,   0, 104,  58,   0, 493,   0,   7,   0],\n",
              "       [  0,   0,   0,   0,   0,  14,   0, 909,   0,  77],\n",
              "       [ 11,   1,   0,  13, 137,   5,  45,  11, 775,   2],\n",
              "       [  3,   0,   0,   0,   0,  18,   0,  55,   1, 923]])"
            ]
          },
          "metadata": {},
          "execution_count": 50
        }
      ]
    },
    {
      "cell_type": "code",
      "metadata": {
        "colab": {
          "base_uri": "https://localhost:8080/",
          "height": 624
        },
        "id": "bsYxXaVuR258",
        "outputId": "921ced79-9afe-4b8e-97bb-e4af40445856"
      },
      "source": [
        "#yazdigimiz fonksiyon ile daha iyi bir gorunumde bakalim\n",
        "make_confusion_matrix(y_true=test_labels, \n",
        "                      y_pred=y_preds,\n",
        "                      classes=class_names,\n",
        "                      figsize=(15, 15),\n",
        "                      text_size=10)"
      ],
      "execution_count": 51,
      "outputs": [
        {
          "output_type": "display_data",
          "data": {
            "image/png": "[encoded data removed]",
            "text/plain": [
              "<Figure size 1080x1080 with 2 Axes>"
            ]
          },
          "metadata": {
            "needs_background": "light"
          }
        }
      ]
    },
    {
      "cell_type": "markdown",
      "metadata": {
        "id": "hfeoZz9eTW5N"
      },
      "source": [
        "Confusion matrixi inceleyelek modelimizin hangi tahminler yaparken zorlandigini o tahmini ne ie karistirdigini anlayabiliriz. Confusion matrixi daha iyi anlayabilmke icin --buraya bi link birakalim--."
      ]
    },
    {
      "cell_type": "code",
      "metadata": {
        "id": "ZvN-UYk7S5q7"
      },
      "source": [
        "import random\n",
        "\n",
        "def plot_random_image(model, images, true_labels, classes):\n",
        "  \"\"\"\n",
        "  rastgele bir fotograf secelim,tahminde bulunduralim ve dogru labelai gorelim\n",
        "  \"\"\"\n",
        "  # rasgele bir sayi secelim\n",
        "  i = random.randint(0, len(images))\n",
        "\n",
        "  # tahminleri olusturmak icin\n",
        "  target_image = images[i]\n",
        "  pred_probs = model.predict(target_image.reshape(1, 28, 28))\n",
        "  pred_label = classes[pred_probs.argmax()]\n",
        "  true_label = classes[true_labels[i]]\n",
        "\n",
        "  # goruntuye bakalim\n",
        "  plt.imshow(target_image, cmap=plt.cm.binary)\n",
        "\n",
        "  #labeli tahmin dogruysa yesil yanlis ise kirmizi yazdiralim\n",
        "  if pred_label == true_label:\n",
        "    color = \"green\"\n",
        "  else:\n",
        "    color = \"red\"\n",
        "  \n",
        "  # tahminler labellari ayarlayalim\n",
        "  plt.xlabel(\"Prediction: {} {:2.0f}% (True: {})\".format(pred_label,\n",
        "                                                   100*tf.reduce_max(pred_probs),\n",
        "                                                   true_label),\n",
        "             color=color) "
      ],
      "execution_count": 52,
      "outputs": []
    },
    {
      "cell_type": "code",
      "metadata": {
        "colab": {
          "base_uri": "https://localhost:8080/",
          "height": 279
        },
        "id": "CsdXOaEBTIp4",
        "outputId": "f6351ddf-7d34-45b5-cf9f-792a175d15f6"
      },
      "source": [
        "#fonsiyonumuzu deneyelim\n",
        "plot_random_image(model=model_3,\n",
        "                  images=test_data_norm,  \n",
        "                  true_labels=test_labels,\n",
        "                  classes=class_names)"
      ],
      "execution_count": 54,
      "outputs": [
        {
          "output_type": "display_data",
          "data": {
            "image/png": "[encoded data removed]",
            "text/plain": [
              "<Figure size 432x288 with 1 Axes>"
            ]
          },
          "metadata": {
            "needs_background": "light"
          }
        }
      ]
    },
    {
      "cell_type": "markdown",
      "metadata": {
        "id": "tyjNgOJXVLBk"
      },
      "source": [
        "### Modelimizi biraz daha detayli inceleyelim"
      ]
    },
    {
      "cell_type": "code",
      "metadata": {
        "colab": {
          "base_uri": "https://localhost:8080/"
        },
        "id": "UPmjoppHVKR1",
        "outputId": "1b2892a9-d2cc-4376-8bff-58cb1d145bfb"
      },
      "source": [
        "model_3.layers"
      ],
      "execution_count": 55,
      "outputs": [
        {
          "output_type": "execute_result",
          "data": {
            "text/plain": [
              "[<keras.layers.core.Flatten at 0x7f461be26390>,\n",
              " <keras.layers.core.Dense at 0x7f461be26450>,\n",
              " <keras.layers.core.Dense at 0x7f461be26950>,\n",
              " <keras.layers.core.Dense at 0x7f461be26710>]"
            ]
          },
          "metadata": {},
          "execution_count": 55
        }
      ]
    },
    {
      "cell_type": "code",
      "metadata": {
        "colab": {
          "base_uri": "https://localhost:8080/"
        },
        "id": "aPISr-LrVR-9",
        "outputId": "50f80d4c-364c-441b-e559-b6fa2c81e64d"
      },
      "source": [
        "#spesifik bir katmana bakalim\n",
        "model_3.layers[1]"
      ],
      "execution_count": 57,
      "outputs": [
        {
          "output_type": "execute_result",
          "data": {
            "text/plain": [
              "<keras.layers.core.Dense at 0x7f461be26450>"
            ]
          },
          "metadata": {},
          "execution_count": 57
        }
      ]
    },
    {
      "cell_type": "code",
      "metadata": {
        "colab": {
          "base_uri": "https://localhost:8080/"
        },
        "id": "w2Fh0PWhVJDH",
        "outputId": "65193cd4-e1c9-4c76-f307-790bcab029f7"
      },
      "source": [
        "#agirlik ve bias degerlerine bakalim\n",
        "weigths, biases = model_3.layers[1].get_weights()\n",
        "weigths, biases ,weigths.shape"
      ],
      "execution_count": 61,
      "outputs": [
        {
          "output_type": "execute_result",
          "data": {
            "text/plain": [
              "(array([[ 6.3486218e-02, -1.3189509e+01,  2.8492936e-01, -3.4592163e-02],\n",
              "        [ 2.2522541e+01, -2.1441399e+01,  2.0036194e+00,  7.0598051e-03],\n",
              "        [ 7.5190282e+00, -1.4705524e+01,  3.7973907e+00,  5.0867647e-02],\n",
              "        ...,\n",
              "        [-2.9160947e-01, -1.9622244e+00, -1.2843988e+01, -5.8295641e-02],\n",
              "        [ 4.1651835e+00, -6.5395308e+00, -1.1306238e+01, -4.4943787e-02],\n",
              "        [ 5.8402567e+00, -4.8561106e+00,  3.4000390e+00,  6.9124177e-02]],\n",
              "       dtype=float32),\n",
              " array([19.632206  , 11.903742  , 15.171137  , -0.02304981], dtype=float32),\n",
              " (784, 4))"
            ]
          },
          "metadata": {},
          "execution_count": 61
        }
      ]
    },
    {
      "cell_type": "markdown",
      "metadata": {
        "id": "bhJdqRCgVymg"
      },
      "source": [
        "agirlik boyutumuz (784,4 ) pkei bu ne anlama geliyor\n",
        "\n",
        "784 giris boyutumuz olan 28x28 in sonucu seklinde giris degerimize esit\n",
        "\n",
        "4 ise ilk dense katmanimizin hidden layer sayisi\n",
        "\n",
        "her 784 tane giris icin 4 tane sayi vardir agirliklar icin ogrenmeyi saglar"
      ]
    },
    {
      "cell_type": "code",
      "metadata": {
        "colab": {
          "base_uri": "https://localhost:8080/"
        },
        "id": "EqWk5idVVq-F",
        "outputId": "88d7c827-7590-4877-bd86-8e4f37a9aa75"
      },
      "source": [
        "model_3.summary()"
      ],
      "execution_count": 62,
      "outputs": [
        {
          "output_type": "stream",
          "name": "stdout",
          "text": [
            "Model: \"sequential_10\"\n",
            "_________________________________________________________________\n",
            "Layer (type)                 Output Shape              Param #   \n",
            "=================================================================\n",
            "flatten_9 (Flatten)          (None, 784)               0         \n",
            "_________________________________________________________________\n",
            "dense_30 (Dense)             (None, 4)                 3140      \n",
            "_________________________________________________________________\n",
            "dense_31 (Dense)             (None, 4)                 20        \n",
            "_________________________________________________________________\n",
            "dense_32 (Dense)             (None, 10)                50        \n",
            "=================================================================\n",
            "Total params: 3,210\n",
            "Trainable params: 3,210\n",
            "Non-trainable params: 0\n",
            "_________________________________________________________________\n"
          ]
        }
      ]
    },
    {
      "cell_type": "code",
      "metadata": {
        "colab": {
          "base_uri": "https://localhost:8080/"
        },
        "id": "r4NJOwFUWDmS",
        "outputId": "fb05efea-fdbb-4869-a7e9-12df189f7fb1"
      },
      "source": [
        "biases, biases.shape"
      ],
      "execution_count": 64,
      "outputs": [
        {
          "output_type": "execute_result",
          "data": {
            "text/plain": [
              "(array([19.632206  , 11.903742  , 15.171137  , -0.02304981], dtype=float32),\n",
              " (4,))"
            ]
          },
          "metadata": {},
          "execution_count": 64
        }
      ]
    },
    {
      "cell_type": "markdown",
      "metadata": {
        "id": "TakoN5zJZFo4"
      },
      "source": [
        "bias shapei 4 yani her hidden unit icin 1 bias degeri vardir"
      ]
    },
    {
      "cell_type": "code",
      "metadata": {
        "colab": {
          "base_uri": "https://localhost:8080/",
          "height": 533
        },
        "id": "PU6eiBB1UubM",
        "outputId": "6644c0f1-cf86-41e2-f06b-bff8cb4d2d65"
      },
      "source": [
        "#modelimize son kez dah sekil sukul sekilde bakalim\n",
        "from tensorflow.keras.utils import plot_model\n",
        "\n",
        "plot_model(model_3, show_shapes=True)"
      ],
      "execution_count": 65,
      "outputs": [
        {
          "output_type": "execute_result",
          "data": {
            "image/png": "[encoded data removed]",
            "text/plain": [
              "<IPython.core.display.Image object>"
            ]
          },
          "metadata": {},
          "execution_count": 65
        }
      ]
    },
    {
      "cell_type": "code",
      "metadata": {
        "id": "tL6XprzTY0bX"
      },
      "source": [
        ""
      ],
      "execution_count": null,
      "outputs": []
    }
  ]
}